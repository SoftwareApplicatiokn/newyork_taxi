{
 "cells": [
  {
   "cell_type": "markdown",
   "metadata": {},
   "source": [
    "newyork taxt data analysis: https://github.com/swapnanilsharma/Taxi-demand-prediction-in-New-York-City/blob/master/NYC%20Final.ipynb"
   ]
  },
  {
   "cell_type": "code",
   "execution_count": 3,
   "metadata": {},
   "outputs": [],
   "source": [
    "import matplotlib.pyplot as plt\n",
    "import dask.dataframe as dd#similar to pandas\n",
    "import pandas as pd\n",
    "import datetime #Convert to unix time\n",
    "import time #Convert to unix \n",
    "import numpy as np\n",
    "import seaborn as sns#Plots\n",
    "from sklearn.cluster import KMeans\n"
   ]
  },
  {
   "cell_type": "code",
   "execution_count": 4,
   "metadata": {},
   "outputs": [
    {
     "name": "stdout",
     "output_type": "stream",
     "text": [
      "         VendorID tpep_pickup_datetime tpep_dropoff_datetime  passenger_count  \\\n",
      "0               1  2018-01-01 00:21:05   2018-01-01 00:24:23                1   \n",
      "1               1  2018-01-01 00:44:55   2018-01-01 01:03:05                1   \n",
      "2               1  2018-01-01 00:08:26   2018-01-01 00:14:21                2   \n",
      "3               1  2018-01-01 00:20:22   2018-01-01 00:52:51                1   \n",
      "4               1  2018-01-01 00:09:18   2018-01-01 00:27:06                2   \n",
      "...           ...                  ...                   ...              ...   \n",
      "8760682         1  2018-01-31 23:21:35   2018-01-31 23:34:20                2   \n",
      "8760683         1  2018-01-31 23:35:51   2018-01-31 23:38:57                1   \n",
      "8760684         2  2018-01-31 23:28:00   2018-01-31 23:37:09                1   \n",
      "8760685         2  2018-01-31 23:24:40   2018-01-31 23:25:28                1   \n",
      "8760686         2  2018-01-31 23:28:16   2018-01-31 23:28:38                1   \n",
      "\n",
      "         trip_distance  RatecodeID store_and_fwd_flag  PULocationID  \\\n",
      "0                 0.50           1                  N            41   \n",
      "1                 2.70           1                  N           239   \n",
      "2                 0.80           1                  N           262   \n",
      "3                10.20           1                  N           140   \n",
      "4                 2.50           1                  N           246   \n",
      "...                ...         ...                ...           ...   \n",
      "8760682           2.80           1                  N           158   \n",
      "8760683           0.60           1                  N           163   \n",
      "8760684           2.95           1                  N            74   \n",
      "8760685           0.00           1                  N             7   \n",
      "8760686           0.00           1                  N             7   \n",
      "\n",
      "         DOLocationID  payment_type  fare_amount  extra  mta_tax  tip_amount  \\\n",
      "0                  24             2          4.5    0.5      0.5        0.00   \n",
      "1                 140             2         14.0    0.5      0.5        0.00   \n",
      "2                 141             1          6.0    0.5      0.5        1.00   \n",
      "3                 257             2         33.5    0.5      0.5        0.00   \n",
      "4                 239             1         12.5    0.5      0.5        2.75   \n",
      "...               ...           ...          ...    ...      ...         ...   \n",
      "8760682           163             1         12.0    0.5      0.5        2.65   \n",
      "8760683           162             1          4.5    0.5      0.5        1.15   \n",
      "8760684            69             2         10.5    0.5      0.5        0.00   \n",
      "8760685           193             2          0.0    0.0      0.0        0.00   \n",
      "8760686           193             2          0.0    0.0      0.0        0.00   \n",
      "\n",
      "         tolls_amount  improvement_surcharge  total_amount  \\\n",
      "0                 0.0                    0.3          5.80   \n",
      "1                 0.0                    0.3         15.30   \n",
      "2                 0.0                    0.3          8.30   \n",
      "3                 0.0                    0.3         34.80   \n",
      "4                 0.0                    0.3         16.55   \n",
      "...               ...                    ...           ...   \n",
      "8760682           0.0                    0.3         15.95   \n",
      "8760683           0.0                    0.3          6.95   \n",
      "8760684           0.0                    0.3         11.80   \n",
      "8760685           0.0                    0.0          0.00   \n",
      "8760686           0.0                    0.0          0.00   \n",
      "\n",
      "         congestion_surcharge  airport_fee  \n",
      "0                         NaN          NaN  \n",
      "1                         NaN          NaN  \n",
      "2                         NaN          NaN  \n",
      "3                         NaN          NaN  \n",
      "4                         NaN          NaN  \n",
      "...                       ...          ...  \n",
      "8760682                   NaN          NaN  \n",
      "8760683                   NaN          NaN  \n",
      "8760684                   NaN          NaN  \n",
      "8760685                   NaN          NaN  \n",
      "8760686                   NaN          NaN  \n",
      "\n",
      "[8760687 rows x 19 columns]\n"
     ]
    }
   ],
   "source": [
    "# 데이터 열기\n",
    "pd.set_option('display.max_columns', None)\n",
    "\n",
    "month = pd.read_parquet('yellow_tripdata_2018-01.parquet',engine='pyarrow')\n",
    "\n",
    "print(month)"
   ]
  },
  {
   "cell_type": "code",
   "execution_count": 5,
   "metadata": {},
   "outputs": [
    {
     "data": {
      "text/plain": [
       "VendorID                 8760687\n",
       "tpep_pickup_datetime     8760687\n",
       "tpep_dropoff_datetime    8760687\n",
       "passenger_count          8760687\n",
       "trip_distance            8760687\n",
       "RatecodeID               8760687\n",
       "store_and_fwd_flag       8760687\n",
       "PULocationID             8760687\n",
       "DOLocationID             8760687\n",
       "payment_type             8760687\n",
       "fare_amount              8760687\n",
       "extra                    8760687\n",
       "mta_tax                  8760687\n",
       "tip_amount               8760687\n",
       "tolls_amount             8760687\n",
       "improvement_surcharge    8760687\n",
       "total_amount             8760687\n",
       "congestion_surcharge          12\n",
       "airport_fee                   12\n",
       "dtype: int64"
      ]
     },
     "execution_count": 5,
     "metadata": {},
     "output_type": "execute_result"
    }
   ],
   "source": [
    "# 널값 아닌 데이터 수\n",
    "month.notnull().sum()"
   ]
  },
  {
   "cell_type": "code",
   "execution_count": 6,
   "metadata": {},
   "outputs": [
    {
     "name": "stdout",
     "output_type": "stream",
     "text": [
      "(8760687, 19)\n"
     ]
    }
   ],
   "source": [
    "print(month.shape)"
   ]
  },
  {
   "cell_type": "code",
   "execution_count": 7,
   "metadata": {},
   "outputs": [
    {
     "data": {
      "text/html": [
       "<div>\n",
       "<style scoped>\n",
       "    .dataframe tbody tr th:only-of-type {\n",
       "        vertical-align: middle;\n",
       "    }\n",
       "\n",
       "    .dataframe tbody tr th {\n",
       "        vertical-align: top;\n",
       "    }\n",
       "\n",
       "    .dataframe thead th {\n",
       "        text-align: right;\n",
       "    }\n",
       "</style>\n",
       "<table border=\"1\" class=\"dataframe\">\n",
       "  <thead>\n",
       "    <tr style=\"text-align: right;\">\n",
       "      <th></th>\n",
       "      <th>VendorID</th>\n",
       "      <th>tpep_pickup_datetime</th>\n",
       "      <th>tpep_dropoff_datetime</th>\n",
       "      <th>passenger_count</th>\n",
       "      <th>trip_distance</th>\n",
       "      <th>RatecodeID</th>\n",
       "      <th>store_and_fwd_flag</th>\n",
       "      <th>PULocationID</th>\n",
       "      <th>DOLocationID</th>\n",
       "      <th>payment_type</th>\n",
       "      <th>fare_amount</th>\n",
       "      <th>extra</th>\n",
       "      <th>mta_tax</th>\n",
       "      <th>tip_amount</th>\n",
       "      <th>tolls_amount</th>\n",
       "      <th>improvement_surcharge</th>\n",
       "      <th>total_amount</th>\n",
       "      <th>congestion_surcharge</th>\n",
       "      <th>airport_fee</th>\n",
       "    </tr>\n",
       "  </thead>\n",
       "  <tbody>\n",
       "    <tr>\n",
       "      <th>0</th>\n",
       "      <td>1</td>\n",
       "      <td>2018-01-01 00:21:05</td>\n",
       "      <td>2018-01-01 00:24:23</td>\n",
       "      <td>1</td>\n",
       "      <td>0.5</td>\n",
       "      <td>1</td>\n",
       "      <td>N</td>\n",
       "      <td>41</td>\n",
       "      <td>24</td>\n",
       "      <td>2</td>\n",
       "      <td>4.5</td>\n",
       "      <td>0.5</td>\n",
       "      <td>0.5</td>\n",
       "      <td>0.00</td>\n",
       "      <td>0.0</td>\n",
       "      <td>0.3</td>\n",
       "      <td>5.80</td>\n",
       "      <td>NaN</td>\n",
       "      <td>NaN</td>\n",
       "    </tr>\n",
       "    <tr>\n",
       "      <th>1</th>\n",
       "      <td>1</td>\n",
       "      <td>2018-01-01 00:44:55</td>\n",
       "      <td>2018-01-01 01:03:05</td>\n",
       "      <td>1</td>\n",
       "      <td>2.7</td>\n",
       "      <td>1</td>\n",
       "      <td>N</td>\n",
       "      <td>239</td>\n",
       "      <td>140</td>\n",
       "      <td>2</td>\n",
       "      <td>14.0</td>\n",
       "      <td>0.5</td>\n",
       "      <td>0.5</td>\n",
       "      <td>0.00</td>\n",
       "      <td>0.0</td>\n",
       "      <td>0.3</td>\n",
       "      <td>15.30</td>\n",
       "      <td>NaN</td>\n",
       "      <td>NaN</td>\n",
       "    </tr>\n",
       "    <tr>\n",
       "      <th>2</th>\n",
       "      <td>1</td>\n",
       "      <td>2018-01-01 00:08:26</td>\n",
       "      <td>2018-01-01 00:14:21</td>\n",
       "      <td>2</td>\n",
       "      <td>0.8</td>\n",
       "      <td>1</td>\n",
       "      <td>N</td>\n",
       "      <td>262</td>\n",
       "      <td>141</td>\n",
       "      <td>1</td>\n",
       "      <td>6.0</td>\n",
       "      <td>0.5</td>\n",
       "      <td>0.5</td>\n",
       "      <td>1.00</td>\n",
       "      <td>0.0</td>\n",
       "      <td>0.3</td>\n",
       "      <td>8.30</td>\n",
       "      <td>NaN</td>\n",
       "      <td>NaN</td>\n",
       "    </tr>\n",
       "    <tr>\n",
       "      <th>3</th>\n",
       "      <td>1</td>\n",
       "      <td>2018-01-01 00:20:22</td>\n",
       "      <td>2018-01-01 00:52:51</td>\n",
       "      <td>1</td>\n",
       "      <td>10.2</td>\n",
       "      <td>1</td>\n",
       "      <td>N</td>\n",
       "      <td>140</td>\n",
       "      <td>257</td>\n",
       "      <td>2</td>\n",
       "      <td>33.5</td>\n",
       "      <td>0.5</td>\n",
       "      <td>0.5</td>\n",
       "      <td>0.00</td>\n",
       "      <td>0.0</td>\n",
       "      <td>0.3</td>\n",
       "      <td>34.80</td>\n",
       "      <td>NaN</td>\n",
       "      <td>NaN</td>\n",
       "    </tr>\n",
       "    <tr>\n",
       "      <th>4</th>\n",
       "      <td>1</td>\n",
       "      <td>2018-01-01 00:09:18</td>\n",
       "      <td>2018-01-01 00:27:06</td>\n",
       "      <td>2</td>\n",
       "      <td>2.5</td>\n",
       "      <td>1</td>\n",
       "      <td>N</td>\n",
       "      <td>246</td>\n",
       "      <td>239</td>\n",
       "      <td>1</td>\n",
       "      <td>12.5</td>\n",
       "      <td>0.5</td>\n",
       "      <td>0.5</td>\n",
       "      <td>2.75</td>\n",
       "      <td>0.0</td>\n",
       "      <td>0.3</td>\n",
       "      <td>16.55</td>\n",
       "      <td>NaN</td>\n",
       "      <td>NaN</td>\n",
       "    </tr>\n",
       "  </tbody>\n",
       "</table>\n",
       "</div>"
      ],
      "text/plain": [
       "   VendorID tpep_pickup_datetime tpep_dropoff_datetime  passenger_count  \\\n",
       "0         1  2018-01-01 00:21:05   2018-01-01 00:24:23                1   \n",
       "1         1  2018-01-01 00:44:55   2018-01-01 01:03:05                1   \n",
       "2         1  2018-01-01 00:08:26   2018-01-01 00:14:21                2   \n",
       "3         1  2018-01-01 00:20:22   2018-01-01 00:52:51                1   \n",
       "4         1  2018-01-01 00:09:18   2018-01-01 00:27:06                2   \n",
       "\n",
       "   trip_distance  RatecodeID store_and_fwd_flag  PULocationID  DOLocationID  \\\n",
       "0            0.5           1                  N            41            24   \n",
       "1            2.7           1                  N           239           140   \n",
       "2            0.8           1                  N           262           141   \n",
       "3           10.2           1                  N           140           257   \n",
       "4            2.5           1                  N           246           239   \n",
       "\n",
       "   payment_type  fare_amount  extra  mta_tax  tip_amount  tolls_amount  \\\n",
       "0             2          4.5    0.5      0.5        0.00           0.0   \n",
       "1             2         14.0    0.5      0.5        0.00           0.0   \n",
       "2             1          6.0    0.5      0.5        1.00           0.0   \n",
       "3             2         33.5    0.5      0.5        0.00           0.0   \n",
       "4             1         12.5    0.5      0.5        2.75           0.0   \n",
       "\n",
       "   improvement_surcharge  total_amount  congestion_surcharge  airport_fee  \n",
       "0                    0.3          5.80                   NaN          NaN  \n",
       "1                    0.3         15.30                   NaN          NaN  \n",
       "2                    0.3          8.30                   NaN          NaN  \n",
       "3                    0.3         34.80                   NaN          NaN  \n",
       "4                    0.3         16.55                   NaN          NaN  "
      ]
     },
     "execution_count": 7,
     "metadata": {},
     "output_type": "execute_result"
    }
   ],
   "source": [
    "# 상위 값 5개\n",
    "month.head(5)"
   ]
  },
  {
   "cell_type": "markdown",
   "metadata": {},
   "source": [
    "1. time"
   ]
  },
  {
   "cell_type": "markdown",
   "metadata": {},
   "source": []
  },
  {
   "cell_type": "code",
   "execution_count": 8,
   "metadata": {},
   "outputs": [
    {
     "name": "stderr",
     "output_type": "stream",
     "text": [
      "C:\\Users\\sktmd\\AppData\\Local\\Temp\\ipykernel_20936\\3260386666.py:20: SettingWithCopyWarning: \n",
      "A value is trying to be set on a copy of a slice from a DataFrame.\n",
      "Try using .loc[row_indexer,col_indexer] = value instead\n",
      "\n",
      "See the caveats in the documentation: https://pandas.pydata.org/pandas-docs/stable/user_guide/indexing.html#returning-a-view-versus-a-copy\n",
      "  new_frame['trip_times'] = durations\n",
      "C:\\Users\\sktmd\\AppData\\Local\\Temp\\ipykernel_20936\\3260386666.py:21: SettingWithCopyWarning: \n",
      "A value is trying to be set on a copy of a slice from a DataFrame.\n",
      "Try using .loc[row_indexer,col_indexer] = value instead\n",
      "\n",
      "See the caveats in the documentation: https://pandas.pydata.org/pandas-docs/stable/user_guide/indexing.html#returning-a-view-versus-a-copy\n",
      "  new_frame['pickup_times'] = duration_pickup\n",
      "C:\\Users\\sktmd\\AppData\\Local\\Temp\\ipykernel_20936\\3260386666.py:23: SettingWithCopyWarning: \n",
      "A value is trying to be set on a copy of a slice from a DataFrame.\n",
      "Try using .loc[row_indexer,col_indexer] = value instead\n",
      "\n",
      "See the caveats in the documentation: https://pandas.pydata.org/pandas-docs/stable/user_guide/indexing.html#returning-a-view-versus-a-copy\n",
      "  new_frame['speed'] = 60 * (new_frame['trip_distance']/new_frame['trip_times'])\n"
     ]
    }
   ],
   "source": [
    "# def convert_to_unix(s):\n",
    "\n",
    "#     return time.mktime(datetime.datetime.strptime(s, \"%Y-%m-%d %H:%M:%S\").timetuple())\n",
    "    \n",
    "def return_with_trip_times(month):\n",
    "    # 탑승, 하차 시간 가져오기\n",
    "    duration = month[['tpep_pickup_datetime', 'tpep_dropoff_datetime']]\n",
    "    # unix time으로 변환\n",
    "    duration_pickup = [x for x in duration['tpep_pickup_datetime'].values]\n",
    "    duration_dropoff = [x for x in duration['tpep_dropoff_datetime'].values]\n",
    "    \n",
    "    # 이동 시간(분)\n",
    "    onemin = pd.Timedelta(minutes=1)\n",
    "    durations = (np.array(duration_dropoff) - np.array(duration_pickup)) / onemin\n",
    "    #print(durations)\n",
    "\n",
    "    new_frame = month[['passenger_count','trip_distance','PULocationID','DOLocationID', 'total_amount', 'tip_amount']]\n",
    "\n",
    "    # 이동 시간과 이동 속도를 담은 새 데이터 생성    \n",
    "    new_frame['trip_times'] = durations\n",
    "    new_frame['pickup_times'] = duration_pickup\n",
    "    # /hour로 변환\n",
    "    new_frame['speed'] = 60 * (new_frame['trip_distance']/new_frame['trip_times'])\n",
    "\n",
    "    return new_frame\n",
    "\n",
    "frame_with_durations = return_with_trip_times(month)\n"
   ]
  },
  {
   "cell_type": "code",
   "execution_count": 9,
   "metadata": {},
   "outputs": [
    {
     "data": {
      "image/png": "[encoded data removed]",
      "text/plain": [
       "<Figure size 640x480 with 1 Axes>"
      ]
     },
     "metadata": {},
     "output_type": "display_data"
    }
   ],
   "source": [
    "# 분단위\n",
    "sns.boxplot(y=\"trip_times\", data=frame_with_durations)\n",
    "plt.show()"
   ]
  },
  {
   "cell_type": "code",
   "execution_count": 10,
   "metadata": {},
   "outputs": [
    {
     "name": "stdout",
     "output_type": "stream",
     "text": [
      "0 percentile value is -5711.583333333333\n",
      "10 percentile value is 3.8833333333333333\n",
      "20 percentile value is 5.483333333333333\n",
      "30 percentile value is 7.0\n",
      "40 percentile value is 8.6\n",
      "50 percentile value is 10.366666666666667\n",
      "60 percentile value is 12.466666666666667\n",
      "70 percentile value is 15.133333333333333\n",
      "80 percentile value is 18.933333333333334\n",
      "90 percentile value is 25.683333333333334\n",
      "100 percentile value id  5382.066666666667\n"
     ]
    }
   ],
   "source": [
    "# 10%마다 해당되는 시간\n",
    "for i in range(0, 100, 10):\n",
    "    var = frame_with_durations[\"trip_times\"].values\n",
    "    var = np.sort(var, axis=None)\n",
    "    print(\"{} percentile value is {}\".format(i,var[int(len(var)*(float(i)/100))]))\n",
    "print(\"100 percentile value id \", var[-1])\n",
    "# 양 끝쪽에 튀는 데이터 존재"
   ]
  },
  {
   "cell_type": "code",
   "execution_count": 11,
   "metadata": {},
   "outputs": [
    {
     "name": "stdout",
     "output_type": "stream",
     "text": [
      "90 percentile value is 25.683333333333334\n",
      "91 percentile value is 26.75\n",
      "92 percentile value is 27.95\n",
      "93 percentile value is 29.366666666666667\n",
      "94 percentile value is 31.016666666666666\n",
      "95 percentile value is 33.03333333333333\n",
      "96 percentile value is 35.6\n",
      "97 percentile value is 39.083333333333336\n",
      "98 percentile value is 44.416666666666664\n",
      "99 percentile value is 54.46666666666667\n",
      "100 percentile value id  5382.066666666667\n"
     ]
    }
   ],
   "source": [
    "# 90%~100%마다 해당되는 시간\n",
    "for i in range(90, 100):\n",
    "    var = frame_with_durations[\"trip_times\"].values\n",
    "    var = np.sort(var, axis=None)\n",
    "    print(\"{} percentile value is {}\".format(i,var[int(len(var)*(float(i)/100))]))\n",
    "print(\"100 percentile value id \", var[-1])"
   ]
  },
  {
   "cell_type": "code",
   "execution_count": 12,
   "metadata": {},
   "outputs": [
    {
     "name": "stdout",
     "output_type": "stream",
     "text": [
      "0 percentile value is -5711.583333333333\n",
      "1 percentile value is 1.1833333333333333\n",
      "2 percentile value is 1.8666666666666667\n",
      "3 percentile value is 2.283333333333333\n",
      "4 percentile value is 2.5833333333333335\n",
      "5 percentile value is 2.85\n",
      "6 percentile value is 3.0833333333333335\n",
      "7 percentile value is 3.3\n",
      "8 percentile value is 3.5\n",
      "9 percentile value is 3.7\n",
      "10 percentile value is 3.8833333333333333\n"
     ]
    }
   ],
   "source": [
    "# 0%~10%마다 해당되는 시간\n",
    "for i in range(0, 11):\n",
    "    var = frame_with_durations[\"trip_times\"].values\n",
    "    var = np.sort(var, axis=None)\n",
    "    print(\"{} percentile value is {}\".format(i,var[int(len(var)*(float(i)/100))]))"
   ]
  },
  {
   "cell_type": "code",
   "execution_count": 13,
   "metadata": {},
   "outputs": [
    {
     "name": "stdout",
     "output_type": "stream",
     "text": [
      "(8668281, 9)\n"
     ]
    }
   ],
   "source": [
    "# 시간이 이상하게 튀는 값 삭제(12시간까지) -> 더 줄여도될듯?\n",
    "frame_with_durations_modified=frame_with_durations[(frame_with_durations.trip_times>1) & (frame_with_durations.trip_times<120)]\n",
    "print(frame_with_durations_modified.shape)"
   ]
  },
  {
   "cell_type": "code",
   "execution_count": 14,
   "metadata": {},
   "outputs": [
    {
     "name": "stdout",
     "output_type": "stream",
     "text": [
      "1.0166666666666666 119.98333333333333\n"
     ]
    }
   ],
   "source": [
    "var = frame_with_durations_modified[\"trip_times\"].values\n",
    "var = np.sort(var, axis=None)\n",
    "print(var[0], var[-1])"
   ]
  },
  {
   "cell_type": "code",
   "execution_count": 15,
   "metadata": {},
   "outputs": [
    {
     "data": {
      "image/png": "[encoded data removed]",
      "text/plain": [
       "<Figure size 640x480 with 1 Axes>"
      ]
     },
     "metadata": {},
     "output_type": "display_data"
    }
   ],
   "source": [
    "sns.boxplot(y=\"trip_times\", data=frame_with_durations_modified)\n",
    "plt.show()\n",
    "# 왜 최댓값 30대???\n",
    "# -> 1사분위수, 3사분위수에서 상자 길이의 1.5배 떨어진 거리가 최소, 최대값을 의미"
   ]
  },
  {
   "cell_type": "code",
   "execution_count": 16,
   "metadata": {},
   "outputs": [
    {
     "name": "stderr",
     "output_type": "stream",
     "text": [
      "c:\\Users\\sktmd\\AppData\\Local\\Programs\\Python\\Python310\\lib\\site-packages\\seaborn\\axisgrid.py:745: FutureWarning: iteritems is deprecated and will be removed in a future version. Use .items instead.\n",
      "  plot_args = [v for k, v in plot_data.iteritems()]\n"
     ]
    },
    {
     "data": {
      "image/png": "[encoded data removed]",
      "text/plain": [
       "<Figure size 311.111x300 with 1 Axes>"
      ]
     },
     "metadata": {},
     "output_type": "display_data"
    }
   ],
   "source": [
    "sns.FacetGrid(frame_with_durations_modified) \\\n",
    "    .map(sns.kdeplot, \"trip_times\") \\\n",
    "    .add_legend()\n",
    "plt.show()"
   ]
  },
  {
   "cell_type": "code",
   "execution_count": 17,
   "metadata": {},
   "outputs": [
    {
     "name": "stderr",
     "output_type": "stream",
     "text": [
      "C:\\Users\\sktmd\\AppData\\Local\\Temp\\ipykernel_20936\\2641135077.py:2: SettingWithCopyWarning: \n",
      "A value is trying to be set on a copy of a slice from a DataFrame.\n",
      "Try using .loc[row_indexer,col_indexer] = value instead\n",
      "\n",
      "See the caveats in the documentation: https://pandas.pydata.org/pandas-docs/stable/user_guide/indexing.html#returning-a-view-versus-a-copy\n",
      "  frame_with_durations_modified['log_times'] = [math.log(i) for i in frame_with_durations_modified['trip_times'].values]\n"
     ]
    }
   ],
   "source": [
    "import math\n",
    "frame_with_durations_modified['log_times'] = [math.log(i) for i in frame_with_durations_modified['trip_times'].values]\n"
   ]
  },
  {
   "cell_type": "code",
   "execution_count": 18,
   "metadata": {},
   "outputs": [
    {
     "name": "stderr",
     "output_type": "stream",
     "text": [
      "c:\\Users\\sktmd\\AppData\\Local\\Programs\\Python\\Python310\\lib\\site-packages\\seaborn\\axisgrid.py:745: FutureWarning: iteritems is deprecated and will be removed in a future version. Use .items instead.\n",
      "  plot_args = [v for k, v in plot_data.iteritems()]\n"
     ]
    },
    {
     "data": {
      "image/png": "[encoded data removed]",
      "text/plain": [
       "<Figure size 311.111x300 with 1 Axes>"
      ]
     },
     "metadata": {},
     "output_type": "display_data"
    }
   ],
   "source": [
    "sns.FacetGrid(frame_with_durations_modified) \\\n",
    "    .map(sns.kdeplot, \"log_times\") \\\n",
    "    .add_legend()\n",
    "plt.show()"
   ]
  },
  {
   "cell_type": "code",
   "execution_count": 19,
   "metadata": {},
   "outputs": [
    {
     "data": {
      "image/png": "[encoded data removed]",
      "text/plain": [
       "<Figure size 640x480 with 1 Axes>"
      ]
     },
     "metadata": {},
     "output_type": "display_data"
    }
   ],
   "source": [
    "import scipy\n",
    "scipy.stats.probplot(frame_with_durations_modified['log_times'].values, plot=plt)\n",
    "plt.show()\n",
    "# probplot ->  파란 점들이 빨간 선에 가까울수록 정규 분포를 띔"
   ]
  },
  {
   "cell_type": "markdown",
   "metadata": {},
   "source": [
    "2. speed"
   ]
  },
  {
   "cell_type": "code",
   "execution_count": 20,
   "metadata": {},
   "outputs": [
    {
     "name": "stderr",
     "output_type": "stream",
     "text": [
      "C:\\Users\\sktmd\\AppData\\Local\\Temp\\ipykernel_20936\\3401238407.py:1: SettingWithCopyWarning: \n",
      "A value is trying to be set on a copy of a slice from a DataFrame.\n",
      "Try using .loc[row_indexer,col_indexer] = value instead\n",
      "\n",
      "See the caveats in the documentation: https://pandas.pydata.org/pandas-docs/stable/user_guide/indexing.html#returning-a-view-versus-a-copy\n",
      "  frame_with_durations_modified['speed'] = 60 * (frame_with_durations_modified['trip_distance']/frame_with_durations_modified['trip_times'])\n"
     ]
    },
    {
     "data": {
      "image/png": "[encoded data removed]",
      "text/plain": [
       "<Figure size 640x480 with 1 Axes>"
      ]
     },
     "metadata": {},
     "output_type": "display_data"
    }
   ],
   "source": [
    "frame_with_durations_modified['speed'] = 60 * (frame_with_durations_modified['trip_distance']/frame_with_durations_modified['trip_times'])\n",
    "sns.boxplot(y=\"speed\", data=frame_with_durations_modified)\n",
    "plt.show()"
   ]
  },
  {
   "cell_type": "code",
   "execution_count": 21,
   "metadata": {},
   "outputs": [
    {
     "name": "stdout",
     "output_type": "stream",
     "text": [
      "0 percentile value is 0.0\n",
      "10 percentile value is 5.764705882352941\n",
      "20 percentile value is 7.018050541516247\n",
      "30 percentile value is 8.029739776951672\n",
      "40 percentile value is 9.0\n",
      "50 percentile value is 10.003597122302157\n",
      "60 percentile value is 11.162790697674419\n",
      "70 percentile value is 12.616822429906541\n",
      "80 percentile value is 14.746987951807231\n",
      "90 percentile value is 18.973116691285085\n",
      "100 percentile value is 10181221.253731342\n"
     ]
    }
   ],
   "source": [
    "for i in range(0, 100, 10):\n",
    "    var = frame_with_durations_modified['speed'].values\n",
    "    var = np.sort(var, axis=None)\n",
    "    print(\"{} percentile value is {}\".format(i,var[int(len(var)*(float(i)/100))]))\n",
    "print(\"100 percentile value is\", var[-1])"
   ]
  },
  {
   "cell_type": "code",
   "execution_count": 22,
   "metadata": {},
   "outputs": [
    {
     "name": "stdout",
     "output_type": "stream",
     "text": [
      "90 percentile value is 18.973116691285085\n",
      "91 percentile value is 19.69957081545064\n",
      "92 percentile value is 20.526315789473685\n",
      "93 percentile value is 21.484615384615385\n",
      "94 percentile value is 22.599905526688712\n",
      "95 percentile value is 23.905740181268886\n",
      "96 percentile value is 25.493050959629382\n",
      "97 percentile value is 27.491740787801778\n",
      "98 percentile value is 30.23821339950372\n",
      "99 percentile value is 34.41370869033047\n",
      "100 percentile value is 10181221.253731342\n"
     ]
    }
   ],
   "source": [
    "for i in range(90, 100):\n",
    "    var = frame_with_durations_modified['speed'].values\n",
    "    var = np.sort(var, axis=None)\n",
    "    print(\"{} percentile value is {}\".format(i,var[int(len(var)*(float(i)/100))]))\n",
    "print(\"100 percentile value is\", var[-1])\n",
    "# 끝 쪽에 튀는 값 존재"
   ]
  },
  {
   "cell_type": "code",
   "execution_count": 23,
   "metadata": {},
   "outputs": [
    {
     "name": "stdout",
     "output_type": "stream",
     "text": [
      "0 percentile value is 0.0\n",
      "1 percentile value is 3.2323232323232327\n",
      "2 percentile value is 3.858520900321543\n",
      "3 percentile value is 4.259541984732825\n",
      "4 percentile value is 4.568527918781726\n",
      "5 percentile value is 4.826498422712934\n",
      "6 percentile value is 5.051449953227316\n",
      "7 percentile value is 5.254054054054055\n",
      "8 percentile value is 5.4362416107382545\n",
      "9 percentile value is 5.60698689956332\n",
      "10 percentile value is 5.764705882352941\n",
      "100 percentile value is 10181221.253731342\n"
     ]
    }
   ],
   "source": [
    "for i in range(0, 11):\n",
    "    var = frame_with_durations_modified['speed'].values\n",
    "    var = np.sort(var, axis=None)\n",
    "    print(\"{} percentile value is {}\".format(i,var[int(len(var)*(float(i)/100))]))\n",
    "print(\"100 percentile value is\", var[-1])\n",
    "# 끝쪽에 튀는 값 존재"
   ]
  },
  {
   "cell_type": "code",
   "execution_count": 24,
   "metadata": {},
   "outputs": [
    {
     "name": "stdout",
     "output_type": "stream",
     "text": [
      "99.0 percentile value is 34.41370869033047\n",
      "99.1 percentile value is 34.985915492957744\n",
      "99.2 percentile value is 35.614629794826044\n",
      "99.3 percentile value is 36.3082191780822\n",
      "99.4 percentile value is 37.05146036161335\n",
      "99.5 percentile value is 37.916666666666664\n",
      "99.6 percentile value is 38.925714285714285\n",
      "99.7 percentile value is 40.15384615384615\n",
      "99.8 percentile value is 41.72117039586919\n",
      "99.9 percentile value is 44.22786547700755\n",
      "100 percentile value is 10181221.253731342\n"
     ]
    }
   ],
   "source": [
    "for i in np.arange(0.0, 1.0, 0.1):\n",
    "    var = frame_with_durations_modified['speed'].values\n",
    "    var = np.sort(var, axis=None)\n",
    "    print(\"{} percentile value is {}\".format(99+i,var[int(len(var)*(float(99+i)/100))]))\n",
    "print(\"100 percentile value is\", var[-1])"
   ]
  },
  {
   "cell_type": "code",
   "execution_count": 25,
   "metadata": {},
   "outputs": [],
   "source": [
    "frame_with_durations_modified = frame_with_durations_modified[(frame_with_durations_modified.speed>0) & (frame_with_durations_modified.speed < 50)]"
   ]
  },
  {
   "cell_type": "code",
   "execution_count": 26,
   "metadata": {},
   "outputs": [
    {
     "data": {
      "text/plain": [
       "11.481654321751463"
      ]
     },
     "execution_count": 26,
     "metadata": {},
     "output_type": "execute_result"
    }
   ],
   "source": [
    "# 평균 속도\n",
    "sum(frame_with_durations_modified['speed']) / float(len(frame_with_durations_modified['speed']))"
   ]
  },
  {
   "cell_type": "markdown",
   "metadata": {},
   "source": [
    "3. trip distance"
   ]
  },
  {
   "cell_type": "code",
   "execution_count": 27,
   "metadata": {},
   "outputs": [
    {
     "data": {
      "image/png": "[encoded data removed]",
      "text/plain": [
       "<Figure size 640x480 with 1 Axes>"
      ]
     },
     "metadata": {},
     "output_type": "display_data"
    }
   ],
   "source": [
    "sns.boxplot(y=\"trip_distance\", data=frame_with_durations_modified)\n",
    "plt.show()"
   ]
  },
  {
   "cell_type": "code",
   "execution_count": 28,
   "metadata": {},
   "outputs": [
    {
     "name": "stdout",
     "output_type": "stream",
     "text": [
      "0 percentile value is 0.01\n",
      "10 percentile value is 0.6\n",
      "20 percentile value is 0.83\n",
      "30 percentile value is 1.04\n",
      "40 percentile value is 1.3\n",
      "50 percentile value is 1.57\n",
      "60 percentile value is 1.91\n",
      "70 percentile value is 2.48\n",
      "80 percentile value is 3.44\n",
      "90 percentile value is 6.31\n",
      "100 percentile value is 92.93\n"
     ]
    }
   ],
   "source": [
    "for i in range(0, 100, 10):\n",
    "    var = frame_with_durations_modified['trip_distance'].values\n",
    "    var = np.sort(var, axis=None)\n",
    "    print(\"{} percentile value is {}\".format(i,var[int(len(var)*(float(i)/100))]))\n",
    "print(\"100 percentile value is\", var[-1])"
   ]
  },
  {
   "cell_type": "code",
   "execution_count": 29,
   "metadata": {},
   "outputs": [
    {
     "name": "stdout",
     "output_type": "stream",
     "text": [
      "90 percentile value is 6.31\n",
      "91 percentile value is 6.96\n",
      "92 percentile value is 7.73\n",
      "93 percentile value is 8.6\n",
      "94 percentile value is 9.43\n",
      "95 percentile value is 10.32\n",
      "96 percentile value is 11.46\n",
      "97 percentile value is 13.63\n",
      "98 percentile value is 17.04\n",
      "99 percentile value is 18.7\n",
      "100 percentile value is 92.93\n"
     ]
    }
   ],
   "source": [
    "for i in range(90, 100):\n",
    "    var = frame_with_durations_modified['trip_distance'].values\n",
    "    var = np.sort(var, axis=None)\n",
    "    print(\"{} percentile value is {}\".format(i,var[int(len(var)*(float(i)/100))]))\n",
    "print(\"100 percentile value is\", var[-1])"
   ]
  },
  {
   "cell_type": "code",
   "execution_count": 30,
   "metadata": {},
   "outputs": [
    {
     "name": "stdout",
     "output_type": "stream",
     "text": [
      "99.0 percentile value is 18.7\n",
      "99.1 percentile value is 18.94\n",
      "99.2 percentile value is 19.2\n",
      "99.3 percentile value is 19.5\n",
      "99.4 percentile value is 19.9\n",
      "99.5 percentile value is 20.3\n",
      "99.6 percentile value is 20.8\n",
      "99.7 percentile value is 21.35\n",
      "99.8 percentile value is 22.23\n",
      "99.9 percentile value is 25.16\n",
      "100 percentile value is  92.93\n"
     ]
    }
   ],
   "source": [
    "for i in np.arange(0.0, 1.0, 0.1):\n",
    "    var =frame_with_durations_modified[\"trip_distance\"].values\n",
    "    var = np.sort(var,axis = None)\n",
    "    print(\"{} percentile value is {}\".format(99+i,var[int(len(var)*(float(99+i)/100))]))\n",
    "print(\"100 percentile value is \",var[-1])"
   ]
  },
  {
   "cell_type": "code",
   "execution_count": 31,
   "metadata": {},
   "outputs": [],
   "source": [
    "frame_with_durations_modified = frame_with_durations_modified[(frame_with_durations_modified.trip_distance>0) & (frame_with_durations_modified.trip_distance<30)]"
   ]
  },
  {
   "cell_type": "code",
   "execution_count": 32,
   "metadata": {},
   "outputs": [
    {
     "data": {
      "image/png": "[encoded data removed]",
      "text/plain": [
       "<Figure size 640x480 with 1 Axes>"
      ]
     },
     "metadata": {},
     "output_type": "display_data"
    }
   ],
   "source": [
    "sns.boxplot(y=\"trip_distance\", data = frame_with_durations_modified)\n",
    "plt.show()"
   ]
  },
  {
   "cell_type": "markdown",
   "metadata": {},
   "source": [
    "4. total fare"
   ]
  },
  {
   "cell_type": "code",
   "execution_count": 33,
   "metadata": {},
   "outputs": [
    {
     "data": {
      "image/png": "[encoded data removed]",
      "text/plain": [
       "<Figure size 640x480 with 1 Axes>"
      ]
     },
     "metadata": {},
     "output_type": "display_data"
    }
   ],
   "source": [
    "sns.boxplot(y=\"total_amount\", data =frame_with_durations_modified)\n",
    "plt.show()"
   ]
  },
  {
   "cell_type": "code",
   "execution_count": 34,
   "metadata": {},
   "outputs": [
    {
     "name": "stdout",
     "output_type": "stream",
     "text": [
      "0 percentile value is -420.8\n",
      "10 percentile value is 6.62\n",
      "20 percentile value is 7.8\n",
      "30 percentile value is 8.8\n",
      "40 percentile value is 9.96\n",
      "50 percentile value is 11.3\n",
      "60 percentile value is 12.95\n",
      "70 percentile value is 15.3\n",
      "80 percentile value is 18.8\n",
      "90 percentile value is 27.8\n",
      "100 percentile value is  8016.8\n"
     ]
    }
   ],
   "source": [
    "for i in range(0,100,10):\n",
    "    var = frame_with_durations_modified[\"total_amount\"].values\n",
    "    var = np.sort(var,axis = None)\n",
    "    print(\"{} percentile value is {}\".format(i,var[int(len(var)*(float(i)/100))]))\n",
    "print(\"100 percentile value is \",var[-1])"
   ]
  },
  {
   "cell_type": "code",
   "execution_count": 35,
   "metadata": {},
   "outputs": [
    {
     "name": "stdout",
     "output_type": "stream",
     "text": [
      "90 percentile value is 27.8\n",
      "91 percentile value is 29.75\n",
      "92 percentile value is 32.2\n",
      "93 percentile value is 35.56\n",
      "94 percentile value is 39.12\n",
      "95 percentile value is 43.06\n",
      "96 percentile value is 47.47\n",
      "97 percentile value is 53.47\n",
      "98 percentile value is 61.32\n",
      "99 percentile value is 70.26\n",
      "100 percentile value is  8016.8\n"
     ]
    }
   ],
   "source": [
    "for i in range(90,100):\n",
    "    var = frame_with_durations_modified[\"total_amount\"].values\n",
    "    var = np.sort(var,axis = None)\n",
    "    print(\"{} percentile value is {}\".format(i,var[int(len(var)*(float(i)/100))]))\n",
    "print(\"100 percentile value is \",var[-1])"
   ]
  },
  {
   "cell_type": "code",
   "execution_count": 36,
   "metadata": {},
   "outputs": [
    {
     "name": "stdout",
     "output_type": "stream",
     "text": [
      "99.0 percentile value is 70.26\n",
      "99.1 percentile value is 70.27\n",
      "99.2 percentile value is 70.27\n",
      "99.3 percentile value is 70.27\n",
      "99.4 percentile value is 73.06\n",
      "99.5 percentile value is 73.2\n",
      "99.6 percentile value is 75.67\n",
      "99.7 percentile value is 77.76\n",
      "99.8 percentile value is 84.8\n",
      "99.9 percentile value is 98.88\n",
      "100 percentile value is  8016.8\n"
     ]
    }
   ],
   "source": [
    "for i in np.arange(0.0, 1.0, 0.1):\n",
    "    var = frame_with_durations_modified[\"total_amount\"].values\n",
    "    var = np.sort(var,axis = None)\n",
    "    print(\"{} percentile value is {}\".format(99+i,var[int(len(var)*(float(99+i)/100))]))\n",
    "print(\"100 percentile value is \",var[-1])"
   ]
  },
  {
   "cell_type": "code",
   "execution_count": 37,
   "metadata": {},
   "outputs": [
    {
     "data": {
      "image/png": "[encoded data removed]",
      "text/plain": [
       "<Figure size 640x480 with 1 Axes>"
      ]
     },
     "metadata": {},
     "output_type": "display_data"
    }
   ],
   "source": [
    "plt.plot(var[:-2])\n",
    "plt.show()\n",
    "# 끝값에서 튄다 -> 아직 이상한 값 존재"
   ]
  },
  {
   "cell_type": "code",
   "execution_count": 38,
   "metadata": {},
   "outputs": [
    {
     "data": {
      "image/png": "[encoded data removed]",
      "text/plain": [
       "<Figure size 640x480 with 1 Axes>"
      ]
     },
     "metadata": {},
     "output_type": "display_data"
    }
   ],
   "source": [
    "plt.plot(var[:-3])\n",
    "plt.show()\n",
    "# 끝값에서 튄다 -> 아직 이상한 값 존재"
   ]
  },
  {
   "cell_type": "code",
   "execution_count": 39,
   "metadata": {},
   "outputs": [
    {
     "data": {
      "image/png": "[encoded data removed]",
      "text/plain": [
       "<Figure size 640x480 with 1 Axes>"
      ]
     },
     "metadata": {},
     "output_type": "display_data"
    }
   ],
   "source": [
    "plt.plot(var[:-4])\n",
    "plt.show()\n",
    "# 끝값에서 튄다 -> 아직 이상한 값 존재"
   ]
  },
  {
   "cell_type": "code",
   "execution_count": 40,
   "metadata": {},
   "outputs": [
    {
     "data": {
      "image/png": "[encoded data removed]",
      "text/plain": [
       "<Figure size 640x480 with 1 Axes>"
      ]
     },
     "metadata": {},
     "output_type": "display_data"
    }
   ],
   "source": [
    "plt.plot(var[-50:-2])\n",
    "plt.show()\n",
    "# 1000언저리에서 끊어야함"
   ]
  },
  {
   "cell_type": "markdown",
   "metadata": {},
   "source": [
    "5. tip_amount"
   ]
  },
  {
   "cell_type": "code",
   "execution_count": 41,
   "metadata": {},
   "outputs": [
    {
     "data": {
      "image/png": "[encoded data removed]",
      "text/plain": [
       "<Figure size 640x480 with 1 Axes>"
      ]
     },
     "metadata": {},
     "output_type": "display_data"
    }
   ],
   "source": [
    "sns.boxplot(y=\"tip_amount\", data =frame_with_durations_modified)\n",
    "plt.show()"
   ]
  },
  {
   "cell_type": "code",
   "execution_count": 42,
   "metadata": {},
   "outputs": [
    {
     "name": "stdout",
     "output_type": "stream",
     "text": [
      "0 percentile value is -88.8\n",
      "10 percentile value is 0.0\n",
      "20 percentile value is 0.0\n",
      "30 percentile value is 0.0\n",
      "40 percentile value is 1.0\n",
      "50 percentile value is 1.4\n",
      "60 percentile value is 1.76\n",
      "70 percentile value is 2.06\n",
      "80 percentile value is 2.7\n",
      "90 percentile value is 3.99\n",
      "100 percentile value is  441.71\n"
     ]
    }
   ],
   "source": [
    "for i in range(0,100,10):\n",
    "    var = frame_with_durations_modified[\"tip_amount\"].values\n",
    "    var = np.sort(var,axis = None)\n",
    "    print(\"{} percentile value is {}\".format(i,var[int(len(var)*(float(i)/100))]))\n",
    "print(\"100 percentile value is \",var[-1])"
   ]
  },
  {
   "cell_type": "code",
   "execution_count": 43,
   "metadata": {},
   "outputs": [
    {
     "name": "stdout",
     "output_type": "stream",
     "text": [
      "90 percentile value is 27.8\n",
      "91 percentile value is 29.75\n",
      "92 percentile value is 32.2\n",
      "93 percentile value is 35.56\n",
      "94 percentile value is 39.12\n",
      "95 percentile value is 43.06\n",
      "96 percentile value is 47.47\n",
      "97 percentile value is 53.47\n",
      "98 percentile value is 61.32\n",
      "99 percentile value is 70.26\n",
      "100 percentile value is  8016.8\n"
     ]
    }
   ],
   "source": [
    "for i in range(90,100,1):\n",
    "    var = frame_with_durations_modified[\"total_amount\"].values\n",
    "    var = np.sort(var,axis = None)\n",
    "    print(\"{} percentile value is {}\".format(i,var[int(len(var)*(float(i)/100))]))\n",
    "print(\"100 percentile value is \",var[-1])"
   ]
  },
  {
   "cell_type": "code",
   "execution_count": 44,
   "metadata": {},
   "outputs": [
    {
     "name": "stdout",
     "output_type": "stream",
     "text": [
      "99.0 percentile value is 70.26\n",
      "99.1 percentile value is 70.27\n",
      "99.2 percentile value is 70.27\n",
      "99.3 percentile value is 70.27\n",
      "99.4 percentile value is 73.06\n",
      "99.5 percentile value is 73.2\n",
      "99.6 percentile value is 75.67\n",
      "99.7 percentile value is 77.76\n",
      "99.8 percentile value is 84.8\n",
      "99.9 percentile value is 98.88\n",
      "100 percentile value is  8016.8\n"
     ]
    }
   ],
   "source": [
    "for i in np.arange(0.0, 1.0, 0.1):\n",
    "    var = frame_with_durations_modified[\"total_amount\"].values\n",
    "    var = np.sort(var,axis = None)\n",
    "    print(\"{} percentile value is {}\".format(99+i,var[int(len(var)*(float(99+i)/100))]))\n",
    "print(\"100 percentile value is \",var[-1])"
   ]
  },
  {
   "cell_type": "code",
   "execution_count": 45,
   "metadata": {},
   "outputs": [
    {
     "data": {
      "image/png": "[encoded data removed]",
      "text/plain": [
       "<Figure size 640x480 with 1 Axes>"
      ]
     },
     "metadata": {},
     "output_type": "display_data"
    }
   ],
   "source": [
    "plt.plot(var[-50:-2])\n",
    "plt.show()\n",
    "# 1100언저리에서 끊어야함"
   ]
  },
  {
   "cell_type": "code",
   "execution_count": 46,
   "metadata": {},
   "outputs": [],
   "source": [
    "# 1. 이상한 시간\n",
    "# 2. 이상한 속도\n",
    "# 3. 이상한 거리\n",
    "# 4. 이상한 비용\n",
    "# 5. 이상한 팁\n",
    "def remove_outliers(new_frame):\n",
    "    a = new_frame.shape[0]\n",
    "    print(\"총 데이터 수 = \", a)\n",
    "\n",
    "    # 시간\n",
    "    temp_frame = new_frame[(new_frame.trip_times > 0) & (new_frame.trip_times < 120)]\n",
    "    c = temp_frame.shape[0]\n",
    "    print (\"시간 튀는 값의 개수:\",(a-c))\n",
    "    \n",
    "    # 거리\n",
    "    temp_frame = new_frame[(new_frame.trip_distance > 0) & (new_frame.trip_distance < 30)]\n",
    "    d = temp_frame.shape[0]\n",
    "    print (\"거리 튀는 값의 개수:\",(a-d))\n",
    "\n",
    "    # 속도\n",
    "    temp_frame = new_frame[(new_frame.speed <= 50) & (new_frame.speed >= 0)]\n",
    "    e = temp_frame.shape[0]\n",
    "    print (\"속도 튀는 값의 개수\",(a-e))\n",
    "\n",
    "    # 비용\n",
    "    temp_frame = new_frame[(new_frame.total_amount <1000) & (new_frame.total_amount >0)]\n",
    "    f = temp_frame.shape[0]\n",
    "    print (\"비용 튀는 값의 개수:\",(a-f))\n",
    "\n",
    "    # 팁\n",
    "    temp_frame = new_frame[(new_frame.tip_amount <1100) & (new_frame.tip_amount >0)]\n",
    "    f = temp_frame.shape[0]\n",
    "    print (\"팁 튀는 값의 개수:\",(a-f))\n",
    "\n",
    "    new_frame = new_frame[(new_frame.trip_times > 0) & (new_frame.trip_times < 120)]\n",
    "    new_frame = new_frame[(new_frame.trip_distance > 0) & (new_frame.trip_distance < 30)]\n",
    "    new_frame = new_frame[(new_frame.speed < 50) & (new_frame.speed > 0)]\n",
    "    new_frame = new_frame[(new_frame.total_amount <1000) & (new_frame.total_amount >0)]\n",
    "    new_frame = new_frame[(new_frame.tip_amount <1100) & (new_frame.tip_amount >0)]\n",
    "\n",
    "    print(\"전체 삭제 된 데이터 수\", a-new_frame.shape[0])\n",
    "    print(\"---\")\n",
    "    return new_frame"
   ]
  },
  {
   "cell_type": "code",
   "execution_count": 55,
   "metadata": {},
   "outputs": [
    {
     "name": "stdout",
     "output_type": "stream",
     "text": [
      "2018-01 데이터 제거 현황\n",
      "---\n",
      "총 데이터 수 =  8760687\n",
      "시간 튀는 값의 개수: 25045\n",
      "거리 튀는 값의 개수: 58699\n",
      "속도 튀는 값의 개수 16996\n",
      "비용 튀는 값의 개수: 5336\n",
      "팁 튀는 값의 개수: 2895981\n",
      "전체 삭제 된 데이터 수 2927664\n",
      "---\n",
      "튀는 값 제거하고 남은 비율 0.66581798893169\n"
     ]
    }
   ],
   "source": [
    "print(\"2018-01 데이터 제거 현황\")\n",
    "print(\"---\")\n",
    "frame_with_durations_outliers_removed = remove_outliers(frame_with_durations)\n",
    "print(\"튀는 값 제거하고 남은 비율\", float(len(frame_with_durations_outliers_removed))/len(frame_with_durations))"
   ]
  },
  {
   "cell_type": "markdown",
   "metadata": {},
   "source": [
    "\n",
    "-----------------------------------------------------------------\n",
    "1. 시간 구간 구해서 그룹핑(클러스터링은 이미 되어 있으므로 생략)"
   ]
  },
  {
   "cell_type": "code",
   "execution_count": 73,
   "metadata": {},
   "outputs": [],
   "source": [
    "# Refer:https://www.unixtimestamp.com/\n",
    "# 1514732400 : 2018-01-01 00:00:00 \n",
    "# 1517410800 : 2018-02-01 00:00:00 \n",
    "# 1519830000 : 2018-03-01 00:00:00\n",
    "# 1522508400 : 2018-04-01 00:00:00 \n",
    "# 1525100400 : 2018-05-01 00:00:00 \n",
    "# 1527778800 : 2018-06-01 00:00:00\n",
    "\n",
    "# 1546268400 : 2019-01-01 00:00:00 \n",
    "# 1548946800 : 2019-02-01 00:00:00 \n",
    "# 1551366000 : 2019-03-01 00:00:00\n",
    "# 1554044400 : 2019-04-01 00:00:00 \n",
    "# 1556636400 : 2019-05-01 00:00:00 \n",
    "# 1559314800 : 2019-06-01 00:00:00\n",
    "\n",
    "def add_pickup_bins(frame, month, year):\n",
    "    # 탑승 시간에 대한 배열\n",
    "    unix_pickup_times = [i for i in frame['pickup_times'].values]\n",
    "    unix_times = [[1514732400, 1517410800, 151983000, 1522508400, 1525100400, 1527778800], \\\n",
    "        [1546268400, 1548946800, 1551366000, 1554044400, 1556636400, 1559314800]]\n",
    "\n",
    "    # 해당하는 년도와 월에 대한 시간\n",
    "    start_pickup_unix = unix_times[year-2018][month-1]\n",
    "    # (int((i-start_pickup_unix)/600)+33) : est 표준 시간 -> gmt 표준 시간(미국 동부)\n",
    "    # 해당 년도 월에 대해서 10분 간격으로 나누기\n",
    "    tenminutewise_binned_unix_pickup_times = [(int((((i - np.datetime64('1970-01-01T00:00:00Z')) / np.timedelta64(1, 's'))-start_pickup_unix)/600)+33) for i in unix_pickup_times]\n",
    "    frame['pickup_bins'] = np.array(tenminutewise_binned_unix_pickup_times)\n",
    "    return frame"
   ]
  },
  {
   "cell_type": "code",
   "execution_count": 74,
   "metadata": {},
   "outputs": [
    {
     "name": "stderr",
     "output_type": "stream",
     "text": [
      "C:\\Users\\sktmd\\AppData\\Local\\Temp\\ipykernel_20936\\2461794554.py:26: DeprecationWarning: parsing timezone aware datetimes is deprecated; this will raise an error in the future\n",
      "  tenminutewise_binned_unix_pickup_times = [(int((((i - np.datetime64('1970-01-01T00:00:00Z')) / np.timedelta64(1, 's'))-start_pickup_unix)/600)+33) for i in unix_pickup_times]\n"
     ]
    }
   ],
   "source": [
    "jan_2018_frame = add_pickup_bins(frame_with_durations_outliers_removed, 1, 2018)"
   ]
  },
  {
   "cell_type": "code",
   "execution_count": 175,
   "metadata": {},
   "outputs": [],
   "source": [
    "# 2018년도 1월 시간과 지역별 그룹화\n",
    "jan_2018_groupby = jan_2018_frame[['PULocationID', 'pickup_bins', 'trip_distance']].groupby(['PULocationID', 'pickup_bins'])"
   ]
  },
  {
   "cell_type": "code",
   "execution_count": 77,
   "metadata": {},
   "outputs": [
    {
     "data": {
      "text/html": [
       "<div>\n",
       "<style scoped>\n",
       "    .dataframe tbody tr th:only-of-type {\n",
       "        vertical-align: middle;\n",
       "    }\n",
       "\n",
       "    .dataframe tbody tr th {\n",
       "        vertical-align: top;\n",
       "    }\n",
       "\n",
       "    .dataframe thead th {\n",
       "        text-align: right;\n",
       "    }\n",
       "</style>\n",
       "<table border=\"1\" class=\"dataframe\">\n",
       "  <thead>\n",
       "    <tr style=\"text-align: right;\">\n",
       "      <th></th>\n",
       "      <th>passenger_count</th>\n",
       "      <th>trip_distance</th>\n",
       "      <th>PULocationID</th>\n",
       "      <th>DOLocationID</th>\n",
       "      <th>total_amount</th>\n",
       "      <th>tip_amount</th>\n",
       "      <th>trip_times</th>\n",
       "      <th>pickup_times</th>\n",
       "      <th>speed</th>\n",
       "      <th>pickup_bins</th>\n",
       "    </tr>\n",
       "  </thead>\n",
       "  <tbody>\n",
       "    <tr>\n",
       "      <th>2</th>\n",
       "      <td>2</td>\n",
       "      <td>0.8</td>\n",
       "      <td>262</td>\n",
       "      <td>141</td>\n",
       "      <td>8.30</td>\n",
       "      <td>1.00</td>\n",
       "      <td>5.916667</td>\n",
       "      <td>2018-01-01 00:08:26</td>\n",
       "      <td>8.112676</td>\n",
       "      <td>87</td>\n",
       "    </tr>\n",
       "    <tr>\n",
       "      <th>4</th>\n",
       "      <td>2</td>\n",
       "      <td>2.5</td>\n",
       "      <td>246</td>\n",
       "      <td>239</td>\n",
       "      <td>16.55</td>\n",
       "      <td>2.75</td>\n",
       "      <td>17.800000</td>\n",
       "      <td>2018-01-01 00:09:18</td>\n",
       "      <td>8.426966</td>\n",
       "      <td>87</td>\n",
       "    </tr>\n",
       "    <tr>\n",
       "      <th>6</th>\n",
       "      <td>2</td>\n",
       "      <td>1.7</td>\n",
       "      <td>50</td>\n",
       "      <td>239</td>\n",
       "      <td>12.35</td>\n",
       "      <td>2.05</td>\n",
       "      <td>10.266667</td>\n",
       "      <td>2018-01-01 00:38:08</td>\n",
       "      <td>9.935065</td>\n",
       "      <td>90</td>\n",
       "    </tr>\n",
       "    <tr>\n",
       "      <th>7</th>\n",
       "      <td>1</td>\n",
       "      <td>0.7</td>\n",
       "      <td>239</td>\n",
       "      <td>238</td>\n",
       "      <td>6.30</td>\n",
       "      <td>1.00</td>\n",
       "      <td>2.400000</td>\n",
       "      <td>2018-01-01 00:49:29</td>\n",
       "      <td>17.500000</td>\n",
       "      <td>91</td>\n",
       "    </tr>\n",
       "    <tr>\n",
       "      <th>8</th>\n",
       "      <td>1</td>\n",
       "      <td>1.0</td>\n",
       "      <td>238</td>\n",
       "      <td>24</td>\n",
       "      <td>8.50</td>\n",
       "      <td>1.70</td>\n",
       "      <td>4.450000</td>\n",
       "      <td>2018-01-01 00:56:38</td>\n",
       "      <td>13.483146</td>\n",
       "      <td>92</td>\n",
       "    </tr>\n",
       "  </tbody>\n",
       "</table>\n",
       "</div>"
      ],
      "text/plain": [
       "   passenger_count  trip_distance  PULocationID  DOLocationID  total_amount  \\\n",
       "2                2            0.8           262           141          8.30   \n",
       "4                2            2.5           246           239         16.55   \n",
       "6                2            1.7            50           239         12.35   \n",
       "7                1            0.7           239           238          6.30   \n",
       "8                1            1.0           238            24          8.50   \n",
       "\n",
       "   tip_amount  trip_times        pickup_times      speed  pickup_bins  \n",
       "2        1.00    5.916667 2018-01-01 00:08:26   8.112676           87  \n",
       "4        2.75   17.800000 2018-01-01 00:09:18   8.426966           87  \n",
       "6        2.05   10.266667 2018-01-01 00:38:08   9.935065           90  \n",
       "7        1.00    2.400000 2018-01-01 00:49:29  17.500000           91  \n",
       "8        1.70    4.450000 2018-01-01 00:56:38  13.483146           92  "
      ]
     },
     "execution_count": 77,
     "metadata": {},
     "output_type": "execute_result"
    }
   ],
   "source": [
    "jan_2018_frame.head()"
   ]
  },
  {
   "cell_type": "code",
   "execution_count": 183,
   "metadata": {},
   "outputs": [
    {
     "name": "stdout",
     "output_type": "stream",
     "text": [
      "Empty DataFrame\n",
      "Columns: [trip_distance]\n",
      "Index: []\n"
     ]
    }
   ],
   "source": [
    "k = jan_2018_groupby[jan_2018_groupby['trip_distance'] == 0.8]\n",
    "print(k)"
   ]
  },
  {
   "cell_type": "code",
   "execution_count": 80,
   "metadata": {},
   "outputs": [
    {
     "name": "stdout",
     "output_type": "stream",
     "text": [
      "return_with_trip_times..\n"
     ]
    },
    {
     "name": "stderr",
     "output_type": "stream",
     "text": [
      "C:\\Users\\sktmd\\AppData\\Local\\Temp\\ipykernel_20936\\3260386666.py:20: SettingWithCopyWarning: \n",
      "A value is trying to be set on a copy of a slice from a DataFrame.\n",
      "Try using .loc[row_indexer,col_indexer] = value instead\n",
      "\n",
      "See the caveats in the documentation: https://pandas.pydata.org/pandas-docs/stable/user_guide/indexing.html#returning-a-view-versus-a-copy\n",
      "  new_frame['trip_times'] = durations\n",
      "C:\\Users\\sktmd\\AppData\\Local\\Temp\\ipykernel_20936\\3260386666.py:21: SettingWithCopyWarning: \n",
      "A value is trying to be set on a copy of a slice from a DataFrame.\n",
      "Try using .loc[row_indexer,col_indexer] = value instead\n",
      "\n",
      "See the caveats in the documentation: https://pandas.pydata.org/pandas-docs/stable/user_guide/indexing.html#returning-a-view-versus-a-copy\n",
      "  new_frame['pickup_times'] = duration_pickup\n",
      "C:\\Users\\sktmd\\AppData\\Local\\Temp\\ipykernel_20936\\3260386666.py:23: SettingWithCopyWarning: \n",
      "A value is trying to be set on a copy of a slice from a DataFrame.\n",
      "Try using .loc[row_indexer,col_indexer] = value instead\n",
      "\n",
      "See the caveats in the documentation: https://pandas.pydata.org/pandas-docs/stable/user_guide/indexing.html#returning-a-view-versus-a-copy\n",
      "  new_frame['speed'] = 60 * (new_frame['trip_distance']/new_frame['trip_times'])\n"
     ]
    },
    {
     "name": "stdout",
     "output_type": "stream",
     "text": [
      "Remove outliers..\n",
      "총 데이터 수 =  7696617\n",
      "시간 튀는 값의 개수: 27889\n",
      "거리 튀는 값의 개수: 58240\n",
      "속도 튀는 값의 개수 15120\n",
      "비용 튀는 값의 개수: 8793\n",
      "팁 튀는 값의 개수: 2438772\n",
      "전체 삭제 된 데이터 수 2474908\n",
      "---\n",
      "Final groupying\n"
     ]
    },
    {
     "name": "stderr",
     "output_type": "stream",
     "text": [
      "C:\\Users\\sktmd\\AppData\\Local\\Temp\\ipykernel_20936\\2461794554.py:26: DeprecationWarning: parsing timezone aware datetimes is deprecated; this will raise an error in the future\n",
      "  tenminutewise_binned_unix_pickup_times = [(int((((i - np.datetime64('1970-01-01T00:00:00Z')) / np.timedelta64(1, 's'))-start_pickup_unix)/600)+33) for i in unix_pickup_times]\n"
     ]
    },
    {
     "name": "stdout",
     "output_type": "stream",
     "text": [
      "return_with_trip_times..\n"
     ]
    },
    {
     "name": "stderr",
     "output_type": "stream",
     "text": [
      "C:\\Users\\sktmd\\AppData\\Local\\Temp\\ipykernel_20936\\3260386666.py:20: SettingWithCopyWarning: \n",
      "A value is trying to be set on a copy of a slice from a DataFrame.\n",
      "Try using .loc[row_indexer,col_indexer] = value instead\n",
      "\n",
      "See the caveats in the documentation: https://pandas.pydata.org/pandas-docs/stable/user_guide/indexing.html#returning-a-view-versus-a-copy\n",
      "  new_frame['trip_times'] = durations\n",
      "C:\\Users\\sktmd\\AppData\\Local\\Temp\\ipykernel_20936\\3260386666.py:21: SettingWithCopyWarning: \n",
      "A value is trying to be set on a copy of a slice from a DataFrame.\n",
      "Try using .loc[row_indexer,col_indexer] = value instead\n",
      "\n",
      "See the caveats in the documentation: https://pandas.pydata.org/pandas-docs/stable/user_guide/indexing.html#returning-a-view-versus-a-copy\n",
      "  new_frame['pickup_times'] = duration_pickup\n",
      "C:\\Users\\sktmd\\AppData\\Local\\Temp\\ipykernel_20936\\3260386666.py:23: SettingWithCopyWarning: \n",
      "A value is trying to be set on a copy of a slice from a DataFrame.\n",
      "Try using .loc[row_indexer,col_indexer] = value instead\n",
      "\n",
      "See the caveats in the documentation: https://pandas.pydata.org/pandas-docs/stable/user_guide/indexing.html#returning-a-view-versus-a-copy\n",
      "  new_frame['speed'] = 60 * (new_frame['trip_distance']/new_frame['trip_times'])\n"
     ]
    },
    {
     "name": "stdout",
     "output_type": "stream",
     "text": [
      "Remove outliers..\n",
      "총 데이터 수 =  7049370\n",
      "시간 튀는 값의 개수: 25487\n",
      "거리 튀는 값의 개수: 52741\n",
      "속도 튀는 값의 개수 13949\n",
      "비용 튀는 값의 개수: 11258\n",
      "팁 튀는 값의 개수: 2106999\n",
      "전체 삭제 된 데이터 수 2138499\n",
      "---\n",
      "Final groupying\n"
     ]
    },
    {
     "name": "stderr",
     "output_type": "stream",
     "text": [
      "C:\\Users\\sktmd\\AppData\\Local\\Temp\\ipykernel_20936\\2461794554.py:26: DeprecationWarning: parsing timezone aware datetimes is deprecated; this will raise an error in the future\n",
      "  tenminutewise_binned_unix_pickup_times = [(int((((i - np.datetime64('1970-01-01T00:00:00Z')) / np.timedelta64(1, 's'))-start_pickup_unix)/600)+33) for i in unix_pickup_times]\n"
     ]
    },
    {
     "name": "stdout",
     "output_type": "stream",
     "text": [
      "return_with_trip_times..\n"
     ]
    },
    {
     "name": "stderr",
     "output_type": "stream",
     "text": [
      "C:\\Users\\sktmd\\AppData\\Local\\Temp\\ipykernel_20936\\3260386666.py:20: SettingWithCopyWarning: \n",
      "A value is trying to be set on a copy of a slice from a DataFrame.\n",
      "Try using .loc[row_indexer,col_indexer] = value instead\n",
      "\n",
      "See the caveats in the documentation: https://pandas.pydata.org/pandas-docs/stable/user_guide/indexing.html#returning-a-view-versus-a-copy\n",
      "  new_frame['trip_times'] = durations\n",
      "C:\\Users\\sktmd\\AppData\\Local\\Temp\\ipykernel_20936\\3260386666.py:21: SettingWithCopyWarning: \n",
      "A value is trying to be set on a copy of a slice from a DataFrame.\n",
      "Try using .loc[row_indexer,col_indexer] = value instead\n",
      "\n",
      "See the caveats in the documentation: https://pandas.pydata.org/pandas-docs/stable/user_guide/indexing.html#returning-a-view-versus-a-copy\n",
      "  new_frame['pickup_times'] = duration_pickup\n",
      "C:\\Users\\sktmd\\AppData\\Local\\Temp\\ipykernel_20936\\3260386666.py:23: SettingWithCopyWarning: \n",
      "A value is trying to be set on a copy of a slice from a DataFrame.\n",
      "Try using .loc[row_indexer,col_indexer] = value instead\n",
      "\n",
      "See the caveats in the documentation: https://pandas.pydata.org/pandas-docs/stable/user_guide/indexing.html#returning-a-view-versus-a-copy\n",
      "  new_frame['speed'] = 60 * (new_frame['trip_distance']/new_frame['trip_times'])\n"
     ]
    },
    {
     "name": "stdout",
     "output_type": "stream",
     "text": [
      "Remove outliers..\n",
      "총 데이터 수 =  7866620\n",
      "시간 튀는 값의 개수: 27494\n",
      "거리 튀는 값의 개수: 57473\n",
      "속도 튀는 값의 개수 15025\n",
      "비용 튀는 값의 개수: 13582\n",
      "팁 튀는 값의 개수: 2408533\n",
      "전체 삭제 된 데이터 수 2444621\n",
      "---\n",
      "Final groupying\n"
     ]
    },
    {
     "name": "stderr",
     "output_type": "stream",
     "text": [
      "C:\\Users\\sktmd\\AppData\\Local\\Temp\\ipykernel_20936\\2461794554.py:26: DeprecationWarning: parsing timezone aware datetimes is deprecated; this will raise an error in the future\n",
      "  tenminutewise_binned_unix_pickup_times = [(int((((i - np.datetime64('1970-01-01T00:00:00Z')) / np.timedelta64(1, 's'))-start_pickup_unix)/600)+33) for i in unix_pickup_times]\n"
     ]
    }
   ],
   "source": [
    "# 앞까지 했던 방식을 2019-1, 2019-2, 2019-3에 대해 똑같이 적용\n",
    "def datapreparation(month, month_no, year_no):\n",
    "\n",
    "    print(\"return_with_trip_times..\")\n",
    "    frame_with_durations = return_with_trip_times(month)\n",
    "\n",
    "    print(\"Remove outliers..\")\n",
    "    frame_with_durations_outliers_removed = remove_outliers(frame_with_durations)\n",
    "\n",
    "    print('Final groupying')\n",
    "    final_updated_frame = add_pickup_bins(frame_with_durations_outliers_removed, month_no, year_no)\n",
    "    final_groupby_frame = final_updated_frame[['PULocationID', 'pickup_bins', 'trip_distance']].groupby(['PULocationID', 'pickup_bins']).count()\n",
    "\n",
    "    return final_updated_frame, final_groupby_frame\n",
    "\n",
    "\n",
    "month_jan_2019 = pd.read_parquet('yellow_tripdata_2019-01.parquet',engine='pyarrow')\n",
    "month_feb_2019 = pd.read_parquet('yellow_tripdata_2019-02.parquet',engine='pyarrow')\n",
    "month_mar_2019 = pd.read_parquet('yellow_tripdata_2019-03.parquet',engine='pyarrow')\n",
    "\n",
    "jan_2019_frame, jan_2019_groupby = datapreparation(month_jan_2019, 1, 2019)\n",
    "feb_2019_frame, feb_2019_groupby = datapreparation(month_feb_2019, 2, 2019)\n",
    "mar_2019_frame, mar_2019_groupby = datapreparation(month_mar_2019, 3, 2019)"
   ]
  },
  {
   "cell_type": "markdown",
   "metadata": {},
   "source": [
    "2. smoothing(평활화)\n",
    "-> 데이터가 없는 구간 확인\n",
    "-> 0으로 채워주고, 평균값으로 설정"
   ]
  },
  {
   "cell_type": "code",
   "execution_count": 132,
   "metadata": {},
   "outputs": [
    {
     "name": "stdout",
     "output_type": "stream",
     "text": [
      "                          trip_distance\n",
      "PULocationID pickup_bins               \n",
      "1            107                      1\n",
      "             124                      1\n",
      "             267                      1\n",
      "             704                      1\n",
      "             720                      1\n",
      "...                                 ...\n",
      "265          4507                     1\n",
      "             4526                     1\n",
      "             4531                     2\n",
      "             4539                     1\n",
      "             4548                     1\n",
      "\n",
      "[304738 rows x 1 columns]\n"
     ]
    }
   ],
   "source": [
    "print(jan_2018_groupby)"
   ]
  },
  {
   "cell_type": "code",
   "execution_count": 145,
   "metadata": {},
   "outputs": [],
   "source": [
    "# 각 지역마다 데이터가 존재하는  시간대 리스트 구하기\n",
    "\n",
    "def return_unq_pickup_bins(frame):\n",
    "    values = []\n",
    "    for i in range(1, 266): # 265개의 PULocationID\n",
    "        new = frame[frame['PULocationID'] == i] # 지역별\n",
    "        list_unq = list(set(new['pickup_bins'])) # pickup이 존재하는 시간 리스트\n",
    "        list_unq.sort()\n",
    "        values.append(list_unq) # 시간대마다 values에 누적\n",
    "    return values"
   ]
  },
  {
   "cell_type": "code",
   "execution_count": 146,
   "metadata": {},
   "outputs": [],
   "source": [
    "#jan\n",
    "jan_2018_unique = return_unq_pickup_bins(jan_2018_frame)\n",
    "jan_2019_unique = return_unq_pickup_bins(jan_2019_frame)\n",
    "\n",
    "#feb\n",
    "feb_2019_unique = return_unq_pickup_bins(feb_2019_frame)\n",
    "\n",
    "#march\n",
    "mar_2019_unique = return_unq_pickup_bins(mar_2019_frame)"
   ]
  },
  {
   "cell_type": "code",
   "execution_count": 147,
   "metadata": {},
   "outputs": [
    {
     "name": "stdout",
     "output_type": "stream",
     "text": [
      "1 번째 구역에서 10분 간격안에 픽업 데이터가 없는 경우의 개수 4419\n",
      "------------------------------------------------------------\n",
      "2 번째 구역에서 10분 간격안에 픽업 데이터가 없는 경우의 개수 4461\n",
      "------------------------------------------------------------\n",
      "3 번째 구역에서 10분 간격안에 픽업 데이터가 없는 경우의 개수 4454\n",
      "------------------------------------------------------------\n",
      "4 번째 구역에서 10분 간격안에 픽업 데이터가 없는 경우의 개수 928\n",
      "------------------------------------------------------------\n",
      "5 번째 구역에서 10분 간격안에 픽업 데이터가 없는 경우의 개수 4464\n",
      "------------------------------------------------------------\n",
      "6 번째 구역에서 10분 간격안에 픽업 데이터가 없는 경우의 개수 4450\n",
      "------------------------------------------------------------\n",
      "7 번째 구역에서 10분 간격안에 픽업 데이터가 없는 경우의 개수 1774\n",
      "------------------------------------------------------------\n",
      "8 번째 구역에서 10분 간격안에 픽업 데이터가 없는 경우의 개수 4429\n",
      "------------------------------------------------------------\n",
      "9 번째 구역에서 10분 간격안에 픽업 데이터가 없는 경우의 개수 4451\n",
      "------------------------------------------------------------\n",
      "10 번째 구역에서 10분 간격안에 픽업 데이터가 없는 경우의 개수 3493\n",
      "------------------------------------------------------------\n",
      "11 번째 구역에서 10분 간격안에 픽업 데이터가 없는 경우의 개수 4450\n",
      "------------------------------------------------------------\n",
      "12 번째 구역에서 10분 간격안에 픽업 데이터가 없는 경우의 개수 3418\n",
      "------------------------------------------------------------\n",
      "13 번째 구역에서 10분 간격안에 픽업 데이터가 없는 경우의 개수 458\n",
      "------------------------------------------------------------\n",
      "14 번째 구역에서 10분 간격안에 픽업 데이터가 없는 경우의 개수 4366\n",
      "------------------------------------------------------------\n",
      "15 번째 구역에서 10분 간격안에 픽업 데이터가 없는 경우의 개수 4457\n",
      "------------------------------------------------------------\n",
      "16 번째 구역에서 10분 간격안에 픽업 데이터가 없는 경우의 개수 4447\n",
      "------------------------------------------------------------\n",
      "17 번째 구역에서 10분 간격안에 픽업 데이터가 없는 경우의 개수 3933\n",
      "------------------------------------------------------------\n",
      "18 번째 구역에서 10분 간격안에 픽업 데이터가 없는 경우의 개수 4444\n",
      "------------------------------------------------------------\n",
      "19 번째 구역에서 10분 간격안에 픽업 데이터가 없는 경우의 개수 4455\n",
      "------------------------------------------------------------\n",
      "20 번째 구역에서 10분 간격안에 픽업 데이터가 없는 경우의 개수 4457\n",
      "------------------------------------------------------------\n",
      "21 번째 구역에서 10분 간격안에 픽업 데이터가 없는 경우의 개수 4445\n",
      "------------------------------------------------------------\n",
      "22 번째 구역에서 10분 간격안에 픽업 데이터가 없는 경우의 개수 4435\n",
      "------------------------------------------------------------\n",
      "23 번째 구역에서 10분 간격안에 픽업 데이터가 없는 경우의 개수 4463\n",
      "------------------------------------------------------------\n",
      "24 번째 구역에서 10분 간격안에 픽업 데이터가 없는 경우의 개수 700\n",
      "------------------------------------------------------------\n",
      "25 번째 구역에서 10분 간격안에 픽업 데이터가 없는 경우의 개수 1859\n",
      "------------------------------------------------------------\n",
      "26 번째 구역에서 10분 간격안에 픽업 데이터가 없는 경우의 개수 4417\n",
      "------------------------------------------------------------\n",
      "27 번째 구역에서 10분 간격안에 픽업 데이터가 없는 경우의 개수 4463\n",
      "------------------------------------------------------------\n",
      "28 번째 구역에서 10분 간격안에 픽업 데이터가 없는 경우의 개수 4232\n",
      "------------------------------------------------------------\n",
      "29 번째 구역에서 10분 간격안에 픽업 데이터가 없는 경우의 개수 4430\n",
      "------------------------------------------------------------\n",
      "30 번째 구역에서 10분 간격안에 픽업 데이터가 없는 경우의 개수 4463\n",
      "------------------------------------------------------------\n",
      "31 번째 구역에서 10분 간격안에 픽업 데이터가 없는 경우의 개수 4455\n",
      "------------------------------------------------------------\n",
      "32 번째 구역에서 10분 간격안에 픽업 데이터가 없는 경우의 개수 4453\n",
      "------------------------------------------------------------\n",
      "33 번째 구역에서 10분 간격안에 픽업 데이터가 없는 경우의 개수 1852\n",
      "------------------------------------------------------------\n",
      "34 번째 구역에서 10분 간격안에 픽업 데이터가 없는 경우의 개수 4392\n",
      "------------------------------------------------------------\n",
      "35 번째 구역에서 10분 간격안에 픽업 데이터가 없는 경우의 개수 4424\n",
      "------------------------------------------------------------\n",
      "36 번째 구역에서 10분 간격안에 픽업 데이터가 없는 경우의 개수 4150\n",
      "------------------------------------------------------------\n",
      "37 번째 구역에서 10분 간격안에 픽업 데이터가 없는 경우의 개수 3926\n",
      "------------------------------------------------------------\n",
      "38 번째 구역에서 10분 간격안에 픽업 데이터가 없는 경우의 개수 4454\n",
      "------------------------------------------------------------\n",
      "39 번째 구역에서 10분 간격안에 픽업 데이터가 없는 경우의 개수 4414\n",
      "------------------------------------------------------------\n",
      "40 번째 구역에서 10분 간격안에 픽업 데이터가 없는 경우의 개수 2740\n",
      "------------------------------------------------------------\n",
      "41 번째 구역에서 10분 간격안에 픽업 데이터가 없는 경우의 개수 645\n",
      "------------------------------------------------------------\n",
      "42 번째 구역에서 10분 간격안에 픽업 데이터가 없는 경우의 개수 2003\n",
      "------------------------------------------------------------\n",
      "43 번째 구역에서 10분 간격안에 픽업 데이터가 없는 경우의 개수 452\n",
      "------------------------------------------------------------\n",
      "44 번째 구역에서 10분 간격안에 픽업 데이터가 없는 경우의 개수 4464\n",
      "------------------------------------------------------------\n",
      "45 번째 구역에서 10분 간격안에 픽업 데이터가 없는 경우의 개수 1097\n",
      "------------------------------------------------------------\n",
      "46 번째 구역에서 10분 간격안에 픽업 데이터가 없는 경우의 개수 4464\n",
      "------------------------------------------------------------\n",
      "47 번째 구역에서 10분 간격안에 픽업 데이터가 없는 경우의 개수 4445\n",
      "------------------------------------------------------------\n",
      "48 번째 구역에서 10분 간격안에 픽업 데이터가 없는 경우의 개수 -4\n",
      "------------------------------------------------------------\n",
      "49 번째 구역에서 10분 간격안에 픽업 데이터가 없는 경우의 개수 3411\n",
      "------------------------------------------------------------\n",
      "50 번째 구역에서 10분 간격안에 픽업 데이터가 없는 경우의 개수 195\n",
      "------------------------------------------------------------\n",
      "51 번째 구역에서 10분 간격안에 픽업 데이터가 없는 경우의 개수 4446\n",
      "------------------------------------------------------------\n",
      "52 번째 구역에서 10분 간격안에 픽업 데이터가 없는 경우의 개수 2601\n",
      "------------------------------------------------------------\n",
      "53 번째 구역에서 10분 간격안에 픽업 데이터가 없는 경우의 개수 4459\n",
      "------------------------------------------------------------\n",
      "54 번째 구역에서 10분 간격안에 픽업 데이터가 없는 경우의 개수 4277\n",
      "------------------------------------------------------------\n",
      "55 번째 구역에서 10분 간격안에 픽업 데이터가 없는 경우의 개수 4424\n",
      "------------------------------------------------------------\n",
      "56 번째 구역에서 10분 간격안에 픽업 데이터가 없는 경우의 개수 4339\n",
      "------------------------------------------------------------\n",
      "57 번째 구역에서 10분 간격안에 픽업 데이터가 없는 경우의 개수 4457\n",
      "------------------------------------------------------------\n",
      "58 번째 구역에서 10분 간격안에 픽업 데이터가 없는 경우의 개수 4463\n",
      "------------------------------------------------------------\n",
      "59 번째 구역에서 10분 간격안에 픽업 데이터가 없는 경우의 개수 4464\n",
      "------------------------------------------------------------\n",
      "60 번째 구역에서 10분 간격안에 픽업 데이터가 없는 경우의 개수 4457\n",
      "------------------------------------------------------------\n",
      "61 번째 구역에서 10분 간격안에 픽업 데이터가 없는 경우의 개수 3960\n",
      "------------------------------------------------------------\n",
      "62 번째 구역에서 10분 간격안에 픽업 데이터가 없는 경우의 개수 4352\n",
      "------------------------------------------------------------\n",
      "63 번째 구역에서 10분 간격안에 픽업 데이터가 없는 경우의 개수 4433\n",
      "------------------------------------------------------------\n",
      "64 번째 구역에서 10분 간격안에 픽업 데이터가 없는 경우의 개수 4457\n",
      "------------------------------------------------------------\n",
      "65 번째 구역에서 10분 간격안에 픽업 데이터가 없는 경우의 개수 1609\n",
      "------------------------------------------------------------\n",
      "66 번째 구역에서 10분 간격안에 픽업 데이터가 없는 경우의 개수 2907\n",
      "------------------------------------------------------------\n",
      "67 번째 구역에서 10분 간격안에 픽업 데이터가 없는 경우의 개수 4436\n",
      "------------------------------------------------------------\n",
      "68 번째 구역에서 10분 간격안에 픽업 데이터가 없는 경우의 개수 5\n",
      "------------------------------------------------------------\n",
      "69 번째 구역에서 10분 간격안에 픽업 데이터가 없는 경우의 개수 4389\n",
      "------------------------------------------------------------\n",
      "70 번째 구역에서 10분 간격안에 픽업 데이터가 없는 경우의 개수 4187\n",
      "------------------------------------------------------------\n",
      "71 번째 구역에서 10분 간격안에 픽업 데이터가 없는 경우의 개수 4424\n",
      "------------------------------------------------------------\n",
      "72 번째 구역에서 10분 간격안에 픽업 데이터가 없는 경우의 개수 4432\n",
      "------------------------------------------------------------\n",
      "73 번째 구역에서 10분 간격안에 픽업 데이터가 없는 경우의 개수 4455\n",
      "------------------------------------------------------------\n",
      "74 번째 구역에서 10분 간격안에 픽업 데이터가 없는 경우의 개수 946\n",
      "------------------------------------------------------------\n",
      "75 번째 구역에서 10분 간격안에 픽업 데이터가 없는 경우의 개수 445\n",
      "------------------------------------------------------------\n",
      "76 번째 구역에서 10분 간격안에 픽업 데이터가 없는 경우의 개수 4357\n",
      "------------------------------------------------------------\n",
      "77 번째 구역에서 10분 간격안에 픽업 데이터가 없는 경우의 개수 4442\n",
      "------------------------------------------------------------\n",
      "78 번째 구역에서 10분 간격안에 픽업 데이터가 없는 경우의 개수 4437\n",
      "------------------------------------------------------------\n",
      "79 번째 구역에서 10분 간격안에 픽업 데이터가 없는 경우의 개수 -2\n",
      "------------------------------------------------------------\n",
      "80 번째 구역에서 10분 간격안에 픽업 데이터가 없는 경우의 개수 3435\n",
      "------------------------------------------------------------\n",
      "81 번째 구역에서 10분 간격안에 픽업 데이터가 없는 경우의 개수 4461\n",
      "------------------------------------------------------------\n",
      "82 번째 구역에서 10분 간격안에 픽업 데이터가 없는 경우의 개수 3951\n",
      "------------------------------------------------------------\n",
      "83 번째 구역에서 10분 간격안에 픽업 데이터가 없는 경우의 개수 4275\n",
      "------------------------------------------------------------\n",
      "84 번째 구역에서 10분 간격안에 픽업 데이터가 없는 경우의 개수 4464\n",
      "------------------------------------------------------------\n",
      "85 번째 구역에서 10분 간격안에 픽업 데이터가 없는 경우의 개수 4427\n",
      "------------------------------------------------------------\n",
      "86 번째 구역에서 10분 간격안에 픽업 데이터가 없는 경우의 개수 4463\n",
      "------------------------------------------------------------\n",
      "87 번째 구역에서 10분 간격안에 픽업 데이터가 없는 경우의 개수 224\n",
      "------------------------------------------------------------\n",
      "88 번째 구역에서 10분 간격안에 픽업 데이터가 없는 경우의 개수 627\n",
      "------------------------------------------------------------\n",
      "89 번째 구역에서 10분 간격안에 픽업 데이터가 없는 경우의 개수 4257\n",
      "------------------------------------------------------------\n",
      "90 번째 구역에서 10분 간격안에 픽업 데이터가 없는 경우의 개수 38\n",
      "------------------------------------------------------------\n",
      "91 번째 구역에서 10분 간격안에 픽업 데이터가 없는 경우의 개수 4410\n",
      "------------------------------------------------------------\n",
      "92 번째 구역에서 10분 간격안에 픽업 데이터가 없는 경우의 개수 4385\n",
      "------------------------------------------------------------\n",
      "93 번째 구역에서 10분 간격안에 픽업 데이터가 없는 경우의 개수 3948\n",
      "------------------------------------------------------------\n",
      "94 번째 구역에서 10분 간격안에 픽업 데이터가 없는 경우의 개수 4457\n",
      "------------------------------------------------------------\n",
      "95 번째 구역에서 10분 간격안에 픽업 데이터가 없는 경우의 개수 4020\n",
      "------------------------------------------------------------\n",
      "96 번째 구역에서 10분 간격안에 픽업 데이터가 없는 경우의 개수 4458\n",
      "------------------------------------------------------------\n",
      "97 번째 구역에서 10분 간격안에 픽업 데이터가 없는 경우의 개수 2273\n",
      "------------------------------------------------------------\n",
      "98 번째 구역에서 10분 간격안에 픽업 데이터가 없는 경우의 개수 4451\n",
      "------------------------------------------------------------\n",
      "99 번째 구역에서 10분 간격안에 픽업 데이터가 없는 경우의 개수 4464\n",
      "------------------------------------------------------------\n",
      "100 번째 구역에서 10분 간격안에 픽업 데이터가 없는 경우의 개수 44\n",
      "------------------------------------------------------------\n",
      "101 번째 구역에서 10분 간격안에 픽업 데이터가 없는 경우의 개수 4456\n",
      "------------------------------------------------------------\n",
      "102 번째 구역에서 10분 간격안에 픽업 데이터가 없는 경우의 개수 4445\n",
      "------------------------------------------------------------\n",
      "103 번째 구역에서 10분 간격안에 픽업 데이터가 없는 경우의 개수 4464\n",
      "------------------------------------------------------------\n",
      "104 번째 구역에서 10분 간격안에 픽업 데이터가 없는 경우의 개수 4464\n",
      "------------------------------------------------------------\n",
      "105 번째 구역에서 10분 간격안에 픽업 데이터가 없는 경우의 개수 4458\n",
      "------------------------------------------------------------\n",
      "106 번째 구역에서 10분 간격안에 픽업 데이터가 없는 경우의 개수 3813\n",
      "------------------------------------------------------------\n",
      "107 번째 구역에서 10분 간격안에 픽업 데이터가 없는 경우의 개수 27\n",
      "------------------------------------------------------------\n",
      "108 번째 구역에서 10분 간격안에 픽업 데이터가 없는 경우의 개수 4440\n",
      "------------------------------------------------------------\n",
      "109 번째 구역에서 10분 간격안에 픽업 데이터가 없는 경우의 개수 4464\n",
      "------------------------------------------------------------\n",
      "110 번째 구역에서 10분 간격안에 픽업 데이터가 없는 경우의 개수 4464\n",
      "------------------------------------------------------------\n",
      "111 번째 구역에서 10분 간격안에 픽업 데이터가 없는 경우의 개수 4459\n",
      "------------------------------------------------------------\n",
      "112 번째 구역에서 10분 간격안에 픽업 데이터가 없는 경우의 개수 3303\n",
      "------------------------------------------------------------\n",
      "113 번째 구역에서 10분 간격안에 픽업 데이터가 없는 경우의 개수 169\n",
      "------------------------------------------------------------\n",
      "114 번째 구역에서 10분 간격안에 픽업 데이터가 없는 경우의 개수 76\n",
      "------------------------------------------------------------\n",
      "115 번째 구역에서 10분 간격안에 픽업 데이터가 없는 경우의 개수 4464\n",
      "------------------------------------------------------------\n",
      "116 번째 구역에서 10분 간격안에 픽업 데이터가 없는 경우의 개수 2046\n",
      "------------------------------------------------------------\n",
      "117 번째 구역에서 10분 간격안에 픽업 데이터가 없는 경우의 개수 4460\n",
      "------------------------------------------------------------\n",
      "118 번째 구역에서 10분 간격안에 픽업 데이터가 없는 경우의 개수 4446\n",
      "------------------------------------------------------------\n",
      "119 번째 구역에서 10분 간격안에 픽업 데이터가 없는 경우의 개수 4317\n",
      "------------------------------------------------------------\n",
      "120 번째 구역에서 10분 간격안에 픽업 데이터가 없는 경우의 개수 4451\n",
      "------------------------------------------------------------\n",
      "121 번째 구역에서 10분 간격안에 픽업 데이터가 없는 경우의 개수 4427\n",
      "------------------------------------------------------------\n",
      "122 번째 구역에서 10분 간격안에 픽업 데이터가 없는 경우의 개수 4456\n",
      "------------------------------------------------------------\n",
      "123 번째 구역에서 10분 간격안에 픽업 데이터가 없는 경우의 개수 4410\n",
      "------------------------------------------------------------\n",
      "124 번째 구역에서 10분 간격안에 픽업 데이터가 없는 경우의 개수 4440\n",
      "------------------------------------------------------------\n",
      "125 번째 구역에서 10분 간격안에 픽업 데이터가 없는 경우의 개수 302\n",
      "------------------------------------------------------------\n",
      "126 번째 구역에서 10분 간격안에 픽업 데이터가 없는 경우의 개수 4404\n",
      "------------------------------------------------------------\n",
      "127 번째 구역에서 10분 간격안에 픽업 데이터가 없는 경우의 개수 4210\n",
      "------------------------------------------------------------\n",
      "128 번째 구역에서 10분 간격안에 픽업 데이터가 없는 경우의 개수 4446\n",
      "------------------------------------------------------------\n",
      "129 번째 구역에서 10분 간격안에 픽업 데이터가 없는 경우의 개수 3550\n",
      "------------------------------------------------------------\n",
      "130 번째 구역에서 10분 간격안에 픽업 데이터가 없는 경우의 개수 4102\n",
      "------------------------------------------------------------\n",
      "131 번째 구역에서 10분 간격안에 픽업 데이터가 없는 경우의 개수 4438\n",
      "------------------------------------------------------------\n",
      "132 번째 구역에서 10분 간격안에 픽업 데이터가 없는 경우의 개수 199\n",
      "------------------------------------------------------------\n",
      "133 번째 구역에서 10분 간격안에 픽업 데이터가 없는 경우의 개수 4334\n",
      "------------------------------------------------------------\n",
      "134 번째 구역에서 10분 간격안에 픽업 데이터가 없는 경우의 개수 4306\n",
      "------------------------------------------------------------\n",
      "135 번째 구역에서 10분 간격안에 픽업 데이터가 없는 경우의 개수 4405\n",
      "------------------------------------------------------------\n",
      "136 번째 구역에서 10분 간격안에 픽업 데이터가 없는 경우의 개수 4445\n",
      "------------------------------------------------------------\n",
      "137 번째 구역에서 10분 간격안에 픽업 데이터가 없는 경우의 개수 106\n",
      "------------------------------------------------------------\n",
      "138 번째 구역에서 10분 간격안에 픽업 데이터가 없는 경우의 개수 858\n",
      "------------------------------------------------------------\n",
      "139 번째 구역에서 10분 간격안에 픽업 데이터가 없는 경우의 개수 4459\n",
      "------------------------------------------------------------\n",
      "140 번째 구역에서 10분 간격안에 픽업 데이터가 없는 경우의 개수 137\n",
      "------------------------------------------------------------\n",
      "141 번째 구역에서 10분 간격안에 픽업 데이터가 없는 경우의 개수 36\n",
      "------------------------------------------------------------\n",
      "142 번째 구역에서 10분 간격안에 픽업 데이터가 없는 경우의 개수 75\n",
      "------------------------------------------------------------\n",
      "143 번째 구역에서 10분 간격안에 픽업 데이터가 없는 경우의 개수 371\n",
      "------------------------------------------------------------\n",
      "144 번째 구역에서 10분 간격안에 픽업 데이터가 없는 경우의 개수 248\n",
      "------------------------------------------------------------\n",
      "145 번째 구역에서 10분 간격안에 픽업 데이터가 없는 경우의 개수 2312\n",
      "------------------------------------------------------------\n",
      "146 번째 구역에서 10분 간격안에 픽업 데이터가 없는 경우의 개수 2081\n",
      "------------------------------------------------------------\n",
      "147 번째 구역에서 10분 간격안에 픽업 데이터가 없는 경우의 개수 4449\n",
      "------------------------------------------------------------\n",
      "148 번째 구역에서 10분 간격안에 픽업 데이터가 없는 경우의 개수 85\n",
      "------------------------------------------------------------\n",
      "149 번째 구역에서 10분 간격안에 픽업 데이터가 없는 경우의 개수 4448\n",
      "------------------------------------------------------------\n",
      "150 번째 구역에서 10분 간격안에 픽업 데이터가 없는 경우의 개수 4451\n",
      "------------------------------------------------------------\n",
      "151 번째 구역에서 10분 간격안에 픽업 데이터가 없는 경우의 개수 409\n",
      "------------------------------------------------------------\n",
      "152 번째 구역에서 10분 간격안에 픽업 데이터가 없는 경우의 개수 2334\n",
      "------------------------------------------------------------\n",
      "153 번째 구역에서 10분 간격안에 픽업 데이터가 없는 경우의 개수 4457\n",
      "------------------------------------------------------------\n",
      "154 번째 구역에서 10분 간격안에 픽업 데이터가 없는 경우의 개수 4459\n",
      "------------------------------------------------------------\n",
      "155 번째 구역에서 10분 간격안에 픽업 데이터가 없는 경우의 개수 4445\n",
      "------------------------------------------------------------\n",
      "156 번째 구역에서 10분 간격안에 픽업 데이터가 없는 경우의 개수 4464\n",
      "------------------------------------------------------------\n",
      "157 번째 구역에서 10분 간격안에 픽업 데이터가 없는 경우의 개수 4299\n",
      "------------------------------------------------------------\n",
      "158 번째 구역에서 10분 간격안에 픽업 데이터가 없는 경우의 개수 196\n",
      "------------------------------------------------------------\n",
      "159 번째 구역에서 10분 간격안에 픽업 데이터가 없는 경우의 개수 4393\n",
      "------------------------------------------------------------\n",
      "160 번째 구역에서 10분 간격안에 픽업 데이터가 없는 경우의 개수 4412\n",
      "------------------------------------------------------------\n",
      "161 번째 구역에서 10분 간격안에 픽업 데이터가 없는 경우의 개수 28\n",
      "------------------------------------------------------------\n",
      "162 번째 구역에서 10분 간격안에 픽업 데이터가 없는 경우의 개수 31\n",
      "------------------------------------------------------------\n",
      "163 번째 구역에서 10분 간격안에 픽업 데이터가 없는 경우의 개수 37\n",
      "------------------------------------------------------------\n",
      "164 번째 구역에서 10분 간격안에 픽업 데이터가 없는 경우의 개수 19\n",
      "------------------------------------------------------------\n",
      "165 번째 구역에서 10분 간격안에 픽업 데이터가 없는 경우의 개수 4422\n",
      "------------------------------------------------------------\n",
      "166 번째 구역에서 10분 간격안에 픽업 데이터가 없는 경우의 개수 479\n",
      "------------------------------------------------------------\n",
      "167 번째 구역에서 10분 간격안에 픽업 데이터가 없는 경우의 개수 4430\n",
      "------------------------------------------------------------\n",
      "168 번째 구역에서 10분 간격안에 픽업 데이터가 없는 경우의 개수 4154\n",
      "------------------------------------------------------------\n",
      "169 번째 구역에서 10분 간격안에 픽업 데이터가 없는 경우의 개수 4450\n",
      "------------------------------------------------------------\n",
      "170 번째 구역에서 10분 간격안에 픽업 데이터가 없는 경우의 개수 37\n",
      "------------------------------------------------------------\n",
      "171 번째 구역에서 10분 간격안에 픽업 데이터가 없는 경우의 개수 4448\n",
      "------------------------------------------------------------\n",
      "172 번째 구역에서 10분 간격안에 픽업 데이터가 없는 경우의 개수 4464\n",
      "------------------------------------------------------------\n",
      "173 번째 구역에서 10분 간격안에 픽업 데이터가 없는 경우의 개수 4428\n",
      "------------------------------------------------------------\n",
      "174 번째 구역에서 10분 간격안에 픽업 데이터가 없는 경우의 개수 4441\n",
      "------------------------------------------------------------\n",
      "175 번째 구역에서 10분 간격안에 픽업 데이터가 없는 경우의 개수 4457\n",
      "------------------------------------------------------------\n",
      "176 번째 구역에서 10분 간격안에 픽업 데이터가 없는 경우의 개수 4464\n",
      "------------------------------------------------------------\n",
      "177 번째 구역에서 10분 간격안에 픽업 데이터가 없는 경우의 개수 4410\n",
      "------------------------------------------------------------\n",
      "178 번째 구역에서 10분 간격안에 픽업 데이터가 없는 경우의 개수 4438\n",
      "------------------------------------------------------------\n",
      "179 번째 구역에서 10분 간격안에 픽업 데이터가 없는 경우의 개수 3014\n",
      "------------------------------------------------------------\n",
      "180 번째 구역에서 10분 간격안에 픽업 데이터가 없는 경우의 개수 4441\n",
      "------------------------------------------------------------\n",
      "181 번째 구역에서 10분 간격안에 픽업 데이터가 없는 경우의 개수 2046\n",
      "------------------------------------------------------------\n",
      "182 번째 구역에서 10분 간격안에 픽업 데이터가 없는 경우의 개수 4421\n",
      "------------------------------------------------------------\n",
      "183 번째 구역에서 10분 간격안에 픽업 데이터가 없는 경우의 개수 4457\n",
      "------------------------------------------------------------\n",
      "184 번째 구역에서 10분 간격안에 픽업 데이터가 없는 경우의 개수 4464\n",
      "------------------------------------------------------------\n",
      "185 번째 구역에서 10분 간격안에 픽업 데이터가 없는 경우의 개수 4451\n",
      "------------------------------------------------------------\n",
      "186 번째 구역에서 10분 간격안에 픽업 데이터가 없는 경우의 개수 46\n",
      "------------------------------------------------------------\n",
      "187 번째 구역에서 10분 간격안에 픽업 데이터가 없는 경우의 개수 4464\n",
      "------------------------------------------------------------\n",
      "188 번째 구역에서 10분 간격안에 픽업 데이터가 없는 경우의 개수 4238\n",
      "------------------------------------------------------------\n",
      "189 번째 구역에서 10분 간격안에 픽업 데이터가 없는 경우의 개수 3504\n",
      "------------------------------------------------------------\n",
      "190 번째 구역에서 10분 간격안에 픽업 데이터가 없는 경우의 개수 4341\n",
      "------------------------------------------------------------\n",
      "191 번째 구역에서 10분 간격안에 픽업 데이터가 없는 경우의 개수 4445\n",
      "------------------------------------------------------------\n",
      "192 번째 구역에서 10분 간격안에 픽업 데이터가 없는 경우의 개수 4446\n",
      "------------------------------------------------------------\n",
      "193 번째 구역에서 10분 간격안에 픽업 데이터가 없는 경우의 개수 3696\n",
      "------------------------------------------------------------\n",
      "194 번째 구역에서 10분 간격안에 픽업 데이터가 없는 경우의 개수 4298\n",
      "------------------------------------------------------------\n",
      "195 번째 구역에서 10분 간격안에 픽업 데이터가 없는 경우의 개수 4308\n",
      "------------------------------------------------------------\n",
      "196 번째 구역에서 10분 간격안에 픽업 데이터가 없는 경우의 개수 4256\n",
      "------------------------------------------------------------\n",
      "197 번째 구역에서 10분 간격안에 픽업 데이터가 없는 경우의 개수 4368\n",
      "------------------------------------------------------------\n",
      "198 번째 구역에서 10분 간격안에 픽업 데이터가 없는 경우의 개수 4374\n",
      "------------------------------------------------------------\n",
      "199 번째 구역에서 10분 간격안에 픽업 데이터가 없는 경우의 개수 4462\n",
      "------------------------------------------------------------\n",
      "200 번째 구역에서 10분 간격안에 픽업 데이터가 없는 경우의 개수 4439\n",
      "------------------------------------------------------------\n",
      "201 번째 구역에서 10분 간격안에 픽업 데이터가 없는 경우의 개수 4463\n",
      "------------------------------------------------------------\n",
      "202 번째 구역에서 10분 간격안에 픽업 데이터가 없는 경우의 개수 4358\n",
      "------------------------------------------------------------\n",
      "203 번째 구역에서 10분 간격안에 픽업 데이터가 없는 경우의 개수 4450\n",
      "------------------------------------------------------------\n",
      "204 번째 구역에서 10분 간격안에 픽업 데이터가 없는 경우의 개수 4464\n",
      "------------------------------------------------------------\n",
      "205 번째 구역에서 10분 간격안에 픽업 데이터가 없는 경우의 개수 4445\n",
      "------------------------------------------------------------\n",
      "206 번째 구역에서 10분 간격안에 픽업 데이터가 없는 경우의 개수 4460\n",
      "------------------------------------------------------------\n",
      "207 번째 구역에서 10분 간격안에 픽업 데이터가 없는 경우의 개수 4390\n",
      "------------------------------------------------------------\n",
      "208 번째 구역에서 10분 간격안에 픽업 데이터가 없는 경우의 개수 4454\n",
      "------------------------------------------------------------\n",
      "209 번째 구역에서 10분 간격안에 픽업 데이터가 없는 경우의 개수 1186\n",
      "------------------------------------------------------------\n",
      "210 번째 구역에서 10분 간격안에 픽업 데이터가 없는 경우의 개수 4435\n",
      "------------------------------------------------------------\n",
      "211 번째 구역에서 10분 간격안에 픽업 데이터가 없는 경우의 개수 395\n",
      "------------------------------------------------------------\n",
      "212 번째 구역에서 10분 간격안에 픽업 데이터가 없는 경우의 개수 4425\n",
      "------------------------------------------------------------\n",
      "213 번째 구역에서 10분 간격안에 픽업 데이터가 없는 경우의 개수 4437\n",
      "------------------------------------------------------------\n",
      "214 번째 구역에서 10분 간격안에 픽업 데이터가 없는 경우의 개수 4464\n",
      "------------------------------------------------------------\n",
      "215 번째 구역에서 10분 간격안에 픽업 데이터가 없는 경우의 개수 4094\n",
      "------------------------------------------------------------\n",
      "216 번째 구역에서 10분 간격안에 픽업 데이터가 없는 경우의 개수 4245\n",
      "------------------------------------------------------------\n",
      "217 번째 구역에서 10분 간격안에 픽업 데이터가 없는 경우의 개수 4259\n",
      "------------------------------------------------------------\n",
      "218 번째 구역에서 10분 간격안에 픽업 데이터가 없는 경우의 개수 4452\n",
      "------------------------------------------------------------\n",
      "219 번째 구역에서 10분 간격안에 픽업 데이터가 없는 경우의 개수 4223\n",
      "------------------------------------------------------------\n",
      "220 번째 구역에서 10분 간격안에 픽업 데이터가 없는 경우의 개수 4428\n",
      "------------------------------------------------------------\n",
      "221 번째 구역에서 10분 간격안에 픽업 데이터가 없는 경우의 개수 4464\n",
      "------------------------------------------------------------\n",
      "222 번째 구역에서 10분 간격안에 픽업 데이터가 없는 경우의 개수 4448\n",
      "------------------------------------------------------------\n",
      "223 번째 구역에서 10분 간격안에 픽업 데이터가 없는 경우의 개수 3037\n",
      "------------------------------------------------------------\n",
      "224 번째 구역에서 10분 간격안에 픽업 데이터가 없는 경우의 개수 839\n",
      "------------------------------------------------------------\n",
      "225 번째 구역에서 10분 간격안에 픽업 데이터가 없는 경우의 개수 4233\n",
      "------------------------------------------------------------\n",
      "226 번째 구역에서 10분 간격안에 픽업 데이터가 없는 경우의 개수 1578\n",
      "------------------------------------------------------------\n",
      "227 번째 구역에서 10분 간격안에 픽업 데이터가 없는 경우의 개수 4434\n",
      "------------------------------------------------------------\n",
      "228 번째 구역에서 10분 간격안에 픽업 데이터가 없는 경우의 개수 4110\n",
      "------------------------------------------------------------\n",
      "229 번째 구역에서 10분 간격안에 픽업 데이터가 없는 경우의 개수 72\n",
      "------------------------------------------------------------\n",
      "230 번째 구역에서 10분 간격안에 픽업 데이터가 없는 경우의 개수 3\n",
      "------------------------------------------------------------\n",
      "231 번째 구역에서 10분 간격안에 픽업 데이터가 없는 경우의 개수 76\n",
      "------------------------------------------------------------\n",
      "232 번째 구역에서 10분 간격안에 픽업 데이터가 없는 경우의 개수 1371\n",
      "------------------------------------------------------------\n",
      "233 번째 구역에서 10분 간격안에 픽업 데이터가 없는 경우의 개수 194\n",
      "------------------------------------------------------------\n",
      "234 번째 구역에서 10분 간격안에 픽업 데이터가 없는 경우의 개수 36\n",
      "------------------------------------------------------------\n",
      "235 번째 구역에서 10분 간격안에 픽업 데이터가 없는 경우의 개수 4406\n",
      "------------------------------------------------------------\n",
      "236 번째 구역에서 10분 간격안에 픽업 데이터가 없는 경우의 개수 174\n",
      "------------------------------------------------------------\n",
      "237 번째 구역에서 10분 간격안에 픽업 데이터가 없는 경우의 개수 124\n",
      "------------------------------------------------------------\n",
      "238 번째 구역에서 10분 간격안에 픽업 데이터가 없는 경우의 개수 155\n",
      "------------------------------------------------------------\n",
      "239 번째 구역에서 10분 간격안에 픽업 데이터가 없는 경우의 개수 103\n",
      "------------------------------------------------------------\n",
      "240 번째 구역에서 10분 간격안에 픽업 데이터가 없는 경우의 개수 4460\n",
      "------------------------------------------------------------\n",
      "241 번째 구역에서 10분 간격안에 픽업 데이터가 없는 경우의 개수 4448\n",
      "------------------------------------------------------------\n",
      "242 번째 구역에서 10분 간격안에 픽업 데이터가 없는 경우의 개수 4445\n",
      "------------------------------------------------------------\n",
      "243 번째 구역에서 10분 간격안에 픽업 데이터가 없는 경우의 개수 3923\n",
      "------------------------------------------------------------\n",
      "244 번째 구역에서 10분 간격안에 픽업 데이터가 없는 경우의 개수 2291\n",
      "------------------------------------------------------------\n",
      "245 번째 구역에서 10분 간격안에 픽업 데이터가 없는 경우의 개수 4463\n",
      "------------------------------------------------------------\n",
      "246 번째 구역에서 10분 간격안에 픽업 데이터가 없는 경우의 개수 130\n",
      "------------------------------------------------------------\n",
      "247 번째 구역에서 10분 간격안에 픽업 데이터가 없는 경우의 개수 4125\n",
      "------------------------------------------------------------\n",
      "248 번째 구역에서 10분 간격안에 픽업 데이터가 없는 경우의 개수 4423\n",
      "------------------------------------------------------------\n",
      "249 번째 구역에서 10분 간격안에 픽업 데이터가 없는 경우의 개수 10\n",
      "------------------------------------------------------------\n",
      "250 번째 구역에서 10분 간격안에 픽업 데이터가 없는 경우의 개수 4440\n",
      "------------------------------------------------------------\n",
      "251 번째 구역에서 10분 간격안에 픽업 데이터가 없는 경우의 개수 4463\n",
      "------------------------------------------------------------\n",
      "252 번째 구역에서 10분 간격안에 픽업 데이터가 없는 경우의 개수 4449\n",
      "------------------------------------------------------------\n",
      "253 번째 구역에서 10분 간격안에 픽업 데이터가 없는 경우의 개수 4457\n",
      "------------------------------------------------------------\n",
      "254 번째 구역에서 10분 간격안에 픽업 데이터가 없는 경우의 개수 4437\n",
      "------------------------------------------------------------\n",
      "255 번째 구역에서 10분 간격안에 픽업 데이터가 없는 경우의 개수 2420\n",
      "------------------------------------------------------------\n",
      "256 번째 구역에서 10분 간격안에 픽업 데이터가 없는 경우의 개수 2683\n",
      "------------------------------------------------------------\n",
      "257 번째 구역에서 10분 간격안에 픽업 데이터가 없는 경우의 개수 4344\n",
      "------------------------------------------------------------\n",
      "258 번째 구역에서 10분 간격안에 픽업 데이터가 없는 경우의 개수 4440\n",
      "------------------------------------------------------------\n",
      "259 번째 구역에서 10분 간격안에 픽업 데이터가 없는 경우의 개수 4445\n",
      "------------------------------------------------------------\n",
      "260 번째 구역에서 10분 간격안에 픽업 데이터가 없는 경우의 개수 3291\n",
      "------------------------------------------------------------\n",
      "261 번째 구역에서 10분 간격안에 픽업 데이터가 없는 경우의 개수 439\n",
      "------------------------------------------------------------\n",
      "262 번째 구역에서 10분 간격안에 픽업 데이터가 없는 경우의 개수 393\n",
      "------------------------------------------------------------\n",
      "263 번째 구역에서 10분 간격안에 픽업 데이터가 없는 경우의 개수 71\n",
      "------------------------------------------------------------\n",
      "264 번째 구역에서 10분 간격안에 픽업 데이터가 없는 경우의 개수 67\n",
      "------------------------------------------------------------\n",
      "265 번째 구역에서 10분 간격안에 픽업 데이터가 없는 경우의 개수 3984\n",
      "------------------------------------------------------------\n"
     ]
    }
   ],
   "source": [
    "# 31일 * 24시간 * 60분 / 10분 = 4464\n",
    "for i in range(1, 266):\n",
    "    print(i, \"번째 구역에서 10분 간격안에 픽업 데이터가 없는 경우의 개수\", 4464-len(set(jan_2018_unique[i-1])))\n",
    "    print(\"-\"* 60)"
   ]
  },
  {
   "cell_type": "markdown",
   "metadata": {},
   "source": [
    "지역간 편차 큰거 같음"
   ]
  },
  {
   "cell_type": "code",
   "execution_count": 148,
   "metadata": {},
   "outputs": [],
   "source": [
    "# 탑승 기록이 없으면 0으로 채우기\n",
    "# count_values: 각 지역 각 10분 간격에 픽업 수\n",
    "# values: 픽업 기록이 있는 간격의 set\n",
    "def fill_missing(count_values, values):\n",
    "    smoothed_regions = []\n",
    "    ind = 0\n",
    "    for r in range(1, 266): # 각 구역마다\n",
    "        smoothed_bins = []\n",
    "        for i in range(4464):\n",
    "            if i in values[r-1]: # interval 안에 탑승 기록이 있으면\n",
    "                smoothed_bins.append(count_values[ind])\n",
    "                ind += 1\n",
    "            else: # interval 안에 탑승 기록이 없으면\n",
    "                smoothed_bins.append(0)\n",
    "        smoothed_regions.extend(smoothed_bins)\n",
    "    return smoothed_regions"
   ]
  },
  {
   "cell_type": "code",
   "execution_count": 161,
   "metadata": {},
   "outputs": [],
   "source": [
    "# 빈값을 평균으로 채우기\n",
    "# interval 안에 pickup 기록이 없다면\n",
    "# pickup 기록이 있는 자신과 가장 가까운 양 끝값을 이용하여 평균을 구함\n",
    "def smoothing(count_values,values):\n",
    "    smoothed_regions=[] # 각 지역마다 최종 smoothed 값을 저장할 리스트\n",
    "    ind=0\n",
    "    repeat=0 \n",
    "    smoothed_value=0\n",
    "    for r in range(1,266): # 지역마다\n",
    "        smoothed_bins=[] # 최종 smoothed 값을 저장할 리스트\n",
    "        repeat=0\n",
    "        for i in range(4464): # interval 마다\n",
    "            if repeat!=0: # 같은 interval을 여러 번 계산 방지\n",
    "                repeat-=1\n",
    "                continue\n",
    "            if i in values[r-1]: # interval 안에 픽업 기록이 존재하면\n",
    "                smoothed_bins.append(count_values[ind]) # interval을 리스트에 추가\n",
    "            else:\n",
    "                if i!=0: # 첫 구간이 아니면 (left~rigth or right~끝)\n",
    "                    right_hand_limit=0\n",
    "                    for j in range(i,4464):\n",
    "                        if  j not in values[r-1]: # interval안에 픽업이 없는 경우 평균값으로 채워져야 하므로 넘어감\n",
    "                            continue\n",
    "                        else:\n",
    "                            right_hand_limit=j # interval안에 픽업이 존재하는 경우에 right_limit이 됨\n",
    "                            break\n",
    "                    if right_hand_limit==0:\n",
    "                    #Case 1: right~끝\n",
    "                        smoothed_value=count_values[ind-1]*1.0/((4463-i)+2)*1.0                               \n",
    "                        for j in range(i,4464): # right~끝까지 평균으로 채우기              \n",
    "                            smoothed_bins.append(math.ceil(smoothed_value))\n",
    "                        smoothed_bins[i-1] = math.ceil(smoothed_value)\n",
    "                        repeat=(4463-i)\n",
    "                        ind-=1\n",
    "                    else:\n",
    "                    #Case 2: left~right\n",
    "                        smoothed_value=(count_values[ind-1]+count_values[ind])*1.0/((right_hand_limit-i)+2)*1.0             \n",
    "                        for j in range(i,right_hand_limit+1): # left~right까지 평균으로 채우기   \n",
    "                            smoothed_bins.append(math.ceil(smoothed_value))\n",
    "                        smoothed_bins[i-1] = math.ceil(smoothed_value)\n",
    "                        repeat=(right_hand_limit-i)\n",
    "                else:\n",
    "                    #Case 3: 처음~right\n",
    "                    right_hand_limit=0\n",
    "                    for j in range(i,4464):\n",
    "                        if  j not in values[r-1]:\n",
    "                            continue\n",
    "                        else:\n",
    "                            right_hand_limit=j # interval 안에 픽업이 존재하는 경우 right가 됨\n",
    "                            break\n",
    "                    smoothed_value=count_values[ind]*1.0/((right_hand_limit-i)+1)*1.0\n",
    "                    for j in range(i,right_hand_limit+1):# 처음~left까지 평균으로 채우기\n",
    "                            smoothed_bins.append(math.ceil(smoothed_value))\n",
    "                    repeat=(right_hand_limit-i)\n",
    "            ind+=1\n",
    "        smoothed_regions.extend(smoothed_bins)\n",
    "    return smoothed_regions"
   ]
  },
  {
   "cell_type": "code",
   "execution_count": 162,
   "metadata": {},
   "outputs": [],
   "source": [
    "jan_2018_fill = fill_missing(jan_2018_groupby['trip_distance'].values , jan_2018_unique)"
   ]
  },
  {
   "cell_type": "code",
   "execution_count": 164,
   "metadata": {},
   "outputs": [],
   "source": [
    "jan_2018_smooth = smoothing(jan_2018_groupby['trip_distance'].values, jan_2018_unique)"
   ]
  },
  {
   "cell_type": "code",
   "execution_count": 166,
   "metadata": {},
   "outputs": [
    {
     "name": "stdout",
     "output_type": "stream",
     "text": [
      "모든 클러스터 사이에 10분 interval 수 1182960\n"
     ]
    }
   ],
   "source": [
    "# 2018 1월 = 4464\n",
    "# 2019 1월 = 4464\n",
    "# 2019 2월 = 4032\n",
    "# 2019 3월 = 4320\n",
    "# 4464 * 255 = 1,182,960\n",
    "print(\"모든 클러스터 사이에 10분 interval 수\", len(jan_2018_fill))"
   ]
  },
  {
   "cell_type": "code",
   "execution_count": 167,
   "metadata": {},
   "outputs": [
    {
     "data": {
      "image/png": "[encoded data removed]",
      "text/plain": [
       "<Figure size 1000x500 with 1 Axes>"
      ]
     },
     "metadata": {},
     "output_type": "display_data"
    }
   ],
   "source": [
    "plt.figure(figsize=(10, 5))\n",
    "plt.plot(jan_2018_fill[4464:8920], label = \"zero filled values\")\n",
    "plt.plot(jan_2018_smooth[4464:8920], label=\"filled with avg values\")\n",
    "plt.legend()\n",
    "plt.show()"
   ]
  },
  {
   "cell_type": "code",
   "execution_count": null,
   "metadata": {},
   "outputs": [],
   "source": []
  }
 ],
 "metadata": {
  "kernelspec": {
   "display_name": "Python 3.10.2 64-bit",
   "language": "python",
   "name": "python3"
  },
  "language_info": {
   "codemirror_mode": {
    "name": "ipython",
    "version": 3
   },
   "file_extension": ".py",
   "mimetype": "text/x-python",
   "name": "python",
   "nbconvert_exporter": "python",
   "pygments_lexer": "ipython3",
   "version": "3.10.2"
  },
  "orig_nbformat": 4,
  "vscode": {
   "interpreter": {
    "hash": "2a4346d64cb42476a551e7595e0385aacee0262d177edc52296f761023fa4e68"
   }
  }
 },
 "nbformat": 4,
 "nbformat_minor": 2
}
