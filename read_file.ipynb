{
 "cells": [
  {
   "cell_type": "markdown",
   "metadata": {},
   "source": [
    "newyork taxt data analysis: https://github.com/swapnanilsharma/Taxi-demand-prediction-in-New-York-City/blob/master/NYC%20Final.ipynb"
   ]
  },
  {
   "cell_type": "code",
   "execution_count": 2,
   "metadata": {},
   "outputs": [],
   "source": [
    "import matplotlib.pyplot as plt\n",
    "import dask.dataframe as dd#similar to pandas\n",
    "import pandas as pd\n",
    "import datetime #Convert to unix time\n",
    "import time #Convert to unix \n",
    "import numpy as np\n",
    "import seaborn as sns#Plots"
   ]
  },
  {
   "cell_type": "code",
   "execution_count": 3,
   "metadata": {},
   "outputs": [
    {
     "name": "stdout",
     "output_type": "stream",
     "text": [
      "         VendorID tpep_pickup_datetime tpep_dropoff_datetime  passenger_count  \\\n",
      "0               1  2018-01-01 00:21:05   2018-01-01 00:24:23                1   \n",
      "1               1  2018-01-01 00:44:55   2018-01-01 01:03:05                1   \n",
      "2               1  2018-01-01 00:08:26   2018-01-01 00:14:21                2   \n",
      "3               1  2018-01-01 00:20:22   2018-01-01 00:52:51                1   \n",
      "4               1  2018-01-01 00:09:18   2018-01-01 00:27:06                2   \n",
      "...           ...                  ...                   ...              ...   \n",
      "8760682         1  2018-01-31 23:21:35   2018-01-31 23:34:20                2   \n",
      "8760683         1  2018-01-31 23:35:51   2018-01-31 23:38:57                1   \n",
      "8760684         2  2018-01-31 23:28:00   2018-01-31 23:37:09                1   \n",
      "8760685         2  2018-01-31 23:24:40   2018-01-31 23:25:28                1   \n",
      "8760686         2  2018-01-31 23:28:16   2018-01-31 23:28:38                1   \n",
      "\n",
      "         trip_distance  RatecodeID store_and_fwd_flag  PULocationID  \\\n",
      "0                 0.50           1                  N            41   \n",
      "1                 2.70           1                  N           239   \n",
      "2                 0.80           1                  N           262   \n",
      "3                10.20           1                  N           140   \n",
      "4                 2.50           1                  N           246   \n",
      "...                ...         ...                ...           ...   \n",
      "8760682           2.80           1                  N           158   \n",
      "8760683           0.60           1                  N           163   \n",
      "8760684           2.95           1                  N            74   \n",
      "8760685           0.00           1                  N             7   \n",
      "8760686           0.00           1                  N             7   \n",
      "\n",
      "         DOLocationID  payment_type  fare_amount  extra  mta_tax  tip_amount  \\\n",
      "0                  24             2          4.5    0.5      0.5        0.00   \n",
      "1                 140             2         14.0    0.5      0.5        0.00   \n",
      "2                 141             1          6.0    0.5      0.5        1.00   \n",
      "3                 257             2         33.5    0.5      0.5        0.00   \n",
      "4                 239             1         12.5    0.5      0.5        2.75   \n",
      "...               ...           ...          ...    ...      ...         ...   \n",
      "8760682           163             1         12.0    0.5      0.5        2.65   \n",
      "8760683           162             1          4.5    0.5      0.5        1.15   \n",
      "8760684            69             2         10.5    0.5      0.5        0.00   \n",
      "8760685           193             2          0.0    0.0      0.0        0.00   \n",
      "8760686           193             2          0.0    0.0      0.0        0.00   \n",
      "\n",
      "         tolls_amount  improvement_surcharge  total_amount  \\\n",
      "0                 0.0                    0.3          5.80   \n",
      "1                 0.0                    0.3         15.30   \n",
      "2                 0.0                    0.3          8.30   \n",
      "3                 0.0                    0.3         34.80   \n",
      "4                 0.0                    0.3         16.55   \n",
      "...               ...                    ...           ...   \n",
      "8760682           0.0                    0.3         15.95   \n",
      "8760683           0.0                    0.3          6.95   \n",
      "8760684           0.0                    0.3         11.80   \n",
      "8760685           0.0                    0.0          0.00   \n",
      "8760686           0.0                    0.0          0.00   \n",
      "\n",
      "         congestion_surcharge  airport_fee  \n",
      "0                         NaN          NaN  \n",
      "1                         NaN          NaN  \n",
      "2                         NaN          NaN  \n",
      "3                         NaN          NaN  \n",
      "4                         NaN          NaN  \n",
      "...                       ...          ...  \n",
      "8760682                   NaN          NaN  \n",
      "8760683                   NaN          NaN  \n",
      "8760684                   NaN          NaN  \n",
      "8760685                   NaN          NaN  \n",
      "8760686                   NaN          NaN  \n",
      "\n",
      "[8760687 rows x 19 columns]\n"
     ]
    }
   ],
   "source": [
    "# 데이터 열기\n",
    "pd.set_option('display.max_columns', None)\n",
    "\n",
    "month = pd.read_parquet('yellow_tripdata_2018-01.parquet',engine='pyarrow')\n",
    "\n",
    "print(month)"
   ]
  },
  {
   "cell_type": "code",
   "execution_count": 4,
   "metadata": {},
   "outputs": [
    {
     "data": {
      "text/plain": [
       "VendorID                 8760687\n",
       "tpep_pickup_datetime     8760687\n",
       "tpep_dropoff_datetime    8760687\n",
       "passenger_count          8760687\n",
       "trip_distance            8760687\n",
       "RatecodeID               8760687\n",
       "store_and_fwd_flag       8760687\n",
       "PULocationID             8760687\n",
       "DOLocationID             8760687\n",
       "payment_type             8760687\n",
       "fare_amount              8760687\n",
       "extra                    8760687\n",
       "mta_tax                  8760687\n",
       "tip_amount               8760687\n",
       "tolls_amount             8760687\n",
       "improvement_surcharge    8760687\n",
       "total_amount             8760687\n",
       "congestion_surcharge          12\n",
       "airport_fee                   12\n",
       "dtype: int64"
      ]
     },
     "execution_count": 4,
     "metadata": {},
     "output_type": "execute_result"
    }
   ],
   "source": [
    "# 널값 아닌 데이터 수\n",
    "month.notnull().sum()"
   ]
  },
  {
   "cell_type": "code",
   "execution_count": 7,
   "metadata": {},
   "outputs": [
    {
     "name": "stdout",
     "output_type": "stream",
     "text": [
      "(8760687, 19)\n"
     ]
    }
   ],
   "source": [
    "print(month.shape)"
   ]
  },
  {
   "cell_type": "code",
   "execution_count": 13,
   "metadata": {},
   "outputs": [
    {
     "data": {
      "text/html": [
       "<div>\n",
       "<style scoped>\n",
       "    .dataframe tbody tr th:only-of-type {\n",
       "        vertical-align: middle;\n",
       "    }\n",
       "\n",
       "    .dataframe tbody tr th {\n",
       "        vertical-align: top;\n",
       "    }\n",
       "\n",
       "    .dataframe thead th {\n",
       "        text-align: right;\n",
       "    }\n",
       "</style>\n",
       "<table border=\"1\" class=\"dataframe\">\n",
       "  <thead>\n",
       "    <tr style=\"text-align: right;\">\n",
       "      <th></th>\n",
       "      <th>VendorID</th>\n",
       "      <th>tpep_pickup_datetime</th>\n",
       "      <th>tpep_dropoff_datetime</th>\n",
       "      <th>passenger_count</th>\n",
       "      <th>trip_distance</th>\n",
       "      <th>RatecodeID</th>\n",
       "      <th>store_and_fwd_flag</th>\n",
       "      <th>PULocationID</th>\n",
       "      <th>DOLocationID</th>\n",
       "      <th>payment_type</th>\n",
       "      <th>fare_amount</th>\n",
       "      <th>extra</th>\n",
       "      <th>mta_tax</th>\n",
       "      <th>tip_amount</th>\n",
       "      <th>tolls_amount</th>\n",
       "      <th>improvement_surcharge</th>\n",
       "      <th>total_amount</th>\n",
       "      <th>congestion_surcharge</th>\n",
       "      <th>airport_fee</th>\n",
       "    </tr>\n",
       "  </thead>\n",
       "  <tbody>\n",
       "    <tr>\n",
       "      <th>0</th>\n",
       "      <td>1</td>\n",
       "      <td>2018-01-01 00:21:05</td>\n",
       "      <td>2018-01-01 00:24:23</td>\n",
       "      <td>1</td>\n",
       "      <td>0.5</td>\n",
       "      <td>1</td>\n",
       "      <td>N</td>\n",
       "      <td>41</td>\n",
       "      <td>24</td>\n",
       "      <td>2</td>\n",
       "      <td>4.5</td>\n",
       "      <td>0.5</td>\n",
       "      <td>0.5</td>\n",
       "      <td>0.00</td>\n",
       "      <td>0.0</td>\n",
       "      <td>0.3</td>\n",
       "      <td>5.80</td>\n",
       "      <td>NaN</td>\n",
       "      <td>NaN</td>\n",
       "    </tr>\n",
       "    <tr>\n",
       "      <th>1</th>\n",
       "      <td>1</td>\n",
       "      <td>2018-01-01 00:44:55</td>\n",
       "      <td>2018-01-01 01:03:05</td>\n",
       "      <td>1</td>\n",
       "      <td>2.7</td>\n",
       "      <td>1</td>\n",
       "      <td>N</td>\n",
       "      <td>239</td>\n",
       "      <td>140</td>\n",
       "      <td>2</td>\n",
       "      <td>14.0</td>\n",
       "      <td>0.5</td>\n",
       "      <td>0.5</td>\n",
       "      <td>0.00</td>\n",
       "      <td>0.0</td>\n",
       "      <td>0.3</td>\n",
       "      <td>15.30</td>\n",
       "      <td>NaN</td>\n",
       "      <td>NaN</td>\n",
       "    </tr>\n",
       "    <tr>\n",
       "      <th>2</th>\n",
       "      <td>1</td>\n",
       "      <td>2018-01-01 00:08:26</td>\n",
       "      <td>2018-01-01 00:14:21</td>\n",
       "      <td>2</td>\n",
       "      <td>0.8</td>\n",
       "      <td>1</td>\n",
       "      <td>N</td>\n",
       "      <td>262</td>\n",
       "      <td>141</td>\n",
       "      <td>1</td>\n",
       "      <td>6.0</td>\n",
       "      <td>0.5</td>\n",
       "      <td>0.5</td>\n",
       "      <td>1.00</td>\n",
       "      <td>0.0</td>\n",
       "      <td>0.3</td>\n",
       "      <td>8.30</td>\n",
       "      <td>NaN</td>\n",
       "      <td>NaN</td>\n",
       "    </tr>\n",
       "    <tr>\n",
       "      <th>3</th>\n",
       "      <td>1</td>\n",
       "      <td>2018-01-01 00:20:22</td>\n",
       "      <td>2018-01-01 00:52:51</td>\n",
       "      <td>1</td>\n",
       "      <td>10.2</td>\n",
       "      <td>1</td>\n",
       "      <td>N</td>\n",
       "      <td>140</td>\n",
       "      <td>257</td>\n",
       "      <td>2</td>\n",
       "      <td>33.5</td>\n",
       "      <td>0.5</td>\n",
       "      <td>0.5</td>\n",
       "      <td>0.00</td>\n",
       "      <td>0.0</td>\n",
       "      <td>0.3</td>\n",
       "      <td>34.80</td>\n",
       "      <td>NaN</td>\n",
       "      <td>NaN</td>\n",
       "    </tr>\n",
       "    <tr>\n",
       "      <th>4</th>\n",
       "      <td>1</td>\n",
       "      <td>2018-01-01 00:09:18</td>\n",
       "      <td>2018-01-01 00:27:06</td>\n",
       "      <td>2</td>\n",
       "      <td>2.5</td>\n",
       "      <td>1</td>\n",
       "      <td>N</td>\n",
       "      <td>246</td>\n",
       "      <td>239</td>\n",
       "      <td>1</td>\n",
       "      <td>12.5</td>\n",
       "      <td>0.5</td>\n",
       "      <td>0.5</td>\n",
       "      <td>2.75</td>\n",
       "      <td>0.0</td>\n",
       "      <td>0.3</td>\n",
       "      <td>16.55</td>\n",
       "      <td>NaN</td>\n",
       "      <td>NaN</td>\n",
       "    </tr>\n",
       "  </tbody>\n",
       "</table>\n",
       "</div>"
      ],
      "text/plain": [
       "   VendorID tpep_pickup_datetime tpep_dropoff_datetime  passenger_count  \\\n",
       "0         1  2018-01-01 00:21:05   2018-01-01 00:24:23                1   \n",
       "1         1  2018-01-01 00:44:55   2018-01-01 01:03:05                1   \n",
       "2         1  2018-01-01 00:08:26   2018-01-01 00:14:21                2   \n",
       "3         1  2018-01-01 00:20:22   2018-01-01 00:52:51                1   \n",
       "4         1  2018-01-01 00:09:18   2018-01-01 00:27:06                2   \n",
       "\n",
       "   trip_distance  RatecodeID store_and_fwd_flag  PULocationID  DOLocationID  \\\n",
       "0            0.5           1                  N            41            24   \n",
       "1            2.7           1                  N           239           140   \n",
       "2            0.8           1                  N           262           141   \n",
       "3           10.2           1                  N           140           257   \n",
       "4            2.5           1                  N           246           239   \n",
       "\n",
       "   payment_type  fare_amount  extra  mta_tax  tip_amount  tolls_amount  \\\n",
       "0             2          4.5    0.5      0.5        0.00           0.0   \n",
       "1             2         14.0    0.5      0.5        0.00           0.0   \n",
       "2             1          6.0    0.5      0.5        1.00           0.0   \n",
       "3             2         33.5    0.5      0.5        0.00           0.0   \n",
       "4             1         12.5    0.5      0.5        2.75           0.0   \n",
       "\n",
       "   improvement_surcharge  total_amount  congestion_surcharge  airport_fee  \n",
       "0                    0.3          5.80                   NaN          NaN  \n",
       "1                    0.3         15.30                   NaN          NaN  \n",
       "2                    0.3          8.30                   NaN          NaN  \n",
       "3                    0.3         34.80                   NaN          NaN  \n",
       "4                    0.3         16.55                   NaN          NaN  "
      ]
     },
     "execution_count": 13,
     "metadata": {},
     "output_type": "execute_result"
    }
   ],
   "source": [
    "# 상위 값 5개\n",
    "month.head(5)"
   ]
  },
  {
   "cell_type": "code",
   "execution_count": 33,
   "metadata": {},
   "outputs": [
    {
     "name": "stdout",
     "output_type": "stream",
     "text": [
      "[ 3.3        18.16666667  5.91666667 ...  9.15        0.8\n",
      "  0.36666667]\n"
     ]
    },
    {
     "name": "stderr",
     "output_type": "stream",
     "text": [
      "C:\\Users\\sktmd\\AppData\\Local\\Temp\\ipykernel_11568\\1153349893.py:20: SettingWithCopyWarning: \n",
      "A value is trying to be set on a copy of a slice from a DataFrame.\n",
      "Try using .loc[row_indexer,col_indexer] = value instead\n",
      "\n",
      "See the caveats in the documentation: https://pandas.pydata.org/pandas-docs/stable/user_guide/indexing.html#returning-a-view-versus-a-copy\n",
      "  new_frame['trip_times'] = durations\n",
      "C:\\Users\\sktmd\\AppData\\Local\\Temp\\ipykernel_11568\\1153349893.py:21: SettingWithCopyWarning: \n",
      "A value is trying to be set on a copy of a slice from a DataFrame.\n",
      "Try using .loc[row_indexer,col_indexer] = value instead\n",
      "\n",
      "See the caveats in the documentation: https://pandas.pydata.org/pandas-docs/stable/user_guide/indexing.html#returning-a-view-versus-a-copy\n",
      "  new_frame['pickup_times'] = duration_pickup\n",
      "C:\\Users\\sktmd\\AppData\\Local\\Temp\\ipykernel_11568\\1153349893.py:23: SettingWithCopyWarning: \n",
      "A value is trying to be set on a copy of a slice from a DataFrame.\n",
      "Try using .loc[row_indexer,col_indexer] = value instead\n",
      "\n",
      "See the caveats in the documentation: https://pandas.pydata.org/pandas-docs/stable/user_guide/indexing.html#returning-a-view-versus-a-copy\n",
      "  new_frame['speed'] = 60 * (new_frame['trip_distance']/new_frame['trip_times'])\n"
     ]
    }
   ],
   "source": [
    "# def convert_to_unix(s):\n",
    "\n",
    "#     return time.mktime(datetime.datetime.strptime(s, \"%Y-%m-%d %H:%M:%S\").timetuple())\n",
    "    \n",
    "def return_with_trip_times(month):\n",
    "    # 탑승, 하차 시간 가져오기\n",
    "    duration = month[['tpep_pickup_datetime', 'tpep_dropoff_datetime']]\n",
    "    # unix time으로 변환\n",
    "    duration_pickup = [x for x in duration['tpep_pickup_datetime'].values]\n",
    "    duration_dropoff = [x for x in duration['tpep_dropoff_datetime'].values]\n",
    "    \n",
    "    # 이동 시간(분)\n",
    "    onemin = pd.Timedelta(minutes=1)\n",
    "    durations = (np.array(duration_dropoff) - np.array(duration_pickup)) / onemin\n",
    "    #print(durations)\n",
    "\n",
    "    new_frame = month[['passenger_count','trip_distance','PULocationID','DOLocationID', 'total_amount']]\n",
    "\n",
    "    # 이동 시간과 이동 속도를 담은 새 데이터 생성    \n",
    "    new_frame['trip_times'] = durations\n",
    "    new_frame['pickup_times'] = duration_pickup\n",
    "    # /hour로 변환\n",
    "    new_frame['speed'] = 60 * (new_frame['trip_distance']/new_frame['trip_times'])\n",
    "\n",
    "    return new_frame\n",
    "\n",
    "frame_with_durations = return_with_trip_times(month)\n"
   ]
  },
  {
   "cell_type": "code",
   "execution_count": 37,
   "metadata": {},
   "outputs": [
    {
     "data": {
      "image/png": "[encoded data removed]",
      "text/plain": [
       "<Figure size 640x480 with 1 Axes>"
      ]
     },
     "metadata": {},
     "output_type": "display_data"
    }
   ],
   "source": [
    "# 분단위\n",
    "sns.boxplot(y=\"trip_times\", data=frame_with_durations)\n",
    "plt.show()"
   ]
  },
  {
   "cell_type": "code",
   "execution_count": 62,
   "metadata": {},
   "outputs": [
    {
     "name": "stdout",
     "output_type": "stream",
     "text": [
      "0 percentile value is -5711.583333333333\n",
      "10 percentile value is 3.8833333333333333\n",
      "20 percentile value is 5.483333333333333\n",
      "30 percentile value is 7.0\n",
      "40 percentile value is 8.6\n",
      "50 percentile value is 10.366666666666667\n",
      "60 percentile value is 12.466666666666667\n",
      "70 percentile value is 15.133333333333333\n",
      "80 percentile value is 18.933333333333334\n",
      "90 percentile value is 25.683333333333334\n",
      "100 percentile value id  5382.066666666667\n"
     ]
    }
   ],
   "source": [
    "# 10%마다 해당되는 시간\n",
    "for i in range(0, 100, 10):\n",
    "    var = frame_with_durations[\"trip_times\"].values\n",
    "    var = np.sort(var, axis=None)\n",
    "    print(\"{} percentile value is {}\".format(i,var[int(len(var)*(float(i)/100))]))\n",
    "print(\"100 percentile value id \", var[-1])"
   ]
  },
  {
   "cell_type": "code",
   "execution_count": 63,
   "metadata": {},
   "outputs": [
    {
     "name": "stdout",
     "output_type": "stream",
     "text": [
      "90 percentile value is 25.683333333333334\n",
      "91 percentile value is 26.75\n",
      "92 percentile value is 27.95\n",
      "93 percentile value is 29.366666666666667\n",
      "94 percentile value is 31.016666666666666\n",
      "95 percentile value is 33.03333333333333\n",
      "96 percentile value is 35.6\n",
      "97 percentile value is 39.083333333333336\n",
      "98 percentile value is 44.416666666666664\n",
      "99 percentile value is 54.46666666666667\n",
      "100 percentile value id  5382.066666666667\n"
     ]
    }
   ],
   "source": [
    "# 90%~100%마다 해당되는 시간\n",
    "for i in range(90, 100):\n",
    "    var = frame_with_durations[\"trip_times\"].values\n",
    "    var = np.sort(var, axis=None)\n",
    "    print(\"{} percentile value is {}\".format(i,var[int(len(var)*(float(i)/100))]))\n",
    "print(\"100 percentile value id \", var[-1])"
   ]
  },
  {
   "cell_type": "code",
   "execution_count": 71,
   "metadata": {},
   "outputs": [
    {
     "name": "stdout",
     "output_type": "stream",
     "text": [
      "0 percentile value is -5711.583333333333\n",
      "1 percentile value is 1.1833333333333333\n",
      "2 percentile value is 1.8666666666666667\n",
      "3 percentile value is 2.283333333333333\n",
      "4 percentile value is 2.5833333333333335\n",
      "5 percentile value is 2.85\n",
      "6 percentile value is 3.0833333333333335\n",
      "7 percentile value is 3.3\n",
      "8 percentile value is 3.5\n",
      "9 percentile value is 3.7\n",
      "10 percentile value is 3.8833333333333333\n"
     ]
    }
   ],
   "source": [
    "# 0%~10%마다 해당되는 시간\n",
    "for i in range(0, 11):\n",
    "    var = frame_with_durations[\"trip_times\"].values\n",
    "    var = np.sort(var, axis=None)\n",
    "    print(\"{} percentile value is {}\".format(i,var[int(len(var)*(float(i)/100))]))"
   ]
  },
  {
   "cell_type": "code",
   "execution_count": 103,
   "metadata": {},
   "outputs": [
    {
     "name": "stdout",
     "output_type": "stream",
     "text": [
      "(8623324, 8)\n"
     ]
    }
   ],
   "source": [
    "# 시간이 이상하게 튀는 값 삭제\n",
    "frame_with_durations_modified=frame_with_durations[(frame_with_durations.trip_times>1) & (frame_with_durations.trip_times<60)]\n",
    "print(frame_with_durations_modified.shape)"
   ]
  },
  {
   "cell_type": "code",
   "execution_count": 106,
   "metadata": {},
   "outputs": [
    {
     "name": "stdout",
     "output_type": "stream",
     "text": [
      "3.3 9.15\n"
     ]
    }
   ],
   "source": [
    "# 튀는 값 수정 이후 최대 최소\n",
    "var = frame_with_durations_modified[\"trip_times\"].values\n",
    "print(var[0], var[-1])"
   ]
  },
  {
   "cell_type": "code",
   "execution_count": 94,
   "metadata": {},
   "outputs": [
    {
     "data": {
      "image/png": "[encoded data removed]",
      "text/plain": [
       "<Figure size 640x480 with 1 Axes>"
      ]
     },
     "metadata": {},
     "output_type": "display_data"
    }
   ],
   "source": [
    "sns.boxplot(y=\"trip_times\", data=var)\n",
    "plt.show()"
   ]
  },
  {
   "cell_type": "code",
   "execution_count": null,
   "metadata": {},
   "outputs": [],
   "source": []
  }
 ],
 "metadata": {
  "kernelspec": {
   "display_name": "Python 3.10.2 64-bit",
   "language": "python",
   "name": "python3"
  },
  "language_info": {
   "codemirror_mode": {
    "name": "ipython",
    "version": 3
   },
   "file_extension": ".py",
   "mimetype": "text/x-python",
   "name": "python",
   "nbconvert_exporter": "python",
   "pygments_lexer": "ipython3",
   "version": "3.10.2"
  },
  "orig_nbformat": 4,
  "vscode": {
   "interpreter": {
    "hash": "2a4346d64cb42476a551e7595e0385aacee0262d177edc52296f761023fa4e68"
   }
  }
 },
 "nbformat": 4,
 "nbformat_minor": 2
}
