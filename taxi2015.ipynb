{
 "cells": [
  {
   "cell_type": "markdown",
   "metadata": {},
   "source": [
    "# 0. Import"
   ]
  },
  {
   "cell_type": "code",
   "execution_count": 1,
   "metadata": {},
   "outputs": [],
   "source": [
    "import dask.dataframe as dd#similar to pandas\n",
    "\n",
    "import pandas as pd#pandas to create small dataframes \n",
    "\n",
    "# unix time: https://www.unixtimestamp.com/\n",
    "import datetime #Convert to unix time\n",
    "\n",
    "import time #Convert to unix time\n",
    "\n",
    "# if numpy is not installed already : pip3 install numpy\n",
    "import numpy as np#Do aritmetic operations on arrays\n",
    "\n",
    "from matplotlib import rcParams#Size of plots  \n",
    "\n",
    "import matplotlib.pylab as plt\n",
    "import seaborn as sns#Plots\n",
    "\n",
    "from sklearn.cluster import MiniBatchKMeans, KMeans#Clustering\n",
    "import math\n",
    "import pickle\n",
    "import os\n",
    "\n",
    "import xgboost as xgb\n",
    "\n",
    "# to install sklearn: pip install -U scikit-learn\n",
    "from sklearn.ensemble import RandomForestRegressor\n",
    "from sklearn.metrics import mean_squared_error\n",
    "from sklearn.metrics import mean_absolute_error\n",
    "from sklearn.metrics import mean_absolute_percentage_error\n",
    "import warnings\n",
    "warnings.filterwarnings(\"ignore\")"
   ]
  },
  {
   "cell_type": "markdown",
   "metadata": {},
   "source": [
    "# 1. Data Load"
   ]
  },
  {
   "cell_type": "code",
   "execution_count": 2,
   "metadata": {},
   "outputs": [],
   "source": [
    "location_zone_csv = pd.read_csv('/Users/jinsu/Desktop/vscode/taxi+_zone_lookup.csv')"
   ]
  },
  {
   "cell_type": "code",
   "execution_count": 3,
   "metadata": {},
   "outputs": [],
   "source": [
    "# 맨해튼 지역 번호 추출\n",
    "manhattan = location_zone_csv[location_zone_csv['Borough'] == 'Manhattan']\n",
    "manhattan_number = manhattan['LocationID']"
   ]
  },
  {
   "cell_type": "code",
   "execution_count": 4,
   "metadata": {},
   "outputs": [
    {
     "data": {
      "text/html": [
       "<div>\n",
       "<style scoped>\n",
       "    .dataframe tbody tr th:only-of-type {\n",
       "        vertical-align: middle;\n",
       "    }\n",
       "\n",
       "    .dataframe tbody tr th {\n",
       "        vertical-align: top;\n",
       "    }\n",
       "\n",
       "    .dataframe thead th {\n",
       "        text-align: right;\n",
       "    }\n",
       "</style>\n",
       "<table border=\"1\" class=\"dataframe\">\n",
       "  <thead>\n",
       "    <tr style=\"text-align: right;\">\n",
       "      <th></th>\n",
       "      <th>VendorID</th>\n",
       "      <th>tpep_pickup_datetime</th>\n",
       "      <th>tpep_dropoff_datetime</th>\n",
       "      <th>passenger_count</th>\n",
       "      <th>trip_distance</th>\n",
       "      <th>RatecodeID</th>\n",
       "      <th>store_and_fwd_flag</th>\n",
       "      <th>PULocationID</th>\n",
       "      <th>DOLocationID</th>\n",
       "      <th>payment_type</th>\n",
       "      <th>fare_amount</th>\n",
       "      <th>extra</th>\n",
       "      <th>mta_tax</th>\n",
       "      <th>tip_amount</th>\n",
       "      <th>tolls_amount</th>\n",
       "      <th>improvement_surcharge</th>\n",
       "      <th>total_amount</th>\n",
       "      <th>congestion_surcharge</th>\n",
       "      <th>airport_fee</th>\n",
       "    </tr>\n",
       "  </thead>\n",
       "  <tbody>\n",
       "    <tr>\n",
       "      <th>0</th>\n",
       "      <td>1</td>\n",
       "      <td>2015-01-01 00:11:33</td>\n",
       "      <td>2015-01-01 00:16:48</td>\n",
       "      <td>1</td>\n",
       "      <td>1.0</td>\n",
       "      <td>1</td>\n",
       "      <td>N</td>\n",
       "      <td>41</td>\n",
       "      <td>166</td>\n",
       "      <td>1</td>\n",
       "      <td>5.7</td>\n",
       "      <td>0.5</td>\n",
       "      <td>0.5</td>\n",
       "      <td>1.40</td>\n",
       "      <td>0.0</td>\n",
       "      <td>0.0</td>\n",
       "      <td>8.40</td>\n",
       "      <td>None</td>\n",
       "      <td>None</td>\n",
       "    </tr>\n",
       "    <tr>\n",
       "      <th>1</th>\n",
       "      <td>1</td>\n",
       "      <td>2015-01-01 00:18:24</td>\n",
       "      <td>2015-01-01 00:24:20</td>\n",
       "      <td>1</td>\n",
       "      <td>0.9</td>\n",
       "      <td>1</td>\n",
       "      <td>N</td>\n",
       "      <td>166</td>\n",
       "      <td>238</td>\n",
       "      <td>3</td>\n",
       "      <td>6.0</td>\n",
       "      <td>0.5</td>\n",
       "      <td>0.5</td>\n",
       "      <td>0.00</td>\n",
       "      <td>0.0</td>\n",
       "      <td>0.0</td>\n",
       "      <td>7.30</td>\n",
       "      <td>None</td>\n",
       "      <td>None</td>\n",
       "    </tr>\n",
       "    <tr>\n",
       "      <th>2</th>\n",
       "      <td>1</td>\n",
       "      <td>2015-01-01 00:26:19</td>\n",
       "      <td>2015-01-01 00:41:06</td>\n",
       "      <td>1</td>\n",
       "      <td>3.5</td>\n",
       "      <td>1</td>\n",
       "      <td>N</td>\n",
       "      <td>238</td>\n",
       "      <td>162</td>\n",
       "      <td>1</td>\n",
       "      <td>13.2</td>\n",
       "      <td>0.5</td>\n",
       "      <td>0.5</td>\n",
       "      <td>2.90</td>\n",
       "      <td>0.0</td>\n",
       "      <td>0.0</td>\n",
       "      <td>17.40</td>\n",
       "      <td>None</td>\n",
       "      <td>None</td>\n",
       "    </tr>\n",
       "    <tr>\n",
       "      <th>3</th>\n",
       "      <td>1</td>\n",
       "      <td>2015-01-01 00:45:26</td>\n",
       "      <td>2015-01-01 00:53:20</td>\n",
       "      <td>1</td>\n",
       "      <td>2.1</td>\n",
       "      <td>1</td>\n",
       "      <td>N</td>\n",
       "      <td>162</td>\n",
       "      <td>263</td>\n",
       "      <td>1</td>\n",
       "      <td>8.2</td>\n",
       "      <td>0.5</td>\n",
       "      <td>0.5</td>\n",
       "      <td>2.37</td>\n",
       "      <td>0.0</td>\n",
       "      <td>0.0</td>\n",
       "      <td>11.87</td>\n",
       "      <td>None</td>\n",
       "      <td>None</td>\n",
       "    </tr>\n",
       "    <tr>\n",
       "      <th>4</th>\n",
       "      <td>1</td>\n",
       "      <td>2015-01-01 00:59:21</td>\n",
       "      <td>2015-01-01 01:05:24</td>\n",
       "      <td>1</td>\n",
       "      <td>1.0</td>\n",
       "      <td>1</td>\n",
       "      <td>N</td>\n",
       "      <td>236</td>\n",
       "      <td>141</td>\n",
       "      <td>3</td>\n",
       "      <td>6.0</td>\n",
       "      <td>0.5</td>\n",
       "      <td>0.5</td>\n",
       "      <td>0.00</td>\n",
       "      <td>0.0</td>\n",
       "      <td>0.0</td>\n",
       "      <td>7.30</td>\n",
       "      <td>None</td>\n",
       "      <td>None</td>\n",
       "    </tr>\n",
       "  </tbody>\n",
       "</table>\n",
       "</div>"
      ],
      "text/plain": [
       "   VendorID tpep_pickup_datetime tpep_dropoff_datetime  passenger_count  \\\n",
       "0         1  2015-01-01 00:11:33   2015-01-01 00:16:48                1   \n",
       "1         1  2015-01-01 00:18:24   2015-01-01 00:24:20                1   \n",
       "2         1  2015-01-01 00:26:19   2015-01-01 00:41:06                1   \n",
       "3         1  2015-01-01 00:45:26   2015-01-01 00:53:20                1   \n",
       "4         1  2015-01-01 00:59:21   2015-01-01 01:05:24                1   \n",
       "\n",
       "   trip_distance  RatecodeID store_and_fwd_flag  PULocationID  DOLocationID  \\\n",
       "0            1.0           1                  N            41           166   \n",
       "1            0.9           1                  N           166           238   \n",
       "2            3.5           1                  N           238           162   \n",
       "3            2.1           1                  N           162           263   \n",
       "4            1.0           1                  N           236           141   \n",
       "\n",
       "   payment_type  fare_amount  extra  mta_tax  tip_amount  tolls_amount  \\\n",
       "0             1          5.7    0.5      0.5        1.40           0.0   \n",
       "1             3          6.0    0.5      0.5        0.00           0.0   \n",
       "2             1         13.2    0.5      0.5        2.90           0.0   \n",
       "3             1          8.2    0.5      0.5        2.37           0.0   \n",
       "4             3          6.0    0.5      0.5        0.00           0.0   \n",
       "\n",
       "   improvement_surcharge  total_amount congestion_surcharge airport_fee  \n",
       "0                    0.0          8.40                 None        None  \n",
       "1                    0.0          7.30                 None        None  \n",
       "2                    0.0         17.40                 None        None  \n",
       "3                    0.0         11.87                 None        None  \n",
       "4                    0.0          7.30                 None        None  "
      ]
     },
     "execution_count": 4,
     "metadata": {},
     "output_type": "execute_result"
    }
   ],
   "source": [
    "month = pd.read_parquet('/Users/jinsu/Desktop/vscode/taxi_data/yellow_tripdata_2015-01.parquet')\n",
    "month.head(5)"
   ]
  },
  {
   "cell_type": "code",
   "execution_count": 5,
   "metadata": {},
   "outputs": [
    {
     "data": {
      "text/plain": [
       "(12741035, 19)"
      ]
     },
     "execution_count": 5,
     "metadata": {},
     "output_type": "execute_result"
    }
   ],
   "source": [
    "month.shape"
   ]
  },
  {
   "cell_type": "markdown",
   "metadata": {},
   "source": [
    "# 2. Process and Visualization"
   ]
  },
  {
   "cell_type": "code",
   "execution_count": 6,
   "metadata": {},
   "outputs": [],
   "source": [
    "manhattan_arr_data = []\n",
    "for i in manhattan_number.values:\n",
    "    #print(i)\n",
    "    manhattan_arr_data.append(month[month['PULocationID'] == i])"
   ]
  },
  {
   "cell_type": "code",
   "execution_count": 7,
   "metadata": {},
   "outputs": [],
   "source": [
    "manhattan_data = pd.concat(manhattan_arr_data, axis=0, ignore_index=True)"
   ]
  },
  {
   "cell_type": "code",
   "execution_count": 8,
   "metadata": {},
   "outputs": [],
   "source": [
    "manhattan_data=manhattan_data.query(\"tpep_pickup_datetime >= '2015-01-01' and tpep_pickup_datetime <='2015-12-31'\")\n",
    "manhattan_data=manhattan_data.query(\"tpep_dropoff_datetime >= '2015-01-01' and tpep_dropoff_datetime <='2015-12-31'\")"
   ]
  },
  {
   "cell_type": "code",
   "execution_count": 9,
   "metadata": {},
   "outputs": [
    {
     "data": {
      "text/html": [
       "<div>\n",
       "<style scoped>\n",
       "    .dataframe tbody tr th:only-of-type {\n",
       "        vertical-align: middle;\n",
       "    }\n",
       "\n",
       "    .dataframe tbody tr th {\n",
       "        vertical-align: top;\n",
       "    }\n",
       "\n",
       "    .dataframe thead th {\n",
       "        text-align: right;\n",
       "    }\n",
       "</style>\n",
       "<table border=\"1\" class=\"dataframe\">\n",
       "  <thead>\n",
       "    <tr style=\"text-align: right;\">\n",
       "      <th></th>\n",
       "      <th>VendorID</th>\n",
       "      <th>tpep_pickup_datetime</th>\n",
       "      <th>tpep_dropoff_datetime</th>\n",
       "      <th>passenger_count</th>\n",
       "      <th>trip_distance</th>\n",
       "      <th>RatecodeID</th>\n",
       "      <th>store_and_fwd_flag</th>\n",
       "      <th>PULocationID</th>\n",
       "      <th>DOLocationID</th>\n",
       "      <th>payment_type</th>\n",
       "      <th>fare_amount</th>\n",
       "      <th>extra</th>\n",
       "      <th>mta_tax</th>\n",
       "      <th>tip_amount</th>\n",
       "      <th>tolls_amount</th>\n",
       "      <th>improvement_surcharge</th>\n",
       "      <th>total_amount</th>\n",
       "      <th>congestion_surcharge</th>\n",
       "      <th>airport_fee</th>\n",
       "    </tr>\n",
       "  </thead>\n",
       "  <tbody>\n",
       "    <tr>\n",
       "      <th>0</th>\n",
       "      <td>1</td>\n",
       "      <td>2015-01-01 00:05:06</td>\n",
       "      <td>2015-01-01 00:27:50</td>\n",
       "      <td>1</td>\n",
       "      <td>4.20</td>\n",
       "      <td>1</td>\n",
       "      <td>N</td>\n",
       "      <td>4</td>\n",
       "      <td>256</td>\n",
       "      <td>2</td>\n",
       "      <td>18.0</td>\n",
       "      <td>0.5</td>\n",
       "      <td>0.5</td>\n",
       "      <td>0.00</td>\n",
       "      <td>0.0</td>\n",
       "      <td>0.0</td>\n",
       "      <td>19.30</td>\n",
       "      <td>None</td>\n",
       "      <td>None</td>\n",
       "    </tr>\n",
       "    <tr>\n",
       "      <th>1</th>\n",
       "      <td>1</td>\n",
       "      <td>2015-01-01 00:44:28</td>\n",
       "      <td>2015-01-01 00:55:44</td>\n",
       "      <td>2</td>\n",
       "      <td>1.60</td>\n",
       "      <td>1</td>\n",
       "      <td>N</td>\n",
       "      <td>4</td>\n",
       "      <td>211</td>\n",
       "      <td>1</td>\n",
       "      <td>9.0</td>\n",
       "      <td>0.5</td>\n",
       "      <td>0.5</td>\n",
       "      <td>3.05</td>\n",
       "      <td>0.0</td>\n",
       "      <td>0.0</td>\n",
       "      <td>13.35</td>\n",
       "      <td>None</td>\n",
       "      <td>None</td>\n",
       "    </tr>\n",
       "    <tr>\n",
       "      <th>2</th>\n",
       "      <td>1</td>\n",
       "      <td>2015-01-01 00:40:11</td>\n",
       "      <td>2015-01-01 00:53:15</td>\n",
       "      <td>1</td>\n",
       "      <td>3.10</td>\n",
       "      <td>1</td>\n",
       "      <td>N</td>\n",
       "      <td>4</td>\n",
       "      <td>256</td>\n",
       "      <td>2</td>\n",
       "      <td>12.5</td>\n",
       "      <td>0.5</td>\n",
       "      <td>0.5</td>\n",
       "      <td>0.00</td>\n",
       "      <td>0.0</td>\n",
       "      <td>0.0</td>\n",
       "      <td>13.80</td>\n",
       "      <td>None</td>\n",
       "      <td>None</td>\n",
       "    </tr>\n",
       "    <tr>\n",
       "      <th>3</th>\n",
       "      <td>1</td>\n",
       "      <td>2015-01-01 00:17:30</td>\n",
       "      <td>2015-01-01 00:25:33</td>\n",
       "      <td>1</td>\n",
       "      <td>1.60</td>\n",
       "      <td>1</td>\n",
       "      <td>Y</td>\n",
       "      <td>4</td>\n",
       "      <td>144</td>\n",
       "      <td>2</td>\n",
       "      <td>8.0</td>\n",
       "      <td>0.5</td>\n",
       "      <td>0.5</td>\n",
       "      <td>0.00</td>\n",
       "      <td>0.0</td>\n",
       "      <td>0.0</td>\n",
       "      <td>9.30</td>\n",
       "      <td>None</td>\n",
       "      <td>None</td>\n",
       "    </tr>\n",
       "    <tr>\n",
       "      <th>4</th>\n",
       "      <td>2</td>\n",
       "      <td>2015-01-01 00:44:54</td>\n",
       "      <td>2015-01-01 00:48:39</td>\n",
       "      <td>1</td>\n",
       "      <td>1.15</td>\n",
       "      <td>1</td>\n",
       "      <td>N</td>\n",
       "      <td>4</td>\n",
       "      <td>107</td>\n",
       "      <td>1</td>\n",
       "      <td>5.5</td>\n",
       "      <td>0.5</td>\n",
       "      <td>0.5</td>\n",
       "      <td>1.20</td>\n",
       "      <td>0.0</td>\n",
       "      <td>0.3</td>\n",
       "      <td>8.00</td>\n",
       "      <td>None</td>\n",
       "      <td>None</td>\n",
       "    </tr>\n",
       "  </tbody>\n",
       "</table>\n",
       "</div>"
      ],
      "text/plain": [
       "   VendorID tpep_pickup_datetime tpep_dropoff_datetime  passenger_count  \\\n",
       "0         1  2015-01-01 00:05:06   2015-01-01 00:27:50                1   \n",
       "1         1  2015-01-01 00:44:28   2015-01-01 00:55:44                2   \n",
       "2         1  2015-01-01 00:40:11   2015-01-01 00:53:15                1   \n",
       "3         1  2015-01-01 00:17:30   2015-01-01 00:25:33                1   \n",
       "4         2  2015-01-01 00:44:54   2015-01-01 00:48:39                1   \n",
       "\n",
       "   trip_distance  RatecodeID store_and_fwd_flag  PULocationID  DOLocationID  \\\n",
       "0           4.20           1                  N             4           256   \n",
       "1           1.60           1                  N             4           211   \n",
       "2           3.10           1                  N             4           256   \n",
       "3           1.60           1                  Y             4           144   \n",
       "4           1.15           1                  N             4           107   \n",
       "\n",
       "   payment_type  fare_amount  extra  mta_tax  tip_amount  tolls_amount  \\\n",
       "0             2         18.0    0.5      0.5        0.00           0.0   \n",
       "1             1          9.0    0.5      0.5        3.05           0.0   \n",
       "2             2         12.5    0.5      0.5        0.00           0.0   \n",
       "3             2          8.0    0.5      0.5        0.00           0.0   \n",
       "4             1          5.5    0.5      0.5        1.20           0.0   \n",
       "\n",
       "   improvement_surcharge  total_amount congestion_surcharge airport_fee  \n",
       "0                    0.0         19.30                 None        None  \n",
       "1                    0.0         13.35                 None        None  \n",
       "2                    0.0         13.80                 None        None  \n",
       "3                    0.0          9.30                 None        None  \n",
       "4                    0.3          8.00                 None        None  "
      ]
     },
     "execution_count": 9,
     "metadata": {},
     "output_type": "execute_result"
    }
   ],
   "source": [
    "manhattan_data.head()"
   ]
  },
  {
   "cell_type": "code",
   "execution_count": 10,
   "metadata": {},
   "outputs": [
    {
     "data": {
      "text/plain": [
       "(11613627, 19)"
      ]
     },
     "execution_count": 10,
     "metadata": {},
     "output_type": "execute_result"
    }
   ],
   "source": [
    "manhattan_data.shape"
   ]
  },
  {
   "cell_type": "markdown",
   "metadata": {},
   "source": [
    "(11613627, 19)"
   ]
  },
  {
   "cell_type": "code",
   "execution_count": 11,
   "metadata": {},
   "outputs": [
    {
     "name": "stdout",
     "output_type": "stream",
     "text": [
      "   passenger_count  trip_distance  PULocationID  DOLocationID  total_amount  \\\n",
      "0                1           4.20             4           256         19.30   \n",
      "1                2           1.60             4           211         13.35   \n",
      "2                1           3.10             4           256         13.80   \n",
      "3                1           1.60             4           144          9.30   \n",
      "4                1           1.15             4           107          8.00   \n",
      "\n",
      "   trip_times  pickup_times      Speed  \n",
      "0   22.733333  1.420038e+09  11.085044  \n",
      "1   11.266667  1.420041e+09   8.520710  \n",
      "2   13.066667  1.420040e+09  14.234694  \n",
      "3    8.050000  1.420039e+09  11.925466  \n",
      "4    3.750000  1.420041e+09  18.400000  \n"
     ]
    }
   ],
   "source": [
    "#The timestamps are converted to unix so as to get duration(trip-time) & speed also pickup-times in unix are used while binning \n",
    "\n",
    "# in out data we have time in the formate \"YYYY-MM-DD HH:MM:SS\" we convert thiss sting to python time formate and then into unix time stamp\n",
    "# https://stackoverflow.com/a/27914405\n",
    "def convert_to_unix(s):\n",
    "    s = np.datetime_as_string(s, unit='s')\n",
    "    s = s.replace('T', ' ')\n",
    "\n",
    "    return time.mktime(datetime.datetime.strptime(s, '%Y-%m-%d %H:%M:%S').timetuple())\n",
    "\n",
    "\n",
    "\n",
    "# we return a data frame which contains the columns\n",
    "# 1.'passenger_count' : self explanatory\n",
    "# 2.'trip_distance' : self explanatory\n",
    "# 3.'pickup_longitude' : self explanatory\n",
    "# 4.'pickup_latitude' : self explanatory\n",
    "# 5.'dropoff_longitude' : self explanatory\n",
    "# 6.'dropoff_latitude' : self explanatory\n",
    "# 7.'total_amount' : total fair that was paid\n",
    "# 8.'trip_times' : duration of each trip\n",
    "# 9.'pickup_times : pickup time converted into unix time \n",
    "# 10.'Speed' : velocity of each trip\n",
    "def return_with_trip_times(month):\n",
    "    duration = month[['tpep_pickup_datetime','tpep_dropoff_datetime']]\n",
    "    #pickups and dropoffs to unix time\n",
    "    duration_pickup = [convert_to_unix(x) for x in duration['tpep_pickup_datetime'].values]\n",
    "    \n",
    "    duration_drop = [convert_to_unix(x) for x in duration['tpep_dropoff_datetime'].values]\n",
    "    #calculate duration of trips\n",
    "    durations = (np.array(duration_drop) - np.array(duration_pickup))/float(60)\n",
    "\n",
    "    #append durations of trips and speed in miles/hr to a new dataframe\n",
    "    new_frame = month[['passenger_count','trip_distance','PULocationID','DOLocationID','total_amount']]\n",
    "    \n",
    "    new_frame['trip_times'] = durations\n",
    "    new_frame['pickup_times'] = duration_pickup\n",
    "    new_frame['Speed'] = 60*(new_frame['trip_distance']/new_frame['trip_times'])\n",
    "    \n",
    "    return new_frame\n",
    "\n",
    "frame_with_durations = return_with_trip_times(manhattan_data)\n",
    "print(frame_with_durations.head())"
   ]
  },
  {
   "cell_type": "code",
   "execution_count": 12,
   "metadata": {},
   "outputs": [
    {
     "data": {
      "image/png": "[encoded data removed]",
      "text/plain": [
       "<Figure size 640x480 with 1 Axes>"
      ]
     },
     "metadata": {},
     "output_type": "display_data"
    }
   ],
   "source": [
    "sns.boxplot(y=\"trip_times\", data =frame_with_durations)\n",
    "plt.show()"
   ]
  },
  {
   "cell_type": "code",
   "execution_count": 13,
   "metadata": {},
   "outputs": [
    {
     "name": "stdout",
     "output_type": "stream",
     "text": [
      "0 percentile value is -1211.0166666666667\n",
      "10 percentile value is 3.816666666666667\n",
      "20 percentile value is 5.3\n",
      "30 percentile value is 6.683333333333334\n",
      "40 percentile value is 8.1\n",
      "50 percentile value is 9.633333333333333\n",
      "60 percentile value is 11.4\n",
      "70 percentile value is 13.583333333333334\n",
      "80 percentile value is 16.566666666666666\n",
      "90 percentile value is 21.5\n",
      "100 percentile value is  45108.23333333333\n"
     ]
    }
   ],
   "source": [
    "#calculating 0-100th percentile to find a the correct percentile value for removal of outliers\n",
    "for i in range(0,100,10):\n",
    "    var =frame_with_durations[\"trip_times\"].values\n",
    "    var = np.sort(var,axis = None)\n",
    "    print(\"{} percentile value is {}\".format(i,var[int(len(var)*(float(i)/100))]))\n",
    "print (\"100 percentile value is \",var[-1])"
   ]
  },
  {
   "cell_type": "code",
   "execution_count": 14,
   "metadata": {},
   "outputs": [
    {
     "name": "stdout",
     "output_type": "stream",
     "text": [
      "90 percentile value is 21.5\n",
      "91 percentile value is 22.233333333333334\n",
      "92 percentile value is 23.066666666666666\n",
      "93 percentile value is 24.016666666666666\n",
      "94 percentile value is 25.116666666666667\n",
      "95 percentile value is 26.416666666666668\n",
      "96 percentile value is 28.066666666666666\n",
      "97 percentile value is 30.233333333333334\n",
      "98 percentile value is 33.45\n",
      "99 percentile value is 39.61666666666667\n",
      "100 percentile value is  45108.23333333333\n"
     ]
    }
   ],
   "source": [
    "#looking further from the 99th percecntile\n",
    "for i in range(90,100):\n",
    "    var =frame_with_durations[\"trip_times\"].values\n",
    "    var = np.sort(var,axis = None)\n",
    "    print(\"{} percentile value is {}\".format(i,var[int(len(var)*(float(i)/100))]))\n",
    "print (\"100 percentile value is \",var[-1])"
   ]
  },
  {
   "cell_type": "code",
   "execution_count": 15,
   "metadata": {},
   "outputs": [],
   "source": [
    "#removing data based on our analysis and TLC regulations\n",
    "frame_with_durations_modified=frame_with_durations[(frame_with_durations.trip_times>1) & (frame_with_durations.trip_times<720)]"
   ]
  },
  {
   "cell_type": "code",
   "execution_count": 16,
   "metadata": {},
   "outputs": [
    {
     "data": {
      "image/png": "[encoded data removed]",
      "text/plain": [
       "<Figure size 640x480 with 1 Axes>"
      ]
     },
     "metadata": {},
     "output_type": "display_data"
    }
   ],
   "source": [
    "#box-plot after removal of outliers\n",
    "sns.boxplot(y=\"trip_times\", data =frame_with_durations_modified)\n",
    "plt.show()"
   ]
  },
  {
   "cell_type": "code",
   "execution_count": 17,
   "metadata": {},
   "outputs": [
    {
     "data": {
      "image/png": "[encoded data removed]",
      "text/plain": [
       "<Figure size 311.111x300 with 1 Axes>"
      ]
     },
     "metadata": {},
     "output_type": "display_data"
    }
   ],
   "source": [
    "#pdf of trip-times after removing the outliers #size=6인거 지웠는데 무엇을 의미..?\n",
    "sns.FacetGrid(frame_with_durations_modified) \\\n",
    "      .map(sns.kdeplot,\"trip_times\") \\\n",
    "      .add_legend()\n",
    "plt.show()"
   ]
  },
  {
   "cell_type": "code",
   "execution_count": 18,
   "metadata": {},
   "outputs": [],
   "source": [
    "#converting the values to log-values to chec for log-normal\n",
    "import math\n",
    "frame_with_durations_modified['log_times']=[math.log(i) for i in frame_with_durations_modified['trip_times'].values]"
   ]
  },
  {
   "cell_type": "code",
   "execution_count": 19,
   "metadata": {},
   "outputs": [
    {
     "data": {
      "image/png": "[encoded data removed]",
      "text/plain": [
       "<Figure size 311.111x300 with 1 Axes>"
      ]
     },
     "metadata": {},
     "output_type": "display_data"
    }
   ],
   "source": [
    "#pdf of log-values\n",
    "sns.FacetGrid(frame_with_durations_modified) \\\n",
    "      .map(sns.kdeplot,\"log_times\") \\\n",
    "      .add_legend()\n",
    "plt.show()"
   ]
  },
  {
   "cell_type": "code",
   "execution_count": 20,
   "metadata": {},
   "outputs": [
    {
     "data": {
      "image/png": "[encoded data removed]",
      "text/plain": [
       "<Figure size 640x480 with 1 Axes>"
      ]
     },
     "metadata": {},
     "output_type": "display_data"
    }
   ],
   "source": [
    "#Q-Q plot for checking if trip-times is log-normal\n",
    "import scipy\n",
    "scipy.stats.probplot(frame_with_durations_modified['log_times'].values, plot=plt)\n",
    "plt.show()"
   ]
  },
  {
   "cell_type": "code",
   "execution_count": 21,
   "metadata": {},
   "outputs": [
    {
     "data": {
      "image/png": "[encoded data removed]",
      "text/plain": [
       "<Figure size 640x480 with 1 Axes>"
      ]
     },
     "metadata": {},
     "output_type": "display_data"
    }
   ],
   "source": [
    "# check for any outliers in the data after trip duration outliers removed\n",
    "# box-plot for speeds with outliers\n",
    "frame_with_durations_modified['Speed'] = 60*(frame_with_durations_modified['trip_distance']/frame_with_durations_modified['trip_times'])\n",
    "sns.boxplot(y=\"Speed\", data =frame_with_durations_modified)\n",
    "plt.show()"
   ]
  },
  {
   "cell_type": "code",
   "execution_count": 22,
   "metadata": {},
   "outputs": [
    {
     "name": "stdout",
     "output_type": "stream",
     "text": [
      "0 percentile value is 0.0\n",
      "10 percentile value is 6.315789473684211\n",
      "20 percentile value is 7.674418604651163\n",
      "30 percentile value is 8.753799392097266\n",
      "40 percentile value is 9.757489300998573\n",
      "50 percentile value is 10.781249999999998\n",
      "60 percentile value is 11.909262759924387\n",
      "70 percentile value is 13.26962457337884\n",
      "80 percentile value is 15.131348511383534\n",
      "90 percentile value is 18.43289371605896\n",
      "100 percentile value is  192857142.85714284\n"
     ]
    }
   ],
   "source": [
    "#calculating speed values at each percntile 0,10,20,30,40,50,60,70,80,90,100 \n",
    "for i in range(0,100,10):\n",
    "    var =frame_with_durations_modified[\"Speed\"].values\n",
    "    var = np.sort(var,axis = None)\n",
    "    print(\"{} percentile value is {}\".format(i,var[int(len(var)*(float(i)/100))]))\n",
    "print(\"100 percentile value is \",var[-1])"
   ]
  },
  {
   "cell_type": "code",
   "execution_count": 23,
   "metadata": {},
   "outputs": [
    {
     "name": "stdout",
     "output_type": "stream",
     "text": [
      "90 percentile value is 18.43289371605896\n",
      "91 percentile value is 18.967071057192374\n",
      "92 percentile value is 19.586206896551726\n",
      "93 percentile value is 20.303687635574835\n",
      "94 percentile value is 21.16901408450704\n",
      "95 percentile value is 22.199108469539375\n",
      "96 percentile value is 23.501222493887532\n",
      "97 percentile value is 25.203761755485896\n",
      "98 percentile value is 27.58681318681319\n",
      "99 percentile value is 31.50282485875706\n",
      "100 percentile value is  192857142.85714284\n"
     ]
    }
   ],
   "source": [
    "#calculating speed values at each percntile 90,91,92,93,94,95,96,97,98,99,100\n",
    "for i in range(90,100):\n",
    "    var =frame_with_durations_modified[\"Speed\"].values\n",
    "    var = np.sort(var,axis = None)\n",
    "    print(\"{} percentile value is {}\".format(i,var[int(len(var)*(float(i)/100))]))\n",
    "print(\"100 percentile value is \",var[-1])"
   ]
  },
  {
   "cell_type": "code",
   "execution_count": 24,
   "metadata": {},
   "outputs": [
    {
     "name": "stdout",
     "output_type": "stream",
     "text": [
      "99.0 percentile value is 31.50282485875706\n",
      "99.1 percentile value is 32.071269487750556\n",
      "99.2 percentile value is 32.70229007633588\n",
      "99.3 percentile value is 33.404752315747075\n",
      "99.4 percentile value is 34.20647149460709\n",
      "99.5 percentile value is 35.11156812339332\n",
      "99.6 percentile value is 36.17142857142857\n",
      "99.7 percentile value is 37.5\n",
      "99.8 percentile value is 39.27272727272727\n",
      "99.9 percentile value is 42.03754693366708\n",
      "100 percentile value is  192857142.85714284\n"
     ]
    }
   ],
   "source": [
    "#calculating speed values at each percntile 99.0,99.1,99.2,99.3,99.4,99.5,99.6,99.7,99.8,99.9,100\n",
    "for i in np.arange(0.0, 1.0, 0.1):\n",
    "    var =frame_with_durations_modified[\"Speed\"].values\n",
    "    var = np.sort(var,axis = None)\n",
    "    print(\"{} percentile value is {}\".format(99+i,var[int(len(var)*(float(99+i)/100))]))\n",
    "print(\"100 percentile value is \",var[-1])"
   ]
  },
  {
   "cell_type": "code",
   "execution_count": 25,
   "metadata": {},
   "outputs": [],
   "source": [
    "#removing further outliers based on the 99.9th percentile value\n",
    "frame_with_durations_modified=frame_with_durations[(frame_with_durations.Speed>0) & (frame_with_durations.Speed<45.31)]"
   ]
  },
  {
   "cell_type": "code",
   "execution_count": 26,
   "metadata": {},
   "outputs": [
    {
     "data": {
      "text/plain": [
       "11.826809215512123"
      ]
     },
     "execution_count": 26,
     "metadata": {},
     "output_type": "execute_result"
    }
   ],
   "source": [
    "#avg.speed of cabs in New-York\n",
    "sum(frame_with_durations_modified[\"Speed\"]) / float(len(frame_with_durations_modified[\"Speed\"]))"
   ]
  },
  {
   "cell_type": "markdown",
   "metadata": {},
   "source": [
    "# trip distance"
   ]
  },
  {
   "cell_type": "code",
   "execution_count": 27,
   "metadata": {},
   "outputs": [
    {
     "data": {
      "image/png": "[encoded data removed]",
      "text/plain": [
       "<Figure size 640x480 with 1 Axes>"
      ]
     },
     "metadata": {},
     "output_type": "display_data"
    }
   ],
   "source": [
    "sns.boxplot(y=\"trip_distance\", data=frame_with_durations_modified)\n",
    "plt.show()"
   ]
  },
  {
   "cell_type": "code",
   "execution_count": 28,
   "metadata": {},
   "outputs": [
    {
     "name": "stdout",
     "output_type": "stream",
     "text": [
      "0 percentile value is 0.01\n",
      "10 percentile value is 0.64\n",
      "20 percentile value is 0.88\n",
      "30 percentile value is 1.1\n",
      "40 percentile value is 1.3\n",
      "50 percentile value is 1.6\n",
      "60 percentile value is 1.93\n",
      "70 percentile value is 2.4\n",
      "80 percentile value is 3.18\n",
      "90 percentile value is 4.78\n",
      "100 percentile value is 181.96\n"
     ]
    }
   ],
   "source": [
    "for i in range(0, 100, 10):\n",
    "    var = frame_with_durations_modified['trip_distance'].values\n",
    "    var = np.sort(var, axis=None)\n",
    "    print(\"{} percentile value is {}\".format(i,var[int(len(var)*(float(i)/100))]))\n",
    "print(\"100 percentile value is\", var[-1])"
   ]
  },
  {
   "cell_type": "code",
   "execution_count": 29,
   "metadata": {},
   "outputs": [
    {
     "name": "stdout",
     "output_type": "stream",
     "text": [
      "90 percentile value is 4.78\n",
      "91 percentile value is 5.04\n",
      "92 percentile value is 5.37\n",
      "93 percentile value is 5.72\n",
      "94 percentile value is 6.2\n",
      "95 percentile value is 6.78\n",
      "96 percentile value is 7.6\n",
      "97 percentile value is 8.78\n",
      "98 percentile value is 10.3\n",
      "99 percentile value is 14.0\n",
      "100 percentile value is 181.96\n"
     ]
    }
   ],
   "source": [
    "for i in range(90, 100):\n",
    "    var = frame_with_durations_modified['trip_distance'].values\n",
    "    var = np.sort(var, axis=None)\n",
    "    print(\"{} percentile value is {}\".format(i,var[int(len(var)*(float(i)/100))]))\n",
    "print(\"100 percentile value is\", var[-1])"
   ]
  },
  {
   "cell_type": "code",
   "execution_count": 30,
   "metadata": {},
   "outputs": [
    {
     "name": "stdout",
     "output_type": "stream",
     "text": [
      "99.0 percentile value is 14.0\n",
      "99.1 percentile value is 15.0\n",
      "99.2 percentile value is 15.98\n",
      "99.3 percentile value is 16.52\n",
      "99.4 percentile value is 16.91\n",
      "99.5 percentile value is 17.3\n",
      "99.6 percentile value is 17.7\n",
      "99.7 percentile value is 18.21\n",
      "99.8 percentile value is 19.11\n",
      "99.9 percentile value is 20.5\n",
      "100 percentile value is  181.96\n"
     ]
    }
   ],
   "source": [
    "for i in np.arange(0.0, 1.0, 0.1):\n",
    "    var =frame_with_durations_modified[\"trip_distance\"].values\n",
    "    var = np.sort(var,axis = None)\n",
    "    print(\"{} percentile value is {}\".format(99+i,var[int(len(var)*(float(99+i)/100))]))\n",
    "print(\"100 percentile value is \",var[-1])"
   ]
  },
  {
   "cell_type": "code",
   "execution_count": 31,
   "metadata": {},
   "outputs": [],
   "source": [
    "#removing further outliers based on the 99.9th percentile value\n",
    "frame_with_durations_modified=frame_with_durations[(frame_with_durations.trip_distance>0) & (frame_with_durations.trip_distance<23)]"
   ]
  },
  {
   "cell_type": "code",
   "execution_count": 32,
   "metadata": {},
   "outputs": [
    {
     "data": {
      "image/png": "[encoded data removed]",
      "text/plain": [
       "<Figure size 640x480 with 1 Axes>"
      ]
     },
     "metadata": {},
     "output_type": "display_data"
    }
   ],
   "source": [
    "#box-plot after removal of outliers\n",
    "sns.boxplot(y=\"trip_distance\", data = frame_with_durations_modified)\n",
    "plt.show()"
   ]
  },
  {
   "cell_type": "markdown",
   "metadata": {},
   "source": [
    "# total fare"
   ]
  },
  {
   "cell_type": "code",
   "execution_count": 33,
   "metadata": {},
   "outputs": [
    {
     "data": {
      "image/png": "[encoded data removed]",
      "text/plain": [
       "<Figure size 640x480 with 1 Axes>"
      ]
     },
     "metadata": {},
     "output_type": "display_data"
    }
   ],
   "source": [
    "# up to now we have removed the outliers based on trip durations, cab speeds, and trip distances\n",
    "# lets try if there are any outliers in based on the total_amount\n",
    "# box-plot showing outliers in fare\n",
    "sns.boxplot(y=\"total_amount\", data =frame_with_durations_modified)\n",
    "plt.show()"
   ]
  },
  {
   "cell_type": "code",
   "execution_count": 34,
   "metadata": {},
   "outputs": [
    {
     "name": "stdout",
     "output_type": "stream",
     "text": [
      "0 percentile value is -242.55\n",
      "10 percentile value is 6.3\n",
      "20 percentile value is 7.55\n",
      "30 percentile value is 8.6\n",
      "40 percentile value is 9.8\n",
      "50 percentile value is 10.8\n",
      "60 percentile value is 12.3\n",
      "70 percentile value is 14.15\n",
      "80 percentile value is 16.8\n",
      "90 percentile value is 22.25\n",
      "100 percentile value is  3950611.6\n"
     ]
    }
   ],
   "source": [
    "#calculating total fare amount values at each percntile 0,10,20,30,40,50,60,70,80,90,100 \n",
    "for i in range(0,100,10):\n",
    "    var = frame_with_durations_modified[\"total_amount\"].values\n",
    "    var = np.sort(var,axis = None)\n",
    "    print(\"{} percentile value is {}\".format(i,var[int(len(var)*(float(i)/100))]))\n",
    "print(\"100 percentile value is \",var[-1])"
   ]
  },
  {
   "cell_type": "code",
   "execution_count": 35,
   "metadata": {},
   "outputs": [
    {
     "name": "stdout",
     "output_type": "stream",
     "text": [
      "90 percentile value is 22.25\n",
      "91 percentile value is 23.0\n",
      "92 percentile value is 24.1\n",
      "93 percentile value is 25.3\n",
      "94 percentile value is 26.75\n",
      "95 percentile value is 28.55\n",
      "96 percentile value is 31.0\n",
      "97 percentile value is 35.13\n",
      "98 percentile value is 41.13\n",
      "99 percentile value is 53.8\n",
      "100 percentile value is  3950611.6\n"
     ]
    }
   ],
   "source": [
    "#calculating total fare amount values at each percntile 90,91,92,93,94,95,96,97,98,99,100\n",
    "for i in range(90,100):\n",
    "    var = frame_with_durations_modified[\"total_amount\"].values\n",
    "    var = np.sort(var,axis = None)\n",
    "    print(\"{} percentile value is {}\".format(i,var[int(len(var)*(float(i)/100))]))\n",
    "print(\"100 percentile value is \",var[-1])"
   ]
  },
  {
   "cell_type": "code",
   "execution_count": 36,
   "metadata": {},
   "outputs": [
    {
     "name": "stdout",
     "output_type": "stream",
     "text": [
      "99.0 percentile value is 53.8\n",
      "99.1 percentile value is 57.8\n",
      "99.2 percentile value is 58.13\n",
      "99.3 percentile value is 59.8\n",
      "99.4 percentile value is 63.2\n",
      "99.5 percentile value is 66.0\n",
      "99.6 percentile value is 69.6\n",
      "99.7 percentile value is 69.75\n",
      "99.8 percentile value is 72.66\n",
      "99.9 percentile value is 85.25\n",
      "100 percentile value is  3950611.6\n"
     ]
    }
   ],
   "source": [
    "#calculating total fare amount values at each percntile 99.0,99.1,99.2,99.3,99.4,99.5,99.6,99.7,99.8,99.9,100\n",
    "for i in np.arange(0.0, 1.0, 0.1):\n",
    "    var = frame_with_durations_modified[\"total_amount\"].values\n",
    "    var = np.sort(var,axis = None)\n",
    "    print(\"{} percentile value is {}\".format(99+i,var[int(len(var)*(float(99+i)/100))]))\n",
    "print(\"100 percentile value is \",var[-1])"
   ]
  },
  {
   "cell_type": "code",
   "execution_count": 37,
   "metadata": {},
   "outputs": [
    {
     "data": {
      "image/png": "[encoded data removed]",
      "text/plain": [
       "<Figure size 640x480 with 1 Axes>"
      ]
     },
     "metadata": {},
     "output_type": "display_data"
    }
   ],
   "source": [
    "#below plot shows us the fare values(sorted) to find a sharp increase to remove those values as outliers\n",
    "# plot the fare amount excluding last two values in sorted data\n",
    "plt.plot(var[:-2])\n",
    "plt.show()"
   ]
  },
  {
   "cell_type": "code",
   "execution_count": 38,
   "metadata": {},
   "outputs": [
    {
     "data": {
      "image/png": "[encoded data removed]",
      "text/plain": [
       "<Figure size 640x480 with 1 Axes>"
      ]
     },
     "metadata": {},
     "output_type": "display_data"
    }
   ],
   "source": [
    "# a very sharp increase in fare values can be seen \n",
    "# plotting last three total fare values, and we can observe there is share increase in the values\n",
    "plt.plot(var[-3:])\n",
    "plt.show()"
   ]
  },
  {
   "cell_type": "code",
   "execution_count": 39,
   "metadata": {},
   "outputs": [
    {
     "data": {
      "image/png": "[encoded data removed]",
      "text/plain": [
       "<Figure size 640x480 with 1 Axes>"
      ]
     },
     "metadata": {},
     "output_type": "display_data"
    }
   ],
   "source": [
    "#now looking at values not including the last two points we again find a drastic increase at around 1000 fare value\n",
    "# we plot last 50 values excluding last two values\n",
    "plt.plot(var[-10:-2])\n",
    "plt.show()"
   ]
  },
  {
   "cell_type": "code",
   "execution_count": 40,
   "metadata": {},
   "outputs": [],
   "source": [
    "# 1. 이상한 시간\n",
    "# 2. 이상한 속도\n",
    "# 3. 이상한 거리\n",
    "# 4. 이상한 비용\n",
    "# 5. 이상한 팁\n",
    "def remove_outliers(new_frame):\n",
    "    a = new_frame.shape[0]\n",
    "    print(\"총 데이터 수 = \", a)\n",
    "\n",
    "    # 시간\n",
    "    temp_frame = new_frame[(new_frame.trip_times > 0) & (new_frame.trip_times < 720)]\n",
    "    c = temp_frame.shape[0]\n",
    "    print (\"시간 튀는 값의 개수:\",(a-c))\n",
    "    \n",
    "    # 거리\n",
    "    temp_frame = new_frame[(new_frame.trip_distance > 0) & (new_frame.trip_distance < 23)]\n",
    "    d = temp_frame.shape[0]\n",
    "    print (\"거리 튀는 값의 개수:\",(a-d))\n",
    "\n",
    "    # 속도\n",
    "    temp_frame = new_frame[(new_frame.Speed < 65) & (new_frame.Speed > 0)]\n",
    "    e = temp_frame.shape[0]\n",
    "    print (\"속도 튀는 값의 개수\",(a-e))\n",
    "\n",
    "    # 비용\n",
    "    temp_frame = new_frame[(new_frame.total_amount <1000) & (new_frame.total_amount >0)]\n",
    "    f = temp_frame.shape[0]\n",
    "    print (\"비용 튀는 값의 개수:\",(a-f))\n",
    "\n",
    "    new_frame = new_frame[(new_frame.trip_times > 0) & (new_frame.trip_times < 720)]\n",
    "    new_frame = new_frame[(new_frame.trip_distance > 0) & (new_frame.trip_distance < 23)]\n",
    "    new_frame = new_frame[(new_frame.Speed < 65) & (new_frame.Speed > 0)]\n",
    "    new_frame = new_frame[(new_frame.total_amount <1000) & (new_frame.total_amount >0)]\n",
    "\n",
    "    print(\"전체 삭제 된 데이터 수\", a-new_frame.shape[0])\n",
    "    print(\"---\")\n",
    "    return new_frame"
   ]
  },
  {
   "cell_type": "code",
   "execution_count": 41,
   "metadata": {},
   "outputs": [
    {
     "name": "stdout",
     "output_type": "stream",
     "text": [
      "2015-01 데이터 제거 현황\n",
      "---\n",
      "총 데이터 수 =  11613627\n",
      "시간 튀는 값의 개수: 19384\n",
      "거리 튀는 값의 개수: 45554\n",
      "속도 튀는 값의 개수 46982\n",
      "비용 튀는 값의 개수: 3196\n",
      "전체 삭제 된 데이터 수 61180\n",
      "---\n",
      "튀는 값 제거하고 남은 비율 0.9947320505471718\n"
     ]
    }
   ],
   "source": [
    "print(\"2015-01 데이터 제거 현황\")\n",
    "print(\"---\")\n",
    "frame_with_durations_outliers_removed = remove_outliers(frame_with_durations)\n",
    "print(\"튀는 값 제거하고 남은 비율\", float(len(frame_with_durations_outliers_removed))/len(frame_with_durations))"
   ]
  },
  {
   "cell_type": "code",
   "execution_count": 42,
   "metadata": {},
   "outputs": [
    {
     "data": {
      "text/html": [
       "<div>\n",
       "<style scoped>\n",
       "    .dataframe tbody tr th:only-of-type {\n",
       "        vertical-align: middle;\n",
       "    }\n",
       "\n",
       "    .dataframe tbody tr th {\n",
       "        vertical-align: top;\n",
       "    }\n",
       "\n",
       "    .dataframe thead th {\n",
       "        text-align: right;\n",
       "    }\n",
       "</style>\n",
       "<table border=\"1\" class=\"dataframe\">\n",
       "  <thead>\n",
       "    <tr style=\"text-align: right;\">\n",
       "      <th></th>\n",
       "      <th>passenger_count</th>\n",
       "      <th>trip_distance</th>\n",
       "      <th>PULocationID</th>\n",
       "      <th>DOLocationID</th>\n",
       "      <th>total_amount</th>\n",
       "      <th>trip_times</th>\n",
       "      <th>pickup_times</th>\n",
       "      <th>Speed</th>\n",
       "    </tr>\n",
       "  </thead>\n",
       "  <tbody>\n",
       "    <tr>\n",
       "      <th>0</th>\n",
       "      <td>1</td>\n",
       "      <td>4.20</td>\n",
       "      <td>1</td>\n",
       "      <td>256</td>\n",
       "      <td>19.30</td>\n",
       "      <td>22.733333</td>\n",
       "      <td>1.420038e+09</td>\n",
       "      <td>11.085044</td>\n",
       "    </tr>\n",
       "    <tr>\n",
       "      <th>1</th>\n",
       "      <td>2</td>\n",
       "      <td>1.60</td>\n",
       "      <td>1</td>\n",
       "      <td>211</td>\n",
       "      <td>13.35</td>\n",
       "      <td>11.266667</td>\n",
       "      <td>1.420041e+09</td>\n",
       "      <td>8.520710</td>\n",
       "    </tr>\n",
       "    <tr>\n",
       "      <th>2</th>\n",
       "      <td>1</td>\n",
       "      <td>3.10</td>\n",
       "      <td>1</td>\n",
       "      <td>256</td>\n",
       "      <td>13.80</td>\n",
       "      <td>13.066667</td>\n",
       "      <td>1.420040e+09</td>\n",
       "      <td>14.234694</td>\n",
       "    </tr>\n",
       "    <tr>\n",
       "      <th>3</th>\n",
       "      <td>1</td>\n",
       "      <td>1.60</td>\n",
       "      <td>1</td>\n",
       "      <td>144</td>\n",
       "      <td>9.30</td>\n",
       "      <td>8.050000</td>\n",
       "      <td>1.420039e+09</td>\n",
       "      <td>11.925466</td>\n",
       "    </tr>\n",
       "    <tr>\n",
       "      <th>4</th>\n",
       "      <td>1</td>\n",
       "      <td>1.15</td>\n",
       "      <td>1</td>\n",
       "      <td>107</td>\n",
       "      <td>8.00</td>\n",
       "      <td>3.750000</td>\n",
       "      <td>1.420041e+09</td>\n",
       "      <td>18.400000</td>\n",
       "    </tr>\n",
       "    <tr>\n",
       "      <th>...</th>\n",
       "      <td>...</td>\n",
       "      <td>...</td>\n",
       "      <td>...</td>\n",
       "      <td>...</td>\n",
       "      <td>...</td>\n",
       "      <td>...</td>\n",
       "      <td>...</td>\n",
       "      <td>...</td>\n",
       "    </tr>\n",
       "    <tr>\n",
       "      <th>11613622</th>\n",
       "      <td>1</td>\n",
       "      <td>4.10</td>\n",
       "      <td>69</td>\n",
       "      <td>79</td>\n",
       "      <td>17.80</td>\n",
       "      <td>22.200000</td>\n",
       "      <td>1.422716e+09</td>\n",
       "      <td>11.081081</td>\n",
       "    </tr>\n",
       "    <tr>\n",
       "      <th>11613623</th>\n",
       "      <td>1</td>\n",
       "      <td>4.20</td>\n",
       "      <td>69</td>\n",
       "      <td>148</td>\n",
       "      <td>24.35</td>\n",
       "      <td>25.733333</td>\n",
       "      <td>1.422715e+09</td>\n",
       "      <td>9.792746</td>\n",
       "    </tr>\n",
       "    <tr>\n",
       "      <th>11613624</th>\n",
       "      <td>2</td>\n",
       "      <td>2.80</td>\n",
       "      <td>69</td>\n",
       "      <td>230</td>\n",
       "      <td>18.35</td>\n",
       "      <td>19.066667</td>\n",
       "      <td>1.422713e+09</td>\n",
       "      <td>8.811189</td>\n",
       "    </tr>\n",
       "    <tr>\n",
       "      <th>11613625</th>\n",
       "      <td>6</td>\n",
       "      <td>0.39</td>\n",
       "      <td>69</td>\n",
       "      <td>75</td>\n",
       "      <td>4.80</td>\n",
       "      <td>2.100000</td>\n",
       "      <td>1.422715e+09</td>\n",
       "      <td>11.142857</td>\n",
       "    </tr>\n",
       "    <tr>\n",
       "      <th>11613626</th>\n",
       "      <td>1</td>\n",
       "      <td>1.40</td>\n",
       "      <td>69</td>\n",
       "      <td>238</td>\n",
       "      <td>7.80</td>\n",
       "      <td>5.250000</td>\n",
       "      <td>1.422714e+09</td>\n",
       "      <td>16.000000</td>\n",
       "    </tr>\n",
       "  </tbody>\n",
       "</table>\n",
       "<p>11552447 rows × 8 columns</p>\n",
       "</div>"
      ],
      "text/plain": [
       "          passenger_count  trip_distance  PULocationID  DOLocationID  \\\n",
       "0                       1           4.20             1           256   \n",
       "1                       2           1.60             1           211   \n",
       "2                       1           3.10             1           256   \n",
       "3                       1           1.60             1           144   \n",
       "4                       1           1.15             1           107   \n",
       "...                   ...            ...           ...           ...   \n",
       "11613622                1           4.10            69            79   \n",
       "11613623                1           4.20            69           148   \n",
       "11613624                2           2.80            69           230   \n",
       "11613625                6           0.39            69            75   \n",
       "11613626                1           1.40            69           238   \n",
       "\n",
       "          total_amount  trip_times  pickup_times      Speed  \n",
       "0                19.30   22.733333  1.420038e+09  11.085044  \n",
       "1                13.35   11.266667  1.420041e+09   8.520710  \n",
       "2                13.80   13.066667  1.420040e+09  14.234694  \n",
       "3                 9.30    8.050000  1.420039e+09  11.925466  \n",
       "4                 8.00    3.750000  1.420041e+09  18.400000  \n",
       "...                ...         ...           ...        ...  \n",
       "11613622         17.80   22.200000  1.422716e+09  11.081081  \n",
       "11613623         24.35   25.733333  1.422715e+09   9.792746  \n",
       "11613624         18.35   19.066667  1.422713e+09   8.811189  \n",
       "11613625          4.80    2.100000  1.422715e+09  11.142857  \n",
       "11613626          7.80    5.250000  1.422714e+09  16.000000  \n",
       "\n",
       "[11552447 rows x 8 columns]"
      ]
     },
     "execution_count": 42,
     "metadata": {},
     "output_type": "execute_result"
    }
   ],
   "source": [
    "for location_id, index in zip(manhattan_number, range(1, len(manhattan_number)+1)):\n",
    "    frame_with_durations_outliers_removed.loc[frame_with_durations_outliers_removed['PULocationID'] == location_id, 'PULocationID'] = index\n",
    "frame_with_durations_outliers_removed"
   ]
  },
  {
   "cell_type": "markdown",
   "metadata": {},
   "source": [
    "# 3. Gruoping"
   ]
  },
  {
   "cell_type": "code",
   "execution_count": 43,
   "metadata": {},
   "outputs": [],
   "source": [
    "#Refer:https://www.unixtimestamp.com/\n",
    "# 1577804400 : 2015-01-01 00:00:00 \n",
    "# 1580482800 : 2015-02-01 00:00:00 \n",
    "# 1582988400 : 2015-03-01 00:00:00\n",
    "# 1585666800 : 2015-04-01 00:00:00 \n",
    "# 1588258800 : 2015-05-01 00:00:00 \n",
    "# 1590937200 : 2015-06-01 00:00:00\n",
    "\n",
    "# 1609426800 : 2016-01-01 00:00:00 \n",
    "# 1612105200 : 2016-02-01 00:00:00 \n",
    "# 1614524400 : 2016-03-01 00:00:00\n",
    "# 1617202800 : 2016-04-01 00:00:00 \n",
    "# 1619794800 : 2016-05-01 00:00:00 \n",
    "# 1622473200 : 2016-06-01 00:00:00\n",
    "def add_pickup_bins(frame,month,year):\n",
    "    unix_pickup_times=[i for i in frame['pickup_times'].values]\n",
    "    unix_times = [[1420038000,1422716400,1425135600,1427814000,1430406000,1433084400],\\\n",
    "                    [1451574000,1454252400,1456758000,1459436400,1462028400,1464706800]]\n",
    "    \n",
    "    start_pickup_unix=unix_times[year-2015][month-1]\n",
    "    # https://www.timeanddate.com/time/zones/est\n",
    "    # (int((i-start_pickup_unix)/600)+33) : our unix time is in gmt to we are converting it to est\n",
    "    tenminutewise_binned_unix_pickup_times=[(int((i-start_pickup_unix)/600)+33) for i in unix_pickup_times]\n",
    "\n",
    "    frame['pickup_bins'] = np.array(tenminutewise_binned_unix_pickup_times)\n",
    "    return frame"
   ]
  },
  {
   "cell_type": "code",
   "execution_count": 44,
   "metadata": {},
   "outputs": [],
   "source": [
    "jan_previous_frame = add_pickup_bins(frame_with_durations_outliers_removed,1,2015)"
   ]
  },
  {
   "cell_type": "code",
   "execution_count": 45,
   "metadata": {},
   "outputs": [],
   "source": [
    "jan_previous_groupy = jan_previous_frame[['PULocationID', 'pickup_bins', 'trip_distance']].groupby(['PULocationID', 'pickup_bins']).count()"
   ]
  },
  {
   "cell_type": "code",
   "execution_count": 46,
   "metadata": {},
   "outputs": [
    {
     "data": {
      "text/html": [
       "<div>\n",
       "<style scoped>\n",
       "    .dataframe tbody tr th:only-of-type {\n",
       "        vertical-align: middle;\n",
       "    }\n",
       "\n",
       "    .dataframe tbody tr th {\n",
       "        vertical-align: top;\n",
       "    }\n",
       "\n",
       "    .dataframe thead th {\n",
       "        text-align: right;\n",
       "    }\n",
       "</style>\n",
       "<table border=\"1\" class=\"dataframe\">\n",
       "  <thead>\n",
       "    <tr style=\"text-align: right;\">\n",
       "      <th></th>\n",
       "      <th>passenger_count</th>\n",
       "      <th>trip_distance</th>\n",
       "      <th>PULocationID</th>\n",
       "      <th>DOLocationID</th>\n",
       "      <th>total_amount</th>\n",
       "      <th>trip_times</th>\n",
       "      <th>pickup_times</th>\n",
       "      <th>Speed</th>\n",
       "      <th>pickup_bins</th>\n",
       "    </tr>\n",
       "  </thead>\n",
       "  <tbody>\n",
       "    <tr>\n",
       "      <th>0</th>\n",
       "      <td>1</td>\n",
       "      <td>4.20</td>\n",
       "      <td>1</td>\n",
       "      <td>256</td>\n",
       "      <td>19.30</td>\n",
       "      <td>22.733333</td>\n",
       "      <td>1.420038e+09</td>\n",
       "      <td>11.085044</td>\n",
       "      <td>33</td>\n",
       "    </tr>\n",
       "    <tr>\n",
       "      <th>1</th>\n",
       "      <td>2</td>\n",
       "      <td>1.60</td>\n",
       "      <td>1</td>\n",
       "      <td>211</td>\n",
       "      <td>13.35</td>\n",
       "      <td>11.266667</td>\n",
       "      <td>1.420041e+09</td>\n",
       "      <td>8.520710</td>\n",
       "      <td>37</td>\n",
       "    </tr>\n",
       "    <tr>\n",
       "      <th>2</th>\n",
       "      <td>1</td>\n",
       "      <td>3.10</td>\n",
       "      <td>1</td>\n",
       "      <td>256</td>\n",
       "      <td>13.80</td>\n",
       "      <td>13.066667</td>\n",
       "      <td>1.420040e+09</td>\n",
       "      <td>14.234694</td>\n",
       "      <td>37</td>\n",
       "    </tr>\n",
       "    <tr>\n",
       "      <th>3</th>\n",
       "      <td>1</td>\n",
       "      <td>1.60</td>\n",
       "      <td>1</td>\n",
       "      <td>144</td>\n",
       "      <td>9.30</td>\n",
       "      <td>8.050000</td>\n",
       "      <td>1.420039e+09</td>\n",
       "      <td>11.925466</td>\n",
       "      <td>34</td>\n",
       "    </tr>\n",
       "    <tr>\n",
       "      <th>4</th>\n",
       "      <td>1</td>\n",
       "      <td>1.15</td>\n",
       "      <td>1</td>\n",
       "      <td>107</td>\n",
       "      <td>8.00</td>\n",
       "      <td>3.750000</td>\n",
       "      <td>1.420041e+09</td>\n",
       "      <td>18.400000</td>\n",
       "      <td>37</td>\n",
       "    </tr>\n",
       "  </tbody>\n",
       "</table>\n",
       "</div>"
      ],
      "text/plain": [
       "   passenger_count  trip_distance  PULocationID  DOLocationID  total_amount  \\\n",
       "0                1           4.20             1           256         19.30   \n",
       "1                2           1.60             1           211         13.35   \n",
       "2                1           3.10             1           256         13.80   \n",
       "3                1           1.60             1           144          9.30   \n",
       "4                1           1.15             1           107          8.00   \n",
       "\n",
       "   trip_times  pickup_times      Speed  pickup_bins  \n",
       "0   22.733333  1.420038e+09  11.085044           33  \n",
       "1   11.266667  1.420041e+09   8.520710           37  \n",
       "2   13.066667  1.420040e+09  14.234694           37  \n",
       "3    8.050000  1.420039e+09  11.925466           34  \n",
       "4    3.750000  1.420041e+09  18.400000           37  "
      ]
     },
     "execution_count": 46,
     "metadata": {},
     "output_type": "execute_result"
    }
   ],
   "source": [
    "jan_previous_frame.head()"
   ]
  },
  {
   "cell_type": "code",
   "execution_count": 47,
   "metadata": {},
   "outputs": [
    {
     "data": {
      "text/html": [
       "<div>\n",
       "<style scoped>\n",
       "    .dataframe tbody tr th:only-of-type {\n",
       "        vertical-align: middle;\n",
       "    }\n",
       "\n",
       "    .dataframe tbody tr th {\n",
       "        vertical-align: top;\n",
       "    }\n",
       "\n",
       "    .dataframe thead th {\n",
       "        text-align: right;\n",
       "    }\n",
       "</style>\n",
       "<table border=\"1\" class=\"dataframe\">\n",
       "  <thead>\n",
       "    <tr style=\"text-align: right;\">\n",
       "      <th></th>\n",
       "      <th></th>\n",
       "      <th>trip_distance</th>\n",
       "    </tr>\n",
       "    <tr>\n",
       "      <th>PULocationID</th>\n",
       "      <th>pickup_bins</th>\n",
       "      <th></th>\n",
       "    </tr>\n",
       "  </thead>\n",
       "  <tbody>\n",
       "    <tr>\n",
       "      <th rowspan=\"5\" valign=\"top\">1</th>\n",
       "      <th>33</th>\n",
       "      <td>14</td>\n",
       "    </tr>\n",
       "    <tr>\n",
       "      <th>34</th>\n",
       "      <td>24</td>\n",
       "    </tr>\n",
       "    <tr>\n",
       "      <th>35</th>\n",
       "      <td>32</td>\n",
       "    </tr>\n",
       "    <tr>\n",
       "      <th>36</th>\n",
       "      <td>30</td>\n",
       "    </tr>\n",
       "    <tr>\n",
       "      <th>37</th>\n",
       "      <td>45</td>\n",
       "    </tr>\n",
       "  </tbody>\n",
       "</table>\n",
       "</div>"
      ],
      "text/plain": [
       "                          trip_distance\n",
       "PULocationID pickup_bins               \n",
       "1            33                      14\n",
       "             34                      24\n",
       "             35                      32\n",
       "             36                      30\n",
       "             37                      45"
      ]
     },
     "execution_count": 47,
     "metadata": {},
     "output_type": "execute_result"
    }
   ],
   "source": [
    "jan_previous_groupy.head()"
   ]
  },
  {
   "cell_type": "code",
   "execution_count": 48,
   "metadata": {},
   "outputs": [
    {
     "name": "stdout",
     "output_type": "stream",
     "text": [
      "Return with trip times..\n",
      "Remove outliers..\n",
      "총 데이터 수 =  10905067\n",
      "시간 튀는 값의 개수: 27122\n",
      "거리 튀는 값의 개수: 78488\n",
      "속도 튀는 값의 개수 72765\n",
      "비용 튀는 값의 개수: 4664\n",
      "전체 삭제 된 데이터 수 107073\n",
      "---\n",
      "Final groupbying..\n",
      "Return with trip times..\n",
      "Remove outliers..\n",
      "총 데이터 수 =  11375412\n",
      "시간 튀는 값의 개수: 27554\n",
      "거리 튀는 값의 개수: 77091\n",
      "속도 튀는 값의 개수 73145\n",
      "비용 튀는 값의 개수: 4821\n",
      "전체 삭제 된 데이터 수 105738\n",
      "---\n",
      "Final groupbying..\n",
      "Return with trip times..\n",
      "Remove outliers..\n",
      "총 데이터 수 =  12203824\n",
      "시간 튀는 값의 개수: 30729\n",
      "거리 튀는 값의 개수: 82262\n",
      "속도 튀는 값의 개수 77690\n",
      "비용 튀는 값의 개수: 5059\n",
      "전체 삭제 된 데이터 수 115374\n",
      "---\n",
      "Final groupbying..\n",
      "Return with trip times..\n",
      "Remove outliers..\n",
      "총 데이터 수 =  11927996\n",
      "시간 튀는 값의 개수: 37794\n",
      "거리 튀는 값의 개수: 88891\n",
      "속도 튀는 값의 개수 84303\n",
      "비용 튀는 값의 개수: 5122\n",
      "전체 삭제 된 데이터 수 121370\n",
      "---\n",
      "Final groupbying..\n",
      "Return with trip times..\n",
      "Remove outliers..\n",
      "총 데이터 수 =  11832049\n",
      "시간 튀는 값의 개수: 29521\n",
      "거리 튀는 값의 개수: 87251\n",
      "속도 튀는 값의 개수 79978\n",
      "비용 튀는 값의 개수: 5465\n",
      "전체 삭제 된 데이터 수 119982\n",
      "---\n",
      "Final groupbying..\n",
      "Return with trip times..\n",
      "Remove outliers..\n",
      "총 데이터 수 =  11131645\n",
      "시간 튀는 값의 개수: 27535\n",
      "거리 튀는 값의 개수: 83151\n",
      "속도 튀는 값의 개수 77636\n",
      "비용 튀는 값의 개수: 5312\n",
      "전체 삭제 된 데이터 수 114031\n",
      "---\n",
      "Final groupbying..\n"
     ]
    }
   ],
   "source": [
    "# upto now we cleaned data and prepared data for the month 2015,\n",
    "\n",
    "# now do the same operations for months Jan, Feb, March of 2016\n",
    "# 1. get the dataframe which inlcudes only required colums\n",
    "# 2. adding trip times, speed, unix time stamp of pickup_time\n",
    "# 4. remove the outliers based on trip_times, speed, trip_duration, total_amount\n",
    "# 5. add pickup_cluster to each data point\n",
    "# 6. add pickup_bin (index of 10min intravel to which that trip belongs to)\n",
    "# 7. group by data, based on 'pickup_cluster' and 'pickuo_bin'\n",
    "\n",
    "# Data Preparation for the months of Jan,Feb and March 2016\n",
    "def datapreparation(month,month_no,year_no):\n",
    "    \n",
    "    print (\"Return with trip times..\")\n",
    "\n",
    "    frame_with_durations = return_with_trip_times(month)\n",
    "    \n",
    "    print (\"Remove outliers..\")\n",
    "    frame_with_durations_outliers_removed = remove_outliers(frame_with_durations)\n",
    "\n",
    "    print (\"Final groupbying..\")\n",
    "    final_updated_frame = add_pickup_bins(frame_with_durations_outliers_removed,month_no,year_no)\n",
    "    final_groupby_frame = final_updated_frame[['PULocationID', 'pickup_bins', 'trip_distance']].groupby(['PULocationID', 'pickup_bins']).count()\n",
    "    \n",
    "    return final_updated_frame,final_groupby_frame\n",
    "    \n",
    "year = '2016'\n",
    "month_jan = pd.read_parquet('/Users/jinsu/Desktop/vscode/taxi_data/yellow_tripdata_{0}-01.parquet'.format(year))\n",
    "month_feb = pd.read_parquet('/Users/jinsu/Desktop/vscode/taxi_data/yellow_tripdata_{0}-02.parquet'.format(year))\n",
    "month_mar = pd.read_parquet('/Users/jinsu/Desktop/vscode/taxi_data/yellow_tripdata_{0}-03.parquet'.format(year))\n",
    "month_apr = pd.read_parquet('/Users/jinsu/Desktop/vscode/taxi_data/yellow_tripdata_{0}-04.parquet'.format(year))\n",
    "month_may = pd.read_parquet('/Users/jinsu/Desktop/vscode/taxi_data/yellow_tripdata_{0}-05.parquet'.format(year))\n",
    "month_jun = pd.read_parquet('/Users/jinsu/Desktop/vscode/taxi_data/yellow_tripdata_{0}-06.parquet'.format(year))\n",
    "\n",
    "jan_frame, jan_groupby = datapreparation(month_jan, 1, int(year))\n",
    "feb_frame, feb_groupby = datapreparation(month_feb, 2, int(year))\n",
    "mar_frame, mar_groupby = datapreparation(month_mar, 3, int(year))\n",
    "apr_frame, apr_groupby = datapreparation(month_apr, 4, int(year))\n",
    "may_frame, may_groupby = datapreparation(month_may, 5, int(year))\n",
    "jun_frame, jun_groupby = datapreparation(month_jun, 6, int(year))"
   ]
  },
  {
   "cell_type": "code",
   "execution_count": 49,
   "metadata": {},
   "outputs": [
    {
     "data": {
      "text/html": [
       "<div>\n",
       "<style scoped>\n",
       "    .dataframe tbody tr th:only-of-type {\n",
       "        vertical-align: middle;\n",
       "    }\n",
       "\n",
       "    .dataframe tbody tr th {\n",
       "        vertical-align: top;\n",
       "    }\n",
       "\n",
       "    .dataframe thead th {\n",
       "        text-align: right;\n",
       "    }\n",
       "</style>\n",
       "<table border=\"1\" class=\"dataframe\">\n",
       "  <thead>\n",
       "    <tr style=\"text-align: right;\">\n",
       "      <th></th>\n",
       "      <th>passenger_count</th>\n",
       "      <th>trip_distance</th>\n",
       "      <th>PULocationID</th>\n",
       "      <th>DOLocationID</th>\n",
       "      <th>total_amount</th>\n",
       "      <th>trip_times</th>\n",
       "      <th>pickup_times</th>\n",
       "      <th>Speed</th>\n",
       "      <th>pickup_bins</th>\n",
       "    </tr>\n",
       "  </thead>\n",
       "  <tbody>\n",
       "    <tr>\n",
       "      <th>0</th>\n",
       "      <td>1</td>\n",
       "      <td>4.20</td>\n",
       "      <td>1</td>\n",
       "      <td>256</td>\n",
       "      <td>19.30</td>\n",
       "      <td>22.733333</td>\n",
       "      <td>1.420038e+09</td>\n",
       "      <td>11.085044</td>\n",
       "      <td>33</td>\n",
       "    </tr>\n",
       "    <tr>\n",
       "      <th>1</th>\n",
       "      <td>2</td>\n",
       "      <td>1.60</td>\n",
       "      <td>1</td>\n",
       "      <td>211</td>\n",
       "      <td>13.35</td>\n",
       "      <td>11.266667</td>\n",
       "      <td>1.420041e+09</td>\n",
       "      <td>8.520710</td>\n",
       "      <td>37</td>\n",
       "    </tr>\n",
       "    <tr>\n",
       "      <th>2</th>\n",
       "      <td>1</td>\n",
       "      <td>3.10</td>\n",
       "      <td>1</td>\n",
       "      <td>256</td>\n",
       "      <td>13.80</td>\n",
       "      <td>13.066667</td>\n",
       "      <td>1.420040e+09</td>\n",
       "      <td>14.234694</td>\n",
       "      <td>37</td>\n",
       "    </tr>\n",
       "    <tr>\n",
       "      <th>3</th>\n",
       "      <td>1</td>\n",
       "      <td>1.60</td>\n",
       "      <td>1</td>\n",
       "      <td>144</td>\n",
       "      <td>9.30</td>\n",
       "      <td>8.050000</td>\n",
       "      <td>1.420039e+09</td>\n",
       "      <td>11.925466</td>\n",
       "      <td>34</td>\n",
       "    </tr>\n",
       "    <tr>\n",
       "      <th>4</th>\n",
       "      <td>1</td>\n",
       "      <td>1.15</td>\n",
       "      <td>1</td>\n",
       "      <td>107</td>\n",
       "      <td>8.00</td>\n",
       "      <td>3.750000</td>\n",
       "      <td>1.420041e+09</td>\n",
       "      <td>18.400000</td>\n",
       "      <td>37</td>\n",
       "    </tr>\n",
       "    <tr>\n",
       "      <th>...</th>\n",
       "      <td>...</td>\n",
       "      <td>...</td>\n",
       "      <td>...</td>\n",
       "      <td>...</td>\n",
       "      <td>...</td>\n",
       "      <td>...</td>\n",
       "      <td>...</td>\n",
       "      <td>...</td>\n",
       "      <td>...</td>\n",
       "    </tr>\n",
       "    <tr>\n",
       "      <th>11613622</th>\n",
       "      <td>1</td>\n",
       "      <td>4.10</td>\n",
       "      <td>69</td>\n",
       "      <td>79</td>\n",
       "      <td>17.80</td>\n",
       "      <td>22.200000</td>\n",
       "      <td>1.422716e+09</td>\n",
       "      <td>11.081081</td>\n",
       "      <td>4495</td>\n",
       "    </tr>\n",
       "    <tr>\n",
       "      <th>11613623</th>\n",
       "      <td>1</td>\n",
       "      <td>4.20</td>\n",
       "      <td>69</td>\n",
       "      <td>148</td>\n",
       "      <td>24.35</td>\n",
       "      <td>25.733333</td>\n",
       "      <td>1.422715e+09</td>\n",
       "      <td>9.792746</td>\n",
       "      <td>4494</td>\n",
       "    </tr>\n",
       "    <tr>\n",
       "      <th>11613624</th>\n",
       "      <td>2</td>\n",
       "      <td>2.80</td>\n",
       "      <td>69</td>\n",
       "      <td>230</td>\n",
       "      <td>18.35</td>\n",
       "      <td>19.066667</td>\n",
       "      <td>1.422713e+09</td>\n",
       "      <td>8.811189</td>\n",
       "      <td>4492</td>\n",
       "    </tr>\n",
       "    <tr>\n",
       "      <th>11613625</th>\n",
       "      <td>6</td>\n",
       "      <td>0.39</td>\n",
       "      <td>69</td>\n",
       "      <td>75</td>\n",
       "      <td>4.80</td>\n",
       "      <td>2.100000</td>\n",
       "      <td>1.422715e+09</td>\n",
       "      <td>11.142857</td>\n",
       "      <td>4494</td>\n",
       "    </tr>\n",
       "    <tr>\n",
       "      <th>11613626</th>\n",
       "      <td>1</td>\n",
       "      <td>1.40</td>\n",
       "      <td>69</td>\n",
       "      <td>238</td>\n",
       "      <td>7.80</td>\n",
       "      <td>5.250000</td>\n",
       "      <td>1.422714e+09</td>\n",
       "      <td>16.000000</td>\n",
       "      <td>4493</td>\n",
       "    </tr>\n",
       "  </tbody>\n",
       "</table>\n",
       "<p>11552447 rows × 9 columns</p>\n",
       "</div>"
      ],
      "text/plain": [
       "          passenger_count  trip_distance  PULocationID  DOLocationID  \\\n",
       "0                       1           4.20             1           256   \n",
       "1                       2           1.60             1           211   \n",
       "2                       1           3.10             1           256   \n",
       "3                       1           1.60             1           144   \n",
       "4                       1           1.15             1           107   \n",
       "...                   ...            ...           ...           ...   \n",
       "11613622                1           4.10            69            79   \n",
       "11613623                1           4.20            69           148   \n",
       "11613624                2           2.80            69           230   \n",
       "11613625                6           0.39            69            75   \n",
       "11613626                1           1.40            69           238   \n",
       "\n",
       "          total_amount  trip_times  pickup_times      Speed  pickup_bins  \n",
       "0                19.30   22.733333  1.420038e+09  11.085044           33  \n",
       "1                13.35   11.266667  1.420041e+09   8.520710           37  \n",
       "2                13.80   13.066667  1.420040e+09  14.234694           37  \n",
       "3                 9.30    8.050000  1.420039e+09  11.925466           34  \n",
       "4                 8.00    3.750000  1.420041e+09  18.400000           37  \n",
       "...                ...         ...           ...        ...          ...  \n",
       "11613622         17.80   22.200000  1.422716e+09  11.081081         4495  \n",
       "11613623         24.35   25.733333  1.422715e+09   9.792746         4494  \n",
       "11613624         18.35   19.066667  1.422713e+09   8.811189         4492  \n",
       "11613625          4.80    2.100000  1.422715e+09  11.142857         4494  \n",
       "11613626          7.80    5.250000  1.422714e+09  16.000000         4493  \n",
       "\n",
       "[11552447 rows x 9 columns]"
      ]
     },
     "execution_count": 49,
     "metadata": {},
     "output_type": "execute_result"
    }
   ],
   "source": [
    "jan_previous_frame"
   ]
  },
  {
   "cell_type": "markdown",
   "metadata": {},
   "source": [
    "# SMOOTHING"
   ]
  },
  {
   "cell_type": "code",
   "execution_count": 50,
   "metadata": {},
   "outputs": [],
   "source": [
    "# Gets the unique bins where pickup values are present for each each reigion\n",
    "\n",
    "# for each cluster region we will collect all the indices of 10min intravels in which the pickups are happened\n",
    "# [적어도 1번 픽업이 발생한 지역의 모든 인덱스를 얻는다]\n",
    "# we got an observation that there are some pickpbins that doesnt have any pickups\n",
    "def return_unq_pickup_bins(frame):\n",
    "    values = []\n",
    "    for i in range(1,70):\n",
    "        new = frame[frame['PULocationID'] == i]\n",
    "        list_unq = list(set(new['pickup_bins']))\n",
    "        list_unq.sort()\n",
    "        values.append(list_unq)\n",
    "    return values"
   ]
  },
  {
   "cell_type": "code",
   "execution_count": 51,
   "metadata": {},
   "outputs": [],
   "source": [
    "# for every month we get all indices of 10min intravels in which atleast one pickup got happened\n",
    "\n",
    "#jan\n",
    "jan_previous_unique = return_unq_pickup_bins(jan_previous_frame)\n",
    "jan_unique = return_unq_pickup_bins(jan_frame)\n",
    "\n",
    "#feb\n",
    "feb_unique = return_unq_pickup_bins(feb_frame)\n",
    "\n",
    "#march\n",
    "mar_unique = return_unq_pickup_bins(mar_frame)\n",
    "\n",
    "#april\n",
    "apr_unique = return_unq_pickup_bins(apr_frame)\n",
    "\n",
    "#may\n",
    "may_unique = return_unq_pickup_bins(may_frame)\n",
    "\n",
    "#june\n",
    "jun_unique = return_unq_pickup_bins(jun_frame)"
   ]
  },
  {
   "cell_type": "code",
   "execution_count": 52,
   "metadata": {},
   "outputs": [],
   "source": [
    "# 31일 * 24시간 * 60분 / 60분 = month_interval_31 -> 10분\n",
    "month_interval_31 = int(31 * 24 * 60 / 10)\n",
    "month_interval_30 = int(30 * 24 * 60 / 10)\n",
    "month_interval_29 = int(29 * 24 * 60 / 10)\n",
    "month_interval_28 = int(28 * 24 * 60 / 10)"
   ]
  },
  {
   "cell_type": "code",
   "execution_count": 53,
   "metadata": {},
   "outputs": [
    {
     "name": "stdout",
     "output_type": "stream",
     "text": [
      "1 번째 구역에서 10분 간격안에 픽업 데이터가 없는 경우의 개수 109\n",
      "------------------------------------------------------------\n",
      "2 번째 구역에서 10분 간격안에 픽업 데이터가 없는 경우의 개수 2679\n",
      "------------------------------------------------------------\n",
      "3 번째 구역에서 10분 간격안에 픽업 데이터가 없는 경우의 개수 213\n",
      "------------------------------------------------------------\n",
      "4 번째 구역에서 10분 간격안에 픽업 데이터가 없는 경우의 개수 170\n",
      "------------------------------------------------------------\n",
      "5 번째 구역에서 10분 간격안에 픽업 데이터가 없는 경우의 개수 114\n",
      "------------------------------------------------------------\n",
      "6 번째 구역에서 10분 간격안에 픽업 데이터가 없는 경우의 개수 404\n",
      "------------------------------------------------------------\n",
      "7 번째 구역에서 10분 간격안에 픽업 데이터가 없는 경우의 개수 159\n",
      "------------------------------------------------------------\n",
      "8 번째 구역에서 10분 간격안에 픽업 데이터가 없는 경우의 개수 360\n",
      "------------------------------------------------------------\n",
      "9 번째 구역에서 10분 간격안에 픽업 데이터가 없는 경우의 개수 32\n",
      "------------------------------------------------------------\n",
      "10 번째 구역에서 10분 간격안에 픽업 데이터가 없는 경우의 개수 59\n",
      "------------------------------------------------------------\n",
      "11 번째 구역에서 10분 간격안에 픽업 데이터가 없는 경우의 개수 46\n",
      "------------------------------------------------------------\n",
      "12 번째 구역에서 10분 간격안에 픽업 데이터가 없는 경우의 개수 82\n",
      "------------------------------------------------------------\n",
      "13 번째 구역에서 10분 간격안에 픽업 데이터가 없는 경우의 개수 61\n",
      "------------------------------------------------------------\n",
      "14 번째 구역에서 10분 간격안에 픽업 데이터가 없는 경우의 개수 39\n",
      "------------------------------------------------------------\n",
      "15 번째 구역에서 10분 간격안에 픽업 데이터가 없는 경우의 개수 89\n",
      "------------------------------------------------------------\n",
      "16 번째 구역에서 10분 간격안에 픽업 데이터가 없는 경우의 개수 347\n",
      "------------------------------------------------------------\n",
      "17 번째 구역에서 10분 간격안에 픽업 데이터가 없는 경우의 개수 44\n",
      "------------------------------------------------------------\n",
      "18 번째 구역에서 10분 간격안에 픽업 데이터가 없는 경우의 개수 51\n",
      "------------------------------------------------------------\n",
      "19 번째 구역에서 10분 간격안에 픽업 데이터가 없는 경우의 개수 4464\n",
      "------------------------------------------------------------\n",
      "20 번째 구역에서 10분 간격안에 픽업 데이터가 없는 경우의 개수 4463\n",
      "------------------------------------------------------------\n",
      "21 번째 구역에서 10분 간격안에 픽업 데이터가 없는 경우의 개수 4406\n",
      "------------------------------------------------------------\n",
      "22 번째 구역에서 10분 간격안에 픽업 데이터가 없는 경우의 개수 36\n",
      "------------------------------------------------------------\n",
      "23 번째 구역에서 10분 간격안에 픽업 데이터가 없는 경우의 개수 57\n",
      "------------------------------------------------------------\n",
      "24 번째 구역에서 10분 간격안에 픽업 데이터가 없는 경우의 개수 54\n",
      "------------------------------------------------------------\n",
      "25 번째 구역에서 10분 간격안에 픽업 데이터가 없는 경우의 개수 639\n",
      "------------------------------------------------------------\n",
      "26 번째 구역에서 10분 간격안에 픽업 데이터가 없는 경우의 개수 4381\n",
      "------------------------------------------------------------\n",
      "27 번째 구역에서 10분 간격안에 픽업 데이터가 없는 경우의 개수 122\n",
      "------------------------------------------------------------\n",
      "28 번째 구역에서 10분 간격안에 픽업 데이터가 없는 경우의 개수 3608\n",
      "------------------------------------------------------------\n",
      "29 번째 구역에서 10분 간격안에 픽업 데이터가 없는 경우의 개수 4423\n",
      "------------------------------------------------------------\n",
      "30 번째 구역에서 10분 간격안에 픽업 데이터가 없는 경우의 개수 56\n",
      "------------------------------------------------------------\n",
      "31 번째 구역에서 10분 간격안에 픽업 데이터가 없는 경우의 개수 59\n",
      "------------------------------------------------------------\n",
      "32 번째 구역에서 10분 간격안에 픽업 데이터가 없는 경우의 개수 30\n",
      "------------------------------------------------------------\n",
      "33 번째 구역에서 10분 간격안에 픽업 데이터가 없는 경우의 개수 42\n",
      "------------------------------------------------------------\n",
      "34 번째 구역에서 10분 간격안에 픽업 데이터가 없는 경우의 개수 111\n",
      "------------------------------------------------------------\n",
      "35 번째 구역에서 10분 간격안에 픽업 데이터가 없는 경우의 개수 66\n",
      "------------------------------------------------------------\n",
      "36 번째 구역에서 10분 간격안에 픽업 데이터가 없는 경우의 개수 42\n",
      "------------------------------------------------------------\n",
      "37 번째 구역에서 10분 간격안에 픽업 데이터가 없는 경우의 개수 106\n",
      "------------------------------------------------------------\n",
      "38 번째 구역에서 10분 간격안에 픽업 데이터가 없는 경우의 개수 730\n",
      "------------------------------------------------------------\n",
      "39 번째 구역에서 10분 간격안에 픽업 데이터가 없는 경우의 개수 4372\n",
      "------------------------------------------------------------\n",
      "40 번째 구역에서 10분 간격안에 픽업 데이터가 없는 경우의 개수 72\n",
      "------------------------------------------------------------\n",
      "41 번째 구역에서 10분 간격안에 픽업 데이터가 없는 경우의 개수 41\n",
      "------------------------------------------------------------\n",
      "42 번째 구역에서 10분 간격안에 픽업 데이터가 없는 경우의 개수 37\n",
      "------------------------------------------------------------\n",
      "43 번째 구역에서 10분 간격안에 픽업 데이터가 없는 경우의 개수 42\n",
      "------------------------------------------------------------\n",
      "44 번째 구역에서 10분 간격안에 픽업 데이터가 없는 경우의 개수 50\n",
      "------------------------------------------------------------\n",
      "45 번째 구역에서 10분 간격안에 픽업 데이터가 없는 경우의 개수 99\n",
      "------------------------------------------------------------\n",
      "46 번째 구역에서 10분 간격안에 픽업 데이터가 없는 경우의 개수 43\n",
      "------------------------------------------------------------\n",
      "47 번째 구역에서 10분 간격안에 픽업 데이터가 없는 경우의 개수 49\n",
      "------------------------------------------------------------\n",
      "48 번째 구역에서 10분 간격안에 픽업 데이터가 없는 경우의 개수 4009\n",
      "------------------------------------------------------------\n",
      "49 번째 구역에서 10분 간격안에 픽업 데이터가 없는 경우의 개수 3541\n",
      "------------------------------------------------------------\n",
      "50 번째 구역에서 10분 간격안에 픽업 데이터가 없는 경우의 개수 467\n",
      "------------------------------------------------------------\n",
      "51 번째 구역에서 10분 간격안에 픽업 데이터가 없는 경우의 개수 110\n",
      "------------------------------------------------------------\n",
      "52 번째 구역에서 10분 간격안에 픽업 데이터가 없는 경우의 개수 209\n",
      "------------------------------------------------------------\n",
      "53 번째 구역에서 10분 간격안에 픽업 데이터가 없는 경우의 개수 42\n",
      "------------------------------------------------------------\n",
      "54 번째 구역에서 10분 간격안에 픽업 데이터가 없는 경우의 개수 34\n",
      "------------------------------------------------------------\n",
      "55 번째 구역에서 10분 간격안에 픽업 데이터가 없는 경우의 개수 43\n",
      "------------------------------------------------------------\n",
      "56 번째 구역에서 10분 간격안에 픽업 데이터가 없는 경우의 개수 240\n",
      "------------------------------------------------------------\n",
      "57 번째 구역에서 10분 간격안에 픽업 데이터가 없는 경우의 개수 72\n",
      "------------------------------------------------------------\n",
      "58 번째 구역에서 10분 간격안에 픽업 데이터가 없는 경우의 개수 38\n",
      "------------------------------------------------------------\n",
      "59 번째 구역에서 10분 간격안에 픽업 데이터가 없는 경우의 개수 48\n",
      "------------------------------------------------------------\n",
      "60 번째 구역에서 10분 간격안에 픽업 데이터가 없는 경우의 개수 53\n",
      "------------------------------------------------------------\n",
      "61 번째 구역에서 10분 간격안에 픽업 데이터가 없는 경우의 개수 52\n",
      "------------------------------------------------------------\n",
      "62 번째 구역에서 10분 간격안에 픽업 데이터가 없는 경우의 개수 48\n",
      "------------------------------------------------------------\n",
      "63 번째 구역에서 10분 간격안에 픽업 데이터가 없는 경우의 개수 2831\n",
      "------------------------------------------------------------\n",
      "64 번째 구역에서 10분 간격안에 픽업 데이터가 없는 경우의 개수 788\n",
      "------------------------------------------------------------\n",
      "65 번째 구역에서 10분 간격안에 픽업 데이터가 없는 경우의 개수 64\n",
      "------------------------------------------------------------\n",
      "66 번째 구역에서 10분 간격안에 픽업 데이터가 없는 경우의 개수 37\n",
      "------------------------------------------------------------\n",
      "67 번째 구역에서 10분 간격안에 픽업 데이터가 없는 경우의 개수 213\n",
      "------------------------------------------------------------\n",
      "68 번째 구역에서 10분 간격안에 픽업 데이터가 없는 경우의 개수 121\n",
      "------------------------------------------------------------\n",
      "69 번째 구역에서 10분 간격안에 픽업 데이터가 없는 경우의 개수 37\n",
      "------------------------------------------------------------\n"
     ]
    }
   ],
   "source": [
    "# 31일 * 24시간 * 60분 / 10분 = month_interval_31\n",
    "# 최대가 month_interval_31겠지\n",
    "for i in range(1, 70):\n",
    "    print(i, \"번째 구역에서 10분 간격안에 픽업 데이터가 없는 경우의 개수\", month_interval_31-len(set(jan_previous_unique[i-1])))\n",
    "    print(\"-\"* 60)"
   ]
  },
  {
   "cell_type": "code",
   "execution_count": 190,
   "metadata": {},
   "outputs": [],
   "source": [
    "# 탑승 기록이 없으면 0으로 채우기\n",
    "# count_values: 각 지역 각 10분 간격에 픽업 수\n",
    "# values: 픽업 기록이 있는 간격의 set\n",
    "def fill_missing(count_values, values):\n",
    "    smoothed_regions = []\n",
    "    ind = 0\n",
    "    for r in range(1, 70): # 각 구역마다\n",
    "        smoothed_bins = []\n",
    "        for i in range(month_interval_31):\n",
    "            if i in values[r-1]: # interval 안에 탑승 기록이 있으면\n",
    "                smoothed_bins.append(count_values[ind])\n",
    "                ind += 1\n",
    "            else: # interval 안에 탑승 기록이 없으면\n",
    "                smoothed_bins.append(0)\n",
    "        smoothed_regions.extend(smoothed_bins)\n",
    "    return smoothed_regions"
   ]
  },
  {
   "cell_type": "code",
   "execution_count": 68,
   "metadata": {},
   "outputs": [],
   "source": [
    "# 빈값을 평균으로 채우기\n",
    "# interval 안에 pickup 기록이 없다면\n",
    "# pickup 기록이 있는 자신과 가장 가까운 양 끝값을 이용하여 평균을 구함\n",
    "def smoothing(count_values,values):\n",
    "    smoothed_regions=[] # 각 지역마다 최종 smoothed 값을 저장할 리스트\n",
    "    ind=0\n",
    "    repeat=0 \n",
    "    smoothed_value=0\n",
    "    for r in range(1,70): # 지역마다\n",
    "        smoothed_bins=[] # 최종 smoothed 값을 저장할 리스트\n",
    "        repeat=0\n",
    "        for i in range(month_interval_31): # interval 마다\n",
    "            if repeat!=0: # 같은 interval을 여러 번 계산 방지\n",
    "                repeat-=1\n",
    "                continue\n",
    "            if i in values[r-1]: # interval 안에 픽업 기록이 존재하면\n",
    "                smoothed_bins.append(count_values[ind]) # interval을 리스트에 추가\n",
    "            else:\n",
    "                if i!=0: # 첫 구간이 아니면 (left~rigth or right~끝)\n",
    "                    right_hand_limit=0\n",
    "                    for j in range(i,month_interval_31):\n",
    "                        if  j not in values[r-1]: # interval안에 픽업이 없는 경우 평균값으로 채워져야 하므로 넘어감\n",
    "                            continue\n",
    "                        else:\n",
    "                            right_hand_limit=j # interval안에 픽업이 존재하는 경우에 right_limit이 됨\n",
    "                            break\n",
    "                    if right_hand_limit==0:\n",
    "                    #Case 1: right~끝\n",
    "                        smoothed_value=count_values[ind-1]*1.0/(((month_interval_31-1)-i)+2)*1.0                               \n",
    "                        for j in range(i,month_interval_31): # right~끝까지 평균으로 채우기              \n",
    "                            smoothed_bins.append(math.ceil(smoothed_value))\n",
    "                        smoothed_bins[i-1] = math.ceil(smoothed_value)\n",
    "                        repeat=((month_interval_31-1)-i)\n",
    "                        ind-=1\n",
    "                    else:\n",
    "                    #Case 2: left~right\n",
    "                        smoothed_value=(count_values[ind-1]+count_values[ind])*1.0/((right_hand_limit-i)+2)*1.0             \n",
    "                        for j in range(i,right_hand_limit+1): # left~right까지 평균으로 채우기   \n",
    "                            smoothed_bins.append(math.ceil(smoothed_value))\n",
    "                        smoothed_bins[i-1] = math.ceil(smoothed_value)\n",
    "                        repeat=(right_hand_limit-i)\n",
    "                else:\n",
    "                    #Case 3: 처음~right\n",
    "                    right_hand_limit=0\n",
    "                    for j in range(i,month_interval_31):\n",
    "                        if  j not in values[r-1]:\n",
    "                            continue\n",
    "                        else:\n",
    "                            right_hand_limit=j # interval 안에 픽업이 존재하는 경우 right가 됨\n",
    "                            break\n",
    "                    smoothed_value=count_values[ind]*1.0/((right_hand_limit-i)+1)*1.0\n",
    "                    for j in range(i,right_hand_limit+1):# 처음~left까지 평균으로 채우기\n",
    "                            smoothed_bins.append(math.ceil(smoothed_value))\n",
    "                    repeat=(right_hand_limit-i)\n",
    "            ind+=1\n",
    "        smoothed_regions.extend(smoothed_bins)\n",
    "    return smoothed_regions"
   ]
  },
  {
   "cell_type": "code",
   "execution_count": 191,
   "metadata": {},
   "outputs": [],
   "source": [
    "jan_previous_fill = fill_missing(jan_previous_groupy['trip_distance'].values , jan_previous_unique)"
   ]
  },
  {
   "cell_type": "code",
   "execution_count": 192,
   "metadata": {},
   "outputs": [],
   "source": [
    "jan_previous_smooth = smoothing(jan_previous_groupy['trip_distance'].values, jan_previous_unique)"
   ]
  },
  {
   "cell_type": "code",
   "execution_count": 139,
   "metadata": {},
   "outputs": [
    {
     "name": "stdout",
     "output_type": "stream",
     "text": [
      "number of 10min intravels among all the clusters  308016\n"
     ]
    }
   ],
   "source": [
    "print(\"number of 10min intravels among all the clusters \",len(jan_previous_fill))"
   ]
  },
  {
   "cell_type": "code",
   "execution_count": 140,
   "metadata": {},
   "outputs": [
    {
     "name": "stdout",
     "output_type": "stream",
     "text": [
      "모든 클러스터 사이에 1시간 interval 수 308016\n"
     ]
    }
   ],
   "source": [
    "all_loc_interval = len(jan_previous_fill)\n",
    "print(\"모든 클러스터 사이에 1시간 interval 수\", all_loc_interval)"
   ]
  },
  {
   "cell_type": "code",
   "execution_count": 73,
   "metadata": {},
   "outputs": [
    {
     "data": {
      "image/png": "[encoded data removed]",
      "text/plain": [
       "<Figure size 1000x500 with 1 Axes>"
      ]
     },
     "metadata": {},
     "output_type": "display_data"
    }
   ],
   "source": [
    "# 2015-01 10분 interval 탑승 빈도\n",
    "plt.figure(figsize=(10, 5))\n",
    "plt.plot(jan_previous_fill[0:all_loc_interval], label = \"zero filled values\")\n",
    "plt.plot(jan_previous_smooth[0:all_loc_interval], label=\"filled with avg values\")\n",
    "plt.legend()\n",
    "plt.show()"
   ]
  },
  {
   "cell_type": "code",
   "execution_count": 193,
   "metadata": {},
   "outputs": [],
   "source": [
    "# Jan-2015 data is smoothed, Jan,Feb & March 2016 data missing values are filled with zero\n",
    "jan_previous_smooth = smoothing(jan_previous_groupy['trip_distance'].values,jan_previous_unique)\n",
    "jan_smooth = fill_missing(jan_groupby['trip_distance'].values, jan_unique)\n",
    "feb_smooth = fill_missing(feb_groupby['trip_distance'].values, feb_unique)\n",
    "mar_smooth = fill_missing(mar_groupby['trip_distance'].values, mar_unique)\n",
    "apr_smooth = fill_missing(apr_groupby['trip_distance'].values, apr_unique)\n",
    "may_smooth = fill_missing(may_groupby['trip_distance'].values, may_unique)\n",
    "jun_smooth = fill_missing(jun_groupby['trip_distance'].values, jun_unique)\n",
    "\n",
    "\n",
    "# Making list of all the values of pickup data in every bin for a period of 3 months and storing them region-wise \n",
    "regions_cum = []\n",
    "\n",
    "# a =[1,2,3]\n",
    "# b = [2,3,4]\n",
    "# a+b = [1, 2, 3, 2, 3, 4]\n",
    "\n",
    "# number of 10min indices for jan 2015 = 24*31*60/10 = month_interval_31\n",
    "# number of 10min indices for jan 2016 = 24*31*60/10 = month_interval_31\n",
    "# number of 10min indices for feb 2016 = 24*29*60/10 = month_interval_29\n",
    "# number of 10min indices for march 2016 = 24*31*60/10 = month_interval_31\n",
    "# regions_cum: it will contain 265 lists, each list will contain month_interval_31+month_interval_29+month_interval_31 values which represents the number of pickups \n",
    "# that are happened for three months in 2016 data\n",
    "\n",
    "# i -> i-1, i+1 -> i\n",
    "for i in range(1,70):\n",
    "    regions_cum.append(jan_smooth[month_interval_31*(i-1):month_interval_31*i]+ \\\n",
    "        feb_smooth[month_interval_29*(i-1):month_interval_29*i]+ \\\n",
    "            mar_smooth[month_interval_31*(i-1):month_interval_31*i]+ \\\n",
    "                apr_smooth[month_interval_30*(i-1):month_interval_30*i]+ \\\n",
    "                    may_smooth[month_interval_31*(i-1):month_interval_31*i]+ \\\n",
    "                        jun_smooth[month_interval_30*(i-1):month_interval_30*i])\n"
   ]
  },
  {
   "cell_type": "code",
   "execution_count": 189,
   "metadata": {},
   "outputs": [
    {
     "name": "stdout",
     "output_type": "stream",
     "text": [
      "69\n",
      "26208\n"
     ]
    }
   ],
   "source": [
    "print(len(regions_cum))\n",
    "print(len(regions_cum[0]))"
   ]
  },
  {
   "cell_type": "code",
   "execution_count": 126,
   "metadata": {},
   "outputs": [
    {
     "data": {
      "image/png": "[encoded data removed]",
      "text/plain": [
       "<Figure size 1000x400 with 1 Axes>"
      ]
     },
     "metadata": {},
     "output_type": "display_data"
    },
    {
     "data": {
      "image/png": "[encoded data removed]",
      "text/plain": [
       "<Figure size 1000x400 with 1 Axes>"
      ]
     },
     "metadata": {},
     "output_type": "display_data"
    }
   ],
   "source": [
    "def uniqueish_color():\n",
    "    \"\"\"There're better ways to generate unique colors, but this isn't awful.\"\"\"\n",
    "    return plt.cm.gist_ncar(np.random.random())\n",
    "first_x = list(range(0,month_interval_31))\n",
    "second_x = list(range(month_interval_31,month_interval_31 + month_interval_29))\n",
    "third_x = list(range(month_interval_31 + month_interval_29,month_interval_31 + month_interval_29 + month_interval_31))\n",
    "for i in range(1, 3):\n",
    "    plt.figure(figsize=(10,4))\n",
    "    plt.plot(first_x,regions_cum[i-1][:month_interval_31], color=uniqueish_color(), label='2016 Jan month data')\n",
    "    plt.plot(second_x,regions_cum[i-1][month_interval_31:month_interval_31 + month_interval_29], color=uniqueish_color(), label='2016 feb month data')\n",
    "    plt.plot(third_x,regions_cum[i-1][month_interval_31 + month_interval_29:], color=uniqueish_color(), label='2016 march month data')\n",
    "    plt.legend()\n",
    "    plt.show()"
   ]
  },
  {
   "cell_type": "code",
   "execution_count": 127,
   "metadata": {},
   "outputs": [
    {
     "data": {
      "image/png": "[encoded data removed]",
      "text/plain": [
       "<Figure size 640x480 with 1 Axes>"
      ]
     },
     "metadata": {},
     "output_type": "display_data"
    }
   ],
   "source": [
    "# getting peaks: https://blog.ytotech.com/2015/11/01/findpeaks-in-python/\n",
    "# read more about fft function : https://docs.scipy.org/doc/numpy/reference/generated/numpy.fft.fft.html\n",
    "Y    = np.fft.fft(np.array(jan_smooth)[0:4460])\n",
    "# read more about the fftfreq: https://docs.scipy.org/doc/numpy/reference/generated/numpy.fft.fftfreq.html  \n",
    "freq = np.fft.fftfreq(month_interval_31, 1)\n",
    "n = len(freq)\n",
    "plt.figure()\n",
    "plt.plot( freq[:int(n/2)], np.abs(Y)[:int(n/2)] )\n",
    "plt.xlabel(\"Frequency\")\n",
    "plt.ylabel(\"Amplitude\")\n",
    "plt.show()"
   ]
  },
  {
   "cell_type": "code",
   "execution_count": 194,
   "metadata": {},
   "outputs": [],
   "source": [
    "#Preparing the Dataframe only with x(i) values as jan-2015 data and y(i) values as jan-2016\n",
    "ratios_jan = pd.DataFrame()\n",
    "ratios_jan['Given']=jan_previous_smooth\n",
    "ratios_jan['Prediction']=jan_smooth\n",
    "ratios_jan['Ratios']=ratios_jan['Prediction']*1.0/ratios_jan['Given']*1.0"
   ]
  },
  {
   "cell_type": "code",
   "execution_count": 129,
   "metadata": {},
   "outputs": [],
   "source": [
    "def MA_R_Predictions(ratios,month):\n",
    "    predicted_ratio=(ratios['Ratios'].values)[0]\n",
    "    error=[]\n",
    "    predicted_values=[]\n",
    "    window_size=3\n",
    "    predicted_ratio_values=[]\n",
    "    for i in range(0,month_interval_31*69):\n",
    "        if i%month_interval_31==0:\n",
    "            predicted_ratio_values.append(0)\n",
    "            predicted_values.append(0)\n",
    "            error.append(0)\n",
    "            continue\n",
    "        predicted_ratio_values.append(predicted_ratio)\n",
    "        predicted_values.append(int(((ratios['Given'].values)[i])*predicted_ratio))\n",
    "        error.append(abs((math.pow(int(((ratios['Given'].values)[i])*predicted_ratio)-(ratios['Prediction'].values)[i],1))))\n",
    "        if i+1>=window_size:\n",
    "            predicted_ratio=sum((ratios['Ratios'].values)[(i+1)-window_size:(i+1)])/window_size\n",
    "        else:\n",
    "            predicted_ratio=sum((ratios['Ratios'].values)[0:(i+1)])/(i+1)\n",
    "            \n",
    "    \n",
    "    ratios['MA_R_Predicted'] = predicted_values\n",
    "    ratios['MA_R_Error'] = error\n",
    "    mape_err = (sum(error)/len(error))/(sum(ratios['Prediction'].values)/len(ratios['Prediction'].values))\n",
    "    mse_err = sum([e**2 for e in error])/len(error)\n",
    "    return ratios,mape_err,mse_err"
   ]
  },
  {
   "cell_type": "code",
   "execution_count": 130,
   "metadata": {},
   "outputs": [],
   "source": [
    "def MA_P_Predictions(ratios,month):\n",
    "    predicted_value=(ratios['Prediction'].values)[0]\n",
    "    error=[]\n",
    "    predicted_values=[]\n",
    "    window_size=1\n",
    "    predicted_ratio_values=[]\n",
    "    for i in range(0,month_interval_31*69):\n",
    "        predicted_values.append(predicted_value)\n",
    "        error.append(abs((math.pow(predicted_value-(ratios['Prediction'].values)[i],1))))\n",
    "        if i+1>=window_size:\n",
    "            predicted_value=int(sum((ratios['Prediction'].values)[(i+1)-window_size:(i+1)])/window_size)\n",
    "        else:\n",
    "            predicted_value=int(sum((ratios['Prediction'].values)[0:(i+1)])/(i+1))\n",
    "            \n",
    "    ratios['MA_P_Predicted'] = predicted_values\n",
    "    ratios['MA_P_Error'] = error\n",
    "    mape_err = (sum(error)/len(error))/(sum(ratios['Prediction'].values)/len(ratios['Prediction'].values))\n",
    "    mse_err = sum([e**2 for e in error])/len(error)\n",
    "    return ratios,mape_err,mse_err"
   ]
  },
  {
   "cell_type": "code",
   "execution_count": 131,
   "metadata": {},
   "outputs": [],
   "source": [
    "def WA_R_Predictions(ratios,month):\n",
    "    predicted_ratio=(ratios['Ratios'].values)[0]\n",
    "    alpha=0.5\n",
    "    error=[]\n",
    "    predicted_values=[]\n",
    "    window_size=5\n",
    "    predicted_ratio_values=[]\n",
    "    for i in range(0,month_interval_31*69):\n",
    "        if i%month_interval_31==0:\n",
    "            predicted_ratio_values.append(0)\n",
    "            predicted_values.append(0)\n",
    "            error.append(0)\n",
    "            continue\n",
    "        predicted_ratio_values.append(predicted_ratio)\n",
    "        predicted_values.append(int(((ratios['Given'].values)[i])*predicted_ratio))\n",
    "        error.append(abs((math.pow(int(((ratios['Given'].values)[i])*predicted_ratio)-(ratios['Prediction'].values)[i],1))))\n",
    "        if i+1>=window_size:\n",
    "            sum_values=0\n",
    "            sum_of_coeff=0\n",
    "            for j in range(window_size,0,-1):\n",
    "                sum_values += j*(ratios['Ratios'].values)[i-window_size+j]\n",
    "                sum_of_coeff+=j\n",
    "            predicted_ratio=sum_values/sum_of_coeff\n",
    "        else:\n",
    "            sum_values=0\n",
    "            sum_of_coeff=0\n",
    "            for j in range(i+1,0,-1):\n",
    "                sum_values += j*(ratios['Ratios'].values)[j-1]\n",
    "                sum_of_coeff+=j\n",
    "            predicted_ratio=sum_values/sum_of_coeff\n",
    "            \n",
    "    ratios['WA_R_Predicted'] = predicted_values\n",
    "    ratios['WA_R_Error'] = error\n",
    "    mape_err = (sum(error)/len(error))/(sum(ratios['Prediction'].values)/len(ratios['Prediction'].values))\n",
    "    mse_err = sum([e**2 for e in error])/len(error)\n",
    "    return ratios,mape_err,mse_err"
   ]
  },
  {
   "cell_type": "code",
   "execution_count": 132,
   "metadata": {},
   "outputs": [],
   "source": [
    "def WA_P_Predictions(ratios,month):\n",
    "    predicted_value=(ratios['Prediction'].values)[0]\n",
    "    error=[]\n",
    "    predicted_values=[]\n",
    "    window_size=2\n",
    "    for i in range(0,month_interval_31*69):\n",
    "        predicted_values.append(predicted_value)\n",
    "        error.append(abs((math.pow(predicted_value-(ratios['Prediction'].values)[i],1))))\n",
    "        if i+1>=window_size:\n",
    "            sum_values=0\n",
    "            sum_of_coeff=0\n",
    "            for j in range(window_size,0,-1):\n",
    "                sum_values += j*(ratios['Prediction'].values)[i-window_size+j]\n",
    "                sum_of_coeff+=j\n",
    "            predicted_value=int(sum_values/sum_of_coeff)\n",
    "\n",
    "        else:\n",
    "            sum_values=0\n",
    "            sum_of_coeff=0\n",
    "            for j in range(i+1,0,-1):\n",
    "                sum_values += j*(ratios['Prediction'].values)[j-1]\n",
    "                sum_of_coeff+=j\n",
    "            predicted_value=int(sum_values/sum_of_coeff)\n",
    "    \n",
    "    ratios['WA_P_Predicted'] = predicted_values\n",
    "    ratios['WA_P_Error'] = error\n",
    "    mape_err = (sum(error)/len(error))/(sum(ratios['Prediction'].values)/len(ratios['Prediction'].values))\n",
    "    mse_err = sum([e**2 for e in error])/len(error)\n",
    "    return ratios,mape_err,mse_err"
   ]
  },
  {
   "cell_type": "code",
   "execution_count": 133,
   "metadata": {},
   "outputs": [],
   "source": [
    "def EA_R1_Predictions(ratios,month):\n",
    "    predicted_ratio=(ratios['Ratios'].values)[0]\n",
    "    alpha=0.6\n",
    "    error=[]\n",
    "    predicted_values=[]\n",
    "    predicted_ratio_values=[]\n",
    "    for i in range(0,month_interval_31*69):\n",
    "        if i%month_interval_31==0:\n",
    "            predicted_ratio_values.append(0)\n",
    "            predicted_values.append(0)\n",
    "            error.append(0)\n",
    "            continue\n",
    "        predicted_ratio_values.append(predicted_ratio)\n",
    "        predicted_values.append(int(((ratios['Given'].values)[i])*predicted_ratio))\n",
    "        error.append(abs((math.pow(int(((ratios['Given'].values)[i])*predicted_ratio)-(ratios['Prediction'].values)[i],1))))\n",
    "        predicted_ratio = (alpha*predicted_ratio) + (1-alpha)*((ratios['Ratios'].values)[i])\n",
    "    \n",
    "    ratios['EA_R1_Predicted'] = predicted_values\n",
    "    ratios['EA_R1_Error'] = error\n",
    "    mape_err = (sum(error)/len(error))/(sum(ratios['Prediction'].values)/len(ratios['Prediction'].values))\n",
    "    mse_err = sum([e**2 for e in error])/len(error)\n",
    "    return ratios,mape_err,mse_err"
   ]
  },
  {
   "cell_type": "code",
   "execution_count": 134,
   "metadata": {},
   "outputs": [],
   "source": [
    "def EA_P1_Predictions(ratios,month):\n",
    "    predicted_value= (ratios['Prediction'].values)[0]\n",
    "    alpha=0.3\n",
    "    error=[]\n",
    "    predicted_values=[]\n",
    "    for i in range(0,month_interval_31*69):\n",
    "        if i%month_interval_31==0:\n",
    "            predicted_values.append(0)\n",
    "            error.append(0)\n",
    "            continue\n",
    "        predicted_values.append(predicted_value)\n",
    "        error.append(abs((math.pow(predicted_value-(ratios['Prediction'].values)[i],1))))\n",
    "        predicted_value =int((alpha*predicted_value) + (1-alpha)*((ratios['Prediction'].values)[i]))\n",
    "    \n",
    "    ratios['EA_P1_Predicted'] = predicted_values\n",
    "    ratios['EA_P1_Error'] = error\n",
    "    mape_err = (sum(error)/len(error))/(sum(ratios['Prediction'].values)/len(ratios['Prediction'].values))\n",
    "    mse_err = sum([e**2 for e in error])/len(error)\n",
    "    return ratios,mape_err,mse_err"
   ]
  },
  {
   "cell_type": "code",
   "execution_count": 195,
   "metadata": {},
   "outputs": [],
   "source": [
    "mean_err=[0]*10\n",
    "median_err=[0]*10\n",
    "ratios_jan,mean_err[0],median_err[0]=MA_R_Predictions(ratios_jan,'jan')\n",
    "ratios_jan,mean_err[1],median_err[1]=MA_P_Predictions(ratios_jan,'jan')\n",
    "ratios_jan,mean_err[2],median_err[2]=WA_R_Predictions(ratios_jan,'jan')\n",
    "ratios_jan,mean_err[3],median_err[3]=WA_P_Predictions(ratios_jan,'jan')\n",
    "ratios_jan,mean_err[4],median_err[4]=EA_R1_Predictions(ratios_jan,'jan')\n",
    "ratios_jan,mean_err[5],median_err[5]=EA_P1_Predictions(ratios_jan,'jan')"
   ]
  },
  {
   "cell_type": "code",
   "execution_count": 196,
   "metadata": {},
   "outputs": [
    {
     "name": "stdout",
     "output_type": "stream",
     "text": [
      "Error Metric Matrix (Forecasting Methods) - MAPE & MSE\n",
      "--------------------------------------------------------------------------------------------------------\n",
      "Moving Averages (Ratios) -                             MAPE:  0.5053884637093805       MSE:  129.2852449223417\n",
      "Moving Averages (2016 Values) -                        MAPE:  0.3589989447445826        MSE:  34.449087060412445\n",
      "--------------------------------------------------------------------------------------------------------\n",
      "Weighted Moving Averages (Ratios) -                    MAPE:  0.5045137586374935       MSE:  127.64773907848942\n",
      "Weighted Moving Averages (2016 Values) -               MAPE:  0.33161839720374847       MSE:  27.26947301438886\n",
      "--------------------------------------------------------------------------------------------------------\n",
      "Exponential Moving Averages (Ratios) -              MAPE:  0.5026469031233457       MSE:  119.75131162017557\n",
      "Exponential Moving Averages (2016 Values) -         MAPE:  0.33054911845855584       MSE:  27.25829827021973\n"
     ]
    }
   ],
   "source": [
    "print (\"Error Metric Matrix (Forecasting Methods) - MAPE & MSE\")\n",
    "print (\"--------------------------------------------------------------------------------------------------------\")\n",
    "print (\"Moving Averages (Ratios) -                             MAPE: \",mean_err[0],\"      MSE: \",median_err[0])\n",
    "print (\"Moving Averages (2016 Values) -                        MAPE: \",mean_err[1],\"       MSE: \",median_err[1])\n",
    "print (\"--------------------------------------------------------------------------------------------------------\")\n",
    "print (\"Weighted Moving Averages (Ratios) -                    MAPE: \",mean_err[2],\"      MSE: \",median_err[2])\n",
    "print (\"Weighted Moving Averages (2016 Values) -               MAPE: \",mean_err[3],\"      MSE: \",median_err[3])\n",
    "print (\"--------------------------------------------------------------------------------------------------------\")\n",
    "print (\"Exponential Moving Averages (Ratios) -              MAPE: \",mean_err[4],\"      MSE: \",median_err[4])\n",
    "print (\"Exponential Moving Averages (2016 Values) -         MAPE: \",mean_err[5],\"      MSE: \",median_err[5])"
   ]
  },
  {
   "cell_type": "code",
   "execution_count": 198,
   "metadata": {},
   "outputs": [],
   "source": [
    "# Preparing data to be split into train and test, The below prepares data in cumulative form which will be later split into test and train\n",
    "# number of 10min indices for jan 2015= 24*31*60/10 = month_interval_31\n",
    "# number of 10min indices for jan 2016 = 24*31*60/10 = month_interval_31\n",
    "# number of 10min indices for feb 2016 = 24*28*60/10 = month_interval_29\n",
    "# number of 10min indices for march 2016 = 24*31*60/10 = month_interval_31\n",
    "# regions_cum: it will contain 265 lists, each list will contain month_interval_31+month_interval_29+month_interval_31 values which represents the number of pickups \n",
    "# that are happened for three months in 2016 data\n",
    "\n",
    "# print(len(regions_cum))\n",
    "# 265\n",
    "# print(len(regions_cum[0]))\n",
    "# 12960\n",
    "\n",
    "# we take number of pickups that are happened in last 5 10min intravels\n",
    "number_of_time_stamps = 5\n",
    "\n",
    "# output varaible\n",
    "# it is list of lists\n",
    "# it will contain number of pickups month_interval_31 + month_interval_29 + month_interval_31 for each cluster\n",
    "output = []\n",
    "\n",
    "tsne_destination = []\n",
    "# we will code each day \n",
    "# sunday = 0, monday=1, tue = 2, wed=3, thur=4, fri=5,sat=6\n",
    "# for every cluster we will be adding month_interval_31 + month_interval_29 + month_interval_31 values, each value represent to which day of the week that pickup bin belongs to\n",
    "# it is list of lists\n",
    "tsne_weekday = []\n",
    "\n",
    "# its an numbpy array, of shape (523960, 5)\n",
    "# each row corresponds to an entry in out data\n",
    "# for the first row we will have [f0,f1,f2,f3,f4] fi=number of pickups happened in i+1th 10min intravel(bin)\n",
    "# the second row will have [f1,f2,f3,f4,f5]\n",
    "# the third row will have [f2,f3,f4,f5,f6]\n",
    "# and so on...\n",
    "tsne_feature = []\n",
    "\n",
    "tsne_feature = [0]*number_of_time_stamps\n",
    "\n",
    "for i in range(1,70):\n",
    "    tsne_destination.append([i]*(month_interval_31*3 + month_interval_29 + month_interval_30*2 - 5))\n",
    "    # jan 1st 2016 is 금요일, so we start our day from 5: \"(int(k/144))%7+5\"\n",
    "    # our prediction start from 5th 10min intravel since we need to have number of pickups that are happened in last 5 pickup bins\n",
    "    tsne_weekday.append([int(((int(k/144))%7+5)%7) for k in range(5, month_interval_31*3+month_interval_29+month_interval_30*2)])\n",
    "    # regions_cum is a list of lists [[x1,x2,x3..xmonth_interval_31 + month_interval_29 + month_interval_31], [x1,x2,x3..xmonth_interval_31 + month_interval_29 + month_interval_31], [x1,x2,x3..xmonth_interval_31 + month_interval_29 + month_interval_31], [x1,x2,x3..xmonth_interval_31 + month_interval_29 + month_interval_31], [x1,x2,x3..xmonth_interval_31 + month_interval_29 + month_interval_31], .. 40 lsits]\n",
    "    tsne_feature = np.vstack((tsne_feature, [regions_cum[i-1][r:r+number_of_time_stamps] for r in range(0,len(regions_cum[i-1])-number_of_time_stamps)]))\n",
    "    \n",
    "    output.append(regions_cum[i-1][5:])\n",
    "tsne_feature = tsne_feature[1:]"
   ]
  },
  {
   "cell_type": "code",
   "execution_count": 199,
   "metadata": {},
   "outputs": [
    {
     "name": "stdout",
     "output_type": "stream",
     "text": [
      "1808007\n",
      "1808007\n",
      "1808007\n",
      "1808007\n",
      "1808007\n"
     ]
    }
   ],
   "source": [
    "\n",
    "print(len(tsne_destination)*len(tsne_destination[0]))\n",
    "print(tsne_feature.shape[0])\n",
    "print(len(tsne_weekday)*len(tsne_weekday[0]))\n",
    "print(69*(month_interval_31*3 + month_interval_29 + 2*month_interval_30 - 5))\n",
    "print(len(output)*len(output[0]))"
   ]
  },
  {
   "cell_type": "code",
   "execution_count": 200,
   "metadata": {},
   "outputs": [],
   "source": [
    "# Getting the predictions of exponential moving averages to be used as a feature in cumulative form\n",
    "\n",
    "# upto now we computed 8 features for every data point that starts from 50th min of the day\n",
    "# 1. cluster center lattitude\n",
    "# 2. cluster center longitude\n",
    "# 3. day of the week \n",
    "# 4. f_t_1: number of pickups that are happened previous t-1th 10min intravel\n",
    "# 5. f_t_2: number of pickups that are happened previous t-2th 10min intravel\n",
    "# 6. f_t_3: number of pickups that are happened previous t-3th 10min intravel\n",
    "# 7. f_t_4: number of pickups that are happened previous t-4th 10min intravel\n",
    "# 8. f_t_5: number of pickups that are happened previous t-5th 10min intravel\n",
    "\n",
    "# from the baseline models we said the exponential weighted moving avarage gives us the best error\n",
    "# we will try to add the same exponential weighted moving avarage at t as a feature to our data\n",
    "# exponential weighted moving avarage => p'(t) = alpha*p'(t-1) + (1-alpha)*P(t-1) \n",
    "alpha=0.3\n",
    "\n",
    "# it is a temporary array that store exponential weighted moving avarage for each 10min intravel, \n",
    "# for each cluster it will get reset\n",
    "# for every cluster it contains month_interval_31 + month_interval_29 + month_interval_31 values\n",
    "predicted_values=[]\n",
    "\n",
    "# it is similar like tsne_lat\n",
    "# it is list of lists\n",
    "# predict_list is a list of lists [[x5,x6,x7..xmonth_interval_31 + month_interval_29 + month_interval_31], [x5,x6,x7..xmonth_interval_31 + month_interval_29 + month_interval_31], [x5,x6,x7..xmonth_interval_31 + month_interval_29 + month_interval_31], [x5,x6,x7..xmonth_interval_31 + month_interval_29 + month_interval_31], [x5,x6,x7..xmonth_interval_31 + month_interval_29 + month_interval_31], .. 40 lsits]\n",
    "predict_list = []\n",
    "tsne_flat_exp_avg = []\n",
    "for r in range(1,70):\n",
    "    for i in range(0,month_interval_31*3 + month_interval_29 + month_interval_30*2):\n",
    "        if i==0:\n",
    "            predicted_value= regions_cum[r-1][0]\n",
    "            predicted_values.append(0)\n",
    "            continue\n",
    "        predicted_values.append(predicted_value)\n",
    "        predicted_value =int((alpha*predicted_value) + (1-alpha)*(regions_cum[r-1][i]))\n",
    "    predict_list.append(predicted_values[5:])\n",
    "    predicted_values=[]"
   ]
  },
  {
   "cell_type": "code",
   "execution_count": 201,
   "metadata": {},
   "outputs": [
    {
     "name": "stdout",
     "output_type": "stream",
     "text": [
      "size of train data : 18342\n",
      "size of test data : 7860\n"
     ]
    }
   ],
   "source": [
    "# train, test split : 70% 30% split\n",
    "# Before we start predictions using the tree based regression models we take 3 months of 2016 pickup data \n",
    "# and split it such that for every region we have 70% data in train and 30% in test,\n",
    "# ordered date-wise for every region\n",
    "train_size = int((month_interval_31*3 + month_interval_29 + month_interval_30*2 - 5)*0.7)\n",
    "test_size = int((month_interval_31*3 + month_interval_29 + month_interval_30*2 - 5)*0.3)\n",
    "print(\"size of train data :\", int((month_interval_31*3 + month_interval_29 + month_interval_30*2 - 5)*0.7))\n",
    "print(\"size of test data :\", int((month_interval_31*3 + month_interval_29 + month_interval_30*2 - 5)*0.3))"
   ]
  },
  {
   "cell_type": "code",
   "execution_count": 202,
   "metadata": {},
   "outputs": [],
   "source": [
    "# extracting first train_size timestamp values i.e 70% of month_interval_31 + month_interval_29 + month_interval_31 (total timestamps) for our training data\n",
    "train_features =  [tsne_feature[(i-1)*(month_interval_31*3 + month_interval_29 + month_interval_30*2 -5):((month_interval_31*3 + month_interval_29 + month_interval_30*2-5)*(i-1)+train_size)] for i in range(1,70)]\n",
    "# temp = [0]*(month_interval_31 + month_interval_29 + month_interval_31 - train_size)\n",
    "test_features = [tsne_feature[((month_interval_31*3 + month_interval_29 + month_interval_30*2-5)*(i-1))+train_size:(month_interval_31*3 + month_interval_29 + month_interval_30*2-5)*i] for i in range(1,70)]"
   ]
  },
  {
   "cell_type": "code",
   "execution_count": 150,
   "metadata": {},
   "outputs": [
    {
     "name": "stdout",
     "output_type": "stream",
     "text": [
      "Number of data clusters 69 Number of data points in trian data 9169 Each data point contains 5 features\n",
      "Number of data clusters 69 Number of data points in test data 3930 Each data point contains 5 features\n"
     ]
    }
   ],
   "source": [
    "print(\"Number of data clusters\",len(train_features), \"Number of data points in trian data\", len(train_features[0]), \"Each data point contains\", len(train_features[0][0]),\"features\")\n",
    "print(\"Number of data clusters\",len(train_features), \"Number of data points in test data\", len(test_features[0]), \"Each data point contains\", len(test_features[0][0]),\"features\")"
   ]
  },
  {
   "cell_type": "code",
   "execution_count": 203,
   "metadata": {},
   "outputs": [],
   "source": [
    "# extracting first 9169 timestamp values i.e 70% of month_interval_31 + month_interval_29 + month_interval_31 (total timestamps) for our training data\n",
    "tsne_train_flat_destination = [i[:train_size] for i in tsne_destination]\n",
    "tsne_train_flat_weekday = [i[:train_size] for i in tsne_weekday]\n",
    "tsne_train_flat_output = [i[:train_size] for i in output]\n",
    "tsne_train_flat_exp_avg = [i[:train_size] for i in predict_list]"
   ]
  },
  {
   "cell_type": "code",
   "execution_count": 204,
   "metadata": {},
   "outputs": [],
   "source": [
    "# extracting the rest of the timestamp values i.e 30% of month_interval_31 + month_interval_29 + month_interval_31 (total timestamps) for our test data\n",
    "tsne_test_flat_destination = [i[train_size:] for i in tsne_destination]\n",
    "tsne_test_flat_weekday = [i[train_size:] for i in tsne_weekday]\n",
    "tsne_test_flat_output = [i[train_size:] for i in output]\n",
    "tsne_test_flat_exp_avg = [i[train_size:] for i in predict_list]"
   ]
  },
  {
   "cell_type": "code",
   "execution_count": 205,
   "metadata": {},
   "outputs": [],
   "source": [
    "# the above contains values in the form of list of lists (i.e. list of values of each region), here we make all of them in one list\n",
    "train_new_features = []\n",
    "for i in range(1,70):\n",
    "    train_new_features.extend(train_features[i-1])\n",
    "test_new_features = []\n",
    "for i in range(1,70):\n",
    "    test_new_features.extend(test_features[i-1])"
   ]
  },
  {
   "cell_type": "code",
   "execution_count": 206,
   "metadata": {},
   "outputs": [],
   "source": [
    "# converting lists of lists into sinle list i.e flatten\n",
    "# a  = [[1,2,3,4],[4,6,7,8]]\n",
    "# print(sum(a,[]))\n",
    "# [1, 2, 3, 4, 4, 6, 7, 8]\n",
    "tsne_train_destination = sum(tsne_train_flat_destination, [])\n",
    "tsne_train_weekday = sum(tsne_train_flat_weekday, [])\n",
    "tsne_train_output = sum(tsne_train_flat_output, [])\n",
    "tsne_train_exp_avg = sum(tsne_train_flat_exp_avg,[])"
   ]
  },
  {
   "cell_type": "code",
   "execution_count": 207,
   "metadata": {},
   "outputs": [],
   "source": [
    "# converting lists of lists into sinle list i.e flatten\n",
    "# a  = [[1,2,3,4],[4,6,7,8]]\n",
    "# print(sum(a,[]))\n",
    "# [1, 2, 3, 4, 4, 6, 7, 8]\n",
    "tsne_test_destination = sum(tsne_test_flat_destination, [])\n",
    "tsne_test_weekday = sum(tsne_test_flat_weekday, [])\n",
    "tsne_test_output = sum(tsne_test_flat_output, [])\n",
    "tsne_test_exp_avg = sum(tsne_test_flat_exp_avg,[])"
   ]
  },
  {
   "cell_type": "code",
   "execution_count": 208,
   "metadata": {},
   "outputs": [
    {
     "name": "stdout",
     "output_type": "stream",
     "text": [
      "(1265598, 8)\n"
     ]
    }
   ],
   "source": [
    "# Preparing the data frame for our train data\n",
    "columns = ['ft_5','ft_4','ft_3','ft_2','ft_1']\n",
    "df_train = pd.DataFrame(data=train_new_features, columns=columns)\n",
    "df_train['destination'] = tsne_train_destination\n",
    "df_train['weekday'] = tsne_train_weekday\n",
    "df_train['exp_avg'] = tsne_train_exp_avg\n",
    "\n",
    "print(df_train.shape)"
   ]
  },
  {
   "cell_type": "code",
   "execution_count": 209,
   "metadata": {},
   "outputs": [
    {
     "name": "stdout",
     "output_type": "stream",
     "text": [
      "(542409, 8)\n"
     ]
    }
   ],
   "source": [
    "# Preparing the data frame for our train data\n",
    "df_test = pd.DataFrame(data=test_new_features, columns=columns)\n",
    "df_test['destination'] = tsne_test_destination\n",
    "df_test['weekday'] = tsne_test_weekday\n",
    "df_test['exp_avg'] = tsne_test_exp_avg\n",
    "print(df_test.shape)"
   ]
  },
  {
   "cell_type": "code",
   "execution_count": 210,
   "metadata": {},
   "outputs": [
    {
     "data": {
      "text/html": [
       "<div>\n",
       "<style scoped>\n",
       "    .dataframe tbody tr th:only-of-type {\n",
       "        vertical-align: middle;\n",
       "    }\n",
       "\n",
       "    .dataframe tbody tr th {\n",
       "        vertical-align: top;\n",
       "    }\n",
       "\n",
       "    .dataframe thead th {\n",
       "        text-align: right;\n",
       "    }\n",
       "</style>\n",
       "<table border=\"1\" class=\"dataframe\">\n",
       "  <thead>\n",
       "    <tr style=\"text-align: right;\">\n",
       "      <th></th>\n",
       "      <th>ft_5</th>\n",
       "      <th>ft_4</th>\n",
       "      <th>ft_3</th>\n",
       "      <th>ft_2</th>\n",
       "      <th>ft_1</th>\n",
       "      <th>destination</th>\n",
       "      <th>weekday</th>\n",
       "      <th>exp_avg</th>\n",
       "    </tr>\n",
       "  </thead>\n",
       "  <tbody>\n",
       "    <tr>\n",
       "      <th>0</th>\n",
       "      <td>0</td>\n",
       "      <td>0</td>\n",
       "      <td>0</td>\n",
       "      <td>0</td>\n",
       "      <td>0</td>\n",
       "      <td>1</td>\n",
       "      <td>6</td>\n",
       "      <td>0</td>\n",
       "    </tr>\n",
       "    <tr>\n",
       "      <th>1</th>\n",
       "      <td>0</td>\n",
       "      <td>0</td>\n",
       "      <td>0</td>\n",
       "      <td>0</td>\n",
       "      <td>0</td>\n",
       "      <td>1</td>\n",
       "      <td>6</td>\n",
       "      <td>0</td>\n",
       "    </tr>\n",
       "    <tr>\n",
       "      <th>2</th>\n",
       "      <td>0</td>\n",
       "      <td>0</td>\n",
       "      <td>0</td>\n",
       "      <td>0</td>\n",
       "      <td>0</td>\n",
       "      <td>1</td>\n",
       "      <td>6</td>\n",
       "      <td>0</td>\n",
       "    </tr>\n",
       "    <tr>\n",
       "      <th>3</th>\n",
       "      <td>0</td>\n",
       "      <td>0</td>\n",
       "      <td>0</td>\n",
       "      <td>0</td>\n",
       "      <td>0</td>\n",
       "      <td>1</td>\n",
       "      <td>6</td>\n",
       "      <td>0</td>\n",
       "    </tr>\n",
       "    <tr>\n",
       "      <th>4</th>\n",
       "      <td>0</td>\n",
       "      <td>0</td>\n",
       "      <td>0</td>\n",
       "      <td>0</td>\n",
       "      <td>0</td>\n",
       "      <td>1</td>\n",
       "      <td>6</td>\n",
       "      <td>0</td>\n",
       "    </tr>\n",
       "  </tbody>\n",
       "</table>\n",
       "</div>"
      ],
      "text/plain": [
       "   ft_5  ft_4  ft_3  ft_2  ft_1  destination  weekday  exp_avg\n",
       "0     0     0     0     0     0            1        6        0\n",
       "1     0     0     0     0     0            1        6        0\n",
       "2     0     0     0     0     0            1        6        0\n",
       "3     0     0     0     0     0            1        6        0\n",
       "4     0     0     0     0     0            1        6        0"
      ]
     },
     "execution_count": 210,
     "metadata": {},
     "output_type": "execute_result"
    }
   ],
   "source": [
    "df_test.head()"
   ]
  },
  {
   "cell_type": "code",
   "execution_count": 211,
   "metadata": {},
   "outputs": [],
   "source": [
    "# find more about LinearRegression function here http://scikit-learn.org/stable/modules/generated/sklearn.linear_model.LinearRegression.html\n",
    "# -------------------------\n",
    "# default paramters\n",
    "# sklearn.linear_model.LinearRegression(fit_intercept=True, normalize=False, copy_X=True, n_jobs=1)\n",
    "\n",
    "# some of methods of LinearRegression()\n",
    "# fit(X, y[, sample_weight])\tFit linear model.\n",
    "# get_params([deep])\tGet parameters for this estimator.\n",
    "# predict(X)\tPredict using the linear model\n",
    "# score(X, y[, sample_weight])\tReturns the coefficient of determination R^2 of the prediction.\n",
    "# set_params(**params)\tSet the parameters of this estimator.\n",
    "# -----------------------\n",
    "# video link: https://www.appliedaicourse.com/course/applied-ai-course-online/lessons/geometric-intuition-1-2-copy-8/\n",
    "# -----------------------\n",
    "\n",
    "from sklearn.linear_model import LinearRegression\n",
    "lr_reg=LinearRegression().fit(df_train, tsne_train_output)\n",
    "\n",
    "y_pred = lr_reg.predict(df_test)\n",
    "lr_test_predictions = [round(value) for value in y_pred]\n",
    "y_pred = lr_reg.predict(df_train)\n",
    "lr_train_predictions = [round(value) for value in y_pred]"
   ]
  },
  {
   "cell_type": "code",
   "execution_count": 212,
   "metadata": {},
   "outputs": [
    {
     "data": {
      "text/html": [
       "<style>#sk-container-id-4 {color: black;background-color: white;}#sk-container-id-4 pre{padding: 0;}#sk-container-id-4 div.sk-toggleable {background-color: white;}#sk-container-id-4 label.sk-toggleable__label {cursor: pointer;display: block;width: 100%;margin-bottom: 0;padding: 0.3em;box-sizing: border-box;text-align: center;}#sk-container-id-4 label.sk-toggleable__label-arrow:before {content: \"▸\";float: left;margin-right: 0.25em;color: #696969;}#sk-container-id-4 label.sk-toggleable__label-arrow:hover:before {color: black;}#sk-container-id-4 div.sk-estimator:hover label.sk-toggleable__label-arrow:before {color: black;}#sk-container-id-4 div.sk-toggleable__content {max-height: 0;max-width: 0;overflow: hidden;text-align: left;background-color: #f0f8ff;}#sk-container-id-4 div.sk-toggleable__content pre {margin: 0.2em;color: black;border-radius: 0.25em;background-color: #f0f8ff;}#sk-container-id-4 input.sk-toggleable__control:checked~div.sk-toggleable__content {max-height: 200px;max-width: 100%;overflow: auto;}#sk-container-id-4 input.sk-toggleable__control:checked~label.sk-toggleable__label-arrow:before {content: \"▾\";}#sk-container-id-4 div.sk-estimator input.sk-toggleable__control:checked~label.sk-toggleable__label {background-color: #d4ebff;}#sk-container-id-4 div.sk-label input.sk-toggleable__control:checked~label.sk-toggleable__label {background-color: #d4ebff;}#sk-container-id-4 input.sk-hidden--visually {border: 0;clip: rect(1px 1px 1px 1px);clip: rect(1px, 1px, 1px, 1px);height: 1px;margin: -1px;overflow: hidden;padding: 0;position: absolute;width: 1px;}#sk-container-id-4 div.sk-estimator {font-family: monospace;background-color: #f0f8ff;border: 1px dotted black;border-radius: 0.25em;box-sizing: border-box;margin-bottom: 0.5em;}#sk-container-id-4 div.sk-estimator:hover {background-color: #d4ebff;}#sk-container-id-4 div.sk-parallel-item::after {content: \"\";width: 100%;border-bottom: 1px solid gray;flex-grow: 1;}#sk-container-id-4 div.sk-label:hover label.sk-toggleable__label {background-color: #d4ebff;}#sk-container-id-4 div.sk-serial::before {content: \"\";position: absolute;border-left: 1px solid gray;box-sizing: border-box;top: 0;bottom: 0;left: 50%;z-index: 0;}#sk-container-id-4 div.sk-serial {display: flex;flex-direction: column;align-items: center;background-color: white;padding-right: 0.2em;padding-left: 0.2em;position: relative;}#sk-container-id-4 div.sk-item {position: relative;z-index: 1;}#sk-container-id-4 div.sk-parallel {display: flex;align-items: stretch;justify-content: center;background-color: white;position: relative;}#sk-container-id-4 div.sk-item::before, #sk-container-id-4 div.sk-parallel-item::before {content: \"\";position: absolute;border-left: 1px solid gray;box-sizing: border-box;top: 0;bottom: 0;left: 50%;z-index: -1;}#sk-container-id-4 div.sk-parallel-item {display: flex;flex-direction: column;z-index: 1;position: relative;background-color: white;}#sk-container-id-4 div.sk-parallel-item:first-child::after {align-self: flex-end;width: 50%;}#sk-container-id-4 div.sk-parallel-item:last-child::after {align-self: flex-start;width: 50%;}#sk-container-id-4 div.sk-parallel-item:only-child::after {width: 0;}#sk-container-id-4 div.sk-dashed-wrapped {border: 1px dashed gray;margin: 0 0.4em 0.5em 0.4em;box-sizing: border-box;padding-bottom: 0.4em;background-color: white;}#sk-container-id-4 div.sk-label label {font-family: monospace;font-weight: bold;display: inline-block;line-height: 1.2em;}#sk-container-id-4 div.sk-label-container {text-align: center;}#sk-container-id-4 div.sk-container {/* jupyter's `normalize.less` sets `[hidden] { display: none; }` but bootstrap.min.css set `[hidden] { display: none !important; }` so we also need the `!important` here to be able to override the default hidden behavior on the sphinx rendered scikit-learn.org. See: https://github.com/scikit-learn/scikit-learn/issues/21755 */display: inline-block !important;position: relative;}#sk-container-id-4 div.sk-text-repr-fallback {display: none;}</style><div id=\"sk-container-id-4\" class=\"sk-top-container\"><div class=\"sk-text-repr-fallback\"><pre>RandomForestRegressor(max_features=&#x27;sqrt&#x27;, min_samples_leaf=4,\n",
       "                      min_samples_split=3, n_estimators=40, n_jobs=-1)</pre><b>In a Jupyter environment, please rerun this cell to show the HTML representation or trust the notebook. <br />On GitHub, the HTML representation is unable to render, please try loading this page with nbviewer.org.</b></div><div class=\"sk-container\" hidden><div class=\"sk-item\"><div class=\"sk-estimator sk-toggleable\"><input class=\"sk-toggleable__control sk-hidden--visually\" id=\"sk-estimator-id-4\" type=\"checkbox\" checked><label for=\"sk-estimator-id-4\" class=\"sk-toggleable__label sk-toggleable__label-arrow\">RandomForestRegressor</label><div class=\"sk-toggleable__content\"><pre>RandomForestRegressor(max_features=&#x27;sqrt&#x27;, min_samples_leaf=4,\n",
       "                      min_samples_split=3, n_estimators=40, n_jobs=-1)</pre></div></div></div></div></div>"
      ],
      "text/plain": [
       "RandomForestRegressor(max_features='sqrt', min_samples_leaf=4,\n",
       "                      min_samples_split=3, n_estimators=40, n_jobs=-1)"
      ]
     },
     "execution_count": 212,
     "metadata": {},
     "output_type": "execute_result"
    }
   ],
   "source": [
    "# Training a hyper-parameter tuned random forest regressor on our train data\n",
    "# find more about LinearRegression function here http://scikit-learn.org/stable/modules/generated/sklearn.ensemble.RandomForestRegressor.html\n",
    "# -------------------------\n",
    "# default paramters\n",
    "# sklearn.ensemble.RandomForestRegressor(n_estimators=10, criterion=’mse’, max_depth=None, min_samples_split=2, \n",
    "# min_samples_leaf=1, min_weight_fraction_leaf=0.0, max_features=’auto’, max_leaf_nodes=None, min_impurity_decrease=0.0, \n",
    "# min_impurity_split=None, bootstrap=True, oob_score=False, n_jobs=1, random_state=None, verbose=0, warm_start=False)\n",
    "\n",
    "# some of methods of RandomForestRegressor()\n",
    "# apply(X)\tApply trees in the forest to X, return leaf indices.\n",
    "# decision_path(X)\tReturn the decision path in the forest\n",
    "# fit(X, y[, sample_weight])\tBuild a forest of trees from the training set (X, y).\n",
    "# get_params([deep])\tGet parameters for this estimator.\n",
    "# predict(X)\tPredict regression target for X.\n",
    "# score(X, y[, sample_weight])\tReturns the coefficient of determination R^2 of the prediction.\n",
    "# -----------------------\n",
    "# video link1: https://www.appliedaicourse.com/course/applied-ai-course-online/lessons/regression-using-decision-trees-2/\n",
    "# video link2: https://www.appliedaicourse.com/course/applied-ai-course-online/lessons/what-are-ensembles/\n",
    "# -----------------------\n",
    "\n",
    "regr1 = RandomForestRegressor(max_features='sqrt',min_samples_leaf=4,min_samples_split=3,n_estimators=40, n_jobs=-1)\n",
    "regr1.fit(df_train, tsne_train_output)"
   ]
  },
  {
   "cell_type": "code",
   "execution_count": 213,
   "metadata": {},
   "outputs": [],
   "source": [
    "# Predicting on test data using our trained random forest model \n",
    "\n",
    "# the models regr1 is already hyper parameter tuned\n",
    "# the parameters that we got above are found using grid search\n",
    "\n",
    "y_pred = regr1.predict(df_test)\n",
    "rndf_test_predictions = [round(value) for value in y_pred]\n",
    "y_pred = regr1.predict(df_train)\n",
    "rndf_train_predictions = [round(value) for value in y_pred]"
   ]
  },
  {
   "cell_type": "code",
   "execution_count": 214,
   "metadata": {},
   "outputs": [
    {
     "name": "stdout",
     "output_type": "stream",
     "text": [
      "Index(['ft_5', 'ft_4', 'ft_3', 'ft_2', 'ft_1', 'destination', 'weekday',\n",
      "       'exp_avg'],\n",
      "      dtype='object')\n",
      "[0.09787356 0.14585049 0.14617784 0.24174326 0.1439094  0.00803506\n",
      " 0.00291069 0.2134997 ]\n"
     ]
    }
   ],
   "source": [
    "#feature importances based on analysis using random forest\n",
    "print (df_train.columns)\n",
    "print (regr1.feature_importances_)"
   ]
  },
  {
   "cell_type": "markdown",
   "metadata": {},
   "source": [
    "# Using XGBoost"
   ]
  },
  {
   "cell_type": "code",
   "execution_count": 215,
   "metadata": {},
   "outputs": [
    {
     "data": {
      "text/html": [
       "<style>#sk-container-id-5 {color: black;background-color: white;}#sk-container-id-5 pre{padding: 0;}#sk-container-id-5 div.sk-toggleable {background-color: white;}#sk-container-id-5 label.sk-toggleable__label {cursor: pointer;display: block;width: 100%;margin-bottom: 0;padding: 0.3em;box-sizing: border-box;text-align: center;}#sk-container-id-5 label.sk-toggleable__label-arrow:before {content: \"▸\";float: left;margin-right: 0.25em;color: #696969;}#sk-container-id-5 label.sk-toggleable__label-arrow:hover:before {color: black;}#sk-container-id-5 div.sk-estimator:hover label.sk-toggleable__label-arrow:before {color: black;}#sk-container-id-5 div.sk-toggleable__content {max-height: 0;max-width: 0;overflow: hidden;text-align: left;background-color: #f0f8ff;}#sk-container-id-5 div.sk-toggleable__content pre {margin: 0.2em;color: black;border-radius: 0.25em;background-color: #f0f8ff;}#sk-container-id-5 input.sk-toggleable__control:checked~div.sk-toggleable__content {max-height: 200px;max-width: 100%;overflow: auto;}#sk-container-id-5 input.sk-toggleable__control:checked~label.sk-toggleable__label-arrow:before {content: \"▾\";}#sk-container-id-5 div.sk-estimator input.sk-toggleable__control:checked~label.sk-toggleable__label {background-color: #d4ebff;}#sk-container-id-5 div.sk-label input.sk-toggleable__control:checked~label.sk-toggleable__label {background-color: #d4ebff;}#sk-container-id-5 input.sk-hidden--visually {border: 0;clip: rect(1px 1px 1px 1px);clip: rect(1px, 1px, 1px, 1px);height: 1px;margin: -1px;overflow: hidden;padding: 0;position: absolute;width: 1px;}#sk-container-id-5 div.sk-estimator {font-family: monospace;background-color: #f0f8ff;border: 1px dotted black;border-radius: 0.25em;box-sizing: border-box;margin-bottom: 0.5em;}#sk-container-id-5 div.sk-estimator:hover {background-color: #d4ebff;}#sk-container-id-5 div.sk-parallel-item::after {content: \"\";width: 100%;border-bottom: 1px solid gray;flex-grow: 1;}#sk-container-id-5 div.sk-label:hover label.sk-toggleable__label {background-color: #d4ebff;}#sk-container-id-5 div.sk-serial::before {content: \"\";position: absolute;border-left: 1px solid gray;box-sizing: border-box;top: 0;bottom: 0;left: 50%;z-index: 0;}#sk-container-id-5 div.sk-serial {display: flex;flex-direction: column;align-items: center;background-color: white;padding-right: 0.2em;padding-left: 0.2em;position: relative;}#sk-container-id-5 div.sk-item {position: relative;z-index: 1;}#sk-container-id-5 div.sk-parallel {display: flex;align-items: stretch;justify-content: center;background-color: white;position: relative;}#sk-container-id-5 div.sk-item::before, #sk-container-id-5 div.sk-parallel-item::before {content: \"\";position: absolute;border-left: 1px solid gray;box-sizing: border-box;top: 0;bottom: 0;left: 50%;z-index: -1;}#sk-container-id-5 div.sk-parallel-item {display: flex;flex-direction: column;z-index: 1;position: relative;background-color: white;}#sk-container-id-5 div.sk-parallel-item:first-child::after {align-self: flex-end;width: 50%;}#sk-container-id-5 div.sk-parallel-item:last-child::after {align-self: flex-start;width: 50%;}#sk-container-id-5 div.sk-parallel-item:only-child::after {width: 0;}#sk-container-id-5 div.sk-dashed-wrapped {border: 1px dashed gray;margin: 0 0.4em 0.5em 0.4em;box-sizing: border-box;padding-bottom: 0.4em;background-color: white;}#sk-container-id-5 div.sk-label label {font-family: monospace;font-weight: bold;display: inline-block;line-height: 1.2em;}#sk-container-id-5 div.sk-label-container {text-align: center;}#sk-container-id-5 div.sk-container {/* jupyter's `normalize.less` sets `[hidden] { display: none; }` but bootstrap.min.css set `[hidden] { display: none !important; }` so we also need the `!important` here to be able to override the default hidden behavior on the sphinx rendered scikit-learn.org. See: https://github.com/scikit-learn/scikit-learn/issues/21755 */display: inline-block !important;position: relative;}#sk-container-id-5 div.sk-text-repr-fallback {display: none;}</style><div id=\"sk-container-id-5\" class=\"sk-top-container\"><div class=\"sk-text-repr-fallback\"><pre>XGBRegressor(base_score=0.5, booster=&#x27;gbtree&#x27;, callbacks=None,\n",
       "             colsample_bylevel=1, colsample_bynode=1, colsample_bytree=0.8,\n",
       "             early_stopping_rounds=None, enable_categorical=False,\n",
       "             eval_metric=None, gamma=0, gpu_id=-1, grow_policy=&#x27;depthwise&#x27;,\n",
       "             importance_type=None, interaction_constraints=&#x27;&#x27;,\n",
       "             learning_rate=0.1, max_bin=256, max_cat_to_onehot=4,\n",
       "             max_delta_step=0, max_depth=3, max_leaves=0, min_child_weight=3,\n",
       "             missing=nan, monotone_constraints=&#x27;()&#x27;, n_estimators=1000,\n",
       "             n_jobs=4, nthread=4, num_parallel_tree=1, predictor=&#x27;auto&#x27;,\n",
       "             random_state=0, reg_alpha=200, ...)</pre><b>In a Jupyter environment, please rerun this cell to show the HTML representation or trust the notebook. <br />On GitHub, the HTML representation is unable to render, please try loading this page with nbviewer.org.</b></div><div class=\"sk-container\" hidden><div class=\"sk-item\"><div class=\"sk-estimator sk-toggleable\"><input class=\"sk-toggleable__control sk-hidden--visually\" id=\"sk-estimator-id-5\" type=\"checkbox\" checked><label for=\"sk-estimator-id-5\" class=\"sk-toggleable__label sk-toggleable__label-arrow\">XGBRegressor</label><div class=\"sk-toggleable__content\"><pre>XGBRegressor(base_score=0.5, booster=&#x27;gbtree&#x27;, callbacks=None,\n",
       "             colsample_bylevel=1, colsample_bynode=1, colsample_bytree=0.8,\n",
       "             early_stopping_rounds=None, enable_categorical=False,\n",
       "             eval_metric=None, gamma=0, gpu_id=-1, grow_policy=&#x27;depthwise&#x27;,\n",
       "             importance_type=None, interaction_constraints=&#x27;&#x27;,\n",
       "             learning_rate=0.1, max_bin=256, max_cat_to_onehot=4,\n",
       "             max_delta_step=0, max_depth=3, max_leaves=0, min_child_weight=3,\n",
       "             missing=nan, monotone_constraints=&#x27;()&#x27;, n_estimators=1000,\n",
       "             n_jobs=4, nthread=4, num_parallel_tree=1, predictor=&#x27;auto&#x27;,\n",
       "             random_state=0, reg_alpha=200, ...)</pre></div></div></div></div></div>"
      ],
      "text/plain": [
       "XGBRegressor(base_score=0.5, booster='gbtree', callbacks=None,\n",
       "             colsample_bylevel=1, colsample_bynode=1, colsample_bytree=0.8,\n",
       "             early_stopping_rounds=None, enable_categorical=False,\n",
       "             eval_metric=None, gamma=0, gpu_id=-1, grow_policy='depthwise',\n",
       "             importance_type=None, interaction_constraints='',\n",
       "             learning_rate=0.1, max_bin=256, max_cat_to_onehot=4,\n",
       "             max_delta_step=0, max_depth=3, max_leaves=0, min_child_weight=3,\n",
       "             missing=nan, monotone_constraints='()', n_estimators=1000,\n",
       "             n_jobs=4, nthread=4, num_parallel_tree=1, predictor='auto',\n",
       "             random_state=0, reg_alpha=200, ...)"
      ]
     },
     "execution_count": 215,
     "metadata": {},
     "output_type": "execute_result"
    }
   ],
   "source": [
    "# Training a hyper-parameter tuned Xg-Boost regressor on our train data\n",
    "\n",
    "# find more about XGBRegressor function here http://xgboost.readthedocs.io/en/latest/python/python_api.html?#module-xgboost.sklearn\n",
    "# -------------------------\n",
    "# default paramters\n",
    "# xgboost.XGBRegressor(max_depth=3, learning_rate=0.1, n_estimators=100, silent=True, objective='reg:linear', \n",
    "# booster='gbtree', n_jobs=1, nthread=None, gamma=0, min_child_weight=1, max_delta_step=0, subsample=1, colsample_bytree=1, \n",
    "# colsample_bylevel=1, reg_alpha=0, reg_lambda=1, scale_pos_weight=1, base_score=0.5, random_state=0, seed=None, \n",
    "# missing=None, **kwargs)\n",
    "\n",
    "# some of methods of RandomForestRegressor()\n",
    "# fit(X, y, sample_weight=None, eval_set=None, eval_metric=None, early_stopping_rounds=None, verbose=True, xgb_model=None)\n",
    "# get_params([deep])\tGet parameters for this estimator.\n",
    "# predict(data, output_margin=False, ntree_limit=0) : Predict with data. NOTE: This function is not thread safe.\n",
    "# get_score(importance_type='weight') -> get the feature importance\n",
    "# -----------------------\n",
    "# video link1: https://www.appliedaicourse.com/course/applied-ai-course-online/lessons/regression-using-decision-trees-2/\n",
    "# video link2: https://www.appliedaicourse.com/course/applied-ai-course-online/lessons/what-are-ensembles/\n",
    "# -----------------------\n",
    "\n",
    "x_model = xgb.XGBRegressor(\n",
    " learning_rate =0.1,\n",
    " n_estimators=1000,\n",
    " max_depth=3,\n",
    " min_child_weight=3,\n",
    " gamma=0,\n",
    " subsample=0.8,\n",
    " reg_alpha=200, reg_lambda=200,\n",
    " colsample_bytree=0.8,nthread=4)\n",
    "x_model.fit(df_train, tsne_train_output)"
   ]
  },
  {
   "cell_type": "code",
   "execution_count": 216,
   "metadata": {},
   "outputs": [],
   "source": [
    "#predicting with our trained Xg-Boost regressor\n",
    "# the models x_model is already hyper parameter tuned\n",
    "# the parameters that we got above are found using grid search\n",
    "\n",
    "y_pred = x_model.predict(df_test)\n",
    "xgb_test_predictions = [round(value) for value in y_pred]\n",
    "y_pred = x_model.predict(df_train)\n",
    "xgb_train_predictions = [round(value) for value in y_pred]"
   ]
  },
  {
   "cell_type": "code",
   "execution_count": 217,
   "metadata": {},
   "outputs": [
    {
     "data": {
      "text/plain": [
       "{'ft_5': 1008.0,\n",
       " 'ft_4': 1060.0,\n",
       " 'ft_3': 1042.0,\n",
       " 'ft_2': 815.0,\n",
       " 'ft_1': 1053.0,\n",
       " 'destination': 709.0,\n",
       " 'weekday': 365.0,\n",
       " 'exp_avg': 814.0}"
      ]
     },
     "execution_count": 217,
     "metadata": {},
     "output_type": "execute_result"
    }
   ],
   "source": [
    "#feature importances\n",
    "x_model.get_booster().get_score(importance_type='weight')"
   ]
  },
  {
   "cell_type": "code",
   "execution_count": 222,
   "metadata": {},
   "outputs": [
    {
     "name": "stdout",
     "output_type": "stream",
     "text": [
      "linear regression:  0.9407052672388676\n",
      "Random Forest Regression:  0.945043803156505\n",
      "XgBoost Regression:  0.9457500897274425\n"
     ]
    }
   ],
   "source": [
    "print(\"linear regression: \", lr_reg.score(df_test, tsne_test_output))\n",
    "print(\"Random Forest Regression: \", regr1.score(df_test, tsne_test_output))\n",
    "print(\"XgBoost Regression: \", x_model.score(df_test, tsne_test_output))"
   ]
  },
  {
   "cell_type": "code",
   "execution_count": 219,
   "metadata": {},
   "outputs": [],
   "source": [
    "train_mae=[]\n",
    "test_mae=[]\n",
    "train_mae.append(mean_absolute_error(tsne_train_output,df_train['ft_1'].values))\n",
    "train_mae.append(mean_absolute_error(tsne_train_output,df_train['exp_avg'].values))\n",
    "train_mae.append((mean_absolute_error(tsne_train_output,rndf_train_predictions)))\n",
    "train_mae.append((mean_absolute_error(tsne_train_output, xgb_train_predictions)))\n",
    "train_mae.append((mean_absolute_error(tsne_train_output, lr_train_predictions)))\n",
    "\n",
    "test_mae.append((mean_absolute_error(tsne_test_output, df_test['ft_1'].values)))\n",
    "test_mae.append((mean_absolute_error(tsne_test_output, df_test['exp_avg'].values)))\n",
    "test_mae.append((mean_absolute_error(tsne_test_output, rndf_test_predictions)))\n",
    "test_mae.append((mean_absolute_error(tsne_test_output, xgb_test_predictions)))\n",
    "test_mae.append((mean_absolute_error(tsne_test_output, lr_test_predictions)))"
   ]
  },
  {
   "cell_type": "code",
   "execution_count": 220,
   "metadata": {},
   "outputs": [
    {
     "name": "stdout",
     "output_type": "stream",
     "text": [
      "Error Metric Matrix (Tree Based Regression Methods) -  MAE\n",
      "--------------------------------------------------------------------------------------------------------\n",
      "Baseline Model -                             Train:  1.1585274313012506       Test:  1.1212627371595973\n",
      "Exponential Averages Forecasting -           Train:  1.061389161487297       Test:  1.0220682178946146\n",
      "Linear Regression -                         Train:  1.0506606363157969       Test:  1.0098320639959883\n",
      "Random Forest Regression -                   Train:  0.8453616393199105      Test:  1.0122416847803042\n",
      "XgBoost Regression -                         Train:  1.029528333641488       Test:  0.9951918201947239\n",
      "--------------------------------------------------------------------------------------------------------\n"
     ]
    }
   ],
   "source": [
    "print (\"Error Metric Matrix (Tree Based Regression Methods) -  MAE\")\n",
    "print (\"--------------------------------------------------------------------------------------------------------\")\n",
    "print (\"Baseline Model -                             Train: \",train_mae[0],\"      Test: \",test_mae[0])\n",
    "print (\"Exponential Averages Forecasting -           Train: \",train_mae[1],\"      Test: \",test_mae[1])\n",
    "print (\"Linear Regression -                         Train: \",train_mae[4],\"      Test: \",test_mae[4])\n",
    "print (\"Random Forest Regression -                   Train: \",train_mae[2],\"     Test: \",test_mae[2])\n",
    "print (\"XgBoost Regression -                         Train: \",train_mae[3],\"      Test: \",test_mae[3])\n",
    "print (\"--------------------------------------------------------------------------------------------------------\")"
   ]
  }
 ],
 "metadata": {
  "kernelspec": {
   "display_name": "Python 3.10.6 64-bit",
   "language": "python",
   "name": "python3"
  },
  "language_info": {
   "codemirror_mode": {
    "name": "ipython",
    "version": 3
   },
   "file_extension": ".py",
   "mimetype": "text/x-python",
   "name": "python",
   "nbconvert_exporter": "python",
   "pygments_lexer": "ipython3",
   "version": "3.10.7"
  },
  "orig_nbformat": 4,
  "vscode": {
   "interpreter": {
    "hash": "b0fa6594d8f4cbf19f97940f81e996739fb7646882a419484c72d19e05852a7e"
   }
  }
 },
 "nbformat": 4,
 "nbformat_minor": 2
}
