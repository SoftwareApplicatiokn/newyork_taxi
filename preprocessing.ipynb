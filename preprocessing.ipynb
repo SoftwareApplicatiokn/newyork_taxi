{
 "cells": [
  {
   "cell_type": "markdown",
   "metadata": {},
   "source": [
    "# Import Library"
   ]
  },
  {
   "cell_type": "code",
   "execution_count": 4,
   "metadata": {},
   "outputs": [],
   "source": [
    "# unix time: https://www.unixtimestamp.com/\n",
    "import datetime  # Convert to unix time\n",
    "import math\n",
    "import os\n",
    "import pickle\n",
    "import time  # Convert to unix time\n",
    "import warnings\n",
    "\n",
    "import dask.dataframe as dd  # similar to pandas\n",
    "import matplotlib.pylab as plt\n",
    "# if numpy is not installed already : pip3 install numpy\n",
    "import numpy as np  # Do aritmetic operations on arrays\n",
    "import pandas as pd  # pandas to create small dataframes\n",
    "import seaborn as sns  # Plots\n",
    "\n",
    "warnings.filterwarnings(\"ignore\")"
   ]
  },
  {
   "cell_type": "markdown",
   "metadata": {},
   "source": [
    "# Data Load"
   ]
  },
  {
   "cell_type": "code",
   "execution_count": 5,
   "metadata": {},
   "outputs": [],
   "source": [
    "base_year = 2019\n",
    "base_month_count = 12"
   ]
  },
  {
   "cell_type": "code",
   "execution_count": 6,
   "metadata": {},
   "outputs": [],
   "source": [
    "df = pd.read_parquet(f'./yellow_tripdata_{base_year}-01.parquet', engine='pyarrow') \n",
    "taxi_zone_df = pd.read_csv('taxi_zone_lookup.csv')"
   ]
  },
  {
   "cell_type": "markdown",
   "metadata": {},
   "source": [
    "## Select Region"
   ]
  },
  {
   "cell_type": "code",
   "execution_count": 7,
   "metadata": {},
   "outputs": [],
   "source": [
    "region = \"Manhattan\""
   ]
  },
  {
   "cell_type": "code",
   "execution_count": 8,
   "metadata": {},
   "outputs": [],
   "source": [
    "nyc_region = taxi_zone_df[taxi_zone_df['Borough'] == region]\n",
    "nyc_region_number = nyc_region['LocationID']"
   ]
  },
  {
   "cell_type": "code",
   "execution_count": 9,
   "metadata": {},
   "outputs": [
    {
     "name": "stdout",
     "output_type": "stream",
     "text": [
      "69\n"
     ]
    }
   ],
   "source": [
    "nyc_regions_cnt = len(nyc_region)\n",
    "print(nyc_regions_cnt)"
   ]
  },
  {
   "cell_type": "code",
   "execution_count": 10,
   "metadata": {},
   "outputs": [],
   "source": [
    "nyc_region_arr_data = []\n",
    "for i in nyc_region_number.values:\n",
    "    nyc_region_arr_data.append(df[df['PULocationID'] == i])"
   ]
  },
  {
   "cell_type": "code",
   "execution_count": 11,
   "metadata": {},
   "outputs": [],
   "source": [
    "nyc_region_df = pd.concat(nyc_region_arr_data, axis=0, ignore_index=True)"
   ]
  },
  {
   "cell_type": "markdown",
   "metadata": {},
   "source": [
    "## Convert Trip Duration"
   ]
  },
  {
   "cell_type": "code",
   "execution_count": 12,
   "metadata": {},
   "outputs": [
    {
     "name": "stdout",
     "output_type": "stream",
     "text": [
      "   passenger_count  trip_distance  PULocationID  DOLocationID  total_amount  \\\n",
      "0              1.0            3.8             4           246         26.30   \n",
      "1              1.0            2.7             4            87         13.30   \n",
      "2              1.0            2.3             4           233         11.75   \n",
      "3              1.0            4.7             4           263         20.15   \n",
      "4              1.0            3.9             4           261         17.15   \n",
      "\n",
      "   tip_amount  trip_times  pickup_times      Speed  \n",
      "0        0.00   40.583333  1.546269e+09   5.618070  \n",
      "1        1.00    9.583333  1.546269e+09  16.904348  \n",
      "2        1.95    9.066667  1.546270e+09  15.220588  \n",
      "3        3.35   13.900000  1.546269e+09  20.287770  \n",
      "4        2.85    9.350000  1.546271e+09  25.026738  \n"
     ]
    }
   ],
   "source": [
    "#The timestamps are converted to unix so as to get duration(trip-time) & speed also pickup-times in unix are used while binning \n",
    "\n",
    "# in out data we have time in the formate \"YYYY-MM-DD HH:MM:SS\" we convert thiss sting to python time formate and then into unix time stamp\n",
    "# https://stackoverflow.com/a/27914405\n",
    "def convert_to_unix(s):\n",
    "    s = np.datetime_as_string(s, unit='s')\n",
    "    s = s.replace('T', ' ')\n",
    "    return time.mktime(datetime.datetime.strptime(s, \"%Y-%m-%d %H:%M:%S\").timetuple())\n",
    "\n",
    "\n",
    "\n",
    "\n",
    "# we return a data frame which contains the columns\n",
    "# 1.'passenger_count' : self explanatory\n",
    "# 2.'trip_distance' : self explanatory\n",
    "# 3.'pickup_longitude' : self explanatory\n",
    "# 4.'pickup_latitude' : self explanatory\n",
    "# 5.'dropoff_longitude' : self explanatory\n",
    "# 6.'dropoff_latitude' : self explanatory\n",
    "# 7.'total_amount' : total fair that was paid\n",
    "# 8.'trip_times' : duration of each trip\n",
    "# 9.'pickup_times : pickup time converted into unix time \n",
    "# 10.'Speed' : velocity of each trip\n",
    "def return_with_trip_times(month):\n",
    "    duration = month[['tpep_pickup_datetime','tpep_dropoff_datetime']]\n",
    "    #pickups and dropoffs to unix time\n",
    "    duration_pickup = [convert_to_unix(x) for x in duration['tpep_pickup_datetime'].values]\n",
    "    \n",
    "    duration_drop = [convert_to_unix(x) for x in duration['tpep_dropoff_datetime'].values]\n",
    "    #calculate duration of trips\n",
    "    durations = (np.array(duration_drop) - np.array(duration_pickup))/float(60)\n",
    "\n",
    "    #append durations of trips and speed in miles/hr to a new dataframe\n",
    "    new_frame = month[['passenger_count','trip_distance','PULocationID','DOLocationID','total_amount', 'tip_amount']]\n",
    "    \n",
    "    new_frame['trip_times'] = durations\n",
    "    new_frame['pickup_times'] = duration_pickup\n",
    "    new_frame['Speed'] = 60*(new_frame['trip_distance']/new_frame['trip_times'])\n",
    "    \n",
    "    return new_frame\n",
    "\n",
    "frame_with_durations = return_with_trip_times(nyc_region_df)\n",
    "print(frame_with_durations.head())"
   ]
  },
  {
   "cell_type": "markdown",
   "metadata": {},
   "source": [
    "## Trip Durations"
   ]
  },
  {
   "cell_type": "code",
   "execution_count": 13,
   "metadata": {},
   "outputs": [
    {
     "name": "stdout",
     "output_type": "stream",
     "text": [
      "0 percentile value is -84280.5\n",
      "10 percentile value is 3.7666666666666666\n",
      "20 percentile value is 5.25\n",
      "30 percentile value is 6.65\n",
      "40 percentile value is 8.1\n",
      "50 percentile value is 9.716666666666667\n",
      "60 percentile value is 11.583333333333334\n",
      "70 percentile value is 13.9\n",
      "80 percentile value is 17.083333333333332\n",
      "90 percentile value is 22.483333333333334\n",
      "100 percentile value is  43648.01666666667\n"
     ]
    }
   ],
   "source": [
    "#calculating 0-100th percentile to find a the correct percentile value for removal of outliers\n",
    "for i in range(0,100,10):\n",
    "    var =frame_with_durations[\"trip_times\"].values\n",
    "    var = np.sort(var,axis = None)\n",
    "    print(\"{} percentile value is {}\".format(i,var[int(len(var)*(float(i)/100))]))\n",
    "print (\"100 percentile value is \",var[-1])"
   ]
  },
  {
   "cell_type": "code",
   "execution_count": 14,
   "metadata": {},
   "outputs": [
    {
     "name": "stdout",
     "output_type": "stream",
     "text": [
      "99.0 percentile value is 45.38333333333333\n",
      "99.1 percentile value is 47.0\n",
      "99.2 percentile value is 48.93333333333333\n",
      "99.3 percentile value is 51.2\n",
      "99.4 percentile value is 54.2\n",
      "99.5 percentile value is 58.166666666666664\n",
      "99.6 percentile value is 64.11666666666666\n",
      "99.7 percentile value is 77.18333333333334\n",
      "99.8 percentile is diffusion value. So we set outline value 99.7 percentile value X 2: 154.36666666666667\n",
      "100 percentile value is  43648.01666666667\n"
     ]
    }
   ],
   "source": [
    "# 99 percentile value\n",
    "trip_times_diffusion = var[int(len(var)*(float(99)/100))]\n",
    "\n",
    "for i in np.arange(0.0, 1.0, 0.1):\n",
    "    var = frame_with_durations[\"trip_times\"].values\n",
    "    var = np.sort(var,axis = None)\n",
    "    tmp = var[int(len(var)*(float(99+i)/100))]\n",
    "    if trip_times_diffusion * 10 < tmp:\n",
    "        trip_times_diffusion = var[int(len(var)*(float(99+i-0.1)/100))] * 2\n",
    "        print(f\"{99+i} percentile is diffusion value. So we set outline value {99+i-0.1} percentile value X 2: {trip_times_diffusion}\")\n",
    "        break\n",
    "    print(\"{} percentile value is {}\".format(99+i,tmp))\n",
    "print(\"100 percentile value is \",var[-1])"
   ]
  },
  {
   "cell_type": "code",
   "execution_count": 15,
   "metadata": {},
   "outputs": [],
   "source": [
    "#removing data based on our analysis and TLC regulations\n",
    "frame_with_durations_modified=frame_with_durations[(frame_with_durations.trip_times>1) & (frame_with_durations.trip_times<trip_times_diffusion)]"
   ]
  },
  {
   "cell_type": "markdown",
   "metadata": {},
   "source": [
    "## Speed"
   ]
  },
  {
   "cell_type": "code",
   "execution_count": 16,
   "metadata": {},
   "outputs": [
    {
     "name": "stdout",
     "output_type": "stream",
     "text": [
      "99.0 percentile value is 29.425858290723152\n",
      "99.1 percentile value is 30.0\n",
      "99.2 percentile value is 30.62835959221501\n",
      "99.3 percentile value is 31.35483870967742\n",
      "99.4 percentile value is 32.165308498253786\n",
      "99.5 percentile value is 33.108716944172386\n",
      "99.6 percentile value is 34.236311239193085\n",
      "99.7 percentile value is 35.62123385939742\n",
      "99.8 percentile value is 37.49713849675697\n",
      "99.9 percentile value is 40.34553775743707\n",
      "100 percentile value is  6063.75\n"
     ]
    }
   ],
   "source": [
    "#calculating speed values at each percntile 99.0,99.1,99.2,99.3,99.4,99.5,99.6,99.7,99.8,99.9,100\n",
    "for i in np.arange(0.0, 1.0, 0.1):\n",
    "    var = frame_with_durations_modified[\"Speed\"].values\n",
    "    var = np.sort(var,axis = None)\n",
    "    if i == 0.9:\n",
    "        speed_99_9 = var[int(len(var)*(float(99+i)/100))]\n",
    "    print(\"{} percentile value is {}\".format(99+i,var[int(len(var)*(float(99+i)/100))]))\n",
    "print(\"100 percentile value is \",var[-1])"
   ]
  },
  {
   "cell_type": "code",
   "execution_count": 17,
   "metadata": {},
   "outputs": [],
   "source": [
    "#removing further outliers based on the 99.9th percentile value\n",
    "frame_with_durations_modified=frame_with_durations[(frame_with_durations.Speed>0) & (frame_with_durations.Speed<=speed_99_9)]"
   ]
  },
  {
   "cell_type": "code",
   "execution_count": 18,
   "metadata": {},
   "outputs": [
    {
     "data": {
      "text/plain": [
       "10.826119737873555"
      ]
     },
     "execution_count": 18,
     "metadata": {},
     "output_type": "execute_result"
    }
   ],
   "source": [
    "#avg.speed of cabs in New-York\n",
    "avg_speed = sum(frame_with_durations_modified[\"Speed\"]) / float(len(frame_with_durations_modified[\"Speed\"]))\n",
    "avg_speed"
   ]
  },
  {
   "cell_type": "markdown",
   "metadata": {},
   "source": [
    "## Trip Distance"
   ]
  },
  {
   "cell_type": "code",
   "execution_count": 19,
   "metadata": {},
   "outputs": [
    {
     "name": "stdout",
     "output_type": "stream",
     "text": [
      "99.0 percentile value is 14.38\n",
      "99.1 percentile value is 15.23\n",
      "99.2 percentile value is 16.03\n",
      "99.3 percentile value is 16.6\n",
      "99.4 percentile value is 17.0\n",
      "99.5 percentile value is 17.4\n",
      "99.6 percentile value is 17.82\n",
      "99.7 percentile value is 18.47\n",
      "99.8 percentile value is 19.52\n",
      "99.9 percentile value is 21.08\n",
      "100 percentile value is  82.65\n"
     ]
    }
   ],
   "source": [
    "#calculating trip distance values at each percntile 99.0,99.1,99.2,99.3,99.4,99.5,99.6,99.7,99.8,99.9,100\n",
    "for i in np.arange(0.0, 1.0, 0.1):\n",
    "    var =frame_with_durations_modified[\"trip_distance\"].values\n",
    "    var = np.sort(var,axis = None)\n",
    "    if i ==0.9:\n",
    "        trip_distance_99_9 = var[int(len(var)*(float(99+i)/100))]\n",
    "    print(\"{} percentile value is {}\".format(99+i,var[int(len(var)*(float(99+i)/100))]))\n",
    "print(\"100 percentile value is \",var[-1])"
   ]
  },
  {
   "cell_type": "code",
   "execution_count": 20,
   "metadata": {},
   "outputs": [],
   "source": [
    "#removing further outliers based on the 99.9th percentile value\n",
    "frame_with_durations_modified=frame_with_durations[(frame_with_durations.trip_distance>0) & (frame_with_durations.trip_distance<=trip_distance_99_9)]"
   ]
  },
  {
   "cell_type": "markdown",
   "metadata": {},
   "source": [
    "## Total Fare"
   ]
  },
  {
   "cell_type": "code",
   "execution_count": 21,
   "metadata": {},
   "outputs": [
    {
     "name": "stdout",
     "output_type": "stream",
     "text": [
      "99.0 percentile value is 57.06\n",
      "99.1 percentile value is 58.56\n",
      "99.2 percentile value is 60.0\n",
      "99.3 percentile value is 63.06\n",
      "99.4 percentile value is 65.4\n",
      "99.5 percentile value is 68.75\n",
      "99.6 percentile value is 70.27\n",
      "99.7 percentile value is 71.62\n",
      "99.8 percentile value is 75.67\n",
      "99.9 percentile value is 88.9\n",
      "100 percentile value is  623261.66\n"
     ]
    }
   ],
   "source": [
    "#calculating total fare amount values at each percntile 99.0,99.1,99.2,99.3,99.4,99.5,99.6,99.7,99.8,99.9,100\n",
    "for i in np.arange(0.0, 1.0, 0.1):\n",
    "    var = frame_with_durations_modified[\"total_amount\"].values\n",
    "    var = np.sort(var,axis = None)\n",
    "    print(\"{} percentile value is {}\".format(99+i,var[int(len(var)*(float(99+i)/100))]))\n",
    "print(\"100 percentile value is \",var[-1])"
   ]
  },
  {
   "cell_type": "code",
   "execution_count": 22,
   "metadata": {},
   "outputs": [
    {
     "data": {
      "image/png": "[encoded data removed]",
      "text/plain": [
       "<Figure size 640x480 with 1 Axes>"
      ]
     },
     "metadata": {},
     "output_type": "display_data"
    }
   ],
   "source": [
    "# we plot last 50 values excluding last two values\n",
    "plt.plot(var[-1000:-2])\n",
    "plt.show()"
   ]
  },
  {
   "cell_type": "code",
   "execution_count": 23,
   "metadata": {},
   "outputs": [],
   "source": [
    "total_amount_diffusion = 300"
   ]
  },
  {
   "cell_type": "markdown",
   "metadata": {},
   "source": [
    "## 2-5. Tip Amount"
   ]
  },
  {
   "cell_type": "code",
   "execution_count": 24,
   "metadata": {},
   "outputs": [
    {
     "data": {
      "image/png": "[encoded data removed]",
      "text/plain": [
       "<Figure size 640x480 with 1 Axes>"
      ]
     },
     "metadata": {},
     "output_type": "display_data"
    }
   ],
   "source": [
    "# up to now we have removed the outliers based on trip durations, cab speeds, and trip distances\n",
    "# lets try if there are any outliers in based on the total_amount\n",
    "# box-plot showing outliers in fare\n",
    "sns.boxplot(y=\"tip_amount\", data =frame_with_durations_modified)\n",
    "plt.show()"
   ]
  },
  {
   "cell_type": "code",
   "execution_count": 25,
   "metadata": {},
   "outputs": [
    {
     "name": "stdout",
     "output_type": "stream",
     "text": [
      "0 percentile value is -63.5\n",
      "10 percentile value is 0.0\n",
      "20 percentile value is 0.0\n",
      "30 percentile value is 0.0\n",
      "40 percentile value is 1.0\n",
      "50 percentile value is 1.36\n",
      "60 percentile value is 1.7\n",
      "70 percentile value is 2.0\n",
      "80 percentile value is 2.46\n",
      "90 percentile value is 3.33\n",
      "100 percentile value is  787.25\n"
     ]
    }
   ],
   "source": [
    "#calculating total fare amount values at each percntile 0,10,20,30,40,50,60,70,80,90,100 \n",
    "for i in range(0,100,10):\n",
    "    var = frame_with_durations_modified[\"tip_amount\"].values\n",
    "    var = np.sort(var,axis = None)\n",
    "    print(\"{} percentile value is {}\".format(i,var[int(len(var)*(float(i)/100))]))\n",
    "print(\"100 percentile value is \",var[-1])"
   ]
  },
  {
   "cell_type": "code",
   "execution_count": 26,
   "metadata": {},
   "outputs": [
    {
     "name": "stdout",
     "output_type": "stream",
     "text": [
      "90 percentile value is 3.33\n",
      "91 percentile value is 3.46\n",
      "92 percentile value is 3.66\n",
      "93 percentile value is 3.86\n",
      "94 percentile value is 4.06\n",
      "95 percentile value is 4.36\n",
      "96 percentile value is 4.85\n",
      "97 percentile value is 5.25\n",
      "98 percentile value is 6.21\n",
      "99 percentile value is 8.35\n",
      "100 percentile value is  787.25\n"
     ]
    }
   ],
   "source": [
    "#calculating total fare amount values at each percntile 90,91,92,93,94,95,96,97,98,99,100\n",
    "for i in range(90,100):\n",
    "    var = frame_with_durations_modified[\"tip_amount\"].values\n",
    "    var = np.sort(var,axis = None)\n",
    "    print(\"{} percentile value is {}\".format(i,var[int(len(var)*(float(i)/100))]))\n",
    "print(\"100 percentile value is \",var[-1])"
   ]
  },
  {
   "cell_type": "code",
   "execution_count": 27,
   "metadata": {},
   "outputs": [
    {
     "name": "stdout",
     "output_type": "stream",
     "text": [
      "99.0 percentile value is 8.35\n",
      "99.1 percentile value is 8.78\n",
      "99.2 percentile value is 9.31\n",
      "99.3 percentile value is 10.0\n",
      "99.4 percentile value is 10.35\n",
      "99.5 percentile value is 11.1\n",
      "99.6 percentile value is 11.71\n",
      "99.7 percentile value is 11.82\n",
      "99.8 percentile value is 13.52\n",
      "99.9 percentile value is 15.84\n",
      "100 percentile value is  787.25\n"
     ]
    }
   ],
   "source": [
    "#calculating total fare amount values at each percntile 99.0,99.1,99.2,99.3,99.4,99.5,99.6,99.7,99.8,99.9,100\n",
    "for i in np.arange(0.0, 1.0, 0.1):\n",
    "    var = frame_with_durations_modified[\"tip_amount\"].values\n",
    "    var = np.sort(var,axis = None)\n",
    "    print(\"{} percentile value is {}\".format(99+i,var[int(len(var)*(float(99+i)/100))]))\n",
    "print(\"100 percentile value is \",var[-1])"
   ]
  },
  {
   "cell_type": "code",
   "execution_count": 28,
   "metadata": {},
   "outputs": [
    {
     "data": {
      "image/png": "[encoded data removed]",
      "text/plain": [
       "<Figure size 640x480 with 1 Axes>"
      ]
     },
     "metadata": {},
     "output_type": "display_data"
    }
   ],
   "source": [
    "#below plot shows us the fare values(sorted) to find a sharp increase to remove those values as outliers\n",
    "# plot the fare amount excluding last two values in sorted data\n",
    "plt.plot(var[:-2])\n",
    "plt.show()"
   ]
  },
  {
   "cell_type": "code",
   "execution_count": 29,
   "metadata": {},
   "outputs": [
    {
     "data": {
      "image/png": "[encoded data removed]",
      "text/plain": [
       "<Figure size 640x480 with 1 Axes>"
      ]
     },
     "metadata": {},
     "output_type": "display_data"
    }
   ],
   "source": [
    "#below plot shows us the fare values(sorted) to find a sharp increase to remove those values as outliers\n",
    "# plot the fare amount excluding last two values in sorted data\n",
    "plt.plot(var[-100:-1])\n",
    "plt.show()"
   ]
  },
  {
   "cell_type": "code",
   "execution_count": 30,
   "metadata": {},
   "outputs": [],
   "source": [
    "tip_amount_diffusion = 15"
   ]
  },
  {
   "cell_type": "markdown",
   "metadata": {},
   "source": [
    "## Remove all outliers/erronous points"
   ]
  },
  {
   "cell_type": "code",
   "execution_count": 31,
   "metadata": {},
   "outputs": [],
   "source": [
    "def map_region(dataframe, region):\n",
    "    region_df = taxi_zone_df[taxi_zone_df['Borough'] == region]\n",
    "    region_number = region_df['LocationID']\n",
    "    \n",
    "    region_arr_data = []\n",
    "    for i in region_number.values:\n",
    "        region_arr_data.append(dataframe[dataframe['PULocationID'] == i])\n",
    "    \n",
    "    region_df = pd.concat(region_arr_data, axis=0, ignore_index=True)\n",
    "\n",
    "    return region_df\n",
    "    "
   ]
  },
  {
   "cell_type": "code",
   "execution_count": 32,
   "metadata": {},
   "outputs": [],
   "source": [
    "#removing all outliers based on our univariate analysis above\n",
    "def remove_outliers(new_frame):\n",
    "\n",
    "    \n",
    "    # a = new_frame.shape[0]\n",
    "    # print (\"Number of pickup records = \",a)\n",
    "    \n",
    "    # temp_frame = new_frame[(new_frame.trip_times > 0) & (new_frame.trip_times < 720)]\n",
    "    # c = temp_frame.shape[0]\n",
    "    # print (\"Number of outliers from trip times analysis:\",(a-c))\n",
    "    \n",
    "    \n",
    "    # temp_frame = new_frame[(new_frame.trip_distance > 0) & (new_frame.trip_distance < 25.52)]\n",
    "    # d = temp_frame.shape[0]\n",
    "    # print (\"Number of outliers from trip distance analysis:\",(a-d))\n",
    "    \n",
    "    # temp_frame = new_frame[(new_frame.Speed <= 45.28) & (new_frame.Speed >= 0)]\n",
    "    # e = temp_frame.shape[0]\n",
    "    # print (\"Number of outliers from speed analysis:\",(a-e))\n",
    "    \n",
    "    # temp_frame = new_frame[(new_frame.total_amount <1000) & (new_frame.total_amount >0)]\n",
    "    # f = temp_frame.shape[0]\n",
    "    # print (\"Number of outliers from fare analysis:\",(a-f))\n",
    "    \n",
    "    new_frame = new_frame[(new_frame.total_amount > 0) & (new_frame.total_amount <total_amount_diffusion)]\n",
    "    new_frame = new_frame[(new_frame.trip_times > 0) & (new_frame.trip_times < trip_times_diffusion)]\n",
    "    new_frame = new_frame[(new_frame.trip_distance > 0) & (new_frame.trip_distance <= trip_distance_99_9)]\n",
    "    new_frame = new_frame[(new_frame.Speed > 0) & (new_frame.Speed <= speed_99_9)]\n",
    "    new_frame = new_frame[(new_frame.tip_amount >= 0) & (new_frame.tip_amount <= tip_amount_diffusion)]\n",
    "\n",
    "    \n",
    "    \n",
    "    # print (\"Total outliers removed\",a - new_frame.shape[0])\n",
    "    # print (\"---\")\n",
    "    return new_frame"
   ]
  },
  {
   "cell_type": "markdown",
   "metadata": {},
   "source": [
    "### unixtimestamp"
   ]
  },
  {
   "cell_type": "code",
   "execution_count": 33,
   "metadata": {},
   "outputs": [],
   "source": [
    "def set_unixtimestamp():\n",
    "    unix_times = []\n",
    "    for year in range(2):\n",
    "        tmp = []\n",
    "        for i in range(1,base_month_count+1):\n",
    "            date_time = datetime.datetime(base_year+year, i, 1, 0, 0)\n",
    "            tmp.append(int(time.mktime(date_time.timetuple())))\n",
    "        unix_times.append(tmp)\n",
    "    return unix_times"
   ]
  },
  {
   "cell_type": "code",
   "execution_count": 34,
   "metadata": {},
   "outputs": [],
   "source": [
    "def add_pickup_bins(frame,month,year):\n",
    "    unix_pickup_times=[i for i in frame['pickup_times'].values]\n",
    "\n",
    "    unix_times = set_unixtimestamp()\n",
    "    \n",
    "    start_pickup_unix=unix_times[year-base_year][month-1]\n",
    "\n",
    "    # https://www.timeanddate.com/time/zones/est\n",
    "    # (int((i-start_pickup_unix)/600)+33) : our unix time is in gmt to we are converting it to est\n",
    "    tenminutewise_binned_unix_pickup_times=[(int((i-start_pickup_unix)/600)) for i in unix_pickup_times]\n",
    "    frame['pickup_bins'] = np.array(tenminutewise_binned_unix_pickup_times)\n",
    "    return frame"
   ]
  },
  {
   "cell_type": "code",
   "execution_count": 35,
   "metadata": {},
   "outputs": [
    {
     "name": "stdout",
     "output_type": "stream",
     "text": [
      "start 1 month ..\n",
      "Return with trip times..\n",
      "Remove outliers..\n",
      "Final groupbying..\n",
      "start 2 month ..\n",
      "Return with trip times..\n",
      "Remove outliers..\n",
      "Final groupbying..\n",
      "start 3 month ..\n",
      "Return with trip times..\n",
      "Remove outliers..\n",
      "Final groupbying..\n",
      "start 4 month ..\n",
      "Return with trip times..\n",
      "Remove outliers..\n",
      "Final groupbying..\n",
      "start 5 month ..\n",
      "Return with trip times..\n",
      "Remove outliers..\n",
      "Final groupbying..\n",
      "start 6 month ..\n",
      "Return with trip times..\n",
      "Remove outliers..\n",
      "Final groupbying..\n",
      "start 7 month ..\n",
      "Return with trip times..\n",
      "Remove outliers..\n",
      "Final groupbying..\n",
      "start 8 month ..\n",
      "Return with trip times..\n",
      "Remove outliers..\n",
      "Final groupbying..\n",
      "start 9 month ..\n",
      "Return with trip times..\n",
      "Remove outliers..\n",
      "Final groupbying..\n",
      "start 10 month ..\n",
      "Return with trip times..\n",
      "Remove outliers..\n",
      "Final groupbying..\n",
      "start 11 month ..\n",
      "Return with trip times..\n",
      "Remove outliers..\n",
      "Final groupbying..\n",
      "start 12 month ..\n",
      "Return with trip times..\n",
      "Remove outliers..\n",
      "Final groupbying..\n"
     ]
    }
   ],
   "source": [
    "def datapreparation(month,month_no,year_no):\n",
    "    \n",
    "    print(f\"start {month_no} month ..\")\n",
    "\n",
    "    print (\"Return with trip times..\")\n",
    "    new_frame = map_region(month, region)\n",
    "\n",
    "    frame_with_durations = return_with_trip_times(new_frame)\n",
    "    \n",
    "    print (\"Remove outliers..\")\n",
    "    frame_with_durations_outliers_removed = remove_outliers(frame_with_durations)\n",
    "\n",
    "    print (\"Final groupbying..\")\n",
    "    final_updated_frame = add_pickup_bins(frame_with_durations_outliers_removed,month_no,year_no)\n",
    "    final_groupby_frame = final_updated_frame[['PULocationID','pickup_bins','trip_distance']].groupby(['PULocationID','pickup_bins']).count()\n",
    "    \n",
    "    return final_updated_frame,final_groupby_frame\n",
    "\n",
    "read_months = []\n",
    "for i in range(1,base_month_count+1):\n",
    "    if i < 10:\n",
    "        read_months.append(pd.read_parquet(f'yellow_tripdata_{base_year+1}-0{i}.parquet',engine='pyarrow'))\n",
    "    else:\n",
    "        read_months.append(pd.read_parquet(f'yellow_tripdata_{base_year+1}-{i}.parquet',engine='pyarrow'))\n",
    "\n",
    "\n",
    "months_frame = []\n",
    "months_groupby = []\n",
    "for index, month in enumerate(read_months):\n",
    "    tmp_frame, tmp_groupby = datapreparation(month, index+1,base_year+1)\n",
    "\n",
    "    preprocesingFile = f'preprocessing_yellow_tripdata_{base_year+1}_{index+1}.parquet'\n",
    "    tmp_frame.to_parquet(preprocesingFile)\n",
    "\n",
    "    months_frame.append(tmp_frame)\n",
    "    months_groupby.append(tmp_groupby)"
   ]
  },
  {
   "cell_type": "code",
   "execution_count": null,
   "metadata": {},
   "outputs": [],
   "source": []
  }
 ],
 "metadata": {
  "kernelspec": {
   "display_name": "Python 3.10.7 64-bit",
   "language": "python",
   "name": "python3"
  },
  "language_info": {
   "codemirror_mode": {
    "name": "ipython",
    "version": 3
   },
   "file_extension": ".py",
   "mimetype": "text/x-python",
   "name": "python",
   "nbconvert_exporter": "python",
   "pygments_lexer": "ipython3",
   "version": "3.10.7"
  },
  "orig_nbformat": 4,
  "vscode": {
   "interpreter": {
    "hash": "b0fa6594d8f4cbf19f97940f81e996739fb7646882a419484c72d19e05852a7e"
   }
  }
 },
 "nbformat": 4,
 "nbformat_minor": 2
}
