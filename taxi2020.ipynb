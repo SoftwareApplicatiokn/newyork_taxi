{
 "cells": [
  {
   "cell_type": "code",
   "execution_count": 83,
   "metadata": {},
   "outputs": [],
   "source": [
    "import dask.dataframe as dd#similar to pandas\n",
    "\n",
    "import pandas as pd#pandas to create small dataframes \n",
    "\n",
    "# unix time: https://www.unixtimestamp.com/\n",
    "import datetime #Convert to unix time\n",
    "\n",
    "import time #Convert to unix time\n",
    "\n",
    "# if numpy is not installed already : pip3 install numpy\n",
    "import numpy as np#Do aritmetic operations on arrays\n",
    "\n",
    "from matplotlib import rcParams#Size of plots  \n",
    "\n",
    "import matplotlib.pylab as plt\n",
    "import seaborn as sns#Plots\n",
    "\n",
    "from sklearn.cluster import MiniBatchKMeans, KMeans#Clustering\n",
    "import math\n",
    "import pickle\n",
    "import os\n",
    "\n",
    "import xgboost as xgb\n",
    "\n",
    "# to install sklearn: pip install -U scikit-learn\n",
    "from sklearn.ensemble import RandomForestRegressor\n",
    "from sklearn.metrics import mean_squared_error\n",
    "from sklearn.metrics import mean_absolute_error\n",
    "import warnings\n",
    "warnings.filterwarnings(\"ignore\")"
   ]
  },
  {
   "cell_type": "code",
   "execution_count": 84,
   "metadata": {},
   "outputs": [],
   "source": [
    "location_zone_csv = pd.read_csv('/Users/jinsu/Desktop/vscode/taxi+_zone_lookup.csv')"
   ]
  },
  {
   "cell_type": "code",
   "execution_count": 85,
   "metadata": {},
   "outputs": [],
   "source": [
    "# 맨해튼 지역 번호 추출\n",
    "manhattan = location_zone_csv[location_zone_csv['Borough'] == 'Manhattan']\n",
    "manhattan_number = manhattan['LocationID']"
   ]
  },
  {
   "cell_type": "code",
   "execution_count": 89,
   "metadata": {},
   "outputs": [
    {
     "data": {
      "text/html": [
       "<div>\n",
       "<style scoped>\n",
       "    .dataframe tbody tr th:only-of-type {\n",
       "        vertical-align: middle;\n",
       "    }\n",
       "\n",
       "    .dataframe tbody tr th {\n",
       "        vertical-align: top;\n",
       "    }\n",
       "\n",
       "    .dataframe thead th {\n",
       "        text-align: right;\n",
       "    }\n",
       "</style>\n",
       "<table border=\"1\" class=\"dataframe\">\n",
       "  <thead>\n",
       "    <tr style=\"text-align: right;\">\n",
       "      <th></th>\n",
       "      <th>VendorID</th>\n",
       "      <th>tpep_pickup_datetime</th>\n",
       "      <th>tpep_dropoff_datetime</th>\n",
       "      <th>passenger_count</th>\n",
       "      <th>trip_distance</th>\n",
       "      <th>RatecodeID</th>\n",
       "      <th>store_and_fwd_flag</th>\n",
       "      <th>PULocationID</th>\n",
       "      <th>DOLocationID</th>\n",
       "      <th>payment_type</th>\n",
       "      <th>fare_amount</th>\n",
       "      <th>extra</th>\n",
       "      <th>mta_tax</th>\n",
       "      <th>tip_amount</th>\n",
       "      <th>tolls_amount</th>\n",
       "      <th>improvement_surcharge</th>\n",
       "      <th>total_amount</th>\n",
       "      <th>congestion_surcharge</th>\n",
       "      <th>airport_fee</th>\n",
       "    </tr>\n",
       "  </thead>\n",
       "  <tbody>\n",
       "    <tr>\n",
       "      <th>0</th>\n",
       "      <td>1</td>\n",
       "      <td>2020-01-01 00:28:15</td>\n",
       "      <td>2020-01-01 00:33:03</td>\n",
       "      <td>1.0</td>\n",
       "      <td>1.2</td>\n",
       "      <td>1.0</td>\n",
       "      <td>N</td>\n",
       "      <td>238</td>\n",
       "      <td>239</td>\n",
       "      <td>1</td>\n",
       "      <td>6.0</td>\n",
       "      <td>3.0</td>\n",
       "      <td>0.5</td>\n",
       "      <td>1.47</td>\n",
       "      <td>0.0</td>\n",
       "      <td>0.3</td>\n",
       "      <td>11.27</td>\n",
       "      <td>2.5</td>\n",
       "      <td>None</td>\n",
       "    </tr>\n",
       "    <tr>\n",
       "      <th>1</th>\n",
       "      <td>1</td>\n",
       "      <td>2020-01-01 00:35:39</td>\n",
       "      <td>2020-01-01 00:43:04</td>\n",
       "      <td>1.0</td>\n",
       "      <td>1.2</td>\n",
       "      <td>1.0</td>\n",
       "      <td>N</td>\n",
       "      <td>239</td>\n",
       "      <td>238</td>\n",
       "      <td>1</td>\n",
       "      <td>7.0</td>\n",
       "      <td>3.0</td>\n",
       "      <td>0.5</td>\n",
       "      <td>1.50</td>\n",
       "      <td>0.0</td>\n",
       "      <td>0.3</td>\n",
       "      <td>12.30</td>\n",
       "      <td>2.5</td>\n",
       "      <td>None</td>\n",
       "    </tr>\n",
       "    <tr>\n",
       "      <th>2</th>\n",
       "      <td>1</td>\n",
       "      <td>2020-01-01 00:47:41</td>\n",
       "      <td>2020-01-01 00:53:52</td>\n",
       "      <td>1.0</td>\n",
       "      <td>0.6</td>\n",
       "      <td>1.0</td>\n",
       "      <td>N</td>\n",
       "      <td>238</td>\n",
       "      <td>238</td>\n",
       "      <td>1</td>\n",
       "      <td>6.0</td>\n",
       "      <td>3.0</td>\n",
       "      <td>0.5</td>\n",
       "      <td>1.00</td>\n",
       "      <td>0.0</td>\n",
       "      <td>0.3</td>\n",
       "      <td>10.80</td>\n",
       "      <td>2.5</td>\n",
       "      <td>None</td>\n",
       "    </tr>\n",
       "    <tr>\n",
       "      <th>3</th>\n",
       "      <td>1</td>\n",
       "      <td>2020-01-01 00:55:23</td>\n",
       "      <td>2020-01-01 01:00:14</td>\n",
       "      <td>1.0</td>\n",
       "      <td>0.8</td>\n",
       "      <td>1.0</td>\n",
       "      <td>N</td>\n",
       "      <td>238</td>\n",
       "      <td>151</td>\n",
       "      <td>1</td>\n",
       "      <td>5.5</td>\n",
       "      <td>0.5</td>\n",
       "      <td>0.5</td>\n",
       "      <td>1.36</td>\n",
       "      <td>0.0</td>\n",
       "      <td>0.3</td>\n",
       "      <td>8.16</td>\n",
       "      <td>0.0</td>\n",
       "      <td>None</td>\n",
       "    </tr>\n",
       "    <tr>\n",
       "      <th>4</th>\n",
       "      <td>2</td>\n",
       "      <td>2020-01-01 00:01:58</td>\n",
       "      <td>2020-01-01 00:04:16</td>\n",
       "      <td>1.0</td>\n",
       "      <td>0.0</td>\n",
       "      <td>1.0</td>\n",
       "      <td>N</td>\n",
       "      <td>193</td>\n",
       "      <td>193</td>\n",
       "      <td>2</td>\n",
       "      <td>3.5</td>\n",
       "      <td>0.5</td>\n",
       "      <td>0.5</td>\n",
       "      <td>0.00</td>\n",
       "      <td>0.0</td>\n",
       "      <td>0.3</td>\n",
       "      <td>4.80</td>\n",
       "      <td>0.0</td>\n",
       "      <td>None</td>\n",
       "    </tr>\n",
       "  </tbody>\n",
       "</table>\n",
       "</div>"
      ],
      "text/plain": [
       "   VendorID tpep_pickup_datetime tpep_dropoff_datetime  passenger_count  \\\n",
       "0         1  2020-01-01 00:28:15   2020-01-01 00:33:03              1.0   \n",
       "1         1  2020-01-01 00:35:39   2020-01-01 00:43:04              1.0   \n",
       "2         1  2020-01-01 00:47:41   2020-01-01 00:53:52              1.0   \n",
       "3         1  2020-01-01 00:55:23   2020-01-01 01:00:14              1.0   \n",
       "4         2  2020-01-01 00:01:58   2020-01-01 00:04:16              1.0   \n",
       "\n",
       "   trip_distance  RatecodeID store_and_fwd_flag  PULocationID  DOLocationID  \\\n",
       "0            1.2         1.0                  N           238           239   \n",
       "1            1.2         1.0                  N           239           238   \n",
       "2            0.6         1.0                  N           238           238   \n",
       "3            0.8         1.0                  N           238           151   \n",
       "4            0.0         1.0                  N           193           193   \n",
       "\n",
       "   payment_type  fare_amount  extra  mta_tax  tip_amount  tolls_amount  \\\n",
       "0             1          6.0    3.0      0.5        1.47           0.0   \n",
       "1             1          7.0    3.0      0.5        1.50           0.0   \n",
       "2             1          6.0    3.0      0.5        1.00           0.0   \n",
       "3             1          5.5    0.5      0.5        1.36           0.0   \n",
       "4             2          3.5    0.5      0.5        0.00           0.0   \n",
       "\n",
       "   improvement_surcharge  total_amount  congestion_surcharge airport_fee  \n",
       "0                    0.3         11.27                   2.5        None  \n",
       "1                    0.3         12.30                   2.5        None  \n",
       "2                    0.3         10.80                   2.5        None  \n",
       "3                    0.3          8.16                   0.0        None  \n",
       "4                    0.3          4.80                   0.0        None  "
      ]
     },
     "execution_count": 89,
     "metadata": {},
     "output_type": "execute_result"
    }
   ],
   "source": [
    "month = pd.read_parquet('/Users/jinsu/Desktop/vscode/yellow_tripdata_2020-01.parquet')\n",
    "month.head(5)"
   ]
  },
  {
   "cell_type": "code",
   "execution_count": 95,
   "metadata": {},
   "outputs": [
    {
     "data": {
      "text/plain": [
       "(6405008, 19)"
      ]
     },
     "execution_count": 95,
     "metadata": {},
     "output_type": "execute_result"
    }
   ],
   "source": [
    "month.shape"
   ]
  },
  {
   "cell_type": "code",
   "execution_count": 90,
   "metadata": {},
   "outputs": [],
   "source": [
    "manhattan_arr_data = []\n",
    "for i in manhattan_number.values:\n",
    "    #print(i)\n",
    "    manhattan_arr_data.append(month[month['PULocationID'] == i])"
   ]
  },
  {
   "cell_type": "code",
   "execution_count": 91,
   "metadata": {},
   "outputs": [],
   "source": [
    "manhattan_data = pd.concat(manhattan_arr_data, axis=0, ignore_index=True)"
   ]
  },
  {
   "cell_type": "code",
   "execution_count": 92,
   "metadata": {},
   "outputs": [
    {
     "data": {
      "text/html": [
       "<div>\n",
       "<style scoped>\n",
       "    .dataframe tbody tr th:only-of-type {\n",
       "        vertical-align: middle;\n",
       "    }\n",
       "\n",
       "    .dataframe tbody tr th {\n",
       "        vertical-align: top;\n",
       "    }\n",
       "\n",
       "    .dataframe thead th {\n",
       "        text-align: right;\n",
       "    }\n",
       "</style>\n",
       "<table border=\"1\" class=\"dataframe\">\n",
       "  <thead>\n",
       "    <tr style=\"text-align: right;\">\n",
       "      <th></th>\n",
       "      <th>VendorID</th>\n",
       "      <th>tpep_pickup_datetime</th>\n",
       "      <th>tpep_dropoff_datetime</th>\n",
       "      <th>passenger_count</th>\n",
       "      <th>trip_distance</th>\n",
       "      <th>RatecodeID</th>\n",
       "      <th>store_and_fwd_flag</th>\n",
       "      <th>PULocationID</th>\n",
       "      <th>DOLocationID</th>\n",
       "      <th>payment_type</th>\n",
       "      <th>fare_amount</th>\n",
       "      <th>extra</th>\n",
       "      <th>mta_tax</th>\n",
       "      <th>tip_amount</th>\n",
       "      <th>tolls_amount</th>\n",
       "      <th>improvement_surcharge</th>\n",
       "      <th>total_amount</th>\n",
       "      <th>congestion_surcharge</th>\n",
       "      <th>airport_fee</th>\n",
       "    </tr>\n",
       "  </thead>\n",
       "  <tbody>\n",
       "    <tr>\n",
       "      <th>0</th>\n",
       "      <td>2</td>\n",
       "      <td>2020-01-01 00:52:30</td>\n",
       "      <td>2020-01-01 01:04:20</td>\n",
       "      <td>2.0</td>\n",
       "      <td>1.63</td>\n",
       "      <td>1.0</td>\n",
       "      <td>N</td>\n",
       "      <td>4</td>\n",
       "      <td>137</td>\n",
       "      <td>1</td>\n",
       "      <td>9.0</td>\n",
       "      <td>0.5</td>\n",
       "      <td>0.5</td>\n",
       "      <td>2.56</td>\n",
       "      <td>0.0</td>\n",
       "      <td>0.3</td>\n",
       "      <td>15.36</td>\n",
       "      <td>2.5</td>\n",
       "      <td>None</td>\n",
       "    </tr>\n",
       "    <tr>\n",
       "      <th>1</th>\n",
       "      <td>2</td>\n",
       "      <td>2020-01-01 00:23:24</td>\n",
       "      <td>2020-01-01 00:35:19</td>\n",
       "      <td>2.0</td>\n",
       "      <td>1.78</td>\n",
       "      <td>1.0</td>\n",
       "      <td>N</td>\n",
       "      <td>4</td>\n",
       "      <td>170</td>\n",
       "      <td>1</td>\n",
       "      <td>9.0</td>\n",
       "      <td>0.5</td>\n",
       "      <td>0.5</td>\n",
       "      <td>2.56</td>\n",
       "      <td>0.0</td>\n",
       "      <td>0.3</td>\n",
       "      <td>15.36</td>\n",
       "      <td>2.5</td>\n",
       "      <td>None</td>\n",
       "    </tr>\n",
       "    <tr>\n",
       "      <th>2</th>\n",
       "      <td>1</td>\n",
       "      <td>2020-01-01 00:29:51</td>\n",
       "      <td>2020-01-01 00:37:16</td>\n",
       "      <td>2.0</td>\n",
       "      <td>0.80</td>\n",
       "      <td>1.0</td>\n",
       "      <td>N</td>\n",
       "      <td>4</td>\n",
       "      <td>79</td>\n",
       "      <td>2</td>\n",
       "      <td>6.5</td>\n",
       "      <td>3.0</td>\n",
       "      <td>0.5</td>\n",
       "      <td>0.00</td>\n",
       "      <td>0.0</td>\n",
       "      <td>0.3</td>\n",
       "      <td>10.30</td>\n",
       "      <td>2.5</td>\n",
       "      <td>None</td>\n",
       "    </tr>\n",
       "    <tr>\n",
       "      <th>3</th>\n",
       "      <td>2</td>\n",
       "      <td>2020-01-01 00:55:35</td>\n",
       "      <td>2020-01-01 01:19:45</td>\n",
       "      <td>1.0</td>\n",
       "      <td>3.27</td>\n",
       "      <td>1.0</td>\n",
       "      <td>N</td>\n",
       "      <td>4</td>\n",
       "      <td>246</td>\n",
       "      <td>1</td>\n",
       "      <td>17.0</td>\n",
       "      <td>0.5</td>\n",
       "      <td>0.5</td>\n",
       "      <td>1.00</td>\n",
       "      <td>0.0</td>\n",
       "      <td>0.3</td>\n",
       "      <td>21.80</td>\n",
       "      <td>2.5</td>\n",
       "      <td>None</td>\n",
       "    </tr>\n",
       "    <tr>\n",
       "      <th>4</th>\n",
       "      <td>1</td>\n",
       "      <td>2020-01-01 00:10:51</td>\n",
       "      <td>2020-01-01 00:17:49</td>\n",
       "      <td>4.0</td>\n",
       "      <td>0.80</td>\n",
       "      <td>1.0</td>\n",
       "      <td>N</td>\n",
       "      <td>4</td>\n",
       "      <td>148</td>\n",
       "      <td>1</td>\n",
       "      <td>6.0</td>\n",
       "      <td>3.0</td>\n",
       "      <td>0.5</td>\n",
       "      <td>1.95</td>\n",
       "      <td>0.0</td>\n",
       "      <td>0.3</td>\n",
       "      <td>11.75</td>\n",
       "      <td>2.5</td>\n",
       "      <td>None</td>\n",
       "    </tr>\n",
       "  </tbody>\n",
       "</table>\n",
       "</div>"
      ],
      "text/plain": [
       "   VendorID tpep_pickup_datetime tpep_dropoff_datetime  passenger_count  \\\n",
       "0         2  2020-01-01 00:52:30   2020-01-01 01:04:20              2.0   \n",
       "1         2  2020-01-01 00:23:24   2020-01-01 00:35:19              2.0   \n",
       "2         1  2020-01-01 00:29:51   2020-01-01 00:37:16              2.0   \n",
       "3         2  2020-01-01 00:55:35   2020-01-01 01:19:45              1.0   \n",
       "4         1  2020-01-01 00:10:51   2020-01-01 00:17:49              4.0   \n",
       "\n",
       "   trip_distance  RatecodeID store_and_fwd_flag  PULocationID  DOLocationID  \\\n",
       "0           1.63         1.0                  N             4           137   \n",
       "1           1.78         1.0                  N             4           170   \n",
       "2           0.80         1.0                  N             4            79   \n",
       "3           3.27         1.0                  N             4           246   \n",
       "4           0.80         1.0                  N             4           148   \n",
       "\n",
       "   payment_type  fare_amount  extra  mta_tax  tip_amount  tolls_amount  \\\n",
       "0             1          9.0    0.5      0.5        2.56           0.0   \n",
       "1             1          9.0    0.5      0.5        2.56           0.0   \n",
       "2             2          6.5    3.0      0.5        0.00           0.0   \n",
       "3             1         17.0    0.5      0.5        1.00           0.0   \n",
       "4             1          6.0    3.0      0.5        1.95           0.0   \n",
       "\n",
       "   improvement_surcharge  total_amount  congestion_surcharge airport_fee  \n",
       "0                    0.3         15.36                   2.5        None  \n",
       "1                    0.3         15.36                   2.5        None  \n",
       "2                    0.3         10.30                   2.5        None  \n",
       "3                    0.3         21.80                   2.5        None  \n",
       "4                    0.3         11.75                   2.5        None  "
      ]
     },
     "execution_count": 92,
     "metadata": {},
     "output_type": "execute_result"
    }
   ],
   "source": [
    "manhattan_data.head()"
   ]
  },
  {
   "cell_type": "code",
   "execution_count": 93,
   "metadata": {},
   "outputs": [
    {
     "data": {
      "text/plain": [
       "(5846105, 19)"
      ]
     },
     "execution_count": 93,
     "metadata": {},
     "output_type": "execute_result"
    }
   ],
   "source": [
    "manhattan_data.shape"
   ]
  },
  {
   "cell_type": "code",
   "execution_count": 140,
   "metadata": {},
   "outputs": [
    {
     "name": "stdout",
     "output_type": "stream",
     "text": [
      "   passenger_count  trip_distance  PULocationID  DOLocationID  total_amount  \\\n",
      "0              2.0           1.63             4           137         15.36   \n",
      "1              2.0           1.78             4           170         15.36   \n",
      "2              2.0           0.80             4            79         10.30   \n",
      "3              1.0           3.27             4           246         21.80   \n",
      "4              4.0           0.80             4           148         11.75   \n",
      "\n",
      "   trip_times  pickup_times     Speed  \n",
      "0   11.833333  1.577808e+09  8.264789  \n",
      "1   11.916667  1.577806e+09  8.962238  \n",
      "2    7.416667  1.577806e+09  6.471910  \n",
      "3   24.166667  1.577808e+09  8.118621  \n",
      "4    6.966667  1.577805e+09  6.889952  \n"
     ]
    }
   ],
   "source": [
    "#The timestamps are converted to unix so as to get duration(trip-time) & speed also pickup-times in unix are used while binning \n",
    "\n",
    "# in out data we have time in the formate \"YYYY-MM-DD HH:MM:SS\" we convert thiss sting to python time formate and then into unix time stamp\n",
    "# https://stackoverflow.com/a/27914405\n",
    "def convert_to_unix(s):\n",
    "    s = np.datetime_as_string(s, unit='s')\n",
    "    s = s.replace('T', ' ')\n",
    "\n",
    "    return time.mktime(datetime.datetime.strptime(s, '%Y-%m-%d %H:%M:%S').timetuple())\n",
    "\n",
    "\n",
    "\n",
    "# we return a data frame which contains the columns\n",
    "# 1.'passenger_count' : self explanatory\n",
    "# 2.'trip_distance' : self explanatory\n",
    "# 3.'pickup_longitude' : self explanatory\n",
    "# 4.'pickup_latitude' : self explanatory\n",
    "# 5.'dropoff_longitude' : self explanatory\n",
    "# 6.'dropoff_latitude' : self explanatory\n",
    "# 7.'total_amount' : total fair that was paid\n",
    "# 8.'trip_times' : duration of each trip\n",
    "# 9.'pickup_times : pickup time converted into unix time \n",
    "# 10.'Speed' : velocity of each trip\n",
    "def return_with_trip_times(month):\n",
    "    duration = month[['tpep_pickup_datetime','tpep_dropoff_datetime']]\n",
    "    #pickups and dropoffs to unix time\n",
    "    duration_pickup = [convert_to_unix(x) for x in duration['tpep_pickup_datetime'].values]\n",
    "    \n",
    "    duration_drop = [convert_to_unix(x) for x in duration['tpep_dropoff_datetime'].values]\n",
    "    #calculate duration of trips\n",
    "    durations = (np.array(duration_drop) - np.array(duration_pickup))/float(60)\n",
    "\n",
    "    #append durations of trips and speed in miles/hr to a new dataframe\n",
    "    new_frame = month[['passenger_count','trip_distance','PULocationID','DOLocationID','total_amount']]\n",
    "    \n",
    "    new_frame['trip_times'] = durations\n",
    "    new_frame['pickup_times'] = duration_pickup\n",
    "    new_frame['Speed'] = 60*(new_frame['trip_distance']/new_frame['trip_times'])\n",
    "    \n",
    "    return new_frame\n",
    "\n",
    "frame_with_durations = return_with_trip_times(manhattan_data)\n",
    "print(frame_with_durations.head())"
   ]
  },
  {
   "cell_type": "code",
   "execution_count": 141,
   "metadata": {},
   "outputs": [
    {
     "data": {
      "image/png": "[encoded data removed]",
      "text/plain": [
       "<Figure size 640x480 with 1 Axes>"
      ]
     },
     "metadata": {},
     "output_type": "display_data"
    }
   ],
   "source": [
    "sns.boxplot(y=\"trip_times\", data =frame_with_durations)\n",
    "plt.show()"
   ]
  },
  {
   "cell_type": "code",
   "execution_count": 142,
   "metadata": {},
   "outputs": [
    {
     "name": "stdout",
     "output_type": "stream",
     "text": [
      "0 percentile value is -2770.366666666667\n",
      "10 percentile value is 3.95\n",
      "20 percentile value is 5.483333333333333\n",
      "30 percentile value is 6.916666666666667\n",
      "40 percentile value is 8.383333333333333\n",
      "50 percentile value is 10.0\n",
      "60 percentile value is 11.85\n",
      "70 percentile value is 14.15\n",
      "80 percentile value is 17.266666666666666\n",
      "90 percentile value is 22.5\n",
      "100 percentile value is  8525.116666666667\n"
     ]
    }
   ],
   "source": [
    "#calculating 0-100th percentile to find a the correct percentile value for removal of outliers\n",
    "for i in range(0,100,10):\n",
    "    var =frame_with_durations[\"trip_times\"].values\n",
    "    var = np.sort(var,axis = None)\n",
    "    print(\"{} percentile value is {}\".format(i,var[int(len(var)*(float(i)/100))]))\n",
    "print (\"100 percentile value is \",var[-1])"
   ]
  },
  {
   "cell_type": "code",
   "execution_count": 143,
   "metadata": {},
   "outputs": [
    {
     "name": "stdout",
     "output_type": "stream",
     "text": [
      "90 percentile value is 22.5\n",
      "91 percentile value is 23.283333333333335\n",
      "92 percentile value is 24.183333333333334\n",
      "93 percentile value is 25.2\n",
      "94 percentile value is 26.4\n",
      "95 percentile value is 27.85\n",
      "96 percentile value is 29.65\n",
      "97 percentile value is 32.11666666666667\n",
      "98 percentile value is 36.0\n",
      "99 percentile value is 44.233333333333334\n",
      "100 percentile value is  8525.116666666667\n"
     ]
    }
   ],
   "source": [
    "#looking further from the 99th percecntile\n",
    "for i in range(90,100):\n",
    "    var =frame_with_durations[\"trip_times\"].values\n",
    "    var = np.sort(var,axis = None)\n",
    "    print(\"{} percentile value is {}\".format(i,var[int(len(var)*(float(i)/100))]))\n",
    "print (\"100 percentile value is \",var[-1])"
   ]
  },
  {
   "cell_type": "code",
   "execution_count": 144,
   "metadata": {},
   "outputs": [],
   "source": [
    "#removing data based on our analysis and TLC regulations\n",
    "frame_with_durations_modified=frame_with_durations[(frame_with_durations.trip_times>1) & (frame_with_durations.trip_times<720)]"
   ]
  },
  {
   "cell_type": "code",
   "execution_count": 145,
   "metadata": {},
   "outputs": [
    {
     "data": {
      "image/png": "[encoded data removed]",
      "text/plain": [
       "<Figure size 640x480 with 1 Axes>"
      ]
     },
     "metadata": {},
     "output_type": "display_data"
    }
   ],
   "source": [
    "#box-plot after removal of outliers\n",
    "sns.boxplot(y=\"trip_times\", data =frame_with_durations_modified)\n",
    "plt.show()"
   ]
  },
  {
   "cell_type": "code",
   "execution_count": 146,
   "metadata": {},
   "outputs": [
    {
     "data": {
      "image/png": "[encoded data removed]",
      "text/plain": [
       "<Figure size 311.111x300 with 1 Axes>"
      ]
     },
     "metadata": {},
     "output_type": "display_data"
    }
   ],
   "source": [
    "#pdf of trip-times after removing the outliers #size=6인거 지웠는데 무엇을 의미..?\n",
    "sns.FacetGrid(frame_with_durations_modified) \\\n",
    "      .map(sns.kdeplot,\"trip_times\") \\\n",
    "      .add_legend()\n",
    "plt.show()"
   ]
  },
  {
   "cell_type": "code",
   "execution_count": 147,
   "metadata": {},
   "outputs": [],
   "source": [
    "#converting the values to log-values to chec for log-normal\n",
    "import math\n",
    "frame_with_durations_modified['log_times']=[math.log(i) for i in frame_with_durations_modified['trip_times'].values]"
   ]
  },
  {
   "cell_type": "code",
   "execution_count": 148,
   "metadata": {},
   "outputs": [
    {
     "data": {
      "image/png": "[encoded data removed]",
      "text/plain": [
       "<Figure size 311.111x300 with 1 Axes>"
      ]
     },
     "metadata": {},
     "output_type": "display_data"
    }
   ],
   "source": [
    "#pdf of log-values\n",
    "sns.FacetGrid(frame_with_durations_modified) \\\n",
    "      .map(sns.kdeplot,\"log_times\") \\\n",
    "      .add_legend()\n",
    "plt.show()"
   ]
  },
  {
   "cell_type": "code",
   "execution_count": 149,
   "metadata": {},
   "outputs": [
    {
     "data": {
      "image/png": "[encoded data removed]",
      "text/plain": [
       "<Figure size 640x480 with 1 Axes>"
      ]
     },
     "metadata": {},
     "output_type": "display_data"
    }
   ],
   "source": [
    "#Q-Q plot for checking if trip-times is log-normal\n",
    "import scipy\n",
    "scipy.stats.probplot(frame_with_durations_modified['log_times'].values, plot=plt)\n",
    "plt.show()"
   ]
  },
  {
   "cell_type": "code",
   "execution_count": 150,
   "metadata": {},
   "outputs": [
    {
     "data": {
      "image/png": "[encoded data removed]",
      "text/plain": [
       "<Figure size 640x480 with 1 Axes>"
      ]
     },
     "metadata": {},
     "output_type": "display_data"
    }
   ],
   "source": [
    "# check for any outliers in the data after trip duration outliers removed\n",
    "# box-plot for speeds with outliers\n",
    "frame_with_durations_modified['Speed'] = 60*(frame_with_durations_modified['trip_distance']/frame_with_durations_modified['trip_times'])\n",
    "sns.boxplot(y=\"Speed\", data =frame_with_durations_modified)\n",
    "plt.show()"
   ]
  },
  {
   "cell_type": "code",
   "execution_count": 151,
   "metadata": {},
   "outputs": [
    {
     "name": "stdout",
     "output_type": "stream",
     "text": [
      "0 percentile value is -42.075\n",
      "10 percentile value is 5.943396226415095\n",
      "20 percentile value is 7.148632580261593\n",
      "30 percentile value is 8.090909090909092\n",
      "40 percentile value is 8.964980544747082\n",
      "50 percentile value is 9.863013698630137\n",
      "60 percentile value is 10.86315789473684\n",
      "70 percentile value is 12.09933774834437\n",
      "80 percentile value is 13.846153846153847\n",
      "90 percentile value is 17.097968397291197\n",
      "100 percentile value is  1501.875\n"
     ]
    }
   ],
   "source": [
    "#calculating speed values at each percntile 0,10,20,30,40,50,60,70,80,90,100 \n",
    "for i in range(0,100,10):\n",
    "    var =frame_with_durations_modified[\"Speed\"].values\n",
    "    var = np.sort(var,axis = None)\n",
    "    print(\"{} percentile value is {}\".format(i,var[int(len(var)*(float(i)/100))]))\n",
    "print(\"100 percentile value is \",var[-1])"
   ]
  },
  {
   "cell_type": "code",
   "execution_count": 152,
   "metadata": {},
   "outputs": [
    {
     "name": "stdout",
     "output_type": "stream",
     "text": [
      "90 percentile value is 17.097968397291197\n",
      "91 percentile value is 17.628865979381445\n",
      "92 percentile value is 18.230769230769234\n",
      "93 percentile value is 18.933655006031362\n",
      "94 percentile value is 19.750000000000004\n",
      "95 percentile value is 20.74105263157895\n",
      "96 percentile value is 21.957446808510635\n",
      "97 percentile value is 23.53125\n",
      "98 percentile value is 25.74834437086093\n",
      "99 percentile value is 29.62194217939214\n",
      "100 percentile value is  1501.875\n"
     ]
    }
   ],
   "source": [
    "#calculating speed values at each percntile 90,91,92,93,94,95,96,97,98,99,100\n",
    "for i in range(90,100):\n",
    "    var =frame_with_durations_modified[\"Speed\"].values\n",
    "    var = np.sort(var,axis = None)\n",
    "    print(\"{} percentile value is {}\".format(i,var[int(len(var)*(float(i)/100))]))\n",
    "print(\"100 percentile value is \",var[-1])"
   ]
  },
  {
   "cell_type": "code",
   "execution_count": 153,
   "metadata": {},
   "outputs": [
    {
     "name": "stdout",
     "output_type": "stream",
     "text": [
      "99.0 percentile value is 29.62194217939214\n",
      "99.1 percentile value is 30.20051413881748\n",
      "99.2 percentile value is 30.852017937219728\n",
      "99.3 percentile value is 31.58166189111748\n",
      "99.4 percentile value is 32.40312771503041\n",
      "99.5 percentile value is 33.35779816513762\n",
      "99.6 percentile value is 34.478309232480534\n",
      "99.7 percentile value is 35.86466165413533\n",
      "99.8 percentile value is 37.696335078534034\n",
      "99.9 percentile value is 40.625698324022345\n",
      "100 percentile value is  1501.875\n"
     ]
    }
   ],
   "source": [
    "#calculating speed values at each percntile 99.0,99.1,99.2,99.3,99.4,99.5,99.6,99.7,99.8,99.9,100\n",
    "for i in np.arange(0.0, 1.0, 0.1):\n",
    "    var =frame_with_durations_modified[\"Speed\"].values\n",
    "    var = np.sort(var,axis = None)\n",
    "    print(\"{} percentile value is {}\".format(99+i,var[int(len(var)*(float(99+i)/100))]))\n",
    "print(\"100 percentile value is \",var[-1])"
   ]
  },
  {
   "cell_type": "code",
   "execution_count": 154,
   "metadata": {},
   "outputs": [],
   "source": [
    "#removing further outliers based on the 99.9th percentile value\n",
    "frame_with_durations_modified=frame_with_durations[(frame_with_durations.Speed>0) & (frame_with_durations.Speed<41)]"
   ]
  },
  {
   "cell_type": "code",
   "execution_count": 155,
   "metadata": {},
   "outputs": [
    {
     "data": {
      "text/plain": [
       "10.903376922010597"
      ]
     },
     "execution_count": 155,
     "metadata": {},
     "output_type": "execute_result"
    }
   ],
   "source": [
    "#avg.speed of cabs in New-York\n",
    "sum(frame_with_durations_modified[\"Speed\"]) / float(len(frame_with_durations_modified[\"Speed\"]))"
   ]
  },
  {
   "cell_type": "markdown",
   "metadata": {},
   "source": [
    "# trip distance"
   ]
  },
  {
   "cell_type": "code",
   "execution_count": 156,
   "metadata": {},
   "outputs": [
    {
     "data": {
      "image/png": "[encoded data removed]",
      "text/plain": [
       "<Figure size 640x480 with 1 Axes>"
      ]
     },
     "metadata": {},
     "output_type": "display_data"
    }
   ],
   "source": [
    "sns.boxplot(y=\"trip_distance\", data=frame_with_durations_modified)\n",
    "plt.show()"
   ]
  },
  {
   "cell_type": "code",
   "execution_count": 157,
   "metadata": {},
   "outputs": [
    {
     "name": "stdout",
     "output_type": "stream",
     "text": [
      "0 percentile value is 0.01\n",
      "10 percentile value is 0.62\n",
      "20 percentile value is 0.84\n",
      "30 percentile value is 1.04\n",
      "40 percentile value is 1.27\n",
      "50 percentile value is 1.51\n",
      "60 percentile value is 1.83\n",
      "70 percentile value is 2.28\n",
      "80 percentile value is 2.97\n",
      "90 percentile value is 4.59\n",
      "100 percentile value is 154.45\n"
     ]
    }
   ],
   "source": [
    "for i in range(0, 100, 10):\n",
    "    var = frame_with_durations_modified['trip_distance'].values\n",
    "    var = np.sort(var, axis=None)\n",
    "    print(\"{} percentile value is {}\".format(i,var[int(len(var)*(float(i)/100))]))\n",
    "print(\"100 percentile value is\", var[-1])"
   ]
  },
  {
   "cell_type": "code",
   "execution_count": 158,
   "metadata": {},
   "outputs": [
    {
     "name": "stdout",
     "output_type": "stream",
     "text": [
      "90 percentile value is 4.59\n",
      "91 percentile value is 4.89\n",
      "92 percentile value is 5.21\n",
      "93 percentile value is 5.63\n",
      "94 percentile value is 6.14\n",
      "95 percentile value is 6.78\n",
      "96 percentile value is 7.6\n",
      "97 percentile value is 8.85\n",
      "98 percentile value is 10.48\n",
      "99 percentile value is 15.2\n",
      "100 percentile value is 154.45\n"
     ]
    }
   ],
   "source": [
    "for i in range(90, 100):\n",
    "    var = frame_with_durations_modified['trip_distance'].values\n",
    "    var = np.sort(var, axis=None)\n",
    "    print(\"{} percentile value is {}\".format(i,var[int(len(var)*(float(i)/100))]))\n",
    "print(\"100 percentile value is\", var[-1])"
   ]
  },
  {
   "cell_type": "code",
   "execution_count": 159,
   "metadata": {},
   "outputs": [
    {
     "name": "stdout",
     "output_type": "stream",
     "text": [
      "99.0 percentile value is 15.2\n",
      "99.1 percentile value is 16.04\n",
      "99.2 percentile value is 16.58\n",
      "99.3 percentile value is 16.93\n",
      "99.4 percentile value is 17.28\n",
      "99.5 percentile value is 17.6\n",
      "99.6 percentile value is 18.0\n",
      "99.7 percentile value is 18.61\n",
      "99.8 percentile value is 19.6\n",
      "99.9 percentile value is 21.08\n",
      "100 percentile value is  154.45\n"
     ]
    }
   ],
   "source": [
    "for i in np.arange(0.0, 1.0, 0.1):\n",
    "    var =frame_with_durations_modified[\"trip_distance\"].values\n",
    "    var = np.sort(var,axis = None)\n",
    "    print(\"{} percentile value is {}\".format(99+i,var[int(len(var)*(float(99+i)/100))]))\n",
    "print(\"100 percentile value is \",var[-1])"
   ]
  },
  {
   "cell_type": "code",
   "execution_count": 160,
   "metadata": {},
   "outputs": [],
   "source": [
    "#removing further outliers based on the 99.9th percentile value\n",
    "frame_with_durations_modified=frame_with_durations[(frame_with_durations.trip_distance>0) & (frame_with_durations.trip_distance<22)]"
   ]
  },
  {
   "cell_type": "code",
   "execution_count": 161,
   "metadata": {},
   "outputs": [
    {
     "data": {
      "image/png": "[encoded data removed]",
      "text/plain": [
       "<Figure size 640x480 with 1 Axes>"
      ]
     },
     "metadata": {},
     "output_type": "display_data"
    }
   ],
   "source": [
    "#box-plot after removal of outliers\n",
    "sns.boxplot(y=\"trip_distance\", data = frame_with_durations_modified)\n",
    "plt.show()"
   ]
  },
  {
   "cell_type": "markdown",
   "metadata": {},
   "source": [
    "# total fare"
   ]
  },
  {
   "cell_type": "code",
   "execution_count": 162,
   "metadata": {},
   "outputs": [
    {
     "data": {
      "image/png": "[encoded data removed]",
      "text/plain": [
       "<Figure size 640x480 with 1 Axes>"
      ]
     },
     "metadata": {},
     "output_type": "display_data"
    }
   ],
   "source": [
    "# up to now we have removed the outliers based on trip durations, cab speeds, and trip distances\n",
    "# lets try if there are any outliers in based on the total_amount\n",
    "# box-plot showing outliers in fare\n",
    "sns.boxplot(y=\"total_amount\", data =frame_with_durations_modified)\n",
    "plt.show()"
   ]
  },
  {
   "cell_type": "code",
   "execution_count": 163,
   "metadata": {},
   "outputs": [
    {
     "name": "stdout",
     "output_type": "stream",
     "text": [
      "0 percentile value is -1242.3\n",
      "10 percentile value is 9.3\n",
      "20 percentile value is 10.55\n",
      "30 percentile value is 11.75\n",
      "40 percentile value is 12.8\n",
      "50 percentile value is 13.85\n",
      "60 percentile value is 15.35\n",
      "70 percentile value is 17.16\n",
      "80 percentile value is 19.8\n",
      "90 percentile value is 25.42\n",
      "100 percentile value is  4268.3\n"
     ]
    }
   ],
   "source": [
    "#calculating total fare amount values at each percntile 0,10,20,30,40,50,60,70,80,90,100 \n",
    "for i in range(0,100,10):\n",
    "    var = frame_with_durations_modified[\"total_amount\"].values\n",
    "    var = np.sort(var,axis = None)\n",
    "    print(\"{} percentile value is {}\".format(i,var[int(len(var)*(float(i)/100))]))\n",
    "print(\"100 percentile value is \",var[-1])"
   ]
  },
  {
   "cell_type": "code",
   "execution_count": 164,
   "metadata": {},
   "outputs": [
    {
     "name": "stdout",
     "output_type": "stream",
     "text": [
      "90 percentile value is 25.42\n",
      "91 percentile value is 26.3\n",
      "92 percentile value is 27.36\n",
      "93 percentile value is 28.8\n",
      "94 percentile value is 30.36\n",
      "95 percentile value is 32.3\n",
      "96 percentile value is 35.3\n",
      "97 percentile value is 39.96\n",
      "98 percentile value is 47.3\n",
      "99 percentile value is 61.42\n",
      "100 percentile value is  4268.3\n"
     ]
    }
   ],
   "source": [
    "#calculating total fare amount values at each percntile 90,91,92,93,94,95,96,97,98,99,100\n",
    "for i in range(90,100):\n",
    "    var = frame_with_durations_modified[\"total_amount\"].values\n",
    "    var = np.sort(var,axis = None)\n",
    "    print(\"{} percentile value is {}\".format(i,var[int(len(var)*(float(i)/100))]))\n",
    "print(\"100 percentile value is \",var[-1])"
   ]
  },
  {
   "cell_type": "code",
   "execution_count": 165,
   "metadata": {},
   "outputs": [
    {
     "name": "stdout",
     "output_type": "stream",
     "text": [
      "99.0 percentile value is 61.42\n",
      "99.1 percentile value is 65.3\n",
      "99.2 percentile value is 66.42\n",
      "99.3 percentile value is 70.1\n",
      "99.4 percentile value is 72.58\n",
      "99.5 percentile value is 73.7\n",
      "99.6 percentile value is 73.7\n",
      "99.7 percentile value is 77.8\n",
      "99.8 percentile value is 82.55\n",
      "99.9 percentile value is 96.66\n",
      "100 percentile value is  4268.3\n"
     ]
    }
   ],
   "source": [
    "#calculating total fare amount values at each percntile 99.0,99.1,99.2,99.3,99.4,99.5,99.6,99.7,99.8,99.9,100\n",
    "for i in np.arange(0.0, 1.0, 0.1):\n",
    "    var = frame_with_durations_modified[\"total_amount\"].values\n",
    "    var = np.sort(var,axis = None)\n",
    "    print(\"{} percentile value is {}\".format(99+i,var[int(len(var)*(float(99+i)/100))]))\n",
    "print(\"100 percentile value is \",var[-1])"
   ]
  },
  {
   "cell_type": "code",
   "execution_count": 166,
   "metadata": {},
   "outputs": [
    {
     "data": {
      "image/png": "[encoded data removed]",
      "text/plain": [
       "<Figure size 640x480 with 1 Axes>"
      ]
     },
     "metadata": {},
     "output_type": "display_data"
    }
   ],
   "source": [
    "#below plot shows us the fare values(sorted) to find a sharp increase to remove those values as outliers\n",
    "# plot the fare amount excluding last two values in sorted data\n",
    "plt.plot(var[:-2])\n",
    "plt.show()"
   ]
  },
  {
   "cell_type": "code",
   "execution_count": 167,
   "metadata": {},
   "outputs": [
    {
     "data": {
      "image/png": "[encoded data removed]",
      "text/plain": [
       "<Figure size 640x480 with 1 Axes>"
      ]
     },
     "metadata": {},
     "output_type": "display_data"
    }
   ],
   "source": [
    "# a very sharp increase in fare values can be seen \n",
    "# plotting last three total fare values, and we can observe there is share increase in the values\n",
    "plt.plot(var[-3:])\n",
    "plt.show()"
   ]
  },
  {
   "cell_type": "code",
   "execution_count": 169,
   "metadata": {},
   "outputs": [
    {
     "data": {
      "image/png": "[encoded data removed]",
      "text/plain": [
       "<Figure size 640x480 with 1 Axes>"
      ]
     },
     "metadata": {},
     "output_type": "display_data"
    }
   ],
   "source": [
    "#now looking at values not including the last two points we again find a drastic increase at around 1000 fare value\n",
    "# we plot last 50 values excluding last two values\n",
    "plt.plot(var[-10:-2])\n",
    "plt.show()"
   ]
  },
  {
   "cell_type": "code",
   "execution_count": 170,
   "metadata": {},
   "outputs": [],
   "source": [
    "# 1. 이상한 시간\n",
    "# 2. 이상한 속도\n",
    "# 3. 이상한 거리\n",
    "# 4. 이상한 비용\n",
    "# 5. 이상한 팁\n",
    "def remove_outliers(new_frame):\n",
    "    a = new_frame.shape[0]\n",
    "    print(\"총 데이터 수 = \", a)\n",
    "\n",
    "    # 시간\n",
    "    temp_frame = new_frame[(new_frame.trip_times > 0) & (new_frame.trip_times < 720)]\n",
    "    c = temp_frame.shape[0]\n",
    "    print (\"시간 튀는 값의 개수:\",(a-c))\n",
    "    \n",
    "    # 거리\n",
    "    temp_frame = new_frame[(new_frame.trip_distance > 0) & (new_frame.trip_distance < 22)]\n",
    "    d = temp_frame.shape[0]\n",
    "    print (\"거리 튀는 값의 개수:\",(a-d))\n",
    "\n",
    "    # 속도\n",
    "    temp_frame = new_frame[(new_frame.Speed < 41) & (new_frame.Speed > 0)]\n",
    "    e = temp_frame.shape[0]\n",
    "    print (\"속도 튀는 값의 개수\",(a-e))\n",
    "\n",
    "    # 비용\n",
    "    temp_frame = new_frame[(new_frame.total_amount <550) & (new_frame.total_amount >0)]\n",
    "    f = temp_frame.shape[0]\n",
    "    print (\"비용 튀는 값의 개수:\",(a-f))\n",
    "\n",
    "    new_frame = new_frame[(new_frame.trip_times > 0) & (new_frame.trip_times < 720)]\n",
    "    new_frame = new_frame[(new_frame.trip_distance > 0) & (new_frame.trip_distance < 22)]\n",
    "    new_frame = new_frame[(new_frame.Speed < 41) & (new_frame.Speed > 0)]\n",
    "    new_frame = new_frame[(new_frame.total_amount <550) & (new_frame.total_amount >0)]\n",
    "\n",
    "    print(\"전체 삭제 된 데이터 수\", a-new_frame.shape[0])\n",
    "    print(\"---\")\n",
    "    return new_frame"
   ]
  },
  {
   "cell_type": "code",
   "execution_count": 171,
   "metadata": {},
   "outputs": [
    {
     "name": "stdout",
     "output_type": "stream",
     "text": [
      "2020-01 데이터 제거 현황\n",
      "---\n",
      "총 데이터 수 =  5846105\n",
      "시간 튀는 값의 개수: 14470\n",
      "거리 튀는 값의 개수: 43374\n",
      "속도 튀는 값의 개수 47605\n",
      "비용 튀는 값의 개수: 16967\n",
      "전체 삭제 된 데이터 수 77930\n",
      "---\n",
      "튀는 값 제거하고 남은 비율 0.9866697570433648\n"
     ]
    }
   ],
   "source": [
    "print(\"2020-01 데이터 제거 현황\")\n",
    "print(\"---\")\n",
    "frame_with_durations_outliers_removed = remove_outliers(frame_with_durations)\n",
    "print(\"튀는 값 제거하고 남은 비율\", float(len(frame_with_durations_outliers_removed))/len(frame_with_durations))"
   ]
  },
  {
   "cell_type": "code",
   "execution_count": 179,
   "metadata": {},
   "outputs": [
    {
     "data": {
      "text/html": [
       "<div>\n",
       "<style scoped>\n",
       "    .dataframe tbody tr th:only-of-type {\n",
       "        vertical-align: middle;\n",
       "    }\n",
       "\n",
       "    .dataframe tbody tr th {\n",
       "        vertical-align: top;\n",
       "    }\n",
       "\n",
       "    .dataframe thead th {\n",
       "        text-align: right;\n",
       "    }\n",
       "</style>\n",
       "<table border=\"1\" class=\"dataframe\">\n",
       "  <thead>\n",
       "    <tr style=\"text-align: right;\">\n",
       "      <th></th>\n",
       "      <th>passenger_count</th>\n",
       "      <th>trip_distance</th>\n",
       "      <th>PULocationID</th>\n",
       "      <th>DOLocationID</th>\n",
       "      <th>total_amount</th>\n",
       "      <th>trip_times</th>\n",
       "      <th>pickup_times</th>\n",
       "      <th>Speed</th>\n",
       "      <th>pickup_bins</th>\n",
       "    </tr>\n",
       "  </thead>\n",
       "  <tbody>\n",
       "    <tr>\n",
       "      <th>0</th>\n",
       "      <td>2.0</td>\n",
       "      <td>1.63</td>\n",
       "      <td>1</td>\n",
       "      <td>137</td>\n",
       "      <td>15.36</td>\n",
       "      <td>11.833333</td>\n",
       "      <td>1.577808e+09</td>\n",
       "      <td>8.264789</td>\n",
       "      <td>38</td>\n",
       "    </tr>\n",
       "    <tr>\n",
       "      <th>1</th>\n",
       "      <td>2.0</td>\n",
       "      <td>1.78</td>\n",
       "      <td>1</td>\n",
       "      <td>170</td>\n",
       "      <td>15.36</td>\n",
       "      <td>11.916667</td>\n",
       "      <td>1.577806e+09</td>\n",
       "      <td>8.962238</td>\n",
       "      <td>35</td>\n",
       "    </tr>\n",
       "    <tr>\n",
       "      <th>2</th>\n",
       "      <td>2.0</td>\n",
       "      <td>0.80</td>\n",
       "      <td>1</td>\n",
       "      <td>79</td>\n",
       "      <td>10.30</td>\n",
       "      <td>7.416667</td>\n",
       "      <td>1.577806e+09</td>\n",
       "      <td>6.471910</td>\n",
       "      <td>35</td>\n",
       "    </tr>\n",
       "    <tr>\n",
       "      <th>3</th>\n",
       "      <td>1.0</td>\n",
       "      <td>3.27</td>\n",
       "      <td>1</td>\n",
       "      <td>246</td>\n",
       "      <td>21.80</td>\n",
       "      <td>24.166667</td>\n",
       "      <td>1.577808e+09</td>\n",
       "      <td>8.118621</td>\n",
       "      <td>38</td>\n",
       "    </tr>\n",
       "    <tr>\n",
       "      <th>4</th>\n",
       "      <td>4.0</td>\n",
       "      <td>0.80</td>\n",
       "      <td>1</td>\n",
       "      <td>148</td>\n",
       "      <td>11.75</td>\n",
       "      <td>6.966667</td>\n",
       "      <td>1.577805e+09</td>\n",
       "      <td>6.889952</td>\n",
       "      <td>34</td>\n",
       "    </tr>\n",
       "    <tr>\n",
       "      <th>...</th>\n",
       "      <td>...</td>\n",
       "      <td>...</td>\n",
       "      <td>...</td>\n",
       "      <td>...</td>\n",
       "      <td>...</td>\n",
       "      <td>...</td>\n",
       "      <td>...</td>\n",
       "      <td>...</td>\n",
       "      <td>...</td>\n",
       "    </tr>\n",
       "    <tr>\n",
       "      <th>5846100</th>\n",
       "      <td>NaN</td>\n",
       "      <td>20.67</td>\n",
       "      <td>69</td>\n",
       "      <td>203</td>\n",
       "      <td>57.67</td>\n",
       "      <td>36.933333</td>\n",
       "      <td>1.580472e+09</td>\n",
       "      <td>33.579422</td>\n",
       "      <td>4478</td>\n",
       "    </tr>\n",
       "    <tr>\n",
       "      <th>5846101</th>\n",
       "      <td>NaN</td>\n",
       "      <td>2.64</td>\n",
       "      <td>69</td>\n",
       "      <td>41</td>\n",
       "      <td>23.70</td>\n",
       "      <td>17.300000</td>\n",
       "      <td>1.580476e+09</td>\n",
       "      <td>9.156069</td>\n",
       "      <td>4484</td>\n",
       "    </tr>\n",
       "    <tr>\n",
       "      <th>5846102</th>\n",
       "      <td>NaN</td>\n",
       "      <td>10.75</td>\n",
       "      <td>69</td>\n",
       "      <td>61</td>\n",
       "      <td>39.76</td>\n",
       "      <td>71.000000</td>\n",
       "      <td>1.580475e+09</td>\n",
       "      <td>9.084507</td>\n",
       "      <td>4484</td>\n",
       "    </tr>\n",
       "    <tr>\n",
       "      <th>5846103</th>\n",
       "      <td>NaN</td>\n",
       "      <td>0.76</td>\n",
       "      <td>69</td>\n",
       "      <td>263</td>\n",
       "      <td>19.63</td>\n",
       "      <td>4.000000</td>\n",
       "      <td>1.580473e+09</td>\n",
       "      <td>11.400000</td>\n",
       "      <td>4481</td>\n",
       "    </tr>\n",
       "    <tr>\n",
       "      <th>5846104</th>\n",
       "      <td>NaN</td>\n",
       "      <td>0.79</td>\n",
       "      <td>69</td>\n",
       "      <td>263</td>\n",
       "      <td>29.63</td>\n",
       "      <td>7.000000</td>\n",
       "      <td>1.580475e+09</td>\n",
       "      <td>6.771429</td>\n",
       "      <td>4483</td>\n",
       "    </tr>\n",
       "  </tbody>\n",
       "</table>\n",
       "<p>5768175 rows × 9 columns</p>\n",
       "</div>"
      ],
      "text/plain": [
       "         passenger_count  trip_distance  PULocationID  DOLocationID  \\\n",
       "0                    2.0           1.63             1           137   \n",
       "1                    2.0           1.78             1           170   \n",
       "2                    2.0           0.80             1            79   \n",
       "3                    1.0           3.27             1           246   \n",
       "4                    4.0           0.80             1           148   \n",
       "...                  ...            ...           ...           ...   \n",
       "5846100              NaN          20.67            69           203   \n",
       "5846101              NaN           2.64            69            41   \n",
       "5846102              NaN          10.75            69            61   \n",
       "5846103              NaN           0.76            69           263   \n",
       "5846104              NaN           0.79            69           263   \n",
       "\n",
       "         total_amount  trip_times  pickup_times      Speed  pickup_bins  \n",
       "0               15.36   11.833333  1.577808e+09   8.264789           38  \n",
       "1               15.36   11.916667  1.577806e+09   8.962238           35  \n",
       "2               10.30    7.416667  1.577806e+09   6.471910           35  \n",
       "3               21.80   24.166667  1.577808e+09   8.118621           38  \n",
       "4               11.75    6.966667  1.577805e+09   6.889952           34  \n",
       "...               ...         ...           ...        ...          ...  \n",
       "5846100         57.67   36.933333  1.580472e+09  33.579422         4478  \n",
       "5846101         23.70   17.300000  1.580476e+09   9.156069         4484  \n",
       "5846102         39.76   71.000000  1.580475e+09   9.084507         4484  \n",
       "5846103         19.63    4.000000  1.580473e+09  11.400000         4481  \n",
       "5846104         29.63    7.000000  1.580475e+09   6.771429         4483  \n",
       "\n",
       "[5768175 rows x 9 columns]"
      ]
     },
     "execution_count": 179,
     "metadata": {},
     "output_type": "execute_result"
    }
   ],
   "source": [
    "for location_id, index in zip(manhattan_number, range(1, len(manhattan_number)+1)):\n",
    "    frame_with_durations_outliers_removed.loc[frame_with_durations_outliers_removed['PULocationID'] == location_id, 'PULocationID'] = index\n",
    "frame_with_durations_outliers_removed"
   ]
  },
  {
   "cell_type": "code",
   "execution_count": 180,
   "metadata": {},
   "outputs": [],
   "source": [
    "#Refer:https://www.unixtimestamp.com/\n",
    "# 1577804400 : 2020-01-01 00:00:00 \n",
    "# 1580482800 : 2020-02-01 00:00:00 \n",
    "# 1582988400 : 2020-03-01 00:00:00\n",
    "# 1585666800 : 2020-04-01 00:00:00 \n",
    "# 1588258800 : 2020-05-01 00:00:00 \n",
    "# 1590937200 : 2020-06-01 00:00:00\n",
    "\n",
    "# 1609426800 : 2021-01-01 00:00:00 \n",
    "# 1612105200 : 2021-02-01 00:00:00 \n",
    "# 1614524400 : 2021-03-01 00:00:00\n",
    "# 1617202800 : 2021-04-01 00:00:00 \n",
    "# 1619794800 : 2021-05-01 00:00:00 \n",
    "# 1622473200 : 2021-06-01 00:00:00\n",
    "def add_pickup_bins(frame,month,year):\n",
    "    unix_pickup_times=[i for i in frame['pickup_times'].values]\n",
    "    unix_times = [[1577804400,1580482800,1582988400,1585666800,1588258800,1590937200],\\\n",
    "                    [1609426800,1612137600,1614524400,1617202800,1619794800,1622473200]]\n",
    "    \n",
    "    start_pickup_unix=unix_times[year-2020][month-1]\n",
    "    # https://www.timeanddate.com/time/zones/est\n",
    "    # (int((i-start_pickup_unix)/600)+33) : our unix time is in gmt to we are converting it to est\n",
    "    tenminutewise_binned_unix_pickup_times=[(int((i-start_pickup_unix)/600)+33) for i in unix_pickup_times]\n",
    "\n",
    "    frame['pickup_bins'] = np.array(tenminutewise_binned_unix_pickup_times)\n",
    "    return frame"
   ]
  },
  {
   "cell_type": "code",
   "execution_count": 181,
   "metadata": {},
   "outputs": [],
   "source": [
    "jan_2020_frame = add_pickup_bins(frame_with_durations_outliers_removed,1,2020)"
   ]
  },
  {
   "cell_type": "code",
   "execution_count": 182,
   "metadata": {},
   "outputs": [],
   "source": [
    "jan_2020_groupby = jan_2020_frame[['PULocationID', 'pickup_bins', 'trip_distance']].groupby(['PULocationID', 'pickup_bins']).count()"
   ]
  },
  {
   "cell_type": "code",
   "execution_count": 183,
   "metadata": {},
   "outputs": [
    {
     "data": {
      "text/html": [
       "<div>\n",
       "<style scoped>\n",
       "    .dataframe tbody tr th:only-of-type {\n",
       "        vertical-align: middle;\n",
       "    }\n",
       "\n",
       "    .dataframe tbody tr th {\n",
       "        vertical-align: top;\n",
       "    }\n",
       "\n",
       "    .dataframe thead th {\n",
       "        text-align: right;\n",
       "    }\n",
       "</style>\n",
       "<table border=\"1\" class=\"dataframe\">\n",
       "  <thead>\n",
       "    <tr style=\"text-align: right;\">\n",
       "      <th></th>\n",
       "      <th>passenger_count</th>\n",
       "      <th>trip_distance</th>\n",
       "      <th>PULocationID</th>\n",
       "      <th>DOLocationID</th>\n",
       "      <th>total_amount</th>\n",
       "      <th>trip_times</th>\n",
       "      <th>pickup_times</th>\n",
       "      <th>Speed</th>\n",
       "      <th>pickup_bins</th>\n",
       "    </tr>\n",
       "  </thead>\n",
       "  <tbody>\n",
       "    <tr>\n",
       "      <th>0</th>\n",
       "      <td>2.0</td>\n",
       "      <td>1.63</td>\n",
       "      <td>1</td>\n",
       "      <td>137</td>\n",
       "      <td>15.36</td>\n",
       "      <td>11.833333</td>\n",
       "      <td>1.577808e+09</td>\n",
       "      <td>8.264789</td>\n",
       "      <td>38</td>\n",
       "    </tr>\n",
       "    <tr>\n",
       "      <th>1</th>\n",
       "      <td>2.0</td>\n",
       "      <td>1.78</td>\n",
       "      <td>1</td>\n",
       "      <td>170</td>\n",
       "      <td>15.36</td>\n",
       "      <td>11.916667</td>\n",
       "      <td>1.577806e+09</td>\n",
       "      <td>8.962238</td>\n",
       "      <td>35</td>\n",
       "    </tr>\n",
       "    <tr>\n",
       "      <th>2</th>\n",
       "      <td>2.0</td>\n",
       "      <td>0.80</td>\n",
       "      <td>1</td>\n",
       "      <td>79</td>\n",
       "      <td>10.30</td>\n",
       "      <td>7.416667</td>\n",
       "      <td>1.577806e+09</td>\n",
       "      <td>6.471910</td>\n",
       "      <td>35</td>\n",
       "    </tr>\n",
       "    <tr>\n",
       "      <th>3</th>\n",
       "      <td>1.0</td>\n",
       "      <td>3.27</td>\n",
       "      <td>1</td>\n",
       "      <td>246</td>\n",
       "      <td>21.80</td>\n",
       "      <td>24.166667</td>\n",
       "      <td>1.577808e+09</td>\n",
       "      <td>8.118621</td>\n",
       "      <td>38</td>\n",
       "    </tr>\n",
       "    <tr>\n",
       "      <th>4</th>\n",
       "      <td>4.0</td>\n",
       "      <td>0.80</td>\n",
       "      <td>1</td>\n",
       "      <td>148</td>\n",
       "      <td>11.75</td>\n",
       "      <td>6.966667</td>\n",
       "      <td>1.577805e+09</td>\n",
       "      <td>6.889952</td>\n",
       "      <td>34</td>\n",
       "    </tr>\n",
       "  </tbody>\n",
       "</table>\n",
       "</div>"
      ],
      "text/plain": [
       "   passenger_count  trip_distance  PULocationID  DOLocationID  total_amount  \\\n",
       "0              2.0           1.63             1           137         15.36   \n",
       "1              2.0           1.78             1           170         15.36   \n",
       "2              2.0           0.80             1            79         10.30   \n",
       "3              1.0           3.27             1           246         21.80   \n",
       "4              4.0           0.80             1           148         11.75   \n",
       "\n",
       "   trip_times  pickup_times     Speed  pickup_bins  \n",
       "0   11.833333  1.577808e+09  8.264789           38  \n",
       "1   11.916667  1.577806e+09  8.962238           35  \n",
       "2    7.416667  1.577806e+09  6.471910           35  \n",
       "3   24.166667  1.577808e+09  8.118621           38  \n",
       "4    6.966667  1.577805e+09  6.889952           34  "
      ]
     },
     "execution_count": 183,
     "metadata": {},
     "output_type": "execute_result"
    }
   ],
   "source": [
    "jan_2020_frame.head()"
   ]
  },
  {
   "cell_type": "code",
   "execution_count": 184,
   "metadata": {},
   "outputs": [
    {
     "data": {
      "text/html": [
       "<div>\n",
       "<style scoped>\n",
       "    .dataframe tbody tr th:only-of-type {\n",
       "        vertical-align: middle;\n",
       "    }\n",
       "\n",
       "    .dataframe tbody tr th {\n",
       "        vertical-align: top;\n",
       "    }\n",
       "\n",
       "    .dataframe thead th {\n",
       "        text-align: right;\n",
       "    }\n",
       "</style>\n",
       "<table border=\"1\" class=\"dataframe\">\n",
       "  <thead>\n",
       "    <tr style=\"text-align: right;\">\n",
       "      <th></th>\n",
       "      <th></th>\n",
       "      <th>trip_distance</th>\n",
       "    </tr>\n",
       "    <tr>\n",
       "      <th>PULocationID</th>\n",
       "      <th>pickup_bins</th>\n",
       "      <th></th>\n",
       "    </tr>\n",
       "  </thead>\n",
       "  <tbody>\n",
       "    <tr>\n",
       "      <th rowspan=\"5\" valign=\"top\">1</th>\n",
       "      <th>34</th>\n",
       "      <td>8</td>\n",
       "    </tr>\n",
       "    <tr>\n",
       "      <th>35</th>\n",
       "      <td>6</td>\n",
       "    </tr>\n",
       "    <tr>\n",
       "      <th>36</th>\n",
       "      <td>9</td>\n",
       "    </tr>\n",
       "    <tr>\n",
       "      <th>37</th>\n",
       "      <td>14</td>\n",
       "    </tr>\n",
       "    <tr>\n",
       "      <th>38</th>\n",
       "      <td>18</td>\n",
       "    </tr>\n",
       "  </tbody>\n",
       "</table>\n",
       "</div>"
      ],
      "text/plain": [
       "                          trip_distance\n",
       "PULocationID pickup_bins               \n",
       "1            34                       8\n",
       "             35                       6\n",
       "             36                       9\n",
       "             37                      14\n",
       "             38                      18"
      ]
     },
     "execution_count": 184,
     "metadata": {},
     "output_type": "execute_result"
    }
   ],
   "source": [
    "jan_2020_groupby.head()"
   ]
  },
  {
   "cell_type": "code",
   "execution_count": 185,
   "metadata": {},
   "outputs": [
    {
     "name": "stdout",
     "output_type": "stream",
     "text": [
      "Return with trip times..\n",
      "Remove outliers..\n",
      "총 데이터 수 =  1369769\n",
      "시간 튀는 값의 개수: 8834\n",
      "거리 튀는 값의 개수: 25166\n",
      "속도 튀는 값의 개수 34545\n",
      "비용 튀는 값의 개수: 7128\n",
      "전체 삭제 된 데이터 수 46584\n",
      "---\n",
      "Final groupbying..\n",
      "Return with trip times..\n",
      "Remove outliers..\n",
      "총 데이터 수 =  1371709\n",
      "시간 튀는 값의 개수: 9490\n",
      "거리 튀는 값의 개수: 23316\n",
      "속도 튀는 값의 개수 32504\n",
      "비용 튀는 값의 개수: 7146\n",
      "전체 삭제 된 데이터 수 44341\n",
      "---\n",
      "Final groupbying..\n",
      "Return with trip times..\n",
      "Remove outliers..\n",
      "총 데이터 수 =  1925152\n",
      "시간 튀는 값의 개수: 10704\n",
      "거리 튀는 값의 개수: 30562\n",
      "속도 튀는 값의 개수 40118\n",
      "비용 튀는 값의 개수: 9645\n",
      "전체 삭제 된 데이터 수 56195\n",
      "---\n",
      "Final groupbying..\n"
     ]
    }
   ],
   "source": [
    "# upto now we cleaned data and prepared data for the month 2020,\n",
    "\n",
    "# now do the same operations for months Jan, Feb, March of 2021\n",
    "# 1. get the dataframe which inlcudes only required colums\n",
    "# 2. adding trip times, speed, unix time stamp of pickup_time\n",
    "# 4. remove the outliers based on trip_times, speed, trip_duration, total_amount\n",
    "# 5. add pickup_cluster to each data point\n",
    "# 6. add pickup_bin (index of 10min intravel to which that trip belongs to)\n",
    "# 7. group by data, based on 'pickup_cluster' and 'pickuo_bin'\n",
    "\n",
    "# Data Preparation for the months of Jan,Feb and March 2021\n",
    "def datapreparation(month,month_no,year_no):\n",
    "    \n",
    "    print (\"Return with trip times..\")\n",
    "\n",
    "    frame_with_durations = return_with_trip_times(month)\n",
    "    \n",
    "    print (\"Remove outliers..\")\n",
    "    frame_with_durations_outliers_removed = remove_outliers(frame_with_durations)\n",
    "\n",
    "    print (\"Final groupbying..\")\n",
    "    final_updated_frame = add_pickup_bins(frame_with_durations_outliers_removed,month_no,year_no)\n",
    "    final_groupby_frame = final_updated_frame[['PULocationID', 'pickup_bins', 'trip_distance']].groupby(['PULocationID', 'pickup_bins']).count()\n",
    "    \n",
    "    return final_updated_frame,final_groupby_frame\n",
    "    \n",
    "month_jan_2021 = pd.read_parquet('/Users/jinsu/Desktop/vscode/yellow_tripdata_2021-01.parquet')\n",
    "month_feb_2021 = pd.read_parquet('/Users/jinsu/Desktop/vscode/yellow_tripdata_2021-02.parquet')\n",
    "month_mar_2021 = pd.read_parquet('/Users/jinsu/Desktop/vscode/yellow_tripdata_2021-03.parquet')\n",
    "\n",
    "jan_2021_frame, jan_2021_groupby = datapreparation(month_jan_2021, 1, 2021)\n",
    "feb_2021_frame, feb_2021_groupby = datapreparation(month_feb_2021, 2, 2021)\n",
    "mar_2021_frame, mar_2021_groupby = datapreparation(month_mar_2021, 3, 2021)"
   ]
  },
  {
   "cell_type": "code",
   "execution_count": 186,
   "metadata": {},
   "outputs": [
    {
     "data": {
      "text/html": [
       "<div>\n",
       "<style scoped>\n",
       "    .dataframe tbody tr th:only-of-type {\n",
       "        vertical-align: middle;\n",
       "    }\n",
       "\n",
       "    .dataframe tbody tr th {\n",
       "        vertical-align: top;\n",
       "    }\n",
       "\n",
       "    .dataframe thead th {\n",
       "        text-align: right;\n",
       "    }\n",
       "</style>\n",
       "<table border=\"1\" class=\"dataframe\">\n",
       "  <thead>\n",
       "    <tr style=\"text-align: right;\">\n",
       "      <th></th>\n",
       "      <th>passenger_count</th>\n",
       "      <th>trip_distance</th>\n",
       "      <th>PULocationID</th>\n",
       "      <th>DOLocationID</th>\n",
       "      <th>total_amount</th>\n",
       "      <th>trip_times</th>\n",
       "      <th>pickup_times</th>\n",
       "      <th>Speed</th>\n",
       "      <th>pickup_bins</th>\n",
       "    </tr>\n",
       "  </thead>\n",
       "  <tbody>\n",
       "    <tr>\n",
       "      <th>0</th>\n",
       "      <td>2.0</td>\n",
       "      <td>1.63</td>\n",
       "      <td>1</td>\n",
       "      <td>137</td>\n",
       "      <td>15.36</td>\n",
       "      <td>11.833333</td>\n",
       "      <td>1.577808e+09</td>\n",
       "      <td>8.264789</td>\n",
       "      <td>38</td>\n",
       "    </tr>\n",
       "    <tr>\n",
       "      <th>1</th>\n",
       "      <td>2.0</td>\n",
       "      <td>1.78</td>\n",
       "      <td>1</td>\n",
       "      <td>170</td>\n",
       "      <td>15.36</td>\n",
       "      <td>11.916667</td>\n",
       "      <td>1.577806e+09</td>\n",
       "      <td>8.962238</td>\n",
       "      <td>35</td>\n",
       "    </tr>\n",
       "    <tr>\n",
       "      <th>2</th>\n",
       "      <td>2.0</td>\n",
       "      <td>0.80</td>\n",
       "      <td>1</td>\n",
       "      <td>79</td>\n",
       "      <td>10.30</td>\n",
       "      <td>7.416667</td>\n",
       "      <td>1.577806e+09</td>\n",
       "      <td>6.471910</td>\n",
       "      <td>35</td>\n",
       "    </tr>\n",
       "    <tr>\n",
       "      <th>3</th>\n",
       "      <td>1.0</td>\n",
       "      <td>3.27</td>\n",
       "      <td>1</td>\n",
       "      <td>246</td>\n",
       "      <td>21.80</td>\n",
       "      <td>24.166667</td>\n",
       "      <td>1.577808e+09</td>\n",
       "      <td>8.118621</td>\n",
       "      <td>38</td>\n",
       "    </tr>\n",
       "    <tr>\n",
       "      <th>4</th>\n",
       "      <td>4.0</td>\n",
       "      <td>0.80</td>\n",
       "      <td>1</td>\n",
       "      <td>148</td>\n",
       "      <td>11.75</td>\n",
       "      <td>6.966667</td>\n",
       "      <td>1.577805e+09</td>\n",
       "      <td>6.889952</td>\n",
       "      <td>34</td>\n",
       "    </tr>\n",
       "    <tr>\n",
       "      <th>...</th>\n",
       "      <td>...</td>\n",
       "      <td>...</td>\n",
       "      <td>...</td>\n",
       "      <td>...</td>\n",
       "      <td>...</td>\n",
       "      <td>...</td>\n",
       "      <td>...</td>\n",
       "      <td>...</td>\n",
       "      <td>...</td>\n",
       "    </tr>\n",
       "    <tr>\n",
       "      <th>5846100</th>\n",
       "      <td>NaN</td>\n",
       "      <td>20.67</td>\n",
       "      <td>69</td>\n",
       "      <td>203</td>\n",
       "      <td>57.67</td>\n",
       "      <td>36.933333</td>\n",
       "      <td>1.580472e+09</td>\n",
       "      <td>33.579422</td>\n",
       "      <td>4478</td>\n",
       "    </tr>\n",
       "    <tr>\n",
       "      <th>5846101</th>\n",
       "      <td>NaN</td>\n",
       "      <td>2.64</td>\n",
       "      <td>69</td>\n",
       "      <td>41</td>\n",
       "      <td>23.70</td>\n",
       "      <td>17.300000</td>\n",
       "      <td>1.580476e+09</td>\n",
       "      <td>9.156069</td>\n",
       "      <td>4484</td>\n",
       "    </tr>\n",
       "    <tr>\n",
       "      <th>5846102</th>\n",
       "      <td>NaN</td>\n",
       "      <td>10.75</td>\n",
       "      <td>69</td>\n",
       "      <td>61</td>\n",
       "      <td>39.76</td>\n",
       "      <td>71.000000</td>\n",
       "      <td>1.580475e+09</td>\n",
       "      <td>9.084507</td>\n",
       "      <td>4484</td>\n",
       "    </tr>\n",
       "    <tr>\n",
       "      <th>5846103</th>\n",
       "      <td>NaN</td>\n",
       "      <td>0.76</td>\n",
       "      <td>69</td>\n",
       "      <td>263</td>\n",
       "      <td>19.63</td>\n",
       "      <td>4.000000</td>\n",
       "      <td>1.580473e+09</td>\n",
       "      <td>11.400000</td>\n",
       "      <td>4481</td>\n",
       "    </tr>\n",
       "    <tr>\n",
       "      <th>5846104</th>\n",
       "      <td>NaN</td>\n",
       "      <td>0.79</td>\n",
       "      <td>69</td>\n",
       "      <td>263</td>\n",
       "      <td>29.63</td>\n",
       "      <td>7.000000</td>\n",
       "      <td>1.580475e+09</td>\n",
       "      <td>6.771429</td>\n",
       "      <td>4483</td>\n",
       "    </tr>\n",
       "  </tbody>\n",
       "</table>\n",
       "<p>5768175 rows × 9 columns</p>\n",
       "</div>"
      ],
      "text/plain": [
       "         passenger_count  trip_distance  PULocationID  DOLocationID  \\\n",
       "0                    2.0           1.63             1           137   \n",
       "1                    2.0           1.78             1           170   \n",
       "2                    2.0           0.80             1            79   \n",
       "3                    1.0           3.27             1           246   \n",
       "4                    4.0           0.80             1           148   \n",
       "...                  ...            ...           ...           ...   \n",
       "5846100              NaN          20.67            69           203   \n",
       "5846101              NaN           2.64            69            41   \n",
       "5846102              NaN          10.75            69            61   \n",
       "5846103              NaN           0.76            69           263   \n",
       "5846104              NaN           0.79            69           263   \n",
       "\n",
       "         total_amount  trip_times  pickup_times      Speed  pickup_bins  \n",
       "0               15.36   11.833333  1.577808e+09   8.264789           38  \n",
       "1               15.36   11.916667  1.577806e+09   8.962238           35  \n",
       "2               10.30    7.416667  1.577806e+09   6.471910           35  \n",
       "3               21.80   24.166667  1.577808e+09   8.118621           38  \n",
       "4               11.75    6.966667  1.577805e+09   6.889952           34  \n",
       "...               ...         ...           ...        ...          ...  \n",
       "5846100         57.67   36.933333  1.580472e+09  33.579422         4478  \n",
       "5846101         23.70   17.300000  1.580476e+09   9.156069         4484  \n",
       "5846102         39.76   71.000000  1.580475e+09   9.084507         4484  \n",
       "5846103         19.63    4.000000  1.580473e+09  11.400000         4481  \n",
       "5846104         29.63    7.000000  1.580475e+09   6.771429         4483  \n",
       "\n",
       "[5768175 rows x 9 columns]"
      ]
     },
     "execution_count": 186,
     "metadata": {},
     "output_type": "execute_result"
    }
   ],
   "source": [
    "jan_2020_frame"
   ]
  },
  {
   "cell_type": "markdown",
   "metadata": {},
   "source": [
    "# SMOOTHING"
   ]
  },
  {
   "cell_type": "code",
   "execution_count": 188,
   "metadata": {},
   "outputs": [],
   "source": [
    "# Gets the unique bins where pickup values are present for each each reigion\n",
    "\n",
    "# for each cluster region we will collect all the indices of 10min intravels in which the pickups are happened\n",
    "# [적어도 1번 픽업이 발생한 지역의 모든 인덱스를 얻는다]\n",
    "# we got an observation that there are some pickpbins that doesnt have any pickups\n",
    "def return_unq_pickup_bins(frame):\n",
    "    values = []\n",
    "    for i in range(1,70):\n",
    "        new = frame[frame['PULocationID'] == i]\n",
    "        list_unq = list(set(new['pickup_bins']))\n",
    "        list_unq.sort()\n",
    "        values.append(list_unq)\n",
    "    return values"
   ]
  },
  {
   "cell_type": "code",
   "execution_count": 189,
   "metadata": {},
   "outputs": [],
   "source": [
    "# for every month we get all indices of 10min intravels in which atleast one pickup got happened\n",
    "\n",
    "#jan\n",
    "jan_2020_unique = return_unq_pickup_bins(jan_2020_frame)\n",
    "jan_2021_unique = return_unq_pickup_bins(jan_2021_frame)\n",
    "\n",
    "#feb\n",
    "feb_2021_unique = return_unq_pickup_bins(feb_2021_frame)\n",
    "\n",
    "#march\n",
    "mar_2021_unique = return_unq_pickup_bins(mar_2021_frame)"
   ]
  },
  {
   "cell_type": "code",
   "execution_count": 234,
   "metadata": {},
   "outputs": [
    {
     "name": "stdout",
     "output_type": "stream",
     "text": [
      "1 번째 구역에서 10분 간격안에 픽업 데이터가 없는 경우의 개수 1156\n",
      "------------------------------------------------------------\n",
      "2 번째 구역에서 10분 간격안에 픽업 데이터가 없는 경우의 개수 3305\n",
      "------------------------------------------------------------\n",
      "3 번째 구역에서 10분 간격안에 픽업 데이터가 없는 경우의 개수 560\n",
      "------------------------------------------------------------\n",
      "4 번째 구역에서 10분 간격안에 픽업 데이터가 없는 경우의 개수 567\n",
      "------------------------------------------------------------\n",
      "5 번째 구역에서 10분 간격안에 픽업 데이터가 없는 경우의 개수 348\n",
      "------------------------------------------------------------\n",
      "6 번째 구역에서 10분 간격안에 픽업 데이터가 없는 경우의 개수 954\n",
      "------------------------------------------------------------\n",
      "7 번째 구역에서 10분 간격안에 픽업 데이터가 없는 경우의 개수 430\n",
      "------------------------------------------------------------\n",
      "8 번째 구역에서 10분 간격안에 픽업 데이터가 없는 경우의 개수 998\n",
      "------------------------------------------------------------\n",
      "9 번째 구역에서 10분 간격안에 픽업 데이터가 없는 경우의 개수 -2\n",
      "------------------------------------------------------------\n",
      "10 번째 구역에서 10분 간격안에 픽업 데이터가 없는 경우의 개수 133\n",
      "------------------------------------------------------------\n",
      "11 번째 구역에서 10분 간격안에 픽업 데이터가 없는 경우의 개수 5\n",
      "------------------------------------------------------------\n",
      "12 번째 구역에서 10분 간격안에 픽업 데이터가 없는 경우의 개수 239\n",
      "------------------------------------------------------------\n",
      "13 번째 구역에서 10분 간격안에 픽업 데이터가 없는 경우의 개수 163\n",
      "------------------------------------------------------------\n",
      "14 번째 구역에서 10분 간격안에 픽업 데이터가 없는 경우의 개수 -4\n",
      "------------------------------------------------------------\n",
      "15 번째 구역에서 10분 간격안에 픽업 데이터가 없는 경우의 개수 350\n",
      "------------------------------------------------------------\n",
      "16 번째 구역에서 10분 간격안에 픽업 데이터가 없는 경우의 개수 649\n",
      "------------------------------------------------------------\n",
      "17 번째 구역에서 10분 간격안에 픽업 데이터가 없는 경우의 개수 25\n",
      "------------------------------------------------------------\n",
      "18 번째 구역에서 10분 간격안에 픽업 데이터가 없는 경우의 개수 26\n",
      "------------------------------------------------------------\n",
      "19 번째 구역에서 10분 간격안에 픽업 데이터가 없는 경우의 개수 4464\n",
      "------------------------------------------------------------\n",
      "20 번째 구역에서 10분 간격안에 픽업 데이터가 없는 경우의 개수 4464\n",
      "------------------------------------------------------------\n",
      "21 번째 구역에서 10분 간격안에 픽업 데이터가 없는 경우의 개수 4462\n",
      "------------------------------------------------------------\n",
      "22 번째 구역에서 10분 간격안에 픽업 데이터가 없는 경우의 개수 32\n",
      "------------------------------------------------------------\n",
      "23 번째 구역에서 10분 간격안에 픽업 데이터가 없는 경우의 개수 164\n",
      "------------------------------------------------------------\n",
      "24 번째 구역에서 10분 간격안에 픽업 데이터가 없는 경우의 개수 99\n",
      "------------------------------------------------------------\n",
      "25 번째 구역에서 10분 간격안에 픽업 데이터가 없는 경우의 개수 1272\n",
      "------------------------------------------------------------\n",
      "26 번째 구역에서 10분 간격안에 픽업 데이터가 없는 경우의 개수 4439\n",
      "------------------------------------------------------------\n",
      "27 번째 구역에서 10분 간격안에 픽업 데이터가 없는 경우의 개수 411\n",
      "------------------------------------------------------------\n",
      "28 번째 구역에서 10분 간격안에 픽업 데이터가 없는 경우의 개수 3948\n",
      "------------------------------------------------------------\n",
      "29 번째 구역에서 10분 간격안에 픽업 데이터가 없는 경우의 개수 4425\n",
      "------------------------------------------------------------\n",
      "30 번째 구역에서 10분 간격안에 픽업 데이터가 없는 경우의 개수 90\n",
      "------------------------------------------------------------\n",
      "31 번째 구역에서 10분 간격안에 픽업 데이터가 없는 경우의 개수 107\n",
      "------------------------------------------------------------\n",
      "32 번째 구역에서 10분 간격안에 픽업 데이터가 없는 경우의 개수 19\n",
      "------------------------------------------------------------\n",
      "33 번째 구역에서 10분 간격안에 픽업 데이터가 없는 경우의 개수 109\n",
      "------------------------------------------------------------\n",
      "34 번째 구역에서 10분 간격안에 픽업 데이터가 없는 경우의 개수 330\n",
      "------------------------------------------------------------\n",
      "35 번째 구역에서 10분 간격안에 픽업 데이터가 없는 경우의 개수 301\n",
      "------------------------------------------------------------\n",
      "36 번째 구역에서 10분 간격안에 픽업 데이터가 없는 경우의 개수 62\n",
      "------------------------------------------------------------\n",
      "37 번째 구역에서 10분 간격안에 픽업 데이터가 없는 경우의 개수 284\n",
      "------------------------------------------------------------\n",
      "38 번째 구역에서 10분 간격안에 픽업 데이터가 없는 경우의 개수 1560\n",
      "------------------------------------------------------------\n",
      "39 번째 구역에서 10분 간격안에 픽업 데이터가 없는 경우의 개수 4385\n",
      "------------------------------------------------------------\n",
      "40 번째 구역에서 10분 간격안에 픽업 데이터가 없는 경우의 개수 300\n",
      "------------------------------------------------------------\n",
      "41 번째 구역에서 10분 간격안에 픽업 데이터가 없는 경우의 개수 20\n",
      "------------------------------------------------------------\n",
      "42 번째 구역에서 10분 간격안에 픽업 데이터가 없는 경우의 개수 13\n",
      "------------------------------------------------------------\n",
      "43 번째 구역에서 10분 간격안에 픽업 데이터가 없는 경우의 개수 22\n",
      "------------------------------------------------------------\n",
      "44 번째 구역에서 10분 간격안에 픽업 데이터가 없는 경우의 개수 16\n",
      "------------------------------------------------------------\n",
      "45 번째 구역에서 10분 간격안에 픽업 데이터가 없는 경우의 개수 415\n",
      "------------------------------------------------------------\n",
      "46 번째 구역에서 10분 간격안에 픽업 데이터가 없는 경우의 개수 30\n",
      "------------------------------------------------------------\n",
      "47 번째 구역에서 10분 간격안에 픽업 데이터가 없는 경우의 개수 17\n",
      "------------------------------------------------------------\n",
      "48 번째 구역에서 10분 간격안에 픽업 데이터가 없는 경우의 개수 4120\n",
      "------------------------------------------------------------\n",
      "49 번째 구역에서 10분 간격안에 픽업 데이터가 없는 경우의 개수 4248\n",
      "------------------------------------------------------------\n",
      "50 번째 구역에서 10분 간격안에 픽업 데이터가 없는 경우의 개수 900\n",
      "------------------------------------------------------------\n",
      "51 번째 구역에서 10분 간격안에 픽업 데이터가 없는 경우의 개수 402\n",
      "------------------------------------------------------------\n",
      "52 번째 구역에서 10분 간격안에 픽업 데이터가 없는 경우의 개수 1050\n",
      "------------------------------------------------------------\n",
      "53 번째 구역에서 10분 간격안에 픽업 데이터가 없는 경우의 개수 47\n",
      "------------------------------------------------------------\n",
      "54 번째 구역에서 10분 간격안에 픽업 데이터가 없는 경우의 개수 5\n",
      "------------------------------------------------------------\n",
      "55 번째 구역에서 10분 간격안에 픽업 데이터가 없는 경우의 개수 107\n",
      "------------------------------------------------------------\n",
      "56 번째 구역에서 10분 간격안에 픽업 데이터가 없는 경우의 개수 1360\n",
      "------------------------------------------------------------\n",
      "57 번째 구역에서 10분 간격안에 픽업 데이터가 없는 경우의 개수 178\n",
      "------------------------------------------------------------\n",
      "58 번째 구역에서 10분 간격안에 픽업 데이터가 없는 경우의 개수 40\n",
      "------------------------------------------------------------\n",
      "59 번째 구역에서 10분 간격안에 픽업 데이터가 없는 경우의 개수 145\n",
      "------------------------------------------------------------\n",
      "60 번째 구역에서 10분 간격안에 픽업 데이터가 없는 경우의 개수 75\n",
      "------------------------------------------------------------\n",
      "61 번째 구역에서 10분 간격안에 픽업 데이터가 없는 경우의 개수 119\n",
      "------------------------------------------------------------\n",
      "62 번째 구역에서 10분 간격안에 픽업 데이터가 없는 경우의 개수 98\n",
      "------------------------------------------------------------\n",
      "63 번째 구역에서 10분 간격안에 픽업 데이터가 없는 경우의 개수 3604\n",
      "------------------------------------------------------------\n",
      "64 번째 구역에서 10분 간격안에 픽업 데이터가 없는 경우의 개수 1483\n",
      "------------------------------------------------------------\n",
      "65 번째 구역에서 10분 간격안에 픽업 데이터가 없는 경우의 개수 115\n",
      "------------------------------------------------------------\n",
      "66 번째 구역에서 10분 간격안에 픽업 데이터가 없는 경우의 개수 0\n",
      "------------------------------------------------------------\n",
      "67 번째 구역에서 10분 간격안에 픽업 데이터가 없는 경우의 개수 576\n",
      "------------------------------------------------------------\n",
      "68 번째 구역에서 10분 간격안에 픽업 데이터가 없는 경우의 개수 346\n",
      "------------------------------------------------------------\n",
      "69 번째 구역에서 10분 간격안에 픽업 데이터가 없는 경우의 개수 46\n",
      "------------------------------------------------------------\n"
     ]
    }
   ],
   "source": [
    "# 31일 * 24시간 * 60분 / 10분 = 4464\n",
    "# 최대가 4464겠지\n",
    "for i in range(1, 70):\n",
    "    print(i, \"번째 구역에서 10분 간격안에 픽업 데이터가 없는 경우의 개수\", 4464-len(set(jan_2020_unique[i-1])))\n",
    "    print(\"-\"* 60)"
   ]
  },
  {
   "cell_type": "code",
   "execution_count": 191,
   "metadata": {},
   "outputs": [],
   "source": [
    "# 탑승 기록이 없으면 0으로 채우기\n",
    "# count_values: 각 지역 각 10분 간격에 픽업 수\n",
    "# values: 픽업 기록이 있는 간격의 set\n",
    "def fill_missing(count_values, values):\n",
    "    smoothed_regions = []\n",
    "    ind = 0\n",
    "    for r in range(1, 70): # 각 구역마다\n",
    "        smoothed_bins = []\n",
    "        for i in range(4464):\n",
    "            if i in values[r-1]: # interval 안에 탑승 기록이 있으면\n",
    "                smoothed_bins.append(count_values[ind])\n",
    "                ind += 1\n",
    "            else: # interval 안에 탑승 기록이 없으면\n",
    "                smoothed_bins.append(0)\n",
    "        smoothed_regions.extend(smoothed_bins)\n",
    "    return smoothed_regions"
   ]
  },
  {
   "cell_type": "code",
   "execution_count": 193,
   "metadata": {},
   "outputs": [],
   "source": [
    "# 빈값을 평균으로 채우기\n",
    "# interval 안에 pickup 기록이 없다면\n",
    "# pickup 기록이 있는 자신과 가장 가까운 양 끝값을 이용하여 평균을 구함\n",
    "def smoothing(count_values,values):\n",
    "    smoothed_regions=[] # 각 지역마다 최종 smoothed 값을 저장할 리스트\n",
    "    ind=0\n",
    "    repeat=0 \n",
    "    smoothed_value=0\n",
    "    for r in range(1,70): # 지역마다\n",
    "        smoothed_bins=[] # 최종 smoothed 값을 저장할 리스트\n",
    "        repeat=0\n",
    "        for i in range(4464): # interval 마다\n",
    "            if repeat!=0: # 같은 interval을 여러 번 계산 방지\n",
    "                repeat-=1\n",
    "                continue\n",
    "            if i in values[r-1]: # interval 안에 픽업 기록이 존재하면\n",
    "                smoothed_bins.append(count_values[ind]) # interval을 리스트에 추가\n",
    "            else:\n",
    "                if i!=0: # 첫 구간이 아니면 (left~rigth or right~끝)\n",
    "                    right_hand_limit=0\n",
    "                    for j in range(i,4464):\n",
    "                        if  j not in values[r-1]: # interval안에 픽업이 없는 경우 평균값으로 채워져야 하므로 넘어감\n",
    "                            continue\n",
    "                        else:\n",
    "                            right_hand_limit=j # interval안에 픽업이 존재하는 경우에 right_limit이 됨\n",
    "                            break\n",
    "                    if right_hand_limit==0:\n",
    "                    #Case 1: right~끝\n",
    "                        smoothed_value=count_values[ind-1]*1.0/((4463-i)+2)*1.0                               \n",
    "                        for j in range(i,4464): # right~끝까지 평균으로 채우기              \n",
    "                            smoothed_bins.append(math.ceil(smoothed_value))\n",
    "                        smoothed_bins[i-1] = math.ceil(smoothed_value)\n",
    "                        repeat=(4463-i)\n",
    "                        ind-=1\n",
    "                    else:\n",
    "                    #Case 2: left~right\n",
    "                        smoothed_value=(count_values[ind-1]+count_values[ind])*1.0/((right_hand_limit-i)+2)*1.0             \n",
    "                        for j in range(i,right_hand_limit+1): # left~right까지 평균으로 채우기   \n",
    "                            smoothed_bins.append(math.ceil(smoothed_value))\n",
    "                        smoothed_bins[i-1] = math.ceil(smoothed_value)\n",
    "                        repeat=(right_hand_limit-i)\n",
    "                else:\n",
    "                    #Case 3: 처음~right\n",
    "                    right_hand_limit=0\n",
    "                    for j in range(i,4464):\n",
    "                        if  j not in values[r-1]:\n",
    "                            continue\n",
    "                        else:\n",
    "                            right_hand_limit=j # interval 안에 픽업이 존재하는 경우 right가 됨\n",
    "                            break\n",
    "                    smoothed_value=count_values[ind]*1.0/((right_hand_limit-i)+1)*1.0\n",
    "                    for j in range(i,right_hand_limit+1):# 처음~left까지 평균으로 채우기\n",
    "                            smoothed_bins.append(math.ceil(smoothed_value))\n",
    "                    repeat=(right_hand_limit-i)\n",
    "            ind+=1\n",
    "        smoothed_regions.extend(smoothed_bins)\n",
    "    return smoothed_regions"
   ]
  },
  {
   "cell_type": "code",
   "execution_count": 194,
   "metadata": {},
   "outputs": [],
   "source": [
    "jan_2020_fill = fill_missing(jan_2020_groupby['trip_distance'].values , jan_2020_unique)"
   ]
  },
  {
   "cell_type": "code",
   "execution_count": 195,
   "metadata": {},
   "outputs": [],
   "source": [
    "jan_2020_smooth = smoothing(jan_2020_groupby['trip_distance'].values, jan_2020_unique)"
   ]
  },
  {
   "cell_type": "code",
   "execution_count": 196,
   "metadata": {},
   "outputs": [
    {
     "name": "stdout",
     "output_type": "stream",
     "text": [
      "number of 10min intravels among all the clusters  308016\n"
     ]
    }
   ],
   "source": [
    "# number of 10min indices for jan 2020= 24*31*60/10 = 4464\n",
    "# number of 10min indices for jan 2021 = 24*31*60/10 = 4464\n",
    "# number of 10min indices for feb 2021 = 24*28*60/10 = 4032\n",
    "# number of 10min indices for march 2021 = 24*31*60/10 = 4464\n",
    "# for each cluster we will have 4464 values, therefore 265*4464 = 1182960 (length of the jan_2020_fill)\n",
    "print(\"number of 10min intravels among all the clusters \",len(jan_2020_fill))"
   ]
  },
  {
   "cell_type": "code",
   "execution_count": 197,
   "metadata": {},
   "outputs": [
    {
     "data": {
      "image/png": "[encoded data removed]",
      "text/plain": [
       "<Figure size 1000x500 with 1 Axes>"
      ]
     },
     "metadata": {},
     "output_type": "display_data"
    }
   ],
   "source": [
    "# 2020-01 10분 interval 탑승 빈도\n",
    "plt.figure(figsize=(10, 5))\n",
    "plt.plot(jan_2020_fill[0:1182960], label = \"zero filled values\")\n",
    "plt.plot(jan_2020_smooth[0:1182960], label=\"filled with avg values\")\n",
    "plt.legend()\n",
    "plt.show()"
   ]
  },
  {
   "cell_type": "code",
   "execution_count": 198,
   "metadata": {},
   "outputs": [],
   "source": [
    "# Jan-2020 data is smoothed, Jan,Feb & March 2021 data missing values are filled with zero\n",
    "jan_2020_smooth = smoothing(jan_2020_groupby['trip_distance'].values,jan_2020_unique)\n",
    "jan_2021_smooth = fill_missing(jan_2021_groupby['trip_distance'].values,jan_2021_unique)\n",
    "feb_2021_smooth = fill_missing(feb_2021_groupby['trip_distance'].values,feb_2021_unique)\n",
    "mar_2021_smooth = fill_missing(mar_2021_groupby['trip_distance'].values,mar_2021_unique)\n",
    "\n",
    "# Making list of all the values of pickup data in every bin for a period of 3 months and storing them region-wise \n",
    "regions_cum = []\n",
    "\n",
    "# a =[1,2,3]\n",
    "# b = [2,3,4]\n",
    "# a+b = [1, 2, 3, 2, 3, 4]\n",
    "\n",
    "# number of 10min indices for jan 2020 = 24*31*60/10 = 4464\n",
    "# number of 10min indices for jan 2021 = 24*31*60/10 = 4464\n",
    "# number of 10min indices for feb 2021 = 24*29*60/10 = 4032\n",
    "# number of 10min indices for march 2021 = 24*31*60/10 = 4464\n",
    "# regions_cum: it will contain 265 lists, each list will contain 4464+4032+4464 values which represents the number of pickups \n",
    "# that are happened for three months in 2021 data\n",
    "\n",
    "# i -> i-1, i+1 -> i\n",
    "for i in range(1,70):\n",
    "    regions_cum.append(jan_2021_smooth[4464*(i-1):4464*i]+feb_2021_smooth[4032*(i-1):4032*i]+mar_2021_smooth[4464*(i-1):4464*i])\n",
    "\n",
    "# print(len(regions_cum))\n",
    "# 265\n",
    "# print(len(regions_cum[0]))\n",
    "# 12960"
   ]
  },
  {
   "cell_type": "code",
   "execution_count": 199,
   "metadata": {},
   "outputs": [
    {
     "name": "stdout",
     "output_type": "stream",
     "text": [
      "69\n",
      "12960\n"
     ]
    }
   ],
   "source": [
    "print(len(regions_cum))\n",
    "# 69\n",
    "print(len(regions_cum[0]))\n",
    "# 12960"
   ]
  },
  {
   "cell_type": "code",
   "execution_count": 236,
   "metadata": {},
   "outputs": [
    {
     "data": {
      "image/png": "[encoded data removed]",
      "text/plain": [
       "<Figure size 1000x400 with 1 Axes>"
      ]
     },
     "metadata": {},
     "output_type": "display_data"
    },
    {
     "data": {
      "image/png": "[encoded data removed]",
      "text/plain": [
       "<Figure size 1000x400 with 1 Axes>"
      ]
     },
     "metadata": {},
     "output_type": "display_data"
    }
   ],
   "source": [
    "def uniqueish_color():\n",
    "    \"\"\"There're better ways to generate unique colors, but this isn't awful.\"\"\"\n",
    "    return plt.cm.gist_ncar(np.random.random())\n",
    "first_x = list(range(0,4464))\n",
    "second_x = list(range(4464,8496))\n",
    "third_x = list(range(8496,12960))\n",
    "for i in range(1, 3):\n",
    "    plt.figure(figsize=(10,4))\n",
    "    plt.plot(first_x,regions_cum[i-1][:4464], color=uniqueish_color(), label='2021 Jan month data')\n",
    "    plt.plot(second_x,regions_cum[i-1][4464:8496], color=uniqueish_color(), label='2021 feb month data')\n",
    "    plt.plot(third_x,regions_cum[i-1][8496:], color=uniqueish_color(), label='2021 march month data')\n",
    "    plt.legend()\n",
    "    plt.show()"
   ]
  },
  {
   "cell_type": "code",
   "execution_count": 237,
   "metadata": {},
   "outputs": [
    {
     "data": {
      "image/png": "[encoded data removed]",
      "text/plain": [
       "<Figure size 640x480 with 1 Axes>"
      ]
     },
     "metadata": {},
     "output_type": "display_data"
    }
   ],
   "source": [
    "# getting peaks: https://blog.ytotech.com/2015/11/01/findpeaks-in-python/\n",
    "# read more about fft function : https://docs.scipy.org/doc/numpy/reference/generated/numpy.fft.fft.html\n",
    "Y    = np.fft.fft(np.array(jan_2021_smooth)[0:4460])\n",
    "# read more about the fftfreq: https://docs.scipy.org/doc/numpy/reference/generated/numpy.fft.fftfreq.html  \n",
    "freq = np.fft.fftfreq(4464, 1)\n",
    "n = len(freq)\n",
    "plt.figure()\n",
    "plt.plot( freq[:int(n/2)], np.abs(Y)[:int(n/2)] )\n",
    "plt.xlabel(\"Frequency\")\n",
    "plt.ylabel(\"Amplitude\")\n",
    "plt.show()"
   ]
  },
  {
   "cell_type": "code",
   "execution_count": 202,
   "metadata": {},
   "outputs": [],
   "source": [
    "#Preparing the Dataframe only with x(i) values as jan-2020 data and y(i) values as jan-2021\n",
    "ratios_jan = pd.DataFrame()\n",
    "ratios_jan['Given']=jan_2020_smooth\n",
    "ratios_jan['Prediction']=jan_2021_smooth\n",
    "ratios_jan['Ratios']=ratios_jan['Prediction']*1.0/ratios_jan['Given']*1.0"
   ]
  },
  {
   "cell_type": "code",
   "execution_count": 203,
   "metadata": {},
   "outputs": [],
   "source": [
    "def MA_R_Predictions(ratios,month):\n",
    "    predicted_ratio=(ratios['Ratios'].values)[0]\n",
    "    error=[]\n",
    "    predicted_values=[]\n",
    "    window_size=3\n",
    "    predicted_ratio_values=[]\n",
    "    for i in range(0,4464*69):\n",
    "        if i%4464==0:\n",
    "            predicted_ratio_values.append(0)\n",
    "            predicted_values.append(0)\n",
    "            error.append(0)\n",
    "            continue\n",
    "        predicted_ratio_values.append(predicted_ratio)\n",
    "        predicted_values.append(int(((ratios['Given'].values)[i])*predicted_ratio))\n",
    "        error.append(abs((math.pow(int(((ratios['Given'].values)[i])*predicted_ratio)-(ratios['Prediction'].values)[i],1))))\n",
    "        if i+1>=window_size:\n",
    "            predicted_ratio=sum((ratios['Ratios'].values)[(i+1)-window_size:(i+1)])/window_size\n",
    "        else:\n",
    "            predicted_ratio=sum((ratios['Ratios'].values)[0:(i+1)])/(i+1)\n",
    "            \n",
    "    \n",
    "    ratios['MA_R_Predicted'] = predicted_values\n",
    "    ratios['MA_R_Error'] = error\n",
    "    mape_err = (sum(error)/len(error))/(sum(ratios['Prediction'].values)/len(ratios['Prediction'].values))\n",
    "    mse_err = sum([e**2 for e in error])/len(error)\n",
    "    return ratios,mape_err,mse_err"
   ]
  },
  {
   "cell_type": "code",
   "execution_count": 204,
   "metadata": {},
   "outputs": [],
   "source": [
    "def MA_P_Predictions(ratios,month):\n",
    "    predicted_value=(ratios['Prediction'].values)[0]\n",
    "    error=[]\n",
    "    predicted_values=[]\n",
    "    window_size=1\n",
    "    predicted_ratio_values=[]\n",
    "    for i in range(0,4464*69):\n",
    "        predicted_values.append(predicted_value)\n",
    "        error.append(abs((math.pow(predicted_value-(ratios['Prediction'].values)[i],1))))\n",
    "        if i+1>=window_size:\n",
    "            predicted_value=int(sum((ratios['Prediction'].values)[(i+1)-window_size:(i+1)])/window_size)\n",
    "        else:\n",
    "            predicted_value=int(sum((ratios['Prediction'].values)[0:(i+1)])/(i+1))\n",
    "            \n",
    "    ratios['MA_P_Predicted'] = predicted_values\n",
    "    ratios['MA_P_Error'] = error\n",
    "    mape_err = (sum(error)/len(error))/(sum(ratios['Prediction'].values)/len(ratios['Prediction'].values))\n",
    "    mse_err = sum([e**2 for e in error])/len(error)\n",
    "    return ratios,mape_err,mse_err"
   ]
  },
  {
   "cell_type": "code",
   "execution_count": 205,
   "metadata": {},
   "outputs": [],
   "source": [
    "def WA_R_Predictions(ratios,month):\n",
    "    predicted_ratio=(ratios['Ratios'].values)[0]\n",
    "    alpha=0.5\n",
    "    error=[]\n",
    "    predicted_values=[]\n",
    "    window_size=5\n",
    "    predicted_ratio_values=[]\n",
    "    for i in range(0,4464*69):\n",
    "        if i%4464==0:\n",
    "            predicted_ratio_values.append(0)\n",
    "            predicted_values.append(0)\n",
    "            error.append(0)\n",
    "            continue\n",
    "        predicted_ratio_values.append(predicted_ratio)\n",
    "        predicted_values.append(int(((ratios['Given'].values)[i])*predicted_ratio))\n",
    "        error.append(abs((math.pow(int(((ratios['Given'].values)[i])*predicted_ratio)-(ratios['Prediction'].values)[i],1))))\n",
    "        if i+1>=window_size:\n",
    "            sum_values=0\n",
    "            sum_of_coeff=0\n",
    "            for j in range(window_size,0,-1):\n",
    "                sum_values += j*(ratios['Ratios'].values)[i-window_size+j]\n",
    "                sum_of_coeff+=j\n",
    "            predicted_ratio=sum_values/sum_of_coeff\n",
    "        else:\n",
    "            sum_values=0\n",
    "            sum_of_coeff=0\n",
    "            for j in range(i+1,0,-1):\n",
    "                sum_values += j*(ratios['Ratios'].values)[j-1]\n",
    "                sum_of_coeff+=j\n",
    "            predicted_ratio=sum_values/sum_of_coeff\n",
    "            \n",
    "    ratios['WA_R_Predicted'] = predicted_values\n",
    "    ratios['WA_R_Error'] = error\n",
    "    mape_err = (sum(error)/len(error))/(sum(ratios['Prediction'].values)/len(ratios['Prediction'].values))\n",
    "    mse_err = sum([e**2 for e in error])/len(error)\n",
    "    return ratios,mape_err,mse_err"
   ]
  },
  {
   "cell_type": "code",
   "execution_count": 206,
   "metadata": {},
   "outputs": [],
   "source": [
    "def WA_P_Predictions(ratios,month):\n",
    "    predicted_value=(ratios['Prediction'].values)[0]\n",
    "    error=[]\n",
    "    predicted_values=[]\n",
    "    window_size=2\n",
    "    for i in range(0,4464*69):\n",
    "        predicted_values.append(predicted_value)\n",
    "        error.append(abs((math.pow(predicted_value-(ratios['Prediction'].values)[i],1))))\n",
    "        if i+1>=window_size:\n",
    "            sum_values=0\n",
    "            sum_of_coeff=0\n",
    "            for j in range(window_size,0,-1):\n",
    "                sum_values += j*(ratios['Prediction'].values)[i-window_size+j]\n",
    "                sum_of_coeff+=j\n",
    "            predicted_value=int(sum_values/sum_of_coeff)\n",
    "\n",
    "        else:\n",
    "            sum_values=0\n",
    "            sum_of_coeff=0\n",
    "            for j in range(i+1,0,-1):\n",
    "                sum_values += j*(ratios['Prediction'].values)[j-1]\n",
    "                sum_of_coeff+=j\n",
    "            predicted_value=int(sum_values/sum_of_coeff)\n",
    "    \n",
    "    ratios['WA_P_Predicted'] = predicted_values\n",
    "    ratios['WA_P_Error'] = error\n",
    "    mape_err = (sum(error)/len(error))/(sum(ratios['Prediction'].values)/len(ratios['Prediction'].values))\n",
    "    mse_err = sum([e**2 for e in error])/len(error)\n",
    "    return ratios,mape_err,mse_err"
   ]
  },
  {
   "cell_type": "code",
   "execution_count": 207,
   "metadata": {},
   "outputs": [],
   "source": [
    "def EA_R1_Predictions(ratios,month):\n",
    "    predicted_ratio=(ratios['Ratios'].values)[0]\n",
    "    alpha=0.6\n",
    "    error=[]\n",
    "    predicted_values=[]\n",
    "    predicted_ratio_values=[]\n",
    "    for i in range(0,4464*69):\n",
    "        if i%4464==0:\n",
    "            predicted_ratio_values.append(0)\n",
    "            predicted_values.append(0)\n",
    "            error.append(0)\n",
    "            continue\n",
    "        predicted_ratio_values.append(predicted_ratio)\n",
    "        predicted_values.append(int(((ratios['Given'].values)[i])*predicted_ratio))\n",
    "        error.append(abs((math.pow(int(((ratios['Given'].values)[i])*predicted_ratio)-(ratios['Prediction'].values)[i],1))))\n",
    "        predicted_ratio = (alpha*predicted_ratio) + (1-alpha)*((ratios['Ratios'].values)[i])\n",
    "    \n",
    "    ratios['EA_R1_Predicted'] = predicted_values\n",
    "    ratios['EA_R1_Error'] = error\n",
    "    mape_err = (sum(error)/len(error))/(sum(ratios['Prediction'].values)/len(ratios['Prediction'].values))\n",
    "    mse_err = sum([e**2 for e in error])/len(error)\n",
    "    return ratios,mape_err,mse_err"
   ]
  },
  {
   "cell_type": "code",
   "execution_count": 208,
   "metadata": {},
   "outputs": [],
   "source": [
    "def EA_P1_Predictions(ratios,month):\n",
    "    predicted_value= (ratios['Prediction'].values)[0]\n",
    "    alpha=0.3\n",
    "    error=[]\n",
    "    predicted_values=[]\n",
    "    for i in range(0,4464*69):\n",
    "        if i%4464==0:\n",
    "            predicted_values.append(0)\n",
    "            error.append(0)\n",
    "            continue\n",
    "        predicted_values.append(predicted_value)\n",
    "        error.append(abs((math.pow(predicted_value-(ratios['Prediction'].values)[i],1))))\n",
    "        predicted_value =int((alpha*predicted_value) + (1-alpha)*((ratios['Prediction'].values)[i]))\n",
    "    \n",
    "    ratios['EA_P1_Predicted'] = predicted_values\n",
    "    ratios['EA_P1_Error'] = error\n",
    "    mape_err = (sum(error)/len(error))/(sum(ratios['Prediction'].values)/len(ratios['Prediction'].values))\n",
    "    mse_err = sum([e**2 for e in error])/len(error)\n",
    "    return ratios,mape_err,mse_err"
   ]
  },
  {
   "cell_type": "code",
   "execution_count": 209,
   "metadata": {},
   "outputs": [],
   "source": [
    "mean_err=[0]*10\n",
    "median_err=[0]*10\n",
    "ratios_jan,mean_err[0],median_err[0]=MA_R_Predictions(ratios_jan,'jan')\n",
    "ratios_jan,mean_err[1],median_err[1]=MA_P_Predictions(ratios_jan,'jan')\n",
    "ratios_jan,mean_err[2],median_err[2]=WA_R_Predictions(ratios_jan,'jan')\n",
    "ratios_jan,mean_err[3],median_err[3]=WA_P_Predictions(ratios_jan,'jan')\n",
    "ratios_jan,mean_err[4],median_err[4]=EA_R1_Predictions(ratios_jan,'jan')\n",
    "ratios_jan,mean_err[5],median_err[5]=EA_P1_Predictions(ratios_jan,'jan')"
   ]
  },
  {
   "cell_type": "code",
   "execution_count": 210,
   "metadata": {},
   "outputs": [
    {
     "name": "stdout",
     "output_type": "stream",
     "text": [
      "Error Metric Matrix (Forecasting Methods) - MAPE & MSE\n",
      "--------------------------------------------------------------------------------------------------------\n",
      "Moving Averages (Ratios) -                             MAPE:  0.7735392618176988       MSE:  3.858965118695133\n",
      "Moving Averages (2021 Values) -                        MAPE:  0.7543750480678474        MSE:  1.6185003376447977\n",
      "--------------------------------------------------------------------------------------------------------\n",
      "Weighted Moving Averages (Ratios) -                    MAPE:  0.7572905814985983       MSE:  3.6545601527193394\n",
      "Weighted Moving Averages (2021 Values) -               MAPE:  0.6385297880819705       MSE:  1.2588404498467611\n",
      "--------------------------------------------------------------------------------------------------------\n",
      "Exponential Moving Averages (Ratios) -              MAPE:  0.7549623497661281       MSE:  3.4063685003376447\n",
      "Exponential Moving Averages (2021 Values) -         MAPE:  0.6265320533885211       MSE:  1.261152018076983\n"
     ]
    }
   ],
   "source": [
    "print (\"Error Metric Matrix (Forecasting Methods) - MAPE & MSE\")\n",
    "print (\"--------------------------------------------------------------------------------------------------------\")\n",
    "print (\"Moving Averages (Ratios) -                             MAPE: \",mean_err[0],\"      MSE: \",median_err[0])\n",
    "print (\"Moving Averages (2021 Values) -                        MAPE: \",mean_err[1],\"       MSE: \",median_err[1])\n",
    "print (\"--------------------------------------------------------------------------------------------------------\")\n",
    "print (\"Weighted Moving Averages (Ratios) -                    MAPE: \",mean_err[2],\"      MSE: \",median_err[2])\n",
    "print (\"Weighted Moving Averages (2021 Values) -               MAPE: \",mean_err[3],\"      MSE: \",median_err[3])\n",
    "print (\"--------------------------------------------------------------------------------------------------------\")\n",
    "print (\"Exponential Moving Averages (Ratios) -              MAPE: \",mean_err[4],\"      MSE: \",median_err[4])\n",
    "print (\"Exponential Moving Averages (2021 Values) -         MAPE: \",mean_err[5],\"      MSE: \",median_err[5])"
   ]
  },
  {
   "cell_type": "code",
   "execution_count": 211,
   "metadata": {},
   "outputs": [],
   "source": [
    "# Preparing data to be split into train and test, The below prepares data in cumulative form which will be later split into test and train\n",
    "# number of 10min indices for jan 2020= 24*31*60/10 = 4464\n",
    "# number of 10min indices for jan 2021 = 24*31*60/10 = 4464\n",
    "# number of 10min indices for feb 2021 = 24*28*60/10 = 4032\n",
    "# number of 10min indices for march 2021 = 24*31*60/10 = 4464\n",
    "# regions_cum: it will contain 265 lists, each list will contain 4464+4032+4464 values which represents the number of pickups \n",
    "# that are happened for three months in 2021 data\n",
    "\n",
    "# print(len(regions_cum))\n",
    "# 265\n",
    "# print(len(regions_cum[0]))\n",
    "# 12960\n",
    "\n",
    "# we take number of pickups that are happened in last 5 10min intravels\n",
    "number_of_time_stamps = 5\n",
    "\n",
    "# output varaible\n",
    "# it is list of lists\n",
    "# it will contain number of pickups 12955 for each cluster\n",
    "output = []\n",
    "\n",
    "tsne_destination = []\n",
    "# we will code each day \n",
    "# sunday = 0, monday=1, tue = 2, wed=3, thur=4, fri=5,sat=6\n",
    "# for every cluster we will be adding 12955 values, each value represent to which day of the week that pickup bin belongs to\n",
    "# it is list of lists\n",
    "tsne_weekday = []\n",
    "\n",
    "# its an numbpy array, of shape (523960, 5)\n",
    "# each row corresponds to an entry in out data\n",
    "# for the first row we will have [f0,f1,f2,f3,f4] fi=number of pickups happened in i+1th 10min intravel(bin)\n",
    "# the second row will have [f1,f2,f3,f4,f5]\n",
    "# the third row will have [f2,f3,f4,f5,f6]\n",
    "# and so on...\n",
    "tsne_feature = []\n",
    "\n",
    "tsne_feature = [0]*number_of_time_stamps\n",
    "\n",
    "for i in range(1,70):\n",
    "    tsne_destination.append([i]*12955)\n",
    "    # jan 1st 2021 is 금요일, so we start our day from 5: \"(int(k/144))%7+5\"\n",
    "    # our prediction start from 5th 10min intravel since we need to have number of pickups that are happened in last 5 pickup bins\n",
    "    tsne_weekday.append([int(((int(k/144))%7+5)%7) for k in range(5, 4464+4032+4464)])\n",
    "    # regions_cum is a list of lists [[x1,x2,x3..x13104], [x1,x2,x3..x13104], [x1,x2,x3..x13104], [x1,x2,x3..x13104], [x1,x2,x3..x13104], .. 40 lsits]\n",
    "    tsne_feature = np.vstack((tsne_feature, [regions_cum[i-1][r:r+number_of_time_stamps] for r in range(0,len(regions_cum[i-1])-number_of_time_stamps)]))\n",
    "    \n",
    "    output.append(regions_cum[i-1][5:])\n",
    "tsne_feature = tsne_feature[1:]"
   ]
  },
  {
   "cell_type": "code",
   "execution_count": 213,
   "metadata": {},
   "outputs": [
    {
     "data": {
      "text/plain": [
       "True"
      ]
     },
     "execution_count": 213,
     "metadata": {},
     "output_type": "execute_result"
    }
   ],
   "source": [
    "\n",
    "len(tsne_destination)*len(tsne_destination[0]) == tsne_feature.shape[0] == len(tsne_weekday)*len(tsne_weekday[0]) == 69*12955 == len(output)*len(output[0])"
   ]
  },
  {
   "cell_type": "code",
   "execution_count": 214,
   "metadata": {},
   "outputs": [],
   "source": [
    "# Getting the predictions of exponential moving averages to be used as a feature in cumulative form\n",
    "\n",
    "# upto now we computed 8 features for every data point that starts from 50th min of the day\n",
    "# 1. cluster center lattitude\n",
    "# 2. cluster center longitude\n",
    "# 3. day of the week \n",
    "# 4. f_t_1: number of pickups that are happened previous t-1th 10min intravel\n",
    "# 5. f_t_2: number of pickups that are happened previous t-2th 10min intravel\n",
    "# 6. f_t_3: number of pickups that are happened previous t-3th 10min intravel\n",
    "# 7. f_t_4: number of pickups that are happened previous t-4th 10min intravel\n",
    "# 8. f_t_5: number of pickups that are happened previous t-5th 10min intravel\n",
    "\n",
    "# from the baseline models we said the exponential weighted moving avarage gives us the best error\n",
    "# we will try to add the same exponential weighted moving avarage at t as a feature to our data\n",
    "# exponential weighted moving avarage => p'(t) = alpha*p'(t-1) + (1-alpha)*P(t-1) \n",
    "alpha=0.3\n",
    "\n",
    "# it is a temporary array that store exponential weighted moving avarage for each 10min intravel, \n",
    "# for each cluster it will get reset\n",
    "# for every cluster it contains 13104 values\n",
    "predicted_values=[]\n",
    "\n",
    "# it is similar like tsne_lat\n",
    "# it is list of lists\n",
    "# predict_list is a list of lists [[x5,x6,x7..x13104], [x5,x6,x7..x13104], [x5,x6,x7..x13104], [x5,x6,x7..x13104], [x5,x6,x7..x13104], .. 40 lsits]\n",
    "predict_list = []\n",
    "tsne_flat_exp_avg = []\n",
    "for r in range(1,70):\n",
    "    for i in range(0,12960):\n",
    "        if i==0:\n",
    "            predicted_value= regions_cum[r-1][0]\n",
    "            predicted_values.append(0)\n",
    "            continue\n",
    "        predicted_values.append(predicted_value)\n",
    "        predicted_value =int((alpha*predicted_value) + (1-alpha)*(regions_cum[r-1][i]))\n",
    "    predict_list.append(predicted_values[5:])\n",
    "    predicted_values=[]"
   ]
  },
  {
   "cell_type": "code",
   "execution_count": 215,
   "metadata": {},
   "outputs": [
    {
     "name": "stdout",
     "output_type": "stream",
     "text": [
      "size of train data : 9068\n",
      "size of test data : 3886\n"
     ]
    }
   ],
   "source": [
    "# train, test split : 70% 30% split\n",
    "# Before we start predictions using the tree based regression models we take 3 months of 2016 pickup data \n",
    "# and split it such that for every region we have 70% data in train and 30% in test,\n",
    "# ordered date-wise for every region\n",
    "print(\"size of train data :\", int(12955*0.7))\n",
    "print(\"size of test data :\", int(12955*0.3))"
   ]
  },
  {
   "cell_type": "code",
   "execution_count": 216,
   "metadata": {},
   "outputs": [],
   "source": [
    "# extracting first 9068 timestamp values i.e 70% of 12955 (total timestamps) for our training data\n",
    "train_features =  [tsne_feature[(i-1)*12955:(12955*(i-1)+9068)] for i in range(1,70)]\n",
    "# temp = [0]*(12955 - 9068)\n",
    "test_features = [tsne_feature[(12955*(i-1))+9068:12955*i] for i in range(1,70)]"
   ]
  },
  {
   "cell_type": "code",
   "execution_count": 217,
   "metadata": {},
   "outputs": [
    {
     "name": "stdout",
     "output_type": "stream",
     "text": [
      "Number of data clusters 69 Number of data points in trian data 9068 Each data point contains 5 features\n",
      "Number of data clusters 69 Number of data points in test data 3887 Each data point contains 5 features\n"
     ]
    }
   ],
   "source": [
    "print(\"Number of data clusters\",len(train_features), \"Number of data points in trian data\", len(train_features[0]), \"Each data point contains\", len(train_features[0][0]),\"features\")\n",
    "print(\"Number of data clusters\",len(train_features), \"Number of data points in test data\", len(test_features[0]), \"Each data point contains\", len(test_features[0][0]),\"features\")"
   ]
  },
  {
   "cell_type": "code",
   "execution_count": 218,
   "metadata": {},
   "outputs": [],
   "source": [
    "# extracting first 9169 timestamp values i.e 70% of 12955 (total timestamps) for our training data\n",
    "tsne_train_flat_destination = [i[:9068] for i in tsne_destination]\n",
    "tsne_train_flat_weekday = [i[:9068] for i in tsne_weekday]\n",
    "tsne_train_flat_output = [i[:9068] for i in output]\n",
    "tsne_train_flat_exp_avg = [i[:9068] for i in predict_list]"
   ]
  },
  {
   "cell_type": "code",
   "execution_count": 219,
   "metadata": {},
   "outputs": [],
   "source": [
    "# extracting the rest of the timestamp values i.e 30% of 12955 (total timestamps) for our test data\n",
    "tsne_test_flat_destination = [i[9068:] for i in tsne_destination]\n",
    "tsne_test_flat_weekday = [i[9068:] for i in tsne_weekday]\n",
    "tsne_test_flat_output = [i[9068:] for i in output]\n",
    "tsne_test_flat_exp_avg = [i[9068:] for i in predict_list]"
   ]
  },
  {
   "cell_type": "code",
   "execution_count": 220,
   "metadata": {},
   "outputs": [],
   "source": [
    "# the above contains values in the form of list of lists (i.e. list of values of each region), here we make all of them in one list\n",
    "train_new_features = []\n",
    "for i in range(1,70):\n",
    "    train_new_features.extend(train_features[i-1])\n",
    "test_new_features = []\n",
    "for i in range(1,70):\n",
    "    test_new_features.extend(test_features[i-1])"
   ]
  },
  {
   "cell_type": "code",
   "execution_count": 221,
   "metadata": {},
   "outputs": [],
   "source": [
    "# converting lists of lists into sinle list i.e flatten\n",
    "# a  = [[1,2,3,4],[4,6,7,8]]\n",
    "# print(sum(a,[]))\n",
    "# [1, 2, 3, 4, 4, 6, 7, 8]\n",
    "tsne_train_destination = sum(tsne_train_flat_destination, [])\n",
    "tsne_train_weekday = sum(tsne_train_flat_weekday, [])\n",
    "tsne_train_output = sum(tsne_train_flat_output, [])\n",
    "tsne_train_exp_avg = sum(tsne_train_flat_exp_avg,[])"
   ]
  },
  {
   "cell_type": "code",
   "execution_count": 222,
   "metadata": {},
   "outputs": [],
   "source": [
    "# converting lists of lists into sinle list i.e flatten\n",
    "# a  = [[1,2,3,4],[4,6,7,8]]\n",
    "# print(sum(a,[]))\n",
    "# [1, 2, 3, 4, 4, 6, 7, 8]\n",
    "tsne_test_destination = sum(tsne_test_flat_destination, [])\n",
    "tsne_test_weekday = sum(tsne_test_flat_weekday, [])\n",
    "tsne_test_output = sum(tsne_test_flat_output, [])\n",
    "tsne_test_exp_avg = sum(tsne_test_flat_exp_avg,[])"
   ]
  },
  {
   "cell_type": "code",
   "execution_count": 223,
   "metadata": {},
   "outputs": [
    {
     "name": "stdout",
     "output_type": "stream",
     "text": [
      "(625692, 8)\n"
     ]
    }
   ],
   "source": [
    "# Preparing the data frame for our train data\n",
    "columns = ['ft_5','ft_4','ft_3','ft_2','ft_1']\n",
    "df_train = pd.DataFrame(data=train_new_features, columns=columns)\n",
    "df_train['destination'] = tsne_train_destination\n",
    "df_train['weekday'] = tsne_train_weekday\n",
    "df_train['exp_avg'] = tsne_train_exp_avg\n",
    "\n",
    "print(df_train.shape)"
   ]
  },
  {
   "cell_type": "code",
   "execution_count": 224,
   "metadata": {},
   "outputs": [
    {
     "name": "stdout",
     "output_type": "stream",
     "text": [
      "(268203, 8)\n"
     ]
    }
   ],
   "source": [
    "# Preparing the data frame for our train data\n",
    "df_test = pd.DataFrame(data=test_new_features, columns=columns)\n",
    "df_test['destination'] = tsne_test_destination\n",
    "df_test['weekday'] = tsne_test_weekday\n",
    "df_test['exp_avg'] = tsne_test_exp_avg\n",
    "print(df_test.shape)"
   ]
  },
  {
   "cell_type": "code",
   "execution_count": 225,
   "metadata": {},
   "outputs": [
    {
     "data": {
      "text/html": [
       "<div>\n",
       "<style scoped>\n",
       "    .dataframe tbody tr th:only-of-type {\n",
       "        vertical-align: middle;\n",
       "    }\n",
       "\n",
       "    .dataframe tbody tr th {\n",
       "        vertical-align: top;\n",
       "    }\n",
       "\n",
       "    .dataframe thead th {\n",
       "        text-align: right;\n",
       "    }\n",
       "</style>\n",
       "<table border=\"1\" class=\"dataframe\">\n",
       "  <thead>\n",
       "    <tr style=\"text-align: right;\">\n",
       "      <th></th>\n",
       "      <th>ft_5</th>\n",
       "      <th>ft_4</th>\n",
       "      <th>ft_3</th>\n",
       "      <th>ft_2</th>\n",
       "      <th>ft_1</th>\n",
       "      <th>destination</th>\n",
       "      <th>weekday</th>\n",
       "      <th>exp_avg</th>\n",
       "    </tr>\n",
       "  </thead>\n",
       "  <tbody>\n",
       "    <tr>\n",
       "      <th>0</th>\n",
       "      <td>0</td>\n",
       "      <td>0</td>\n",
       "      <td>0</td>\n",
       "      <td>0</td>\n",
       "      <td>0</td>\n",
       "      <td>1</td>\n",
       "      <td>5</td>\n",
       "      <td>0</td>\n",
       "    </tr>\n",
       "    <tr>\n",
       "      <th>1</th>\n",
       "      <td>0</td>\n",
       "      <td>0</td>\n",
       "      <td>0</td>\n",
       "      <td>0</td>\n",
       "      <td>0</td>\n",
       "      <td>1</td>\n",
       "      <td>5</td>\n",
       "      <td>0</td>\n",
       "    </tr>\n",
       "    <tr>\n",
       "      <th>2</th>\n",
       "      <td>0</td>\n",
       "      <td>0</td>\n",
       "      <td>0</td>\n",
       "      <td>0</td>\n",
       "      <td>0</td>\n",
       "      <td>1</td>\n",
       "      <td>5</td>\n",
       "      <td>0</td>\n",
       "    </tr>\n",
       "    <tr>\n",
       "      <th>3</th>\n",
       "      <td>0</td>\n",
       "      <td>0</td>\n",
       "      <td>0</td>\n",
       "      <td>0</td>\n",
       "      <td>0</td>\n",
       "      <td>1</td>\n",
       "      <td>5</td>\n",
       "      <td>0</td>\n",
       "    </tr>\n",
       "    <tr>\n",
       "      <th>4</th>\n",
       "      <td>0</td>\n",
       "      <td>0</td>\n",
       "      <td>0</td>\n",
       "      <td>0</td>\n",
       "      <td>0</td>\n",
       "      <td>1</td>\n",
       "      <td>5</td>\n",
       "      <td>0</td>\n",
       "    </tr>\n",
       "  </tbody>\n",
       "</table>\n",
       "</div>"
      ],
      "text/plain": [
       "   ft_5  ft_4  ft_3  ft_2  ft_1  destination  weekday  exp_avg\n",
       "0     0     0     0     0     0            1        5        0\n",
       "1     0     0     0     0     0            1        5        0\n",
       "2     0     0     0     0     0            1        5        0\n",
       "3     0     0     0     0     0            1        5        0\n",
       "4     0     0     0     0     0            1        5        0"
      ]
     },
     "execution_count": 225,
     "metadata": {},
     "output_type": "execute_result"
    }
   ],
   "source": [
    "df_test.head()"
   ]
  },
  {
   "cell_type": "code",
   "execution_count": 226,
   "metadata": {},
   "outputs": [],
   "source": [
    "# find more about LinearRegression function here http://scikit-learn.org/stable/modules/generated/sklearn.linear_model.LinearRegression.html\n",
    "# -------------------------\n",
    "# default paramters\n",
    "# sklearn.linear_model.LinearRegression(fit_intercept=True, normalize=False, copy_X=True, n_jobs=1)\n",
    "\n",
    "# some of methods of LinearRegression()\n",
    "# fit(X, y[, sample_weight])\tFit linear model.\n",
    "# get_params([deep])\tGet parameters for this estimator.\n",
    "# predict(X)\tPredict using the linear model\n",
    "# score(X, y[, sample_weight])\tReturns the coefficient of determination R^2 of the prediction.\n",
    "# set_params(**params)\tSet the parameters of this estimator.\n",
    "# -----------------------\n",
    "# video link: https://www.appliedaicourse.com/course/applied-ai-course-online/lessons/geometric-intuition-1-2-copy-8/\n",
    "# -----------------------\n",
    "\n",
    "from sklearn.linear_model import LinearRegression\n",
    "lr_reg=LinearRegression().fit(df_train, tsne_train_output)\n",
    "\n",
    "y_pred = lr_reg.predict(df_test)\n",
    "lr_test_predictions = [round(value) for value in y_pred]\n",
    "y_pred = lr_reg.predict(df_train)\n",
    "lr_train_predictions = [round(value) for value in y_pred]"
   ]
  },
  {
   "cell_type": "code",
   "execution_count": 227,
   "metadata": {},
   "outputs": [
    {
     "data": {
      "text/html": [
       "<style>#sk-container-id-1 {color: black;background-color: white;}#sk-container-id-1 pre{padding: 0;}#sk-container-id-1 div.sk-toggleable {background-color: white;}#sk-container-id-1 label.sk-toggleable__label {cursor: pointer;display: block;width: 100%;margin-bottom: 0;padding: 0.3em;box-sizing: border-box;text-align: center;}#sk-container-id-1 label.sk-toggleable__label-arrow:before {content: \"▸\";float: left;margin-right: 0.25em;color: #696969;}#sk-container-id-1 label.sk-toggleable__label-arrow:hover:before {color: black;}#sk-container-id-1 div.sk-estimator:hover label.sk-toggleable__label-arrow:before {color: black;}#sk-container-id-1 div.sk-toggleable__content {max-height: 0;max-width: 0;overflow: hidden;text-align: left;background-color: #f0f8ff;}#sk-container-id-1 div.sk-toggleable__content pre {margin: 0.2em;color: black;border-radius: 0.25em;background-color: #f0f8ff;}#sk-container-id-1 input.sk-toggleable__control:checked~div.sk-toggleable__content {max-height: 200px;max-width: 100%;overflow: auto;}#sk-container-id-1 input.sk-toggleable__control:checked~label.sk-toggleable__label-arrow:before {content: \"▾\";}#sk-container-id-1 div.sk-estimator input.sk-toggleable__control:checked~label.sk-toggleable__label {background-color: #d4ebff;}#sk-container-id-1 div.sk-label input.sk-toggleable__control:checked~label.sk-toggleable__label {background-color: #d4ebff;}#sk-container-id-1 input.sk-hidden--visually {border: 0;clip: rect(1px 1px 1px 1px);clip: rect(1px, 1px, 1px, 1px);height: 1px;margin: -1px;overflow: hidden;padding: 0;position: absolute;width: 1px;}#sk-container-id-1 div.sk-estimator {font-family: monospace;background-color: #f0f8ff;border: 1px dotted black;border-radius: 0.25em;box-sizing: border-box;margin-bottom: 0.5em;}#sk-container-id-1 div.sk-estimator:hover {background-color: #d4ebff;}#sk-container-id-1 div.sk-parallel-item::after {content: \"\";width: 100%;border-bottom: 1px solid gray;flex-grow: 1;}#sk-container-id-1 div.sk-label:hover label.sk-toggleable__label {background-color: #d4ebff;}#sk-container-id-1 div.sk-serial::before {content: \"\";position: absolute;border-left: 1px solid gray;box-sizing: border-box;top: 0;bottom: 0;left: 50%;z-index: 0;}#sk-container-id-1 div.sk-serial {display: flex;flex-direction: column;align-items: center;background-color: white;padding-right: 0.2em;padding-left: 0.2em;position: relative;}#sk-container-id-1 div.sk-item {position: relative;z-index: 1;}#sk-container-id-1 div.sk-parallel {display: flex;align-items: stretch;justify-content: center;background-color: white;position: relative;}#sk-container-id-1 div.sk-item::before, #sk-container-id-1 div.sk-parallel-item::before {content: \"\";position: absolute;border-left: 1px solid gray;box-sizing: border-box;top: 0;bottom: 0;left: 50%;z-index: -1;}#sk-container-id-1 div.sk-parallel-item {display: flex;flex-direction: column;z-index: 1;position: relative;background-color: white;}#sk-container-id-1 div.sk-parallel-item:first-child::after {align-self: flex-end;width: 50%;}#sk-container-id-1 div.sk-parallel-item:last-child::after {align-self: flex-start;width: 50%;}#sk-container-id-1 div.sk-parallel-item:only-child::after {width: 0;}#sk-container-id-1 div.sk-dashed-wrapped {border: 1px dashed gray;margin: 0 0.4em 0.5em 0.4em;box-sizing: border-box;padding-bottom: 0.4em;background-color: white;}#sk-container-id-1 div.sk-label label {font-family: monospace;font-weight: bold;display: inline-block;line-height: 1.2em;}#sk-container-id-1 div.sk-label-container {text-align: center;}#sk-container-id-1 div.sk-container {/* jupyter's `normalize.less` sets `[hidden] { display: none; }` but bootstrap.min.css set `[hidden] { display: none !important; }` so we also need the `!important` here to be able to override the default hidden behavior on the sphinx rendered scikit-learn.org. See: https://github.com/scikit-learn/scikit-learn/issues/21755 */display: inline-block !important;position: relative;}#sk-container-id-1 div.sk-text-repr-fallback {display: none;}</style><div id=\"sk-container-id-1\" class=\"sk-top-container\"><div class=\"sk-text-repr-fallback\"><pre>RandomForestRegressor(max_features=&#x27;sqrt&#x27;, min_samples_leaf=4,\n",
       "                      min_samples_split=3, n_estimators=40, n_jobs=-1)</pre><b>In a Jupyter environment, please rerun this cell to show the HTML representation or trust the notebook. <br />On GitHub, the HTML representation is unable to render, please try loading this page with nbviewer.org.</b></div><div class=\"sk-container\" hidden><div class=\"sk-item\"><div class=\"sk-estimator sk-toggleable\"><input class=\"sk-toggleable__control sk-hidden--visually\" id=\"sk-estimator-id-1\" type=\"checkbox\" checked><label for=\"sk-estimator-id-1\" class=\"sk-toggleable__label sk-toggleable__label-arrow\">RandomForestRegressor</label><div class=\"sk-toggleable__content\"><pre>RandomForestRegressor(max_features=&#x27;sqrt&#x27;, min_samples_leaf=4,\n",
       "                      min_samples_split=3, n_estimators=40, n_jobs=-1)</pre></div></div></div></div></div>"
      ],
      "text/plain": [
       "RandomForestRegressor(max_features='sqrt', min_samples_leaf=4,\n",
       "                      min_samples_split=3, n_estimators=40, n_jobs=-1)"
      ]
     },
     "execution_count": 227,
     "metadata": {},
     "output_type": "execute_result"
    }
   ],
   "source": [
    "# Training a hyper-parameter tuned random forest regressor on our train data\n",
    "# find more about LinearRegression function here http://scikit-learn.org/stable/modules/generated/sklearn.ensemble.RandomForestRegressor.html\n",
    "# -------------------------\n",
    "# default paramters\n",
    "# sklearn.ensemble.RandomForestRegressor(n_estimators=10, criterion=’mse’, max_depth=None, min_samples_split=2, \n",
    "# min_samples_leaf=1, min_weight_fraction_leaf=0.0, max_features=’auto’, max_leaf_nodes=None, min_impurity_decrease=0.0, \n",
    "# min_impurity_split=None, bootstrap=True, oob_score=False, n_jobs=1, random_state=None, verbose=0, warm_start=False)\n",
    "\n",
    "# some of methods of RandomForestRegressor()\n",
    "# apply(X)\tApply trees in the forest to X, return leaf indices.\n",
    "# decision_path(X)\tReturn the decision path in the forest\n",
    "# fit(X, y[, sample_weight])\tBuild a forest of trees from the training set (X, y).\n",
    "# get_params([deep])\tGet parameters for this estimator.\n",
    "# predict(X)\tPredict regression target for X.\n",
    "# score(X, y[, sample_weight])\tReturns the coefficient of determination R^2 of the prediction.\n",
    "# -----------------------\n",
    "# video link1: https://www.appliedaicourse.com/course/applied-ai-course-online/lessons/regression-using-decision-trees-2/\n",
    "# video link2: https://www.appliedaicourse.com/course/applied-ai-course-online/lessons/what-are-ensembles/\n",
    "# -----------------------\n",
    "\n",
    "regr1 = RandomForestRegressor(max_features='sqrt',min_samples_leaf=4,min_samples_split=3,n_estimators=40, n_jobs=-1)\n",
    "regr1.fit(df_train, tsne_train_output)"
   ]
  },
  {
   "cell_type": "code",
   "execution_count": 228,
   "metadata": {},
   "outputs": [],
   "source": [
    "# Predicting on test data using our trained random forest model \n",
    "\n",
    "# the models regr1 is already hyper parameter tuned\n",
    "# the parameters that we got above are found using grid search\n",
    "\n",
    "y_pred = regr1.predict(df_test)\n",
    "rndf_test_predictions = [round(value) for value in y_pred]\n",
    "y_pred = regr1.predict(df_train)\n",
    "rndf_train_predictions = [round(value) for value in y_pred]"
   ]
  },
  {
   "cell_type": "code",
   "execution_count": 229,
   "metadata": {},
   "outputs": [
    {
     "name": "stdout",
     "output_type": "stream",
     "text": [
      "Index(['ft_5', 'ft_4', 'ft_3', 'ft_2', 'ft_1', 'destination', 'weekday',\n",
      "       'exp_avg'],\n",
      "      dtype='object')\n",
      "[0.08685364 0.15933689 0.12829604 0.13507269 0.26671311 0.02241556\n",
      " 0.01330252 0.18800954]\n"
     ]
    }
   ],
   "source": [
    "#feature importances based on analysis using random forest\n",
    "print (df_train.columns)\n",
    "print (regr1.feature_importances_)"
   ]
  },
  {
   "cell_type": "markdown",
   "metadata": {},
   "source": [
    "# Using XGBoost"
   ]
  },
  {
   "cell_type": "code",
   "execution_count": 230,
   "metadata": {},
   "outputs": [
    {
     "data": {
      "text/html": [
       "<style>#sk-container-id-2 {color: black;background-color: white;}#sk-container-id-2 pre{padding: 0;}#sk-container-id-2 div.sk-toggleable {background-color: white;}#sk-container-id-2 label.sk-toggleable__label {cursor: pointer;display: block;width: 100%;margin-bottom: 0;padding: 0.3em;box-sizing: border-box;text-align: center;}#sk-container-id-2 label.sk-toggleable__label-arrow:before {content: \"▸\";float: left;margin-right: 0.25em;color: #696969;}#sk-container-id-2 label.sk-toggleable__label-arrow:hover:before {color: black;}#sk-container-id-2 div.sk-estimator:hover label.sk-toggleable__label-arrow:before {color: black;}#sk-container-id-2 div.sk-toggleable__content {max-height: 0;max-width: 0;overflow: hidden;text-align: left;background-color: #f0f8ff;}#sk-container-id-2 div.sk-toggleable__content pre {margin: 0.2em;color: black;border-radius: 0.25em;background-color: #f0f8ff;}#sk-container-id-2 input.sk-toggleable__control:checked~div.sk-toggleable__content {max-height: 200px;max-width: 100%;overflow: auto;}#sk-container-id-2 input.sk-toggleable__control:checked~label.sk-toggleable__label-arrow:before {content: \"▾\";}#sk-container-id-2 div.sk-estimator input.sk-toggleable__control:checked~label.sk-toggleable__label {background-color: #d4ebff;}#sk-container-id-2 div.sk-label input.sk-toggleable__control:checked~label.sk-toggleable__label {background-color: #d4ebff;}#sk-container-id-2 input.sk-hidden--visually {border: 0;clip: rect(1px 1px 1px 1px);clip: rect(1px, 1px, 1px, 1px);height: 1px;margin: -1px;overflow: hidden;padding: 0;position: absolute;width: 1px;}#sk-container-id-2 div.sk-estimator {font-family: monospace;background-color: #f0f8ff;border: 1px dotted black;border-radius: 0.25em;box-sizing: border-box;margin-bottom: 0.5em;}#sk-container-id-2 div.sk-estimator:hover {background-color: #d4ebff;}#sk-container-id-2 div.sk-parallel-item::after {content: \"\";width: 100%;border-bottom: 1px solid gray;flex-grow: 1;}#sk-container-id-2 div.sk-label:hover label.sk-toggleable__label {background-color: #d4ebff;}#sk-container-id-2 div.sk-serial::before {content: \"\";position: absolute;border-left: 1px solid gray;box-sizing: border-box;top: 0;bottom: 0;left: 50%;z-index: 0;}#sk-container-id-2 div.sk-serial {display: flex;flex-direction: column;align-items: center;background-color: white;padding-right: 0.2em;padding-left: 0.2em;position: relative;}#sk-container-id-2 div.sk-item {position: relative;z-index: 1;}#sk-container-id-2 div.sk-parallel {display: flex;align-items: stretch;justify-content: center;background-color: white;position: relative;}#sk-container-id-2 div.sk-item::before, #sk-container-id-2 div.sk-parallel-item::before {content: \"\";position: absolute;border-left: 1px solid gray;box-sizing: border-box;top: 0;bottom: 0;left: 50%;z-index: -1;}#sk-container-id-2 div.sk-parallel-item {display: flex;flex-direction: column;z-index: 1;position: relative;background-color: white;}#sk-container-id-2 div.sk-parallel-item:first-child::after {align-self: flex-end;width: 50%;}#sk-container-id-2 div.sk-parallel-item:last-child::after {align-self: flex-start;width: 50%;}#sk-container-id-2 div.sk-parallel-item:only-child::after {width: 0;}#sk-container-id-2 div.sk-dashed-wrapped {border: 1px dashed gray;margin: 0 0.4em 0.5em 0.4em;box-sizing: border-box;padding-bottom: 0.4em;background-color: white;}#sk-container-id-2 div.sk-label label {font-family: monospace;font-weight: bold;display: inline-block;line-height: 1.2em;}#sk-container-id-2 div.sk-label-container {text-align: center;}#sk-container-id-2 div.sk-container {/* jupyter's `normalize.less` sets `[hidden] { display: none; }` but bootstrap.min.css set `[hidden] { display: none !important; }` so we also need the `!important` here to be able to override the default hidden behavior on the sphinx rendered scikit-learn.org. See: https://github.com/scikit-learn/scikit-learn/issues/21755 */display: inline-block !important;position: relative;}#sk-container-id-2 div.sk-text-repr-fallback {display: none;}</style><div id=\"sk-container-id-2\" class=\"sk-top-container\"><div class=\"sk-text-repr-fallback\"><pre>XGBRegressor(base_score=0.5, booster=&#x27;gbtree&#x27;, callbacks=None,\n",
       "             colsample_bylevel=1, colsample_bynode=1, colsample_bytree=0.8,\n",
       "             early_stopping_rounds=None, enable_categorical=False,\n",
       "             eval_metric=None, gamma=0, gpu_id=-1, grow_policy=&#x27;depthwise&#x27;,\n",
       "             importance_type=None, interaction_constraints=&#x27;&#x27;,\n",
       "             learning_rate=0.1, max_bin=256, max_cat_to_onehot=4,\n",
       "             max_delta_step=0, max_depth=3, max_leaves=0, min_child_weight=3,\n",
       "             missing=nan, monotone_constraints=&#x27;()&#x27;, n_estimators=1000,\n",
       "             n_jobs=4, nthread=4, num_parallel_tree=1, predictor=&#x27;auto&#x27;,\n",
       "             random_state=0, reg_alpha=200, ...)</pre><b>In a Jupyter environment, please rerun this cell to show the HTML representation or trust the notebook. <br />On GitHub, the HTML representation is unable to render, please try loading this page with nbviewer.org.</b></div><div class=\"sk-container\" hidden><div class=\"sk-item\"><div class=\"sk-estimator sk-toggleable\"><input class=\"sk-toggleable__control sk-hidden--visually\" id=\"sk-estimator-id-2\" type=\"checkbox\" checked><label for=\"sk-estimator-id-2\" class=\"sk-toggleable__label sk-toggleable__label-arrow\">XGBRegressor</label><div class=\"sk-toggleable__content\"><pre>XGBRegressor(base_score=0.5, booster=&#x27;gbtree&#x27;, callbacks=None,\n",
       "             colsample_bylevel=1, colsample_bynode=1, colsample_bytree=0.8,\n",
       "             early_stopping_rounds=None, enable_categorical=False,\n",
       "             eval_metric=None, gamma=0, gpu_id=-1, grow_policy=&#x27;depthwise&#x27;,\n",
       "             importance_type=None, interaction_constraints=&#x27;&#x27;,\n",
       "             learning_rate=0.1, max_bin=256, max_cat_to_onehot=4,\n",
       "             max_delta_step=0, max_depth=3, max_leaves=0, min_child_weight=3,\n",
       "             missing=nan, monotone_constraints=&#x27;()&#x27;, n_estimators=1000,\n",
       "             n_jobs=4, nthread=4, num_parallel_tree=1, predictor=&#x27;auto&#x27;,\n",
       "             random_state=0, reg_alpha=200, ...)</pre></div></div></div></div></div>"
      ],
      "text/plain": [
       "XGBRegressor(base_score=0.5, booster='gbtree', callbacks=None,\n",
       "             colsample_bylevel=1, colsample_bynode=1, colsample_bytree=0.8,\n",
       "             early_stopping_rounds=None, enable_categorical=False,\n",
       "             eval_metric=None, gamma=0, gpu_id=-1, grow_policy='depthwise',\n",
       "             importance_type=None, interaction_constraints='',\n",
       "             learning_rate=0.1, max_bin=256, max_cat_to_onehot=4,\n",
       "             max_delta_step=0, max_depth=3, max_leaves=0, min_child_weight=3,\n",
       "             missing=nan, monotone_constraints='()', n_estimators=1000,\n",
       "             n_jobs=4, nthread=4, num_parallel_tree=1, predictor='auto',\n",
       "             random_state=0, reg_alpha=200, ...)"
      ]
     },
     "execution_count": 230,
     "metadata": {},
     "output_type": "execute_result"
    }
   ],
   "source": [
    "# Training a hyper-parameter tuned Xg-Boost regressor on our train data\n",
    "\n",
    "# find more about XGBRegressor function here http://xgboost.readthedocs.io/en/latest/python/python_api.html?#module-xgboost.sklearn\n",
    "# -------------------------\n",
    "# default paramters\n",
    "# xgboost.XGBRegressor(max_depth=3, learning_rate=0.1, n_estimators=100, silent=True, objective='reg:linear', \n",
    "# booster='gbtree', n_jobs=1, nthread=None, gamma=0, min_child_weight=1, max_delta_step=0, subsample=1, colsample_bytree=1, \n",
    "# colsample_bylevel=1, reg_alpha=0, reg_lambda=1, scale_pos_weight=1, base_score=0.5, random_state=0, seed=None, \n",
    "# missing=None, **kwargs)\n",
    "\n",
    "# some of methods of RandomForestRegressor()\n",
    "# fit(X, y, sample_weight=None, eval_set=None, eval_metric=None, early_stopping_rounds=None, verbose=True, xgb_model=None)\n",
    "# get_params([deep])\tGet parameters for this estimator.\n",
    "# predict(data, output_margin=False, ntree_limit=0) : Predict with data. NOTE: This function is not thread safe.\n",
    "# get_score(importance_type='weight') -> get the feature importance\n",
    "# -----------------------\n",
    "# video link1: https://www.appliedaicourse.com/course/applied-ai-course-online/lessons/regression-using-decision-trees-2/\n",
    "# video link2: https://www.appliedaicourse.com/course/applied-ai-course-online/lessons/what-are-ensembles/\n",
    "# -----------------------\n",
    "\n",
    "x_model = xgb.XGBRegressor(\n",
    " learning_rate =0.1,\n",
    " n_estimators=1000,\n",
    " max_depth=3,\n",
    " min_child_weight=3,\n",
    " gamma=0,\n",
    " subsample=0.8,\n",
    " reg_alpha=200, reg_lambda=200,\n",
    " colsample_bytree=0.8,nthread=4)\n",
    "x_model.fit(df_train, tsne_train_output)"
   ]
  },
  {
   "cell_type": "code",
   "execution_count": 231,
   "metadata": {},
   "outputs": [],
   "source": [
    "#predicting with our trained Xg-Boost regressor\n",
    "# the models x_model is already hyper parameter tuned\n",
    "# the parameters that we got above are found using grid search\n",
    "\n",
    "y_pred = x_model.predict(df_test)\n",
    "xgb_test_predictions = [round(value) for value in y_pred]\n",
    "y_pred = x_model.predict(df_train)\n",
    "xgb_train_predictions = [round(value) for value in y_pred]"
   ]
  },
  {
   "cell_type": "code",
   "execution_count": 232,
   "metadata": {},
   "outputs": [
    {
     "data": {
      "text/plain": [
       "{'ft_5': 689.0,\n",
       " 'ft_4': 721.0,\n",
       " 'ft_3': 842.0,\n",
       " 'ft_2': 696.0,\n",
       " 'ft_1': 716.0,\n",
       " 'destination': 1803.0,\n",
       " 'weekday': 345.0,\n",
       " 'exp_avg': 836.0}"
      ]
     },
     "execution_count": 232,
     "metadata": {},
     "output_type": "execute_result"
    }
   ],
   "source": [
    "#feature importances\n",
    "x_model.get_booster().get_score(importance_type='weight')"
   ]
  },
  {
   "cell_type": "code",
   "execution_count": 233,
   "metadata": {},
   "outputs": [],
   "source": [
    "train_mape=[]\n",
    "test_mape=[]\n",
    "\n",
    "train_mape.append((mean_absolute_error(tsne_train_output,df_train['ft_1'].values))/(sum(tsne_train_output)/len(tsne_train_output)))\n",
    "train_mape.append((mean_absolute_error(tsne_train_output,df_train['exp_avg'].values))/(sum(tsne_train_output)/len(tsne_train_output)))\n",
    "train_mape.append((mean_absolute_error(tsne_train_output,rndf_train_predictions))/(sum(tsne_train_output)/len(tsne_train_output)))\n",
    "train_mape.append((mean_absolute_error(tsne_train_output, xgb_train_predictions))/(sum(tsne_train_output)/len(tsne_train_output)))\n",
    "train_mape.append((mean_absolute_error(tsne_train_output, lr_train_predictions))/(sum(tsne_train_output)/len(tsne_train_output)))\n",
    "\n",
    "test_mape.append((mean_absolute_error(tsne_test_output, df_test['ft_1'].values))/(sum(tsne_test_output)/len(tsne_test_output)))\n",
    "test_mape.append((mean_absolute_error(tsne_test_output, df_test['exp_avg'].values))/(sum(tsne_test_output)/len(tsne_test_output)))\n",
    "test_mape.append((mean_absolute_error(tsne_test_output, rndf_test_predictions))/(sum(tsne_test_output)/len(tsne_test_output)))\n",
    "test_mape.append((mean_absolute_error(tsne_test_output, xgb_test_predictions))/(sum(tsne_test_output)/len(tsne_test_output)))\n",
    "test_mape.append((mean_absolute_error(tsne_test_output, lr_test_predictions))/(sum(tsne_test_output)/len(tsne_test_output)))"
   ]
  },
  {
   "cell_type": "code",
   "execution_count": 235,
   "metadata": {},
   "outputs": [
    {
     "name": "stdout",
     "output_type": "stream",
     "text": [
      "Error Metric Matrix (Tree Based Regression Methods) -  MAPE\n",
      "--------------------------------------------------------------------------------------------------------\n",
      "Baseline Model -                             Train:  0.73055976398865       Test:  0.6720463307575479\n",
      "Exponential Averages Forecasting -           Train:  0.6061451600597295       Test:  0.567212421627696\n",
      "Linear Regression -                         Train:  0.5922119161026155       Test:  0.5562806326529477\n",
      "Random Forest Regression -                   Train:  0.4951551549369461      Test:  0.5526645192516314\n",
      "XgBoost Regression -                         Train:  0.572004170890238       Test:  0.5491207281183415\n",
      "--------------------------------------------------------------------------------------------------------\n"
     ]
    }
   ],
   "source": [
    "print (\"Error Metric Matrix (Tree Based Regression Methods) -  MAPE\")\n",
    "print (\"--------------------------------------------------------------------------------------------------------\")\n",
    "print (\"Baseline Model -                             Train: \",train_mape[0],\"      Test: \",test_mape[0])\n",
    "print (\"Exponential Averages Forecasting -           Train: \",train_mape[1],\"      Test: \",test_mape[1])\n",
    "print (\"Linear Regression -                         Train: \",train_mape[4],\"      Test: \",test_mape[4])\n",
    "print (\"Random Forest Regression -                   Train: \",train_mape[2],\"     Test: \",test_mape[2])\n",
    "print (\"XgBoost Regression -                         Train: \",train_mape[3],\"      Test: \",test_mape[3])\n",
    "print (\"--------------------------------------------------------------------------------------------------------\")"
   ]
  }
 ],
 "metadata": {
  "kernelspec": {
   "display_name": "Python 3.10.6 64-bit",
   "language": "python",
   "name": "python3"
  },
  "language_info": {
   "codemirror_mode": {
    "name": "ipython",
    "version": 3
   },
   "file_extension": ".py",
   "mimetype": "text/x-python",
   "name": "python",
   "nbconvert_exporter": "python",
   "pygments_lexer": "ipython3",
   "version": "3.10.7"
  },
  "orig_nbformat": 4,
  "vscode": {
   "interpreter": {
    "hash": "b0fa6594d8f4cbf19f97940f81e996739fb7646882a419484c72d19e05852a7e"
   }
  }
 },
 "nbformat": 4,
 "nbformat_minor": 2
}
