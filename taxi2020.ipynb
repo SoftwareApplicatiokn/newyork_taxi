{
 "cells": [
  {
   "cell_type": "code",
   "execution_count": 2,
   "metadata": {},
   "outputs": [],
   "source": [
    "import dask.dataframe as dd#similar to pandas\n",
    "\n",
    "import pandas as pd#pandas to create small dataframes \n",
    "\n",
    "# unix time: https://www.unixtimestamp.com/\n",
    "import datetime #Convert to unix time\n",
    "\n",
    "import time #Convert to unix time\n",
    "\n",
    "# if numpy is not installed already : pip3 install numpy\n",
    "import numpy as np#Do aritmetic operations on arrays\n",
    "\n",
    "from matplotlib import rcParams#Size of plots  \n",
    "\n",
    "import matplotlib.pylab as plt\n",
    "import seaborn as sns#Plots\n",
    "\n",
    "from sklearn.cluster import MiniBatchKMeans, KMeans#Clustering\n",
    "import math\n",
    "import pickle\n",
    "import os\n",
    "\n",
    "import xgboost as xgb\n",
    "\n",
    "# to install sklearn: pip install -U scikit-learn\n",
    "from sklearn.ensemble import RandomForestRegressor\n",
    "from sklearn.metrics import mean_squared_error\n",
    "from sklearn.metrics import mean_absolute_error\n",
    "import warnings\n",
    "warnings.filterwarnings(\"ignore\")"
   ]
  },
  {
   "cell_type": "code",
   "execution_count": 3,
   "metadata": {},
   "outputs": [],
   "source": [
    "test1 = pd.read_csv('/Users/jinsu/Desktop/vscode/taxi+_zone_lookup.csv')"
   ]
  },
  {
   "cell_type": "code",
   "execution_count": 11,
   "metadata": {},
   "outputs": [
    {
     "name": "stdout",
     "output_type": "stream",
     "text": [
      "3        4\n",
      "11      12\n",
      "12      13\n",
      "23      24\n",
      "40      41\n",
      "      ... \n",
      "245    246\n",
      "248    249\n",
      "260    261\n",
      "261    262\n",
      "262    263\n",
      "Name: LocationID, Length: 69, dtype: int64\n",
      "69\n"
     ]
    }
   ],
   "source": [
    "test1.head(5)\n",
    "find_row = test1.loc[(test1['Borough'] == 'Manhattan')]\n",
    "# find_row\n",
    "manhattan_num = find_row['LocationID']\n",
    "print(manhattan_num)\n",
    "print(len(manhattan_num))"
   ]
  },
  {
   "cell_type": "code",
   "execution_count": 25,
   "metadata": {},
   "outputs": [
    {
     "data": {
      "text/html": [
       "<div>\n",
       "<style scoped>\n",
       "    .dataframe tbody tr th:only-of-type {\n",
       "        vertical-align: middle;\n",
       "    }\n",
       "\n",
       "    .dataframe tbody tr th {\n",
       "        vertical-align: top;\n",
       "    }\n",
       "\n",
       "    .dataframe thead th {\n",
       "        text-align: right;\n",
       "    }\n",
       "</style>\n",
       "<table border=\"1\" class=\"dataframe\">\n",
       "  <thead>\n",
       "    <tr style=\"text-align: right;\">\n",
       "      <th></th>\n",
       "      <th>VendorID</th>\n",
       "      <th>tpep_pickup_datetime</th>\n",
       "      <th>tpep_dropoff_datetime</th>\n",
       "      <th>passenger_count</th>\n",
       "      <th>trip_distance</th>\n",
       "      <th>RatecodeID</th>\n",
       "      <th>store_and_fwd_flag</th>\n",
       "      <th>PULocationID</th>\n",
       "      <th>DOLocationID</th>\n",
       "      <th>payment_type</th>\n",
       "      <th>fare_amount</th>\n",
       "      <th>extra</th>\n",
       "      <th>mta_tax</th>\n",
       "      <th>tip_amount</th>\n",
       "      <th>tolls_amount</th>\n",
       "      <th>improvement_surcharge</th>\n",
       "      <th>total_amount</th>\n",
       "      <th>congestion_surcharge</th>\n",
       "      <th>airport_fee</th>\n",
       "    </tr>\n",
       "  </thead>\n",
       "  <tbody>\n",
       "    <tr>\n",
       "      <th>0</th>\n",
       "      <td>1</td>\n",
       "      <td>2020-01-01 00:28:15</td>\n",
       "      <td>2020-01-01 00:33:03</td>\n",
       "      <td>1.0</td>\n",
       "      <td>1.2</td>\n",
       "      <td>1.0</td>\n",
       "      <td>N</td>\n",
       "      <td>238</td>\n",
       "      <td>239</td>\n",
       "      <td>1</td>\n",
       "      <td>6.0</td>\n",
       "      <td>3.0</td>\n",
       "      <td>0.5</td>\n",
       "      <td>1.47</td>\n",
       "      <td>0.0</td>\n",
       "      <td>0.3</td>\n",
       "      <td>11.27</td>\n",
       "      <td>2.5</td>\n",
       "      <td>None</td>\n",
       "    </tr>\n",
       "    <tr>\n",
       "      <th>1</th>\n",
       "      <td>1</td>\n",
       "      <td>2020-01-01 00:35:39</td>\n",
       "      <td>2020-01-01 00:43:04</td>\n",
       "      <td>1.0</td>\n",
       "      <td>1.2</td>\n",
       "      <td>1.0</td>\n",
       "      <td>N</td>\n",
       "      <td>239</td>\n",
       "      <td>238</td>\n",
       "      <td>1</td>\n",
       "      <td>7.0</td>\n",
       "      <td>3.0</td>\n",
       "      <td>0.5</td>\n",
       "      <td>1.50</td>\n",
       "      <td>0.0</td>\n",
       "      <td>0.3</td>\n",
       "      <td>12.30</td>\n",
       "      <td>2.5</td>\n",
       "      <td>None</td>\n",
       "    </tr>\n",
       "    <tr>\n",
       "      <th>2</th>\n",
       "      <td>1</td>\n",
       "      <td>2020-01-01 00:47:41</td>\n",
       "      <td>2020-01-01 00:53:52</td>\n",
       "      <td>1.0</td>\n",
       "      <td>0.6</td>\n",
       "      <td>1.0</td>\n",
       "      <td>N</td>\n",
       "      <td>238</td>\n",
       "      <td>238</td>\n",
       "      <td>1</td>\n",
       "      <td>6.0</td>\n",
       "      <td>3.0</td>\n",
       "      <td>0.5</td>\n",
       "      <td>1.00</td>\n",
       "      <td>0.0</td>\n",
       "      <td>0.3</td>\n",
       "      <td>10.80</td>\n",
       "      <td>2.5</td>\n",
       "      <td>None</td>\n",
       "    </tr>\n",
       "    <tr>\n",
       "      <th>3</th>\n",
       "      <td>1</td>\n",
       "      <td>2020-01-01 00:55:23</td>\n",
       "      <td>2020-01-01 01:00:14</td>\n",
       "      <td>1.0</td>\n",
       "      <td>0.8</td>\n",
       "      <td>1.0</td>\n",
       "      <td>N</td>\n",
       "      <td>238</td>\n",
       "      <td>151</td>\n",
       "      <td>1</td>\n",
       "      <td>5.5</td>\n",
       "      <td>0.5</td>\n",
       "      <td>0.5</td>\n",
       "      <td>1.36</td>\n",
       "      <td>0.0</td>\n",
       "      <td>0.3</td>\n",
       "      <td>8.16</td>\n",
       "      <td>0.0</td>\n",
       "      <td>None</td>\n",
       "    </tr>\n",
       "    <tr>\n",
       "      <th>4</th>\n",
       "      <td>2</td>\n",
       "      <td>2020-01-01 00:01:58</td>\n",
       "      <td>2020-01-01 00:04:16</td>\n",
       "      <td>1.0</td>\n",
       "      <td>0.0</td>\n",
       "      <td>1.0</td>\n",
       "      <td>N</td>\n",
       "      <td>193</td>\n",
       "      <td>193</td>\n",
       "      <td>2</td>\n",
       "      <td>3.5</td>\n",
       "      <td>0.5</td>\n",
       "      <td>0.5</td>\n",
       "      <td>0.00</td>\n",
       "      <td>0.0</td>\n",
       "      <td>0.3</td>\n",
       "      <td>4.80</td>\n",
       "      <td>0.0</td>\n",
       "      <td>None</td>\n",
       "    </tr>\n",
       "  </tbody>\n",
       "</table>\n",
       "</div>"
      ],
      "text/plain": [
       "   VendorID tpep_pickup_datetime tpep_dropoff_datetime  passenger_count  \\\n",
       "0         1  2020-01-01 00:28:15   2020-01-01 00:33:03              1.0   \n",
       "1         1  2020-01-01 00:35:39   2020-01-01 00:43:04              1.0   \n",
       "2         1  2020-01-01 00:47:41   2020-01-01 00:53:52              1.0   \n",
       "3         1  2020-01-01 00:55:23   2020-01-01 01:00:14              1.0   \n",
       "4         2  2020-01-01 00:01:58   2020-01-01 00:04:16              1.0   \n",
       "\n",
       "   trip_distance  RatecodeID store_and_fwd_flag  PULocationID  DOLocationID  \\\n",
       "0            1.2         1.0                  N           238           239   \n",
       "1            1.2         1.0                  N           239           238   \n",
       "2            0.6         1.0                  N           238           238   \n",
       "3            0.8         1.0                  N           238           151   \n",
       "4            0.0         1.0                  N           193           193   \n",
       "\n",
       "   payment_type  fare_amount  extra  mta_tax  tip_amount  tolls_amount  \\\n",
       "0             1          6.0    3.0      0.5        1.47           0.0   \n",
       "1             1          7.0    3.0      0.5        1.50           0.0   \n",
       "2             1          6.0    3.0      0.5        1.00           0.0   \n",
       "3             1          5.5    0.5      0.5        1.36           0.0   \n",
       "4             2          3.5    0.5      0.5        0.00           0.0   \n",
       "\n",
       "   improvement_surcharge  total_amount  congestion_surcharge airport_fee  \n",
       "0                    0.3         11.27                   2.5        None  \n",
       "1                    0.3         12.30                   2.5        None  \n",
       "2                    0.3         10.80                   2.5        None  \n",
       "3                    0.3          8.16                   0.0        None  \n",
       "4                    0.3          4.80                   0.0        None  "
      ]
     },
     "execution_count": 25,
     "metadata": {},
     "output_type": "execute_result"
    }
   ],
   "source": [
    "month = dd.read_parquet('/Users/jinsu/Desktop/vscode/yellow_tripdata_2020-01.parquet')\n",
    "month.head(5)"
   ]
  },
  {
   "cell_type": "code",
   "execution_count": 26,
   "metadata": {},
   "outputs": [
    {
     "name": "stdout",
     "output_type": "stream",
     "text": [
      "   passenger_count  trip_distance  PULocationID  DOLocationID  total_amount  \\\n",
      "0              1.0            1.2           238           239         11.27   \n",
      "1              1.0            1.2           239           238         12.30   \n",
      "2              1.0            0.6           238           238         10.80   \n",
      "3              1.0            0.8           238           151          8.16   \n",
      "4              1.0            0.0           193           193          4.80   \n",
      "\n",
      "   trip_times  pickup_times      Speed  \n",
      "0    4.800000  1.577806e+09  15.000000  \n",
      "1    7.416667  1.577807e+09   9.707865  \n",
      "2    6.183333  1.577807e+09   5.822102  \n",
      "3    4.850000  1.577808e+09   9.896907  \n",
      "4    2.300000  1.577805e+09   0.000000  \n"
     ]
    }
   ],
   "source": [
    "#The timestamps are converted to unix so as to get duration(trip-time) & speed also pickup-times in unix are used while binning \n",
    "\n",
    "# in out data we have time in the formate \"YYYY-MM-DD HH:MM:SS\" we convert thiss sting to python time formate and then into unix time stamp\n",
    "# https://stackoverflow.com/a/27914405\n",
    "def convert_to_unix(s):\n",
    "    s = np.datetime_as_string(s, unit='s')\n",
    "    s = s.replace('T', ' ')\n",
    "\n",
    "    return time.mktime(datetime.datetime.strptime(s, '%Y-%m-%d %H:%M:%S').timetuple())\n",
    "\n",
    "\n",
    "\n",
    "# we return a data frame which contains the columns\n",
    "# 1.'passenger_count' : self explanatory\n",
    "# 2.'trip_distance' : self explanatory\n",
    "# 3.'pickup_longitude' : self explanatory\n",
    "# 4.'pickup_latitude' : self explanatory\n",
    "# 5.'dropoff_longitude' : self explanatory\n",
    "# 6.'dropoff_latitude' : self explanatory\n",
    "# 7.'total_amount' : total fair that was paid\n",
    "# 8.'trip_times' : duration of each trip\n",
    "# 9.'pickup_times : pickup time converted into unix time \n",
    "# 10.'Speed' : velocity of each trip\n",
    "def return_with_trip_times(month):\n",
    "    duration = month[['tpep_pickup_datetime','tpep_dropoff_datetime']].compute()\n",
    "    #pickups and dropoffs to unix time\n",
    "    duration_pickup = [convert_to_unix(x) for x in duration['tpep_pickup_datetime'].values]\n",
    "    \n",
    "    duration_drop = [convert_to_unix(x) for x in duration['tpep_dropoff_datetime'].values]\n",
    "    #calculate duration of trips\n",
    "    durations = (np.array(duration_drop) - np.array(duration_pickup))/float(60)\n",
    "\n",
    "    #append durations of trips and speed in miles/hr to a new dataframe\n",
    "    new_frame = month[['passenger_count','trip_distance','PULocationID','DOLocationID','total_amount']].compute()\n",
    "    \n",
    "    new_frame['trip_times'] = durations\n",
    "    new_frame['pickup_times'] = duration_pickup\n",
    "    new_frame['Speed'] = 60*(new_frame['trip_distance']/new_frame['trip_times'])\n",
    "    \n",
    "    return new_frame\n",
    "\n",
    "frame_with_durations = return_with_trip_times(month)\n",
    "print(frame_with_durations.head())"
   ]
  },
  {
   "cell_type": "code",
   "execution_count": 27,
   "metadata": {},
   "outputs": [
    {
     "data": {
      "image/png": "[encoded data removed]",
      "text/plain": [
       "<Figure size 640x480 with 1 Axes>"
      ]
     },
     "metadata": {},
     "output_type": "display_data"
    }
   ],
   "source": [
    "sns.boxplot(y=\"trip_times\", data =frame_with_durations)\n",
    "plt.show()"
   ]
  },
  {
   "cell_type": "code",
   "execution_count": 28,
   "metadata": {},
   "outputs": [
    {
     "name": "stdout",
     "output_type": "stream",
     "text": [
      "0 percentile value is -2770.366666666667\n",
      "10 percentile value is 3.9833333333333334\n",
      "20 percentile value is 5.616666666666666\n",
      "30 percentile value is 7.133333333333334\n",
      "40 percentile value is 8.716666666666667\n",
      "50 percentile value is 10.483333333333333\n",
      "60 percentile value is 12.55\n",
      "70 percentile value is 15.166666666666666\n",
      "80 percentile value is 18.9\n",
      "90 percentile value is 25.616666666666667\n",
      "100 percentile value is  8525.116666666667\n"
     ]
    }
   ],
   "source": [
    "#calculating 0-100th percentile to find a the correct percentile value for removal of outliers\n",
    "for i in range(0,100,10):\n",
    "    var =frame_with_durations[\"trip_times\"].values\n",
    "    var = np.sort(var,axis = None)\n",
    "    print(\"{} percentile value is {}\".format(i,var[int(len(var)*(float(i)/100))]))\n",
    "print (\"100 percentile value is \",var[-1])"
   ]
  },
  {
   "cell_type": "code",
   "execution_count": 29,
   "metadata": {},
   "outputs": [
    {
     "name": "stdout",
     "output_type": "stream",
     "text": [
      "90 percentile value is 25.616666666666667\n",
      "91 percentile value is 26.716666666666665\n",
      "92 percentile value is 27.95\n",
      "93 percentile value is 29.333333333333332\n",
      "94 percentile value is 31.0\n",
      "95 percentile value is 33.05\n",
      "96 percentile value is 35.65\n",
      "97 percentile value is 39.06666666666667\n",
      "98 percentile value is 44.15\n",
      "99 percentile value is 53.43333333333333\n",
      "100 percentile value is  8525.116666666667\n"
     ]
    }
   ],
   "source": [
    "#looking further from the 99th percecntile\n",
    "for i in range(90,100):\n",
    "    var =frame_with_durations[\"trip_times\"].values\n",
    "    var = np.sort(var,axis = None)\n",
    "    print(\"{} percentile value is {}\".format(i,var[int(len(var)*(float(i)/100))]))\n",
    "print (\"100 percentile value is \",var[-1])"
   ]
  },
  {
   "cell_type": "code",
   "execution_count": 30,
   "metadata": {},
   "outputs": [],
   "source": [
    "#removing data based on our analysis and TLC regulations\n",
    "frame_with_durations_modified=frame_with_durations[(frame_with_durations.trip_times>1) & (frame_with_durations.trip_times<720)]"
   ]
  },
  {
   "cell_type": "code",
   "execution_count": 31,
   "metadata": {},
   "outputs": [
    {
     "data": {
      "image/png": "[encoded data removed]",
      "text/plain": [
       "<Figure size 640x480 with 1 Axes>"
      ]
     },
     "metadata": {},
     "output_type": "display_data"
    }
   ],
   "source": [
    "#box-plot after removal of outliers\n",
    "sns.boxplot(y=\"trip_times\", data =frame_with_durations_modified)\n",
    "plt.show()"
   ]
  },
  {
   "cell_type": "code",
   "execution_count": 32,
   "metadata": {},
   "outputs": [
    {
     "data": {
      "image/png": "[encoded data removed]",
      "text/plain": [
       "<Figure size 311.111x300 with 1 Axes>"
      ]
     },
     "metadata": {},
     "output_type": "display_data"
    }
   ],
   "source": [
    "#pdf of trip-times after removing the outliers #size=6인거 지웠는데 무엇을 의미..?\n",
    "sns.FacetGrid(frame_with_durations_modified) \\\n",
    "      .map(sns.kdeplot,\"trip_times\") \\\n",
    "      .add_legend()\n",
    "plt.show()"
   ]
  },
  {
   "cell_type": "code",
   "execution_count": 33,
   "metadata": {},
   "outputs": [],
   "source": [
    "#converting the values to log-values to chec for log-normal\n",
    "import math\n",
    "frame_with_durations_modified['log_times']=[math.log(i) for i in frame_with_durations_modified['trip_times'].values]"
   ]
  },
  {
   "cell_type": "code",
   "execution_count": 34,
   "metadata": {},
   "outputs": [
    {
     "data": {
      "image/png": "[encoded data removed]",
      "text/plain": [
       "<Figure size 311.111x300 with 1 Axes>"
      ]
     },
     "metadata": {},
     "output_type": "display_data"
    }
   ],
   "source": [
    "#pdf of log-values\n",
    "sns.FacetGrid(frame_with_durations_modified) \\\n",
    "      .map(sns.kdeplot,\"log_times\") \\\n",
    "      .add_legend()\n",
    "plt.show()"
   ]
  },
  {
   "cell_type": "code",
   "execution_count": 35,
   "metadata": {},
   "outputs": [
    {
     "data": {
      "image/png": "[encoded data removed]",
      "text/plain": [
       "<Figure size 640x480 with 1 Axes>"
      ]
     },
     "metadata": {},
     "output_type": "display_data"
    }
   ],
   "source": [
    "#Q-Q plot for checking if trip-times is log-normal\n",
    "import scipy\n",
    "scipy.stats.probplot(frame_with_durations_modified['log_times'].values, plot=plt)\n",
    "plt.show()"
   ]
  },
  {
   "cell_type": "code",
   "execution_count": 36,
   "metadata": {},
   "outputs": [
    {
     "data": {
      "image/png": "[encoded data removed]",
      "text/plain": [
       "<Figure size 640x480 with 1 Axes>"
      ]
     },
     "metadata": {},
     "output_type": "display_data"
    }
   ],
   "source": [
    "# check for any outliers in the data after trip duration outliers removed\n",
    "# box-plot for speeds with outliers\n",
    "frame_with_durations_modified['Speed'] = 60*(frame_with_durations_modified['trip_distance']/frame_with_durations_modified['trip_times'])\n",
    "sns.boxplot(y=\"Speed\", data =frame_with_durations_modified)\n",
    "plt.show()"
   ]
  },
  {
   "cell_type": "code",
   "execution_count": 37,
   "metadata": {},
   "outputs": [
    {
     "name": "stdout",
     "output_type": "stream",
     "text": [
      "0 percentile value is -47.475\n",
      "10 percentile value is 6.022304832713755\n",
      "20 percentile value is 7.278688524590164\n",
      "30 percentile value is 8.270270270270268\n",
      "40 percentile value is 9.204545454545455\n",
      "50 percentile value is 10.182136602451838\n",
      "60 percentile value is 11.314285714285713\n",
      "70 percentile value is 12.779999999999998\n",
      "80 percentile value is 15.04017139796465\n",
      "90 percentile value is 19.782372143634383\n",
      "100 percentile value is  194067.75692307693\n"
     ]
    }
   ],
   "source": [
    "#calculating speed values at each percntile 0,10,20,30,40,50,60,70,80,90,100 \n",
    "for i in range(0,100,10):\n",
    "    var =frame_with_durations_modified[\"Speed\"].values\n",
    "    var = np.sort(var,axis = None)\n",
    "    print(\"{} percentile value is {}\".format(i,var[int(len(var)*(float(i)/100))]))\n",
    "print(\"100 percentile value is \",var[-1])"
   ]
  },
  {
   "cell_type": "code",
   "execution_count": 38,
   "metadata": {},
   "outputs": [
    {
     "name": "stdout",
     "output_type": "stream",
     "text": [
      "90 percentile value is 19.782372143634383\n",
      "91 percentile value is 20.59259259259259\n",
      "92 percentile value is 21.5\n",
      "93 percentile value is 22.538860103626945\n",
      "94 percentile value is 23.727272727272727\n",
      "95 percentile value is 25.11917098445596\n",
      "96 percentile value is 26.804758572428273\n",
      "97 percentile value is 28.989858012170387\n",
      "98 percentile value is 31.898734177215193\n",
      "99 percentile value is 36.2608695652174\n",
      "100 percentile value is  194067.75692307693\n"
     ]
    }
   ],
   "source": [
    "#calculating speed values at each percntile 90,91,92,93,94,95,96,97,98,99,100\n",
    "for i in range(90,100):\n",
    "    var =frame_with_durations_modified[\"Speed\"].values\n",
    "    var = np.sort(var,axis = None)\n",
    "    print(\"{} percentile value is {}\".format(i,var[int(len(var)*(float(i)/100))]))\n",
    "print(\"100 percentile value is \",var[-1])"
   ]
  },
  {
   "cell_type": "code",
   "execution_count": 39,
   "metadata": {},
   "outputs": [
    {
     "name": "stdout",
     "output_type": "stream",
     "text": [
      "99.0 percentile value is 36.2608695652174\n",
      "99.1 percentile value is 36.86440677966101\n",
      "99.2 percentile value is 37.49480968858131\n",
      "99.3 percentile value is 38.204081632653065\n",
      "99.4 percentile value is 39.0\n",
      "99.5 percentile value is 39.884892086330936\n",
      "99.6 percentile value is 40.91493924231594\n",
      "99.7 percentile value is 42.1978021978022\n",
      "99.8 percentile value is 43.83673469387755\n",
      "99.9 percentile value is 46.4\n",
      "100 percentile value is  194067.75692307693\n"
     ]
    }
   ],
   "source": [
    "#calculating speed values at each percntile 99.0,99.1,99.2,99.3,99.4,99.5,99.6,99.7,99.8,99.9,100\n",
    "for i in np.arange(0.0, 1.0, 0.1):\n",
    "    var =frame_with_durations_modified[\"Speed\"].values\n",
    "    var = np.sort(var,axis = None)\n",
    "    print(\"{} percentile value is {}\".format(99+i,var[int(len(var)*(float(99+i)/100))]))\n",
    "print(\"100 percentile value is \",var[-1])"
   ]
  },
  {
   "cell_type": "code",
   "execution_count": 40,
   "metadata": {},
   "outputs": [],
   "source": [
    "#removing further outliers based on the 99.9th percentile value\n",
    "frame_with_durations_modified=frame_with_durations[(frame_with_durations.Speed>0) & (frame_with_durations.Speed<46.5)]"
   ]
  },
  {
   "cell_type": "code",
   "execution_count": 41,
   "metadata": {},
   "outputs": [
    {
     "data": {
      "text/plain": [
       "11.806981398093967"
      ]
     },
     "execution_count": 41,
     "metadata": {},
     "output_type": "execute_result"
    }
   ],
   "source": [
    "#avg.speed of cabs in New-York\n",
    "sum(frame_with_durations_modified[\"Speed\"]) / float(len(frame_with_durations_modified[\"Speed\"]))"
   ]
  },
  {
   "cell_type": "markdown",
   "metadata": {},
   "source": [
    "# trip distance"
   ]
  },
  {
   "cell_type": "code",
   "execution_count": 42,
   "metadata": {},
   "outputs": [
    {
     "data": {
      "image/png": "[encoded data removed]",
      "text/plain": [
       "<Figure size 640x480 with 1 Axes>"
      ]
     },
     "metadata": {},
     "output_type": "display_data"
    }
   ],
   "source": [
    "sns.boxplot(y=\"trip_distance\", data=frame_with_durations_modified)\n",
    "plt.show()"
   ]
  },
  {
   "cell_type": "code",
   "execution_count": 43,
   "metadata": {},
   "outputs": [
    {
     "name": "stdout",
     "output_type": "stream",
     "text": [
      "0 percentile value is 0.01\n",
      "10 percentile value is 0.64\n",
      "20 percentile value is 0.88\n",
      "30 percentile value is 1.1\n",
      "40 percentile value is 1.32\n",
      "50 percentile value is 1.61\n",
      "60 percentile value is 2.0\n",
      "70 percentile value is 2.54\n",
      "80 percentile value is 3.56\n",
      "90 percentile value is 6.68\n",
      "100 percentile value is 154.45\n"
     ]
    }
   ],
   "source": [
    "for i in range(0, 100, 10):\n",
    "    var = frame_with_durations_modified['trip_distance'].values\n",
    "    var = np.sort(var, axis=None)\n",
    "    print(\"{} percentile value is {}\".format(i,var[int(len(var)*(float(i)/100))]))\n",
    "print(\"100 percentile value is\", var[-1])"
   ]
  },
  {
   "cell_type": "code",
   "execution_count": 44,
   "metadata": {},
   "outputs": [
    {
     "name": "stdout",
     "output_type": "stream",
     "text": [
      "90 percentile value is 6.68\n",
      "91 percentile value is 7.3\n",
      "92 percentile value is 8.04\n",
      "93 percentile value is 8.83\n",
      "94 percentile value is 9.7\n",
      "95 percentile value is 10.79\n",
      "96 percentile value is 12.41\n",
      "97 percentile value is 15.53\n",
      "98 percentile value is 17.57\n",
      "99 percentile value is 19.05\n",
      "100 percentile value is 154.45\n"
     ]
    }
   ],
   "source": [
    "for i in range(90, 100):\n",
    "    var = frame_with_durations_modified['trip_distance'].values\n",
    "    var = np.sort(var, axis=None)\n",
    "    print(\"{} percentile value is {}\".format(i,var[int(len(var)*(float(i)/100))]))\n",
    "print(\"100 percentile value is\", var[-1])"
   ]
  },
  {
   "cell_type": "code",
   "execution_count": 45,
   "metadata": {},
   "outputs": [
    {
     "name": "stdout",
     "output_type": "stream",
     "text": [
      "99.0 percentile value is 19.05\n",
      "99.1 percentile value is 19.29\n",
      "99.2 percentile value is 19.53\n",
      "99.3 percentile value is 19.84\n",
      "99.4 percentile value is 20.2\n",
      "99.5 percentile value is 20.6\n",
      "99.6 percentile value is 21.07\n",
      "99.7 percentile value is 21.67\n",
      "99.8 percentile value is 22.9\n",
      "99.9 percentile value is 26.7\n",
      "100 percentile value is  154.45\n"
     ]
    }
   ],
   "source": [
    "for i in np.arange(0.0, 1.0, 0.1):\n",
    "    var =frame_with_durations_modified[\"trip_distance\"].values\n",
    "    var = np.sort(var,axis = None)\n",
    "    print(\"{} percentile value is {}\".format(99+i,var[int(len(var)*(float(99+i)/100))]))\n",
    "print(\"100 percentile value is \",var[-1])"
   ]
  },
  {
   "cell_type": "code",
   "execution_count": 46,
   "metadata": {},
   "outputs": [],
   "source": [
    "#removing further outliers based on the 99.9th percentile value\n",
    "frame_with_durations_modified=frame_with_durations[(frame_with_durations.trip_distance>0) & (frame_with_durations.trip_distance<27)]"
   ]
  },
  {
   "cell_type": "code",
   "execution_count": 47,
   "metadata": {},
   "outputs": [
    {
     "data": {
      "image/png": "[encoded data removed]",
      "text/plain": [
       "<Figure size 640x480 with 1 Axes>"
      ]
     },
     "metadata": {},
     "output_type": "display_data"
    }
   ],
   "source": [
    "#box-plot after removal of outliers\n",
    "sns.boxplot(y=\"trip_distance\", data = frame_with_durations_modified)\n",
    "plt.show()"
   ]
  },
  {
   "cell_type": "markdown",
   "metadata": {},
   "source": [
    "# total fare"
   ]
  },
  {
   "cell_type": "code",
   "execution_count": 48,
   "metadata": {},
   "outputs": [
    {
     "data": {
      "image/png": "[encoded data removed]",
      "text/plain": [
       "<Figure size 640x480 with 1 Axes>"
      ]
     },
     "metadata": {},
     "output_type": "display_data"
    }
   ],
   "source": [
    "# up to now we have removed the outliers based on trip durations, cab speeds, and trip distances\n",
    "# lets try if there are any outliers in based on the total_amount\n",
    "# box-plot showing outliers in fare\n",
    "sns.boxplot(y=\"total_amount\", data =frame_with_durations_modified)\n",
    "plt.show()"
   ]
  },
  {
   "cell_type": "code",
   "execution_count": 49,
   "metadata": {},
   "outputs": [
    {
     "name": "stdout",
     "output_type": "stream",
     "text": [
      "0 percentile value is -1242.3\n",
      "10 percentile value is 9.3\n",
      "20 percentile value is 10.56\n",
      "30 percentile value is 11.76\n",
      "40 percentile value is 12.96\n",
      "50 percentile value is 14.3\n",
      "60 percentile value is 15.96\n",
      "70 percentile value is 18.3\n",
      "80 percentile value is 21.95\n",
      "90 percentile value is 31.31\n",
      "100 percentile value is  4268.3\n"
     ]
    }
   ],
   "source": [
    "#calculating total fare amount values at each percntile 0,10,20,30,40,50,60,70,80,90,100 \n",
    "for i in range(0,100,10):\n",
    "    var = frame_with_durations_modified[\"total_amount\"].values\n",
    "    var = np.sort(var,axis = None)\n",
    "    print(\"{} percentile value is {}\".format(i,var[int(len(var)*(float(i)/100))]))\n",
    "print(\"100 percentile value is \",var[-1])"
   ]
  },
  {
   "cell_type": "code",
   "execution_count": 50,
   "metadata": {},
   "outputs": [
    {
     "name": "stdout",
     "output_type": "stream",
     "text": [
      "90 percentile value is 31.31\n",
      "91 percentile value is 33.36\n",
      "92 percentile value is 36.3\n",
      "93 percentile value is 39.45\n",
      "94 percentile value is 43.25\n",
      "95 percentile value is 47.42\n",
      "96 percentile value is 53.15\n",
      "97 percentile value is 61.42\n",
      "98 percentile value is 67.56\n",
      "99 percentile value is 73.7\n",
      "100 percentile value is  4268.3\n"
     ]
    }
   ],
   "source": [
    "#calculating total fare amount values at each percntile 90,91,92,93,94,95,96,97,98,99,100\n",
    "for i in range(90,100):\n",
    "    var = frame_with_durations_modified[\"total_amount\"].values\n",
    "    var = np.sort(var,axis = None)\n",
    "    print(\"{} percentile value is {}\".format(i,var[int(len(var)*(float(i)/100))]))\n",
    "print(\"100 percentile value is \",var[-1])"
   ]
  },
  {
   "cell_type": "code",
   "execution_count": 51,
   "metadata": {},
   "outputs": [
    {
     "name": "stdout",
     "output_type": "stream",
     "text": [
      "99.0 percentile value is 73.7\n",
      "99.1 percentile value is 73.7\n",
      "99.2 percentile value is 74.9\n",
      "99.3 percentile value is 76.77\n",
      "99.4 percentile value is 76.92\n",
      "99.5 percentile value is 79.1\n",
      "99.6 percentile value is 79.42\n",
      "99.7 percentile value is 82.4\n",
      "99.8 percentile value is 89.55\n",
      "99.9 percentile value is 102.06\n",
      "100 percentile value is  4268.3\n"
     ]
    }
   ],
   "source": [
    "#calculating total fare amount values at each percntile 99.0,99.1,99.2,99.3,99.4,99.5,99.6,99.7,99.8,99.9,100\n",
    "for i in np.arange(0.0, 1.0, 0.1):\n",
    "    var = frame_with_durations_modified[\"total_amount\"].values\n",
    "    var = np.sort(var,axis = None)\n",
    "    print(\"{} percentile value is {}\".format(99+i,var[int(len(var)*(float(99+i)/100))]))\n",
    "print(\"100 percentile value is \",var[-1])"
   ]
  },
  {
   "cell_type": "code",
   "execution_count": 52,
   "metadata": {},
   "outputs": [
    {
     "data": {
      "image/png": "[encoded data removed]",
      "text/plain": [
       "<Figure size 640x480 with 1 Axes>"
      ]
     },
     "metadata": {},
     "output_type": "display_data"
    }
   ],
   "source": [
    "#below plot shows us the fare values(sorted) to find a sharp increase to remove those values as outliers\n",
    "# plot the fare amount excluding last two values in sorted data\n",
    "plt.plot(var[:-2])\n",
    "plt.show()"
   ]
  },
  {
   "cell_type": "code",
   "execution_count": 53,
   "metadata": {},
   "outputs": [
    {
     "data": {
      "image/png": "[encoded data removed]",
      "text/plain": [
       "<Figure size 640x480 with 1 Axes>"
      ]
     },
     "metadata": {},
     "output_type": "display_data"
    }
   ],
   "source": [
    "# a very sharp increase in fare values can be seen \n",
    "# plotting last three total fare values, and we can observe there is share increase in the values\n",
    "plt.plot(var[-3:])\n",
    "plt.show()"
   ]
  },
  {
   "cell_type": "code",
   "execution_count": 54,
   "metadata": {},
   "outputs": [
    {
     "data": {
      "image/png": "[encoded data removed]",
      "text/plain": [
       "<Figure size 640x480 with 1 Axes>"
      ]
     },
     "metadata": {},
     "output_type": "display_data"
    }
   ],
   "source": [
    "#now looking at values not including the last two points we again find a drastic increase at around 1000 fare value\n",
    "# we plot last 50 values excluding last two values\n",
    "plt.plot(var[-50:-2])\n",
    "plt.show()"
   ]
  },
  {
   "cell_type": "code",
   "execution_count": 55,
   "metadata": {},
   "outputs": [],
   "source": [
    "# 1. 이상한 시간\n",
    "# 2. 이상한 속도\n",
    "# 3. 이상한 거리\n",
    "# 4. 이상한 비용\n",
    "# 5. 이상한 팁\n",
    "def remove_outliers(new_frame):\n",
    "    a = new_frame.shape[0]\n",
    "    print(\"총 데이터 수 = \", a)\n",
    "\n",
    "    # 시간\n",
    "    temp_frame = new_frame[(new_frame.trip_times > 0) & (new_frame.trip_times < 120)]\n",
    "    c = temp_frame.shape[0]\n",
    "    print (\"시간 튀는 값의 개수:\",(a-c))\n",
    "    \n",
    "    # 거리\n",
    "    temp_frame = new_frame[(new_frame.trip_distance > 0) & (new_frame.trip_distance < 30)]\n",
    "    d = temp_frame.shape[0]\n",
    "    print (\"거리 튀는 값의 개수:\",(a-d))\n",
    "\n",
    "    # 속도\n",
    "    temp_frame = new_frame[(new_frame.Speed < 50) & (new_frame.Speed > 0)]\n",
    "    e = temp_frame.shape[0]\n",
    "    print (\"속도 튀는 값의 개수\",(a-e))\n",
    "\n",
    "    # 비용\n",
    "    temp_frame = new_frame[(new_frame.total_amount <1000) & (new_frame.total_amount >0)]\n",
    "    f = temp_frame.shape[0]\n",
    "    print (\"비용 튀는 값의 개수:\",(a-f))\n",
    "\n",
    "    new_frame = new_frame[(new_frame.trip_times > 0) & (new_frame.trip_times < 720)]\n",
    "    new_frame = new_frame[(new_frame.trip_distance > 0) & (new_frame.trip_distance < 30)]\n",
    "    new_frame = new_frame[(new_frame.Speed < 50) & (new_frame.Speed > 0)]\n",
    "    new_frame = new_frame[(new_frame.total_amount <1000) & (new_frame.total_amount >0)]\n",
    "\n",
    "    print(\"전체 삭제 된 데이터 수\", a-new_frame.shape[0])\n",
    "    print(\"---\")\n",
    "    return new_frame"
   ]
  },
  {
   "cell_type": "code",
   "execution_count": 56,
   "metadata": {},
   "outputs": [
    {
     "name": "stdout",
     "output_type": "stream",
     "text": [
      "2020-01 데이터 제거 현황\n",
      "---\n",
      "총 데이터 수 =  6405008\n",
      "시간 튀는 값의 개수: 18599\n",
      "거리 튀는 값의 개수: 73552\n",
      "속도 튀는 값의 개수 78815\n",
      "비용 튀는 값의 개수: 21182\n",
      "전체 삭제 된 데이터 수 112078\n",
      "---\n",
      "튀는 값 제거하고 남은 비율 0.982501505072281\n"
     ]
    }
   ],
   "source": [
    "print(\"2020-01 데이터 제거 현황\")\n",
    "print(\"---\")\n",
    "frame_with_durations_outliers_removed = remove_outliers(frame_with_durations)\n",
    "print(\"튀는 값 제거하고 남은 비율\", float(len(frame_with_durations_outliers_removed))/len(frame_with_durations))"
   ]
  },
  {
   "cell_type": "code",
   "execution_count": 57,
   "metadata": {},
   "outputs": [],
   "source": [
    "#Refer:https://www.unixtimestamp.com/\n",
    "# 1577804400 : 2020-01-01 00:00:00 \n",
    "# 1580482800 : 2020-02-01 00:00:00 \n",
    "# 1582988400 : 2020-03-01 00:00:00\n",
    "# 1585666800 : 2020-04-01 00:00:00 \n",
    "# 1588258800 : 2020-05-01 00:00:00 \n",
    "# 1590937200 : 2020-06-01 00:00:00\n",
    "\n",
    "# 1609426800 : 2021-01-01 00:00:00 \n",
    "# 1612105200 : 2021-02-01 00:00:00 \n",
    "# 1614524400 : 2021-03-01 00:00:00\n",
    "# 1617202800 : 2021-04-01 00:00:00 \n",
    "# 1619794800 : 2021-05-01 00:00:00 \n",
    "# 1622473200 : 2021-06-01 00:00:00\n",
    "def add_pickup_bins(frame,month,year):\n",
    "    unix_pickup_times=[i for i in frame['pickup_times'].values]\n",
    "    unix_times = [[1577804400,1580482800,1582988400,1585666800,1588258800,1590937200],\\\n",
    "                    [1609426800,1612137600,1614524400,1617202800,1619794800,1622473200]]\n",
    "    \n",
    "    start_pickup_unix=unix_times[year-2020][month-1]\n",
    "    # https://www.timeanddate.com/time/zones/est\n",
    "    # (int((i-start_pickup_unix)/600)+33) : our unix time is in gmt to we are converting it to est\n",
    "    tenminutewise_binned_unix_pickup_times=[(int((i-start_pickup_unix)/600)+33) for i in unix_pickup_times]\n",
    "\n",
    "    frame['pickup_bins'] = np.array(tenminutewise_binned_unix_pickup_times)\n",
    "    return frame"
   ]
  },
  {
   "cell_type": "code",
   "execution_count": 58,
   "metadata": {},
   "outputs": [],
   "source": [
    "jan_2020_frame = add_pickup_bins(frame_with_durations_outliers_removed,1,2020)"
   ]
  },
  {
   "cell_type": "code",
   "execution_count": 59,
   "metadata": {},
   "outputs": [],
   "source": [
    "jan_2020_groupby = jan_2020_frame[['PULocationID', 'pickup_bins', 'trip_distance']].groupby(['PULocationID', 'pickup_bins']).count()"
   ]
  },
  {
   "cell_type": "code",
   "execution_count": 60,
   "metadata": {},
   "outputs": [
    {
     "data": {
      "text/html": [
       "<div>\n",
       "<style scoped>\n",
       "    .dataframe tbody tr th:only-of-type {\n",
       "        vertical-align: middle;\n",
       "    }\n",
       "\n",
       "    .dataframe tbody tr th {\n",
       "        vertical-align: top;\n",
       "    }\n",
       "\n",
       "    .dataframe thead th {\n",
       "        text-align: right;\n",
       "    }\n",
       "</style>\n",
       "<table border=\"1\" class=\"dataframe\">\n",
       "  <thead>\n",
       "    <tr style=\"text-align: right;\">\n",
       "      <th></th>\n",
       "      <th>passenger_count</th>\n",
       "      <th>trip_distance</th>\n",
       "      <th>PULocationID</th>\n",
       "      <th>DOLocationID</th>\n",
       "      <th>total_amount</th>\n",
       "      <th>trip_times</th>\n",
       "      <th>pickup_times</th>\n",
       "      <th>Speed</th>\n",
       "      <th>pickup_bins</th>\n",
       "    </tr>\n",
       "  </thead>\n",
       "  <tbody>\n",
       "    <tr>\n",
       "      <th>0</th>\n",
       "      <td>1.0</td>\n",
       "      <td>1.20</td>\n",
       "      <td>238</td>\n",
       "      <td>239</td>\n",
       "      <td>11.27</td>\n",
       "      <td>4.800000</td>\n",
       "      <td>1.577806e+09</td>\n",
       "      <td>15.000000</td>\n",
       "      <td>35</td>\n",
       "    </tr>\n",
       "    <tr>\n",
       "      <th>1</th>\n",
       "      <td>1.0</td>\n",
       "      <td>1.20</td>\n",
       "      <td>239</td>\n",
       "      <td>238</td>\n",
       "      <td>12.30</td>\n",
       "      <td>7.416667</td>\n",
       "      <td>1.577807e+09</td>\n",
       "      <td>9.707865</td>\n",
       "      <td>36</td>\n",
       "    </tr>\n",
       "    <tr>\n",
       "      <th>2</th>\n",
       "      <td>1.0</td>\n",
       "      <td>0.60</td>\n",
       "      <td>238</td>\n",
       "      <td>238</td>\n",
       "      <td>10.80</td>\n",
       "      <td>6.183333</td>\n",
       "      <td>1.577807e+09</td>\n",
       "      <td>5.822102</td>\n",
       "      <td>37</td>\n",
       "    </tr>\n",
       "    <tr>\n",
       "      <th>3</th>\n",
       "      <td>1.0</td>\n",
       "      <td>0.80</td>\n",
       "      <td>238</td>\n",
       "      <td>151</td>\n",
       "      <td>8.16</td>\n",
       "      <td>4.850000</td>\n",
       "      <td>1.577808e+09</td>\n",
       "      <td>9.896907</td>\n",
       "      <td>38</td>\n",
       "    </tr>\n",
       "    <tr>\n",
       "      <th>5</th>\n",
       "      <td>1.0</td>\n",
       "      <td>0.03</td>\n",
       "      <td>7</td>\n",
       "      <td>193</td>\n",
       "      <td>3.80</td>\n",
       "      <td>0.883333</td>\n",
       "      <td>1.577805e+09</td>\n",
       "      <td>2.037736</td>\n",
       "      <td>33</td>\n",
       "    </tr>\n",
       "  </tbody>\n",
       "</table>\n",
       "</div>"
      ],
      "text/plain": [
       "   passenger_count  trip_distance  PULocationID  DOLocationID  total_amount  \\\n",
       "0              1.0           1.20           238           239         11.27   \n",
       "1              1.0           1.20           239           238         12.30   \n",
       "2              1.0           0.60           238           238         10.80   \n",
       "3              1.0           0.80           238           151          8.16   \n",
       "5              1.0           0.03             7           193          3.80   \n",
       "\n",
       "   trip_times  pickup_times      Speed  pickup_bins  \n",
       "0    4.800000  1.577806e+09  15.000000           35  \n",
       "1    7.416667  1.577807e+09   9.707865           36  \n",
       "2    6.183333  1.577807e+09   5.822102           37  \n",
       "3    4.850000  1.577808e+09   9.896907           38  \n",
       "5    0.883333  1.577805e+09   2.037736           33  "
      ]
     },
     "execution_count": 60,
     "metadata": {},
     "output_type": "execute_result"
    }
   ],
   "source": [
    "jan_2020_frame.head()"
   ]
  },
  {
   "cell_type": "code",
   "execution_count": 61,
   "metadata": {},
   "outputs": [
    {
     "data": {
      "text/html": [
       "<div>\n",
       "<style scoped>\n",
       "    .dataframe tbody tr th:only-of-type {\n",
       "        vertical-align: middle;\n",
       "    }\n",
       "\n",
       "    .dataframe tbody tr th {\n",
       "        vertical-align: top;\n",
       "    }\n",
       "\n",
       "    .dataframe thead th {\n",
       "        text-align: right;\n",
       "    }\n",
       "</style>\n",
       "<table border=\"1\" class=\"dataframe\">\n",
       "  <thead>\n",
       "    <tr style=\"text-align: right;\">\n",
       "      <th></th>\n",
       "      <th></th>\n",
       "      <th>trip_distance</th>\n",
       "    </tr>\n",
       "    <tr>\n",
       "      <th>PULocationID</th>\n",
       "      <th>pickup_bins</th>\n",
       "      <th></th>\n",
       "    </tr>\n",
       "  </thead>\n",
       "  <tbody>\n",
       "    <tr>\n",
       "      <th rowspan=\"5\" valign=\"top\">1</th>\n",
       "      <th>118</th>\n",
       "      <td>1</td>\n",
       "    </tr>\n",
       "    <tr>\n",
       "      <th>126</th>\n",
       "      <td>1</td>\n",
       "    </tr>\n",
       "    <tr>\n",
       "      <th>137</th>\n",
       "      <td>1</td>\n",
       "    </tr>\n",
       "    <tr>\n",
       "      <th>217</th>\n",
       "      <td>1</td>\n",
       "    </tr>\n",
       "    <tr>\n",
       "      <th>218</th>\n",
       "      <td>1</td>\n",
       "    </tr>\n",
       "  </tbody>\n",
       "</table>\n",
       "</div>"
      ],
      "text/plain": [
       "                          trip_distance\n",
       "PULocationID pickup_bins               \n",
       "1            118                      1\n",
       "             126                      1\n",
       "             137                      1\n",
       "             217                      1\n",
       "             218                      1"
      ]
     },
     "execution_count": 61,
     "metadata": {},
     "output_type": "execute_result"
    }
   ],
   "source": [
    "jan_2020_groupby.head()"
   ]
  },
  {
   "cell_type": "code",
   "execution_count": 62,
   "metadata": {},
   "outputs": [
    {
     "name": "stdout",
     "output_type": "stream",
     "text": [
      "Return with trip times..\n",
      "Remove outliers..\n",
      "총 데이터 수 =  1369769\n",
      "시간 튀는 값의 개수: 9191\n",
      "거리 튀는 값의 개수: 21102\n",
      "속도 튀는 값의 개수 28197\n",
      "비용 튀는 값의 개수: 7118\n",
      "전체 삭제 된 데이터 수 37432\n",
      "---\n",
      "Final groupbying..\n",
      "Return with trip times..\n",
      "Remove outliers..\n",
      "총 데이터 수 =  1371709\n",
      "시간 튀는 값의 개수: 9917\n",
      "거리 튀는 값의 개수: 19813\n",
      "속도 튀는 값의 개수 28489\n",
      "비용 튀는 값의 개수: 7144\n",
      "전체 삭제 된 데이터 수 37691\n",
      "---\n",
      "Final groupbying..\n",
      "Return with trip times..\n",
      "Remove outliers..\n",
      "총 데이터 수 =  1925152\n",
      "시간 튀는 값의 개수: 11220\n",
      "거리 튀는 값의 개수: 25746\n",
      "속도 튀는 값의 개수 34524\n",
      "비용 튀는 값의 개수: 9640\n",
      "전체 삭제 된 데이터 수 46953\n",
      "---\n",
      "Final groupbying..\n"
     ]
    }
   ],
   "source": [
    "# upto now we cleaned data and prepared data for the month 2020,\n",
    "\n",
    "# now do the same operations for months Jan, Feb, March of 2021\n",
    "# 1. get the dataframe which inlcudes only required colums\n",
    "# 2. adding trip times, speed, unix time stamp of pickup_time\n",
    "# 4. remove the outliers based on trip_times, speed, trip_duration, total_amount\n",
    "# 5. add pickup_cluster to each data point\n",
    "# 6. add pickup_bin (index of 10min intravel to which that trip belongs to)\n",
    "# 7. group by data, based on 'pickup_cluster' and 'pickuo_bin'\n",
    "\n",
    "# Data Preparation for the months of Jan,Feb and March 2021\n",
    "def datapreparation(month,month_no,year_no):\n",
    "    \n",
    "    print (\"Return with trip times..\")\n",
    "\n",
    "    frame_with_durations = return_with_trip_times(month)\n",
    "    \n",
    "    print (\"Remove outliers..\")\n",
    "    frame_with_durations_outliers_removed = remove_outliers(frame_with_durations)\n",
    "\n",
    "    print (\"Final groupbying..\")\n",
    "    final_updated_frame = add_pickup_bins(frame_with_durations_outliers_removed,month_no,year_no)\n",
    "    final_groupby_frame = final_updated_frame[['PULocationID', 'pickup_bins', 'trip_distance']].groupby(['PULocationID', 'pickup_bins']).count()\n",
    "    \n",
    "    return final_updated_frame,final_groupby_frame\n",
    "    \n",
    "month_jan_2021 = dd.read_parquet('/Users/jinsu/Desktop/vscode/yellow_tripdata_2021-01.parquet')\n",
    "month_feb_2021 = dd.read_parquet('/Users/jinsu/Desktop/vscode/yellow_tripdata_2021-02.parquet')\n",
    "month_mar_2021 = dd.read_parquet('/Users/jinsu/Desktop/vscode/yellow_tripdata_2021-03.parquet')\n",
    "\n",
    "jan_2021_frame, jan_2021_groupby = datapreparation(month_jan_2021, 1, 2021)\n",
    "feb_2021_frame, feb_2021_groupby = datapreparation(month_feb_2021, 2, 2021)\n",
    "mar_2021_frame, mar_2021_groupby = datapreparation(month_mar_2021, 3, 2021)"
   ]
  },
  {
   "cell_type": "markdown",
   "metadata": {},
   "source": [
    "# SMOOTHING"
   ]
  },
  {
   "cell_type": "code",
   "execution_count": 65,
   "metadata": {},
   "outputs": [],
   "source": [
    "# Gets the unique bins where pickup values are present for each each reigion\n",
    "\n",
    "# for each cluster region we will collect all the indices of 10min intravels in which the pickups are happened\n",
    "# [적어도 1번 픽업이 발생한 지역의 모든 인덱스를 얻는다]\n",
    "# we got an observation that there are some pickpbins that doesnt have any pickups\n",
    "def return_unq_pickup_bins(frame):\n",
    "    values = []\n",
    "    for i in range(1,266):\n",
    "        new = frame[frame['PULocationID'] == i]\n",
    "        list_unq = list(set(new['pickup_bins']))\n",
    "        list_unq.sort()\n",
    "        values.append(list_unq)\n",
    "    return values"
   ]
  },
  {
   "cell_type": "code",
   "execution_count": 66,
   "metadata": {},
   "outputs": [],
   "source": [
    "# for every month we get all indices of 10min intravels in which atleast one pickup got happened\n",
    "\n",
    "#jan\n",
    "jan_2020_unique = return_unq_pickup_bins(jan_2020_frame)\n",
    "jan_2021_unique = return_unq_pickup_bins(jan_2021_frame)\n",
    "\n",
    "#feb\n",
    "feb_2021_unique = return_unq_pickup_bins(feb_2021_frame)\n",
    "\n",
    "#march\n",
    "mar_2021_unique = return_unq_pickup_bins(mar_2021_frame)"
   ]
  },
  {
   "cell_type": "code",
   "execution_count": 67,
   "metadata": {},
   "outputs": [
    {
     "name": "stdout",
     "output_type": "stream",
     "text": [
      "1 번째 구역에서 10분 간격안에 픽업 데이터가 없는 경우의 개수 4365\n",
      "------------------------------------------------------------\n",
      "2 번째 구역에서 10분 간격안에 픽업 데이터가 없는 경우의 개수 4461\n",
      "------------------------------------------------------------\n",
      "3 번째 구역에서 10분 간격안에 픽업 데이터가 없는 경우의 개수 4318\n",
      "------------------------------------------------------------\n",
      "4 번째 구역에서 10분 간격안에 픽업 데이터가 없는 경우의 개수 1152\n",
      "------------------------------------------------------------\n",
      "5 번째 구역에서 10분 간격안에 픽업 데이터가 없는 경우의 개수 4437\n",
      "------------------------------------------------------------\n",
      "6 번째 구역에서 10분 간격안에 픽업 데이터가 없는 경우의 개수 4456\n",
      "------------------------------------------------------------\n",
      "7 번째 구역에서 10분 간격안에 픽업 데이터가 없는 경우의 개수 973\n",
      "------------------------------------------------------------\n",
      "8 번째 구역에서 10분 간격안에 픽업 데이터가 없는 경우의 개수 4382\n",
      "------------------------------------------------------------\n",
      "9 번째 구역에서 10분 간격안에 픽업 데이터가 없는 경우의 개수 4377\n",
      "------------------------------------------------------------\n",
      "10 번째 구역에서 10분 간격안에 픽업 데이터가 없는 경우의 개수 2959\n",
      "------------------------------------------------------------\n",
      "11 번째 구역에서 10분 간격안에 픽업 데이터가 없는 경우의 개수 4378\n",
      "------------------------------------------------------------\n",
      "12 번째 구역에서 10분 간격안에 픽업 데이터가 없는 경우의 개수 3299\n",
      "------------------------------------------------------------\n",
      "13 번째 구역에서 10분 간격안에 픽업 데이터가 없는 경우의 개수 535\n",
      "------------------------------------------------------------\n",
      "14 번째 구역에서 10분 간격안에 픽업 데이터가 없는 경우의 개수 4069\n",
      "------------------------------------------------------------\n",
      "15 번째 구역에서 10분 간격안에 픽업 데이터가 없는 경우의 개수 4373\n",
      "------------------------------------------------------------\n",
      "16 번째 구역에서 10분 간격안에 픽업 데이터가 없는 경우의 개수 4313\n",
      "------------------------------------------------------------\n",
      "17 번째 구역에서 10분 간격안에 픽업 데이터가 없는 경우의 개수 3611\n",
      "------------------------------------------------------------\n",
      "18 번째 구역에서 10분 간격안에 픽업 데이터가 없는 경우의 개수 4271\n",
      "------------------------------------------------------------\n",
      "19 번째 구역에서 10분 간격안에 픽업 데이터가 없는 경우의 개수 4352\n",
      "------------------------------------------------------------\n",
      "20 번째 구역에서 10분 간격안에 픽업 데이터가 없는 경우의 개수 4353\n",
      "------------------------------------------------------------\n",
      "21 번째 구역에서 10분 간격안에 픽업 데이터가 없는 경우의 개수 4303\n",
      "------------------------------------------------------------\n",
      "22 번째 구역에서 10분 간격안에 픽업 데이터가 없는 경우의 개수 4250\n",
      "------------------------------------------------------------\n",
      "23 번째 구역에서 10분 간격안에 픽업 데이터가 없는 경우의 개수 4436\n",
      "------------------------------------------------------------\n",
      "24 번째 구역에서 10분 간격안에 픽업 데이터가 없는 경우의 개수 567\n",
      "------------------------------------------------------------\n",
      "25 번째 구역에서 10분 간격안에 픽업 데이터가 없는 경우의 개수 1978\n",
      "------------------------------------------------------------\n",
      "26 번째 구역에서 10분 간격안에 픽업 데이터가 없는 경우의 개수 4136\n",
      "------------------------------------------------------------\n",
      "27 번째 구역에서 10분 간격안에 픽업 데이터가 없는 경우의 개수 4462\n",
      "------------------------------------------------------------\n",
      "28 번째 구역에서 10분 간격안에 픽업 데이터가 없는 경우의 개수 3479\n",
      "------------------------------------------------------------\n",
      "29 번째 구역에서 10분 간격안에 픽업 데이터가 없는 경우의 개수 4350\n",
      "------------------------------------------------------------\n",
      "30 번째 구역에서 10분 간격안에 픽업 데이터가 없는 경우의 개수 4463\n",
      "------------------------------------------------------------\n",
      "31 번째 구역에서 10분 간격안에 픽업 데이터가 없는 경우의 개수 4441\n",
      "------------------------------------------------------------\n",
      "32 번째 구역에서 10분 간격안에 픽업 데이터가 없는 경우의 개수 4276\n",
      "------------------------------------------------------------\n",
      "33 번째 구역에서 10분 간격안에 픽업 데이터가 없는 경우의 개수 1909\n",
      "------------------------------------------------------------\n",
      "34 번째 구역에서 10분 간격안에 픽업 데이터가 없는 경우의 개수 4357\n",
      "------------------------------------------------------------\n",
      "35 번째 구역에서 10분 간격안에 픽업 데이터가 없는 경우의 개수 3854\n",
      "------------------------------------------------------------\n",
      "36 번째 구역에서 10분 간격안에 픽업 데이터가 없는 경우의 개수 4087\n",
      "------------------------------------------------------------\n",
      "37 번째 구역에서 10분 간격안에 픽업 데이터가 없는 경우의 개수 3676\n",
      "------------------------------------------------------------\n",
      "38 번째 구역에서 10분 간격안에 픽업 데이터가 없는 경우의 개수 4301\n",
      "------------------------------------------------------------\n",
      "39 번째 구역에서 10분 간격안에 픽업 데이터가 없는 경우의 개수 3860\n",
      "------------------------------------------------------------\n",
      "40 번째 구역에서 10분 간격안에 픽업 데이터가 없는 경우의 개수 2888\n",
      "------------------------------------------------------------\n",
      "41 번째 구역에서 10분 간격안에 픽업 데이터가 없는 경우의 개수 348\n",
      "------------------------------------------------------------\n",
      "42 번째 구역에서 10분 간격안에 픽업 데이터가 없는 경우의 개수 950\n",
      "------------------------------------------------------------\n",
      "43 번째 구역에서 10분 간격안에 픽업 데이터가 없는 경우의 개수 422\n",
      "------------------------------------------------------------\n",
      "44 번째 구역에서 10분 간격안에 픽업 데이터가 없는 경우의 개수 4429\n",
      "------------------------------------------------------------\n",
      "45 번째 구역에서 10분 간격안에 픽업 데이터가 없는 경우의 개수 993\n",
      "------------------------------------------------------------\n",
      "46 번째 구역에서 10분 간격안에 픽업 데이터가 없는 경우의 개수 4445\n",
      "------------------------------------------------------------\n",
      "47 번째 구역에서 10분 간격안에 픽업 데이터가 없는 경우의 개수 4242\n",
      "------------------------------------------------------------\n",
      "48 번째 구역에서 10분 간격안에 픽업 데이터가 없는 경우의 개수 -2\n",
      "------------------------------------------------------------\n",
      "49 번째 구역에서 10분 간격안에 픽업 데이터가 없는 경우의 개수 3435\n",
      "------------------------------------------------------------\n",
      "50 번째 구역에서 10분 간격안에 픽업 데이터가 없는 경우의 개수 127\n",
      "------------------------------------------------------------\n",
      "51 번째 구역에서 10분 간격안에 픽업 데이터가 없는 경우의 개수 4051\n",
      "------------------------------------------------------------\n",
      "52 번째 구역에서 10분 간격안에 픽업 데이터가 없는 경우의 개수 2765\n",
      "------------------------------------------------------------\n",
      "53 번째 구역에서 10분 간격안에 픽업 데이터가 없는 경우의 개수 4332\n",
      "------------------------------------------------------------\n",
      "54 번째 구역에서 10분 간격안에 픽업 데이터가 없는 경우의 개수 4321\n",
      "------------------------------------------------------------\n",
      "55 번째 구역에서 10분 간격안에 픽업 데이터가 없는 경우의 개수 4350\n",
      "------------------------------------------------------------\n",
      "56 번째 구역에서 10분 간격안에 픽업 데이터가 없는 경우의 개수 3739\n",
      "------------------------------------------------------------\n",
      "57 번째 구역에서 10분 간격안에 픽업 데이터가 없는 경우의 개수 4456\n",
      "------------------------------------------------------------\n",
      "58 번째 구역에서 10분 간격안에 픽업 데이터가 없는 경우의 개수 4446\n",
      "------------------------------------------------------------\n",
      "59 번째 구역에서 10분 간격안에 픽업 데이터가 없는 경우의 개수 4457\n",
      "------------------------------------------------------------\n",
      "60 번째 구역에서 10분 간격안에 픽업 데이터가 없는 경우의 개수 4335\n",
      "------------------------------------------------------------\n",
      "61 번째 구역에서 10분 간격안에 픽업 데이터가 없는 경우의 개수 3255\n",
      "------------------------------------------------------------\n",
      "62 번째 구역에서 10분 간격안에 픽업 데이터가 없는 경우의 개수 4063\n",
      "------------------------------------------------------------\n",
      "63 번째 구역에서 10분 간격안에 픽업 데이터가 없는 경우의 개수 4254\n",
      "------------------------------------------------------------\n",
      "64 번째 구역에서 10분 간격안에 픽업 데이터가 없는 경우의 개수 4384\n",
      "------------------------------------------------------------\n",
      "65 번째 구역에서 10분 간격안에 픽업 데이터가 없는 경우의 개수 1581\n",
      "------------------------------------------------------------\n",
      "66 번째 구역에서 10분 간격안에 픽업 데이터가 없는 경우의 개수 2941\n",
      "------------------------------------------------------------\n",
      "67 번째 구역에서 10분 간격안에 픽업 데이터가 없는 경우의 개수 4365\n",
      "------------------------------------------------------------\n",
      "68 번째 구역에서 10분 간격안에 픽업 데이터가 없는 경우의 개수 4\n",
      "------------------------------------------------------------\n",
      "69 번째 구역에서 10분 간격안에 픽업 데이터가 없는 경우의 개수 3951\n",
      "------------------------------------------------------------\n",
      "70 번째 구역에서 10분 간격안에 픽업 데이터가 없는 경우의 개수 3807\n",
      "------------------------------------------------------------\n",
      "71 번째 구역에서 10분 간격안에 픽업 데이터가 없는 경우의 개수 4021\n",
      "------------------------------------------------------------\n",
      "72 번째 구역에서 10분 간격안에 픽업 데이터가 없는 경우의 개수 3982\n",
      "------------------------------------------------------------\n",
      "73 번째 구역에서 10분 간격안에 픽업 데이터가 없는 경우의 개수 4404\n",
      "------------------------------------------------------------\n",
      "74 번째 구역에서 10분 간격안에 픽업 데이터가 없는 경우의 개수 233\n",
      "------------------------------------------------------------\n",
      "75 번째 구역에서 10분 간격안에 픽업 데이터가 없는 경우의 개수 160\n",
      "------------------------------------------------------------\n",
      "76 번째 구역에서 10분 간격안에 픽업 데이터가 없는 경우의 개수 3558\n",
      "------------------------------------------------------------\n",
      "77 번째 구역에서 10분 간격안에 픽업 데이터가 없는 경우의 개수 4213\n",
      "------------------------------------------------------------\n",
      "78 번째 구역에서 10분 간격안에 픽업 데이터가 없는 경우의 개수 4199\n",
      "------------------------------------------------------------\n",
      "79 번째 구역에서 10분 간격안에 픽업 데이터가 없는 경우의 개수 -4\n",
      "------------------------------------------------------------\n",
      "80 번째 구역에서 10분 간격안에 픽업 데이터가 없는 경우의 개수 3429\n",
      "------------------------------------------------------------\n",
      "81 번째 구역에서 10분 간격안에 픽업 데이터가 없는 경우의 개수 4295\n",
      "------------------------------------------------------------\n",
      "82 번째 구역에서 10분 간격안에 픽업 데이터가 없는 경우의 개수 2763\n",
      "------------------------------------------------------------\n",
      "83 번째 구역에서 10분 간격안에 픽업 데이터가 없는 경우의 개수 3982\n",
      "------------------------------------------------------------\n",
      "84 번째 구역에서 10분 간격안에 픽업 데이터가 없는 경우의 개수 4461\n",
      "------------------------------------------------------------\n",
      "85 번째 구역에서 10분 간격안에 픽업 데이터가 없는 경우의 개수 4127\n",
      "------------------------------------------------------------\n",
      "86 번째 구역에서 10분 간격안에 픽업 데이터가 없는 경우의 개수 4338\n",
      "------------------------------------------------------------\n",
      "87 번째 구역에서 10분 간격안에 픽업 데이터가 없는 경우의 개수 336\n",
      "------------------------------------------------------------\n",
      "88 번째 구역에서 10분 간격안에 픽업 데이터가 없는 경우의 개수 634\n",
      "------------------------------------------------------------\n",
      "89 번째 구역에서 10분 간격안에 픽업 데이터가 없는 경우의 개수 3658\n",
      "------------------------------------------------------------\n",
      "90 번째 구역에서 10분 간격안에 픽업 데이터가 없는 경우의 개수 23\n",
      "------------------------------------------------------------\n",
      "91 번째 구역에서 10분 간격안에 픽업 데이터가 없는 경우의 개수 3999\n",
      "------------------------------------------------------------\n",
      "92 번째 구역에서 10분 간격안에 픽업 데이터가 없는 경우의 개수 4136\n",
      "------------------------------------------------------------\n",
      "93 번째 구역에서 10분 간격안에 픽업 데이터가 없는 경우의 개수 2468\n",
      "------------------------------------------------------------\n",
      "94 번째 구역에서 10분 간격안에 픽업 데이터가 없는 경우의 개수 4356\n",
      "------------------------------------------------------------\n",
      "95 번째 구역에서 10분 간격안에 픽업 데이터가 없는 경우의 개수 3674\n",
      "------------------------------------------------------------\n",
      "96 번째 구역에서 10분 간격안에 픽업 데이터가 없는 경우의 개수 4453\n",
      "------------------------------------------------------------\n",
      "97 번째 구역에서 10분 간격안에 픽업 데이터가 없는 경우의 개수 2036\n",
      "------------------------------------------------------------\n",
      "98 번째 구역에서 10분 간격안에 픽업 데이터가 없는 경우의 개수 4362\n",
      "------------------------------------------------------------\n",
      "99 번째 구역에서 10분 간격안에 픽업 데이터가 없는 경우의 개수 4463\n",
      "------------------------------------------------------------\n",
      "100 번째 구역에서 10분 간격안에 픽업 데이터가 없는 경우의 개수 25\n",
      "------------------------------------------------------------\n",
      "101 번째 구역에서 10분 간격안에 픽업 데이터가 없는 경우의 개수 4304\n",
      "------------------------------------------------------------\n",
      "102 번째 구역에서 10분 간격안에 픽업 데이터가 없는 경우의 개수 4326\n",
      "------------------------------------------------------------\n",
      "103 번째 구역에서 10분 간격안에 픽업 데이터가 없는 경우의 개수 4464\n",
      "------------------------------------------------------------\n",
      "104 번째 구역에서 10분 간격안에 픽업 데이터가 없는 경우의 개수 4464\n",
      "------------------------------------------------------------\n",
      "105 번째 구역에서 10분 간격안에 픽업 데이터가 없는 경우의 개수 4462\n",
      "------------------------------------------------------------\n",
      "106 번째 구역에서 10분 간격안에 픽업 데이터가 없는 경우의 개수 3932\n",
      "------------------------------------------------------------\n",
      "107 번째 구역에서 10분 간격안에 픽업 데이터가 없는 경우의 개수 31\n",
      "------------------------------------------------------------\n",
      "108 번째 구역에서 10분 간격안에 픽업 데이터가 없는 경우의 개수 4387\n",
      "------------------------------------------------------------\n",
      "109 번째 구역에서 10분 간격안에 픽업 데이터가 없는 경우의 개수 4457\n",
      "------------------------------------------------------------\n",
      "110 번째 구역에서 10분 간격안에 픽업 데이터가 없는 경우의 개수 4464\n",
      "------------------------------------------------------------\n",
      "111 번째 구역에서 10분 간격안에 픽업 데이터가 없는 경우의 개수 4461\n",
      "------------------------------------------------------------\n",
      "112 번째 구역에서 10분 간격안에 픽업 데이터가 없는 경우의 개수 3470\n",
      "------------------------------------------------------------\n",
      "113 번째 구역에서 10분 간격안에 픽업 데이터가 없는 경우의 개수 161\n",
      "------------------------------------------------------------\n",
      "114 번째 구역에서 10분 간격안에 픽업 데이터가 없는 경우의 개수 98\n",
      "------------------------------------------------------------\n",
      "115 번째 구역에서 10분 간격안에 픽업 데이터가 없는 경우의 개수 4432\n",
      "------------------------------------------------------------\n",
      "116 번째 구역에서 10분 간격안에 픽업 데이터가 없는 경우의 개수 1269\n",
      "------------------------------------------------------------\n",
      "117 번째 구역에서 10분 간격안에 픽업 데이터가 없는 경우의 개수 4361\n",
      "------------------------------------------------------------\n",
      "118 번째 구역에서 10분 간격안에 픽업 데이터가 없는 경우의 개수 4443\n",
      "------------------------------------------------------------\n",
      "119 번째 구역에서 10분 간격안에 픽업 데이터가 없는 경우의 개수 4228\n",
      "------------------------------------------------------------\n",
      "120 번째 구역에서 10분 간격안에 픽업 데이터가 없는 경우의 개수 4438\n",
      "------------------------------------------------------------\n",
      "121 번째 구역에서 10분 간격안에 픽업 데이터가 없는 경우의 개수 4265\n",
      "------------------------------------------------------------\n",
      "122 번째 구역에서 10분 간격안에 픽업 데이터가 없는 경우의 개수 4367\n",
      "------------------------------------------------------------\n",
      "123 번째 구역에서 10분 간격안에 픽업 데이터가 없는 경우의 개수 4227\n",
      "------------------------------------------------------------\n",
      "124 번째 구역에서 10분 간격안에 픽업 데이터가 없는 경우의 개수 4273\n",
      "------------------------------------------------------------\n",
      "125 번째 구역에서 10분 간격안에 픽업 데이터가 없는 경우의 개수 408\n",
      "------------------------------------------------------------\n",
      "126 번째 구역에서 10분 간격안에 픽업 데이터가 없는 경우의 개수 4335\n",
      "------------------------------------------------------------\n",
      "127 번째 구역에서 10분 간격안에 픽업 데이터가 없는 경우의 개수 3942\n",
      "------------------------------------------------------------\n",
      "128 번째 구역에서 10분 간격안에 픽업 데이터가 없는 경우의 개수 4422\n",
      "------------------------------------------------------------\n",
      "129 번째 구역에서 10분 간격안에 픽업 데이터가 없는 경우의 개수 2673\n",
      "------------------------------------------------------------\n",
      "130 번째 구역에서 10분 간격안에 픽업 데이터가 없는 경우의 개수 3364\n",
      "------------------------------------------------------------\n",
      "131 번째 구역에서 10분 간격안에 픽업 데이터가 없는 경우의 개수 4301\n",
      "------------------------------------------------------------\n",
      "132 번째 구역에서 10분 간격안에 픽업 데이터가 없는 경우의 개수 24\n",
      "------------------------------------------------------------\n",
      "133 번째 구역에서 10분 간격안에 픽업 데이터가 없는 경우의 개수 4175\n",
      "------------------------------------------------------------\n",
      "134 번째 구역에서 10분 간격안에 픽업 데이터가 없는 경우의 개수 3868\n",
      "------------------------------------------------------------\n",
      "135 번째 구역에서 10분 간격안에 픽업 데이터가 없는 경우의 개수 4184\n",
      "------------------------------------------------------------\n",
      "136 번째 구역에서 10분 간격안에 픽업 데이터가 없는 경우의 개수 4135\n",
      "------------------------------------------------------------\n",
      "137 번째 구역에서 10분 간격안에 픽업 데이터가 없는 경우의 개수 87\n",
      "------------------------------------------------------------\n",
      "138 번째 구역에서 10분 간격안에 픽업 데이터가 없는 경우의 개수 778\n",
      "------------------------------------------------------------\n",
      "139 번째 구역에서 10분 간격안에 픽업 데이터가 없는 경우의 개수 4235\n",
      "------------------------------------------------------------\n",
      "140 번째 구역에서 10분 간격안에 픽업 데이터가 없는 경우의 개수 104\n",
      "------------------------------------------------------------\n",
      "141 번째 구역에서 10분 간격안에 픽업 데이터가 없는 경우의 개수 19\n",
      "------------------------------------------------------------\n",
      "142 번째 구역에서 10분 간격안에 픽업 데이터가 없는 경우의 개수 108\n",
      "------------------------------------------------------------\n",
      "143 번째 구역에서 10분 간격안에 픽업 데이터가 없는 경우의 개수 329\n",
      "------------------------------------------------------------\n",
      "144 번째 구역에서 10분 간격안에 픽업 데이터가 없는 경우의 개수 300\n",
      "------------------------------------------------------------\n",
      "145 번째 구역에서 10분 간격안에 픽업 데이터가 없는 경우의 개수 1748\n",
      "------------------------------------------------------------\n",
      "146 번째 구역에서 10분 간격안에 픽업 데이터가 없는 경우의 개수 1699\n",
      "------------------------------------------------------------\n",
      "147 번째 구역에서 10분 간격안에 픽업 데이터가 없는 경우의 개수 4272\n",
      "------------------------------------------------------------\n",
      "148 번째 구역에서 10분 간격안에 픽업 데이터가 없는 경우의 개수 54\n",
      "------------------------------------------------------------\n",
      "149 번째 구역에서 10분 간격안에 픽업 데이터가 없는 경우의 개수 4290\n",
      "------------------------------------------------------------\n",
      "150 번째 구역에서 10분 간격안에 픽업 데이터가 없는 경우의 개수 4388\n",
      "------------------------------------------------------------\n",
      "151 번째 구역에서 10분 간격안에 픽업 데이터가 없는 경우의 개수 279\n",
      "------------------------------------------------------------\n",
      "152 번째 구역에서 10분 간격안에 픽업 데이터가 없는 경우의 개수 1557\n",
      "------------------------------------------------------------\n",
      "153 번째 구역에서 10분 간격안에 픽업 데이터가 없는 경우의 개수 4385\n",
      "------------------------------------------------------------\n",
      "154 번째 구역에서 10분 간격안에 픽업 데이터가 없는 경우의 개수 4448\n",
      "------------------------------------------------------------\n",
      "155 번째 구역에서 10분 간격안에 픽업 데이터가 없는 경우의 개수 4206\n",
      "------------------------------------------------------------\n",
      "156 번째 구역에서 10분 간격안에 픽업 데이터가 없는 경우의 개수 4456\n",
      "------------------------------------------------------------\n",
      "157 번째 구역에서 10분 간격안에 픽업 데이터가 없는 경우의 개수 3784\n",
      "------------------------------------------------------------\n",
      "158 번째 구역에서 10분 간격안에 픽업 데이터가 없는 경우의 개수 294\n",
      "------------------------------------------------------------\n",
      "159 번째 구역에서 10분 간격안에 픽업 데이터가 없는 경우의 개수 4032\n",
      "------------------------------------------------------------\n",
      "160 번째 구역에서 10분 간격안에 픽업 데이터가 없는 경우의 개수 4350\n",
      "------------------------------------------------------------\n",
      "161 번째 구역에서 10분 간격안에 픽업 데이터가 없는 경우의 개수 19\n",
      "------------------------------------------------------------\n",
      "162 번째 구역에서 10분 간격안에 픽업 데이터가 없는 경우의 개수 12\n",
      "------------------------------------------------------------\n",
      "163 번째 구역에서 10분 간격안에 픽업 데이터가 없는 경우의 개수 19\n",
      "------------------------------------------------------------\n",
      "164 번째 구역에서 10분 간격안에 픽업 데이터가 없는 경우의 개수 14\n",
      "------------------------------------------------------------\n",
      "165 번째 구역에서 10분 간격안에 픽업 데이터가 없는 경우의 개수 4126\n",
      "------------------------------------------------------------\n",
      "166 번째 구역에서 10분 간격안에 픽업 데이터가 없는 경우의 개수 410\n",
      "------------------------------------------------------------\n",
      "167 번째 구역에서 10분 간격안에 픽업 데이터가 없는 경우의 개수 4194\n",
      "------------------------------------------------------------\n",
      "168 번째 구역에서 10분 간격안에 픽업 데이터가 없는 경우의 개수 3538\n",
      "------------------------------------------------------------\n",
      "169 번째 구역에서 10분 간격안에 픽업 데이터가 없는 경우의 개수 4205\n",
      "------------------------------------------------------------\n",
      "170 번째 구역에서 10분 간격안에 픽업 데이터가 없는 경우의 개수 29\n",
      "------------------------------------------------------------\n",
      "171 번째 구역에서 10분 간격안에 픽업 데이터가 없는 경우의 개수 4300\n",
      "------------------------------------------------------------\n",
      "172 번째 구역에서 10분 간격안에 픽업 데이터가 없는 경우의 개수 4464\n",
      "------------------------------------------------------------\n",
      "173 번째 구역에서 10분 간격안에 픽업 데이터가 없는 경우의 개수 4280\n",
      "------------------------------------------------------------\n",
      "174 번째 구역에서 10분 간격안에 픽업 데이터가 없는 경우의 개수 4268\n",
      "------------------------------------------------------------\n",
      "175 번째 구역에서 10분 간격안에 픽업 데이터가 없는 경우의 개수 4411\n",
      "------------------------------------------------------------\n",
      "176 번째 구역에서 10분 간격안에 픽업 데이터가 없는 경우의 개수 4464\n",
      "------------------------------------------------------------\n",
      "177 번째 구역에서 10분 간격안에 픽업 데이터가 없는 경우의 개수 4077\n",
      "------------------------------------------------------------\n",
      "178 번째 구역에서 10분 간격안에 픽업 데이터가 없는 경우의 개수 4390\n",
      "------------------------------------------------------------\n",
      "179 번째 구역에서 10분 간격안에 픽업 데이터가 없는 경우의 개수 2557\n",
      "------------------------------------------------------------\n",
      "180 번째 구역에서 10분 간격안에 픽업 데이터가 없는 경우의 개수 4380\n",
      "------------------------------------------------------------\n",
      "181 번째 구역에서 10분 간격안에 픽업 데이터가 없는 경우의 개수 2241\n",
      "------------------------------------------------------------\n",
      "182 번째 구역에서 10분 간격안에 픽업 데이터가 없는 경우의 개수 4205\n",
      "------------------------------------------------------------\n",
      "183 번째 구역에서 10분 간격안에 픽업 데이터가 없는 경우의 개수 4366\n",
      "------------------------------------------------------------\n",
      "184 번째 구역에서 10분 간격안에 픽업 데이터가 없는 경우의 개수 4456\n",
      "------------------------------------------------------------\n",
      "185 번째 구역에서 10분 간격안에 픽업 데이터가 없는 경우의 개수 4286\n",
      "------------------------------------------------------------\n",
      "186 번째 구역에서 10분 간격안에 픽업 데이터가 없는 경우의 개수 15\n",
      "------------------------------------------------------------\n",
      "187 번째 구역에서 10분 간격안에 픽업 데이터가 없는 경우의 개수 4459\n",
      "------------------------------------------------------------\n",
      "188 번째 구역에서 10분 간격안에 픽업 데이터가 없는 경우의 개수 3628\n",
      "------------------------------------------------------------\n",
      "189 번째 구역에서 10분 간격안에 픽업 데이터가 없는 경우의 개수 3654\n",
      "------------------------------------------------------------\n",
      "190 번째 구역에서 10분 간격안에 픽업 데이터가 없는 경우의 개수 4327\n",
      "------------------------------------------------------------\n",
      "191 번째 구역에서 10분 간격안에 픽업 데이터가 없는 경우의 개수 4173\n",
      "------------------------------------------------------------\n",
      "192 번째 구역에서 10분 간격안에 픽업 데이터가 없는 경우의 개수 4373\n",
      "------------------------------------------------------------\n",
      "193 번째 구역에서 10분 간격안에 픽업 데이터가 없는 경우의 개수 2774\n",
      "------------------------------------------------------------\n",
      "194 번째 구역에서 10분 간격안에 픽업 데이터가 없는 경우의 개수 4099\n",
      "------------------------------------------------------------\n",
      "195 번째 구역에서 10분 간격안에 픽업 데이터가 없는 경우의 개수 4123\n",
      "------------------------------------------------------------\n",
      "196 번째 구역에서 10분 간격안에 픽업 데이터가 없는 경우의 개수 3747\n",
      "------------------------------------------------------------\n",
      "197 번째 구역에서 10분 간격안에 픽업 데이터가 없는 경우의 개수 4054\n",
      "------------------------------------------------------------\n",
      "198 번째 구역에서 10분 간격안에 픽업 데이터가 없는 경우의 개수 4227\n",
      "------------------------------------------------------------\n",
      "199 번째 구역에서 10분 간격안에 픽업 데이터가 없는 경우의 개수 4464\n",
      "------------------------------------------------------------\n",
      "200 번째 구역에서 10분 간격안에 픽업 데이터가 없는 경우의 개수 4305\n",
      "------------------------------------------------------------\n",
      "201 번째 구역에서 10분 간격안에 픽업 데이터가 없는 경우의 개수 4443\n",
      "------------------------------------------------------------\n",
      "202 번째 구역에서 10분 간격안에 픽업 데이터가 없는 경우의 개수 4247\n",
      "------------------------------------------------------------\n",
      "203 번째 구역에서 10분 간격안에 픽업 데이터가 없는 경우의 개수 4236\n",
      "------------------------------------------------------------\n",
      "204 번째 구역에서 10분 간격안에 픽업 데이터가 없는 경우의 개수 4463\n",
      "------------------------------------------------------------\n",
      "205 번째 구역에서 10분 간격안에 픽업 데이터가 없는 경우의 개수 4034\n",
      "------------------------------------------------------------\n",
      "206 번째 구역에서 10분 간격안에 픽업 데이터가 없는 경우의 개수 4460\n",
      "------------------------------------------------------------\n",
      "207 번째 구역에서 10분 간격안에 픽업 데이터가 없는 경우의 개수 4410\n",
      "------------------------------------------------------------\n",
      "208 번째 구역에서 10분 간격안에 픽업 데이터가 없는 경우의 개수 4255\n",
      "------------------------------------------------------------\n",
      "209 번째 구역에서 10분 간격안에 픽업 데이터가 없는 경우의 개수 875\n",
      "------------------------------------------------------------\n",
      "210 번째 구역에서 10분 간격안에 픽업 데이터가 없는 경우의 개수 4239\n",
      "------------------------------------------------------------\n",
      "211 번째 구역에서 10분 간격안에 픽업 데이터가 없는 경우의 개수 393\n",
      "------------------------------------------------------------\n",
      "212 번째 구역에서 10분 간격안에 픽업 데이터가 없는 경우의 개수 4277\n",
      "------------------------------------------------------------\n",
      "213 번째 구역에서 10분 간격안에 픽업 데이터가 없는 경우의 개수 4032\n",
      "------------------------------------------------------------\n",
      "214 번째 구역에서 10분 간격안에 픽업 데이터가 없는 경우의 개수 4437\n",
      "------------------------------------------------------------\n",
      "215 번째 구역에서 10분 간격안에 픽업 데이터가 없는 경우의 개수 3533\n",
      "------------------------------------------------------------\n",
      "216 번째 구역에서 10분 간격안에 픽업 데이터가 없는 경우의 개수 3759\n",
      "------------------------------------------------------------\n",
      "217 번째 구역에서 10분 간격안에 픽업 데이터가 없는 경우의 개수 4139\n",
      "------------------------------------------------------------\n",
      "218 번째 구역에서 10분 간격안에 픽업 데이터가 없는 경우의 개수 4094\n",
      "------------------------------------------------------------\n",
      "219 번째 구역에서 10분 간격안에 픽업 데이터가 없는 경우의 개수 3986\n",
      "------------------------------------------------------------\n",
      "220 번째 구역에서 10분 간격안에 픽업 데이터가 없는 경우의 개수 4200\n",
      "------------------------------------------------------------\n",
      "221 번째 구역에서 10분 간격안에 픽업 데이터가 없는 경우의 개수 4461\n",
      "------------------------------------------------------------\n",
      "222 번째 구역에서 10분 간격안에 픽업 데이터가 없는 경우의 개수 4179\n",
      "------------------------------------------------------------\n",
      "223 번째 구역에서 10분 간격안에 픽업 데이터가 없는 경우의 개수 2496\n",
      "------------------------------------------------------------\n",
      "224 번째 구역에서 10분 간격안에 픽업 데이터가 없는 경우의 개수 1046\n",
      "------------------------------------------------------------\n",
      "225 번째 구역에서 10분 간격안에 픽업 데이터가 없는 경우의 개수 3727\n",
      "------------------------------------------------------------\n",
      "226 번째 구역에서 10분 간격안에 픽업 데이터가 없는 경우의 개수 967\n",
      "------------------------------------------------------------\n",
      "227 번째 구역에서 10분 간격안에 픽업 데이터가 없는 경우의 개수 4331\n",
      "------------------------------------------------------------\n",
      "228 번째 구역에서 10분 간격안에 픽업 데이터가 없는 경우의 개수 4008\n",
      "------------------------------------------------------------\n",
      "229 번째 구역에서 10분 간격안에 픽업 데이터가 없는 경우의 개수 44\n",
      "------------------------------------------------------------\n",
      "230 번째 구역에서 10분 간격안에 픽업 데이터가 없는 경우의 개수 4\n",
      "------------------------------------------------------------\n",
      "231 번째 구역에서 10분 간격안에 픽업 데이터가 없는 경우의 개수 103\n",
      "------------------------------------------------------------\n",
      "232 번째 구역에서 10분 간격안에 픽업 데이터가 없는 경우의 개수 1350\n",
      "------------------------------------------------------------\n",
      "233 번째 구역에서 10분 간격안에 픽업 데이터가 없는 경우의 개수 160\n",
      "------------------------------------------------------------\n",
      "234 번째 구역에서 10분 간격안에 픽업 데이터가 없는 경우의 개수 37\n",
      "------------------------------------------------------------\n",
      "235 번째 구역에서 10분 간격안에 픽업 데이터가 없는 경우의 개수 4108\n",
      "------------------------------------------------------------\n",
      "236 번째 구역에서 10분 간격안에 픽업 데이터가 없는 경우의 개수 137\n",
      "------------------------------------------------------------\n",
      "237 번째 구역에서 10분 간격안에 픽업 데이터가 없는 경우의 개수 74\n",
      "------------------------------------------------------------\n",
      "238 번째 구역에서 10분 간격안에 픽업 데이터가 없는 경우의 개수 112\n",
      "------------------------------------------------------------\n",
      "239 번째 구역에서 10분 간격안에 픽업 데이터가 없는 경우의 개수 98\n",
      "------------------------------------------------------------\n",
      "240 번째 구역에서 10분 간격안에 픽업 데이터가 없는 경우의 개수 4437\n",
      "------------------------------------------------------------\n",
      "241 번째 구역에서 10분 간격안에 픽업 데이터가 없는 경우의 개수 4256\n",
      "------------------------------------------------------------\n",
      "242 번째 구역에서 10분 간격안에 픽업 데이터가 없는 경우의 개수 4169\n",
      "------------------------------------------------------------\n",
      "243 번째 구역에서 10분 간격안에 픽업 데이터가 없는 경우의 개수 3592\n",
      "------------------------------------------------------------\n",
      "244 번째 구역에서 10분 간격안에 픽업 데이터가 없는 경우의 개수 1467\n",
      "------------------------------------------------------------\n",
      "245 번째 구역에서 10분 간격안에 픽업 데이터가 없는 경우의 개수 4463\n",
      "------------------------------------------------------------\n",
      "246 번째 구역에서 10분 간격안에 픽업 데이터가 없는 경우의 개수 115\n",
      "------------------------------------------------------------\n",
      "247 번째 구역에서 10분 간격안에 픽업 데이터가 없는 경우의 개수 3876\n",
      "------------------------------------------------------------\n",
      "248 번째 구역에서 10분 간격안에 픽업 데이터가 없는 경우의 개수 4292\n",
      "------------------------------------------------------------\n",
      "249 번째 구역에서 10분 간격안에 픽업 데이터가 없는 경우의 개수 0\n",
      "------------------------------------------------------------\n",
      "250 번째 구역에서 10분 간격안에 픽업 데이터가 없는 경우의 개수 4236\n",
      "------------------------------------------------------------\n",
      "251 번째 구역에서 10분 간격안에 픽업 데이터가 없는 경우의 개수 4462\n",
      "------------------------------------------------------------\n",
      "252 번째 구역에서 10분 간격안에 픽업 데이터가 없는 경우의 개수 4377\n",
      "------------------------------------------------------------\n",
      "253 번째 구역에서 10분 간격안에 픽업 데이터가 없는 경우의 개수 4447\n",
      "------------------------------------------------------------\n",
      "254 번째 구역에서 10분 간격안에 픽업 데이터가 없는 경우의 개수 4164\n",
      "------------------------------------------------------------\n",
      "255 번째 구역에서 10분 간격안에 픽업 데이터가 없는 경우의 개수 2844\n",
      "------------------------------------------------------------\n",
      "256 번째 구역에서 10분 간격안에 픽업 데이터가 없는 경우의 개수 2875\n",
      "------------------------------------------------------------\n",
      "257 번째 구역에서 10분 간격안에 픽업 데이터가 없는 경우의 개수 4255\n",
      "------------------------------------------------------------\n",
      "258 번째 구역에서 10분 간격안에 픽업 데이터가 없는 경우의 개수 4286\n",
      "------------------------------------------------------------\n",
      "259 번째 구역에서 10분 간격안에 픽업 데이터가 없는 경우의 개수 4333\n",
      "------------------------------------------------------------\n",
      "260 번째 구역에서 10분 간격안에 픽업 데이터가 없는 경우의 개수 2438\n",
      "------------------------------------------------------------\n",
      "261 번째 구역에서 10분 간격안에 픽업 데이터가 없는 경우의 개수 559\n",
      "------------------------------------------------------------\n",
      "262 번째 구역에서 10분 간격안에 픽업 데이터가 없는 경우의 개수 326\n",
      "------------------------------------------------------------\n",
      "263 번째 구역에서 10분 간격안에 픽업 데이터가 없는 경우의 개수 42\n",
      "------------------------------------------------------------\n",
      "264 번째 구역에서 10분 간격안에 픽업 데이터가 없는 경우의 개수 249\n",
      "------------------------------------------------------------\n",
      "265 번째 구역에서 10분 간격안에 픽업 데이터가 없는 경우의 개수 3611\n",
      "------------------------------------------------------------\n"
     ]
    }
   ],
   "source": [
    "# 31일 * 24시간 * 60분 / 10분 = 4464\n",
    "# 최대가 4464겠지\n",
    "for i in range(1, 266):\n",
    "    print(i, \"번째 구역에서 10분 간격안에 픽업 데이터가 없는 경우의 개수\", 4464-len(set(jan_2020_unique[i-1])))\n",
    "    print(\"-\"* 60)"
   ]
  },
  {
   "cell_type": "code",
   "execution_count": 68,
   "metadata": {},
   "outputs": [],
   "source": [
    "# 탑승 기록이 없으면 0으로 채우기\n",
    "# count_values: 각 지역 각 10분 간격에 픽업 수\n",
    "# values: 픽업 기록이 있는 간격의 set\n",
    "def fill_missing(count_values, values):\n",
    "    smoothed_regions = []\n",
    "    ind = 0\n",
    "    for r in range(1, 266): # 각 구역마다\n",
    "        smoothed_bins = []\n",
    "        for i in range(4464):\n",
    "            if i in values[r-1]: # interval 안에 탑승 기록이 있으면\n",
    "                smoothed_bins.append(count_values[ind])\n",
    "                ind += 1\n",
    "            else: # interval 안에 탑승 기록이 없으면\n",
    "                smoothed_bins.append(0)\n",
    "        smoothed_regions.extend(smoothed_bins)\n",
    "    return smoothed_regions"
   ]
  },
  {
   "cell_type": "code",
   "execution_count": 69,
   "metadata": {},
   "outputs": [],
   "source": [
    "# 빈값을 평균으로 채우기\n",
    "# interval 안에 pickup 기록이 없다면\n",
    "# pickup 기록이 있는 자신과 가장 가까운 양 끝값을 이용하여 평균을 구함\n",
    "def smoothing(count_values,values):\n",
    "    smoothed_regions=[] # 각 지역마다 최종 smoothed 값을 저장할 리스트\n",
    "    ind=0\n",
    "    repeat=0 \n",
    "    smoothed_value=0\n",
    "    for r in range(1,266): # 지역마다\n",
    "        smoothed_bins=[] # 최종 smoothed 값을 저장할 리스트\n",
    "        repeat=0\n",
    "        for i in range(4464): # interval 마다\n",
    "            if repeat!=0: # 같은 interval을 여러 번 계산 방지\n",
    "                repeat-=1\n",
    "                continue\n",
    "            if i in values[r-1]: # interval 안에 픽업 기록이 존재하면\n",
    "                smoothed_bins.append(count_values[ind]) # interval을 리스트에 추가\n",
    "            else:\n",
    "                if i!=0: # 첫 구간이 아니면 (left~rigth or right~끝)\n",
    "                    right_hand_limit=0\n",
    "                    for j in range(i,4464):\n",
    "                        if  j not in values[r-1]: # interval안에 픽업이 없는 경우 평균값으로 채워져야 하므로 넘어감\n",
    "                            continue\n",
    "                        else:\n",
    "                            right_hand_limit=j # interval안에 픽업이 존재하는 경우에 right_limit이 됨\n",
    "                            break\n",
    "                    if right_hand_limit==0:\n",
    "                    #Case 1: right~끝\n",
    "                        smoothed_value=count_values[ind-1]*1.0/((4463-i)+2)*1.0                               \n",
    "                        for j in range(i,4464): # right~끝까지 평균으로 채우기              \n",
    "                            smoothed_bins.append(math.ceil(smoothed_value))\n",
    "                        smoothed_bins[i-1] = math.ceil(smoothed_value)\n",
    "                        repeat=(4463-i)\n",
    "                        ind-=1\n",
    "                    else:\n",
    "                    #Case 2: left~right\n",
    "                        smoothed_value=(count_values[ind-1]+count_values[ind])*1.0/((right_hand_limit-i)+2)*1.0             \n",
    "                        for j in range(i,right_hand_limit+1): # left~right까지 평균으로 채우기   \n",
    "                            smoothed_bins.append(math.ceil(smoothed_value))\n",
    "                        smoothed_bins[i-1] = math.ceil(smoothed_value)\n",
    "                        repeat=(right_hand_limit-i)\n",
    "                else:\n",
    "                    #Case 3: 처음~right\n",
    "                    right_hand_limit=0\n",
    "                    for j in range(i,4464):\n",
    "                        if  j not in values[r-1]:\n",
    "                            continue\n",
    "                        else:\n",
    "                            right_hand_limit=j # interval 안에 픽업이 존재하는 경우 right가 됨\n",
    "                            break\n",
    "                    smoothed_value=count_values[ind]*1.0/((right_hand_limit-i)+1)*1.0\n",
    "                    for j in range(i,right_hand_limit+1):# 처음~left까지 평균으로 채우기\n",
    "                            smoothed_bins.append(math.ceil(smoothed_value))\n",
    "                    repeat=(right_hand_limit-i)\n",
    "            ind+=1\n",
    "        smoothed_regions.extend(smoothed_bins)\n",
    "    return smoothed_regions"
   ]
  },
  {
   "cell_type": "code",
   "execution_count": 70,
   "metadata": {},
   "outputs": [],
   "source": [
    "jan_2020_fill = fill_missing(jan_2020_groupby['trip_distance'].values , jan_2020_unique)"
   ]
  },
  {
   "cell_type": "code",
   "execution_count": 71,
   "metadata": {},
   "outputs": [],
   "source": [
    "jan_2020_smooth = smoothing(jan_2020_groupby['trip_distance'].values, jan_2020_unique)"
   ]
  },
  {
   "cell_type": "code",
   "execution_count": 72,
   "metadata": {},
   "outputs": [
    {
     "name": "stdout",
     "output_type": "stream",
     "text": [
      "number of 10min intravels among all the clusters  1182960\n"
     ]
    }
   ],
   "source": [
    "# number of 10min indices for jan 2020= 24*31*60/10 = 4464\n",
    "# number of 10min indices for jan 2021 = 24*31*60/10 = 4464\n",
    "# number of 10min indices for feb 2021 = 24*28*60/10 = 4032\n",
    "# number of 10min indices for march 2021 = 24*31*60/10 = 4464\n",
    "# for each cluster we will have 4464 values, therefore 265*4464 = 1182960 (length of the jan_2020_fill)\n",
    "print(\"number of 10min intravels among all the clusters \",len(jan_2020_fill))"
   ]
  },
  {
   "cell_type": "code",
   "execution_count": 73,
   "metadata": {},
   "outputs": [
    {
     "data": {
      "image/png": "[encoded data removed]",
      "text/plain": [
       "<Figure size 1000x500 with 1 Axes>"
      ]
     },
     "metadata": {},
     "output_type": "display_data"
    }
   ],
   "source": [
    "# 2020-01 10분 interval 탑승 빈도\n",
    "plt.figure(figsize=(10, 5))\n",
    "plt.plot(jan_2020_fill[0:1182960], label = \"zero filled values\")\n",
    "plt.plot(jan_2020_smooth[0:1182960], label=\"filled with avg values\")\n",
    "plt.legend()\n",
    "plt.show()"
   ]
  },
  {
   "cell_type": "code",
   "execution_count": 74,
   "metadata": {},
   "outputs": [],
   "source": [
    "# Jan-2020 data is smoothed, Jan,Feb & March 2021 data missing values are filled with zero\n",
    "jan_2020_smooth = smoothing(jan_2020_groupby['trip_distance'].values,jan_2020_unique)\n",
    "jan_2021_smooth = fill_missing(jan_2021_groupby['trip_distance'].values,jan_2021_unique)\n",
    "feb_2021_smooth = fill_missing(feb_2021_groupby['trip_distance'].values,feb_2021_unique)\n",
    "mar_2021_smooth = fill_missing(mar_2021_groupby['trip_distance'].values,mar_2021_unique)\n",
    "\n",
    "# Making list of all the values of pickup data in every bin for a period of 3 months and storing them region-wise \n",
    "regions_cum = []\n",
    "\n",
    "# a =[1,2,3]\n",
    "# b = [2,3,4]\n",
    "# a+b = [1, 2, 3, 2, 3, 4]\n",
    "\n",
    "# number of 10min indices for jan 2020 = 24*31*60/10 = 4464\n",
    "# number of 10min indices for jan 2021 = 24*31*60/10 = 4464\n",
    "# number of 10min indices for feb 2021 = 24*29*60/10 = 4032\n",
    "# number of 10min indices for march 2021 = 24*31*60/10 = 4464\n",
    "# regions_cum: it will contain 265 lists, each list will contain 4464+4032+4464 values which represents the number of pickups \n",
    "# that are happened for three months in 2021 data\n",
    "\n",
    "# i -> i-1, i+1 -> i\n",
    "for i in range(1,266):\n",
    "    regions_cum.append(jan_2021_smooth[4464*(i-1):4464*i]+feb_2021_smooth[4032*(i-1):4032*i]+mar_2021_smooth[4464*(i-1):4464*i])\n",
    "\n",
    "# print(len(regions_cum))\n",
    "# 265\n",
    "# print(len(regions_cum[0]))\n",
    "# 12960"
   ]
  },
  {
   "cell_type": "code",
   "execution_count": 75,
   "metadata": {},
   "outputs": [
    {
     "name": "stdout",
     "output_type": "stream",
     "text": [
      "265\n",
      "12960\n"
     ]
    }
   ],
   "source": [
    "print(len(regions_cum))\n",
    "# 265\n",
    "print(len(regions_cum[0]))\n",
    "# 12960"
   ]
  },
  {
   "cell_type": "code",
   "execution_count": 76,
   "metadata": {},
   "outputs": [
    {
     "data": {
      "image/png": "[encoded data removed]",
      "text/plain": [
       "<Figure size 1000x400 with 1 Axes>"
      ]
     },
     "metadata": {},
     "output_type": "display_data"
    },
    {
     "data": {
      "image/png": "[encoded data removed]",
      "text/plain": [
       "<Figure size 1000x400 with 1 Axes>"
      ]
     },
     "metadata": {},
     "output_type": "display_data"
    }
   ],
   "source": [
    "def uniqueish_color():\n",
    "    \"\"\"There're better ways to generate unique colors, but this isn't awful.\"\"\"\n",
    "    return plt.cm.gist_ncar(np.random.random())\n",
    "first_x = list(range(0,4464))\n",
    "second_x = list(range(4464,8496))\n",
    "third_x = list(range(8496,12960))\n",
    "for i in range(1, 3):\n",
    "    plt.figure(figsize=(10,4))\n",
    "    plt.plot(first_x,regions_cum[i][:4464], color=uniqueish_color(), label='2021 Jan month data')\n",
    "    plt.plot(second_x,regions_cum[i][4464:8496], color=uniqueish_color(), label='2021 feb month data')\n",
    "    plt.plot(third_x,regions_cum[i][8496:], color=uniqueish_color(), label='2021 march month data')\n",
    "    plt.legend()\n",
    "    plt.show()"
   ]
  },
  {
   "cell_type": "code",
   "execution_count": 92,
   "metadata": {},
   "outputs": [
    {
     "data": {
      "image/png": "[encoded data removed]",
      "text/plain": [
       "<Figure size 640x480 with 1 Axes>"
      ]
     },
     "metadata": {},
     "output_type": "display_data"
    }
   ],
   "source": [
    "# getting peaks: https://blog.ytotech.com/2015/11/01/findpeaks-in-python/\n",
    "# read more about fft function : https://docs.scipy.org/doc/numpy/reference/generated/numpy.fft.fft.html\n",
    "Y    = np.fft.fft(np.array(jan_2021_smooth)[0:4460])\n",
    "# read more about the fftfreq: https://docs.scipy.org/doc/numpy/reference/generated/numpy.fft.fftfreq.html  \n",
    "freq = np.fft.fftfreq(4464, 1)\n",
    "n = len(freq)\n",
    "plt.figure()\n",
    "plt.plot( freq[:int(n/2)], np.abs(Y)[:int(n/2)] )\n",
    "plt.xlabel(\"Frequency\")\n",
    "plt.ylabel(\"Amplitude\")\n",
    "plt.show()"
   ]
  },
  {
   "cell_type": "code",
   "execution_count": 78,
   "metadata": {},
   "outputs": [],
   "source": [
    "#Preparing the Dataframe only with x(i) values as jan-2020 data and y(i) values as jan-2021\n",
    "ratios_jan = pd.DataFrame()\n",
    "ratios_jan['Given']=jan_2020_smooth\n",
    "ratios_jan['Prediction']=jan_2021_smooth\n",
    "ratios_jan['Ratios']=ratios_jan['Prediction']*1.0/ratios_jan['Given']*1.0"
   ]
  },
  {
   "cell_type": "code",
   "execution_count": 80,
   "metadata": {},
   "outputs": [],
   "source": [
    "def MA_R_Predictions(ratios,month):\n",
    "    predicted_ratio=(ratios['Ratios'].values)[0]\n",
    "    error=[]\n",
    "    predicted_values=[]\n",
    "    window_size=3\n",
    "    predicted_ratio_values=[]\n",
    "    for i in range(0,4464*265):\n",
    "        if i%4464==0:\n",
    "            predicted_ratio_values.append(0)\n",
    "            predicted_values.append(0)\n",
    "            error.append(0)\n",
    "            continue\n",
    "        predicted_ratio_values.append(predicted_ratio)\n",
    "        predicted_values.append(int(((ratios['Given'].values)[i])*predicted_ratio))\n",
    "        error.append(abs((math.pow(int(((ratios['Given'].values)[i])*predicted_ratio)-(ratios['Prediction'].values)[i],1))))\n",
    "        if i+1>=window_size:\n",
    "            predicted_ratio=sum((ratios['Ratios'].values)[(i+1)-window_size:(i+1)])/window_size\n",
    "        else:\n",
    "            predicted_ratio=sum((ratios['Ratios'].values)[0:(i+1)])/(i+1)\n",
    "            \n",
    "    \n",
    "    ratios['MA_R_Predicted'] = predicted_values\n",
    "    ratios['MA_R_Error'] = error\n",
    "    mape_err = (sum(error)/len(error))/(sum(ratios['Prediction'].values)/len(ratios['Prediction'].values))\n",
    "    mse_err = sum([e**2 for e in error])/len(error)\n",
    "    return ratios,mape_err,mse_err"
   ]
  },
  {
   "cell_type": "code",
   "execution_count": 81,
   "metadata": {},
   "outputs": [],
   "source": [
    "def MA_P_Predictions(ratios,month):\n",
    "    predicted_value=(ratios['Prediction'].values)[0]\n",
    "    error=[]\n",
    "    predicted_values=[]\n",
    "    window_size=1\n",
    "    predicted_ratio_values=[]\n",
    "    for i in range(0,4464*265):\n",
    "        predicted_values.append(predicted_value)\n",
    "        error.append(abs((math.pow(predicted_value-(ratios['Prediction'].values)[i],1))))\n",
    "        if i+1>=window_size:\n",
    "            predicted_value=int(sum((ratios['Prediction'].values)[(i+1)-window_size:(i+1)])/window_size)\n",
    "        else:\n",
    "            predicted_value=int(sum((ratios['Prediction'].values)[0:(i+1)])/(i+1))\n",
    "            \n",
    "    ratios['MA_P_Predicted'] = predicted_values\n",
    "    ratios['MA_P_Error'] = error\n",
    "    mape_err = (sum(error)/len(error))/(sum(ratios['Prediction'].values)/len(ratios['Prediction'].values))\n",
    "    mse_err = sum([e**2 for e in error])/len(error)\n",
    "    return ratios,mape_err,mse_err"
   ]
  },
  {
   "cell_type": "code",
   "execution_count": 82,
   "metadata": {},
   "outputs": [],
   "source": [
    "def WA_R_Predictions(ratios,month):\n",
    "    predicted_ratio=(ratios['Ratios'].values)[0]\n",
    "    alpha=0.5\n",
    "    error=[]\n",
    "    predicted_values=[]\n",
    "    window_size=5\n",
    "    predicted_ratio_values=[]\n",
    "    for i in range(0,4464*265):\n",
    "        if i%4464==0:\n",
    "            predicted_ratio_values.append(0)\n",
    "            predicted_values.append(0)\n",
    "            error.append(0)\n",
    "            continue\n",
    "        predicted_ratio_values.append(predicted_ratio)\n",
    "        predicted_values.append(int(((ratios['Given'].values)[i])*predicted_ratio))\n",
    "        error.append(abs((math.pow(int(((ratios['Given'].values)[i])*predicted_ratio)-(ratios['Prediction'].values)[i],1))))\n",
    "        if i+1>=window_size:\n",
    "            sum_values=0\n",
    "            sum_of_coeff=0\n",
    "            for j in range(window_size,0,-1):\n",
    "                sum_values += j*(ratios['Ratios'].values)[i-window_size+j]\n",
    "                sum_of_coeff+=j\n",
    "            predicted_ratio=sum_values/sum_of_coeff\n",
    "        else:\n",
    "            sum_values=0\n",
    "            sum_of_coeff=0\n",
    "            for j in range(i+1,0,-1):\n",
    "                sum_values += j*(ratios['Ratios'].values)[j-1]\n",
    "                sum_of_coeff+=j\n",
    "            predicted_ratio=sum_values/sum_of_coeff\n",
    "            \n",
    "    ratios['WA_R_Predicted'] = predicted_values\n",
    "    ratios['WA_R_Error'] = error\n",
    "    mape_err = (sum(error)/len(error))/(sum(ratios['Prediction'].values)/len(ratios['Prediction'].values))\n",
    "    mse_err = sum([e**2 for e in error])/len(error)\n",
    "    return ratios,mape_err,mse_err"
   ]
  },
  {
   "cell_type": "code",
   "execution_count": 83,
   "metadata": {},
   "outputs": [],
   "source": [
    "def WA_P_Predictions(ratios,month):\n",
    "    predicted_value=(ratios['Prediction'].values)[0]\n",
    "    error=[]\n",
    "    predicted_values=[]\n",
    "    window_size=2\n",
    "    for i in range(0,4464*265):\n",
    "        predicted_values.append(predicted_value)\n",
    "        error.append(abs((math.pow(predicted_value-(ratios['Prediction'].values)[i],1))))\n",
    "        if i+1>=window_size:\n",
    "            sum_values=0\n",
    "            sum_of_coeff=0\n",
    "            for j in range(window_size,0,-1):\n",
    "                sum_values += j*(ratios['Prediction'].values)[i-window_size+j]\n",
    "                sum_of_coeff+=j\n",
    "            predicted_value=int(sum_values/sum_of_coeff)\n",
    "\n",
    "        else:\n",
    "            sum_values=0\n",
    "            sum_of_coeff=0\n",
    "            for j in range(i+1,0,-1):\n",
    "                sum_values += j*(ratios['Prediction'].values)[j-1]\n",
    "                sum_of_coeff+=j\n",
    "            predicted_value=int(sum_values/sum_of_coeff)\n",
    "    \n",
    "    ratios['WA_P_Predicted'] = predicted_values\n",
    "    ratios['WA_P_Error'] = error\n",
    "    mape_err = (sum(error)/len(error))/(sum(ratios['Prediction'].values)/len(ratios['Prediction'].values))\n",
    "    mse_err = sum([e**2 for e in error])/len(error)\n",
    "    return ratios,mape_err,mse_err"
   ]
  },
  {
   "cell_type": "code",
   "execution_count": 84,
   "metadata": {},
   "outputs": [],
   "source": [
    "def EA_R1_Predictions(ratios,month):\n",
    "    predicted_ratio=(ratios['Ratios'].values)[0]\n",
    "    alpha=0.6\n",
    "    error=[]\n",
    "    predicted_values=[]\n",
    "    predicted_ratio_values=[]\n",
    "    for i in range(0,4464*265):\n",
    "        if i%4464==0:\n",
    "            predicted_ratio_values.append(0)\n",
    "            predicted_values.append(0)\n",
    "            error.append(0)\n",
    "            continue\n",
    "        predicted_ratio_values.append(predicted_ratio)\n",
    "        predicted_values.append(int(((ratios['Given'].values)[i])*predicted_ratio))\n",
    "        error.append(abs((math.pow(int(((ratios['Given'].values)[i])*predicted_ratio)-(ratios['Prediction'].values)[i],1))))\n",
    "        predicted_ratio = (alpha*predicted_ratio) + (1-alpha)*((ratios['Ratios'].values)[i])\n",
    "    \n",
    "    ratios['EA_R1_Predicted'] = predicted_values\n",
    "    ratios['EA_R1_Error'] = error\n",
    "    mape_err = (sum(error)/len(error))/(sum(ratios['Prediction'].values)/len(ratios['Prediction'].values))\n",
    "    mse_err = sum([e**2 for e in error])/len(error)\n",
    "    return ratios,mape_err,mse_err"
   ]
  },
  {
   "cell_type": "code",
   "execution_count": 85,
   "metadata": {},
   "outputs": [],
   "source": [
    "def EA_P1_Predictions(ratios,month):\n",
    "    predicted_value= (ratios['Prediction'].values)[0]\n",
    "    alpha=0.3\n",
    "    error=[]\n",
    "    predicted_values=[]\n",
    "    for i in range(0,4464*265):\n",
    "        if i%4464==0:\n",
    "            predicted_values.append(0)\n",
    "            error.append(0)\n",
    "            continue\n",
    "        predicted_values.append(predicted_value)\n",
    "        error.append(abs((math.pow(predicted_value-(ratios['Prediction'].values)[i],1))))\n",
    "        predicted_value =int((alpha*predicted_value) + (1-alpha)*((ratios['Prediction'].values)[i]))\n",
    "    \n",
    "    ratios['EA_P1_Predicted'] = predicted_values\n",
    "    ratios['EA_P1_Error'] = error\n",
    "    mape_err = (sum(error)/len(error))/(sum(ratios['Prediction'].values)/len(ratios['Prediction'].values))\n",
    "    mse_err = sum([e**2 for e in error])/len(error)\n",
    "    return ratios,mape_err,mse_err"
   ]
  },
  {
   "cell_type": "code",
   "execution_count": 86,
   "metadata": {},
   "outputs": [],
   "source": [
    "mean_err=[0]*10\n",
    "median_err=[0]*10\n",
    "ratios_jan,mean_err[0],median_err[0]=MA_R_Predictions(ratios_jan,'jan')\n",
    "ratios_jan,mean_err[1],median_err[1]=MA_P_Predictions(ratios_jan,'jan')\n",
    "ratios_jan,mean_err[2],median_err[2]=WA_R_Predictions(ratios_jan,'jan')\n",
    "ratios_jan,mean_err[3],median_err[3]=WA_P_Predictions(ratios_jan,'jan')\n",
    "ratios_jan,mean_err[4],median_err[4]=EA_R1_Predictions(ratios_jan,'jan')\n",
    "ratios_jan,mean_err[5],median_err[5]=EA_P1_Predictions(ratios_jan,'jan')"
   ]
  },
  {
   "cell_type": "code",
   "execution_count": 87,
   "metadata": {},
   "outputs": [
    {
     "name": "stdout",
     "output_type": "stream",
     "text": [
      "Error Metric Matrix (Forecasting Methods) - MAPE & MSE\n",
      "--------------------------------------------------------------------------------------------------------\n",
      "Moving Averages (Ratios) -                             MAPE:  0.7080152542283445       MSE:  20.166954926624737\n",
      "Moving Averages (2021 Values) -                        MAPE:  0.6412957199059538        MSE:  6.233370528166633\n",
      "--------------------------------------------------------------------------------------------------------\n",
      "Weighted Moving Averages (Ratios) -                    MAPE:  0.696266272068917       MSE:  21.525332217488334\n",
      "Weighted Moving Averages (2021 Values) -               MAPE:  0.5718503855393896       MSE:  4.859137248934875\n",
      "--------------------------------------------------------------------------------------------------------\n",
      "Exponential Moving Averages (Ratios) -              MAPE:  0.6979012998055908       MSE:  19.126516534794074\n",
      "Exponential Moving Averages (2021 Values) -         MAPE:  0.564678576462988       MSE:  4.84569469804558\n"
     ]
    }
   ],
   "source": [
    "print (\"Error Metric Matrix (Forecasting Methods) - MAPE & MSE\")\n",
    "print (\"--------------------------------------------------------------------------------------------------------\")\n",
    "print (\"Moving Averages (Ratios) -                             MAPE: \",mean_err[0],\"      MSE: \",median_err[0])\n",
    "print (\"Moving Averages (2021 Values) -                        MAPE: \",mean_err[1],\"       MSE: \",median_err[1])\n",
    "print (\"--------------------------------------------------------------------------------------------------------\")\n",
    "print (\"Weighted Moving Averages (Ratios) -                    MAPE: \",mean_err[2],\"      MSE: \",median_err[2])\n",
    "print (\"Weighted Moving Averages (2021 Values) -               MAPE: \",mean_err[3],\"      MSE: \",median_err[3])\n",
    "print (\"--------------------------------------------------------------------------------------------------------\")\n",
    "print (\"Exponential Moving Averages (Ratios) -              MAPE: \",mean_err[4],\"      MSE: \",median_err[4])\n",
    "print (\"Exponential Moving Averages (2021 Values) -         MAPE: \",mean_err[5],\"      MSE: \",median_err[5])"
   ]
  },
  {
   "cell_type": "code",
   "execution_count": 123,
   "metadata": {},
   "outputs": [],
   "source": [
    "# Preparing data to be split into train and test, The below prepares data in cumulative form which will be later split into test and train\n",
    "# number of 10min indices for jan 2020= 24*31*60/10 = 4464\n",
    "# number of 10min indices for jan 2021 = 24*31*60/10 = 4464\n",
    "# number of 10min indices for feb 2021 = 24*28*60/10 = 4032\n",
    "# number of 10min indices for march 2021 = 24*31*60/10 = 4464\n",
    "# regions_cum: it will contain 265 lists, each list will contain 4464+4032+4464 values which represents the number of pickups \n",
    "# that are happened for three months in 2021 data\n",
    "\n",
    "# print(len(regions_cum))\n",
    "# 265\n",
    "# print(len(regions_cum[0]))\n",
    "# 12960\n",
    "\n",
    "# we take number of pickups that are happened in last 5 10min intravels\n",
    "number_of_time_stamps = 5\n",
    "\n",
    "# output varaible\n",
    "# it is list of lists\n",
    "# it will contain number of pickups 12955 for each cluster\n",
    "output = []\n",
    "\n",
    "tsne_destination = []\n",
    "# we will code each day \n",
    "# sunday = 0, monday=1, tue = 2, wed=3, thur=4, fri=5,sat=6\n",
    "# for every cluster we will be adding 12955 values, each value represent to which day of the week that pickup bin belongs to\n",
    "# it is list of lists\n",
    "tsne_weekday = []\n",
    "\n",
    "# its an numbpy array, of shape (523960, 5)\n",
    "# each row corresponds to an entry in out data\n",
    "# for the first row we will have [f0,f1,f2,f3,f4] fi=number of pickups happened in i+1th 10min intravel(bin)\n",
    "# the second row will have [f1,f2,f3,f4,f5]\n",
    "# the third row will have [f2,f3,f4,f5,f6]\n",
    "# and so on...\n",
    "tsne_feature = []\n",
    "\n",
    "tsne_feature = [0]*number_of_time_stamps\n",
    "\n",
    "for i in range(1,266):\n",
    "    tsne_destination.append([i]*12955)\n",
    "    # jan 1st 2021 is 금요일, so we start our day from 5: \"(int(k/144))%7+5\"\n",
    "    # our prediction start from 5th 10min intravel since we need to have number of pickups that are happened in last 5 pickup bins\n",
    "    tsne_weekday.append([int(((int(k/144))%7+5)%7) for k in range(5, 4464+4032+4464)])\n",
    "    # regions_cum is a list of lists [[x1,x2,x3..x13104], [x1,x2,x3..x13104], [x1,x2,x3..x13104], [x1,x2,x3..x13104], [x1,x2,x3..x13104], .. 40 lsits]\n",
    "    tsne_feature = np.vstack((tsne_feature, [regions_cum[i-1][r:r+number_of_time_stamps] for r in range(0,len(regions_cum[i-1])-number_of_time_stamps)]))\n",
    "    \n",
    "    output.append(regions_cum[i-1][5:])\n",
    "tsne_feature = tsne_feature[1:]"
   ]
  },
  {
   "cell_type": "code",
   "execution_count": 125,
   "metadata": {},
   "outputs": [
    {
     "data": {
      "text/plain": [
       "True"
      ]
     },
     "execution_count": 125,
     "metadata": {},
     "output_type": "execute_result"
    }
   ],
   "source": [
    "## 3433075\n",
    "len(tsne_destination)*len(tsne_destination[0]) == tsne_feature.shape[0] == len(tsne_weekday)*len(tsne_weekday[0]) == 265*12955 == len(output)*len(output[0])"
   ]
  },
  {
   "cell_type": "code",
   "execution_count": 126,
   "metadata": {},
   "outputs": [],
   "source": [
    "# Getting the predictions of exponential moving averages to be used as a feature in cumulative form\n",
    "\n",
    "# upto now we computed 8 features for every data point that starts from 50th min of the day\n",
    "# 1. cluster center lattitude\n",
    "# 2. cluster center longitude\n",
    "# 3. day of the week \n",
    "# 4. f_t_1: number of pickups that are happened previous t-1th 10min intravel\n",
    "# 5. f_t_2: number of pickups that are happened previous t-2th 10min intravel\n",
    "# 6. f_t_3: number of pickups that are happened previous t-3th 10min intravel\n",
    "# 7. f_t_4: number of pickups that are happened previous t-4th 10min intravel\n",
    "# 8. f_t_5: number of pickups that are happened previous t-5th 10min intravel\n",
    "\n",
    "# from the baseline models we said the exponential weighted moving avarage gives us the best error\n",
    "# we will try to add the same exponential weighted moving avarage at t as a feature to our data\n",
    "# exponential weighted moving avarage => p'(t) = alpha*p'(t-1) + (1-alpha)*P(t-1) \n",
    "alpha=0.3\n",
    "\n",
    "# it is a temporary array that store exponential weighted moving avarage for each 10min intravel, \n",
    "# for each cluster it will get reset\n",
    "# for every cluster it contains 13104 values\n",
    "predicted_values=[]\n",
    "\n",
    "# it is similar like tsne_lat\n",
    "# it is list of lists\n",
    "# predict_list is a list of lists [[x5,x6,x7..x13104], [x5,x6,x7..x13104], [x5,x6,x7..x13104], [x5,x6,x7..x13104], [x5,x6,x7..x13104], .. 40 lsits]\n",
    "predict_list = []\n",
    "tsne_flat_exp_avg = []\n",
    "for r in range(1,266):\n",
    "    for i in range(0,12960):\n",
    "        if i==0:\n",
    "            predicted_value= regions_cum[r-1][0]\n",
    "            predicted_values.append(0)\n",
    "            continue\n",
    "        predicted_values.append(predicted_value)\n",
    "        predicted_value =int((alpha*predicted_value) + (1-alpha)*(regions_cum[r-1][i]))\n",
    "    predict_list.append(predicted_values[5:])\n",
    "    predicted_values=[]"
   ]
  },
  {
   "cell_type": "code",
   "execution_count": 127,
   "metadata": {},
   "outputs": [
    {
     "name": "stdout",
     "output_type": "stream",
     "text": [
      "size of train data : 9068\n",
      "size of test data : 3886\n"
     ]
    }
   ],
   "source": [
    "# train, test split : 70% 30% split\n",
    "# Before we start predictions using the tree based regression models we take 3 months of 2016 pickup data \n",
    "# and split it such that for every region we have 70% data in train and 30% in test,\n",
    "# ordered date-wise for every region\n",
    "print(\"size of train data :\", int(12955*0.7))\n",
    "print(\"size of test data :\", int(12955*0.3))"
   ]
  },
  {
   "cell_type": "code",
   "execution_count": 128,
   "metadata": {},
   "outputs": [],
   "source": [
    "# extracting first 9068 timestamp values i.e 70% of 12955 (total timestamps) for our training data\n",
    "train_features =  [tsne_feature[(i-1)*12955:(12955*(i-1)+9068)] for i in range(1,266)]\n",
    "# temp = [0]*(12955 - 9068)\n",
    "test_features = [tsne_feature[(12955*(i-1))+9068:12955*i] for i in range(1,266)]"
   ]
  },
  {
   "cell_type": "code",
   "execution_count": 129,
   "metadata": {},
   "outputs": [
    {
     "name": "stdout",
     "output_type": "stream",
     "text": [
      "Number of data clusters 265 Number of data points in trian data 9068 Each data point contains 5 features\n",
      "Number of data clusters 265 Number of data points in test data 3887 Each data point contains 5 features\n"
     ]
    }
   ],
   "source": [
    "print(\"Number of data clusters\",len(train_features), \"Number of data points in trian data\", len(train_features[0]), \"Each data point contains\", len(train_features[0][0]),\"features\")\n",
    "print(\"Number of data clusters\",len(train_features), \"Number of data points in test data\", len(test_features[0]), \"Each data point contains\", len(test_features[0][0]),\"features\")"
   ]
  },
  {
   "cell_type": "code",
   "execution_count": 130,
   "metadata": {},
   "outputs": [],
   "source": [
    "# extracting first 9169 timestamp values i.e 70% of 12955 (total timestamps) for our training data\n",
    "tsne_train_flat_destination = [i[:9068] for i in tsne_destination]\n",
    "tsne_train_flat_weekday = [i[:9068] for i in tsne_weekday]\n",
    "tsne_train_flat_output = [i[:9068] for i in output]\n",
    "tsne_train_flat_exp_avg = [i[:9068] for i in predict_list]"
   ]
  },
  {
   "cell_type": "code",
   "execution_count": 131,
   "metadata": {},
   "outputs": [],
   "source": [
    "# extracting the rest of the timestamp values i.e 30% of 12955 (total timestamps) for our test data\n",
    "tsne_test_flat_destination = [i[9068:] for i in tsne_destination]\n",
    "tsne_test_flat_weekday = [i[9068:] for i in tsne_weekday]\n",
    "tsne_test_flat_output = [i[9068:] for i in output]\n",
    "tsne_test_flat_exp_avg = [i[9068:] for i in predict_list]"
   ]
  },
  {
   "cell_type": "code",
   "execution_count": 132,
   "metadata": {},
   "outputs": [],
   "source": [
    "# the above contains values in the form of list of lists (i.e. list of values of each region), here we make all of them in one list\n",
    "train_new_features = []\n",
    "for i in range(1,266):\n",
    "    train_new_features.extend(train_features[i-1])\n",
    "test_new_features = []\n",
    "for i in range(1,266):\n",
    "    test_new_features.extend(test_features[i-1])"
   ]
  },
  {
   "cell_type": "code",
   "execution_count": 133,
   "metadata": {},
   "outputs": [],
   "source": [
    "# converting lists of lists into sinle list i.e flatten\n",
    "# a  = [[1,2,3,4],[4,6,7,8]]\n",
    "# print(sum(a,[]))\n",
    "# [1, 2, 3, 4, 4, 6, 7, 8]\n",
    "tsne_train_destination = sum(tsne_train_flat_destination, [])\n",
    "tsne_train_weekday = sum(tsne_train_flat_weekday, [])\n",
    "tsne_train_output = sum(tsne_train_flat_output, [])\n",
    "tsne_train_exp_avg = sum(tsne_train_flat_exp_avg,[])"
   ]
  },
  {
   "cell_type": "code",
   "execution_count": 134,
   "metadata": {},
   "outputs": [],
   "source": [
    "# converting lists of lists into sinle list i.e flatten\n",
    "# a  = [[1,2,3,4],[4,6,7,8]]\n",
    "# print(sum(a,[]))\n",
    "# [1, 2, 3, 4, 4, 6, 7, 8]\n",
    "tsne_test_destination = sum(tsne_test_flat_destination, [])\n",
    "tsne_test_weekday = sum(tsne_test_flat_weekday, [])\n",
    "tsne_test_output = sum(tsne_test_flat_output, [])\n",
    "tsne_test_exp_avg = sum(tsne_test_flat_exp_avg,[])"
   ]
  },
  {
   "cell_type": "code",
   "execution_count": 135,
   "metadata": {},
   "outputs": [
    {
     "name": "stdout",
     "output_type": "stream",
     "text": [
      "(2403020, 8)\n"
     ]
    }
   ],
   "source": [
    "# Preparing the data frame for our train data\n",
    "columns = ['ft_5','ft_4','ft_3','ft_2','ft_1']\n",
    "df_train = pd.DataFrame(data=train_new_features, columns=columns)\n",
    "df_train['destination'] = tsne_train_destination\n",
    "df_train['weekday'] = tsne_train_weekday\n",
    "df_train['exp_avg'] = tsne_train_exp_avg\n",
    "\n",
    "print(df_train.shape)"
   ]
  },
  {
   "cell_type": "code",
   "execution_count": 136,
   "metadata": {},
   "outputs": [
    {
     "name": "stdout",
     "output_type": "stream",
     "text": [
      "(1030055, 8)\n"
     ]
    }
   ],
   "source": [
    "# Preparing the data frame for our train data\n",
    "df_test = pd.DataFrame(data=test_new_features, columns=columns)\n",
    "df_test['destination'] = tsne_test_destination\n",
    "df_test['weekday'] = tsne_test_weekday\n",
    "df_test['exp_avg'] = tsne_test_exp_avg\n",
    "print(df_test.shape)"
   ]
  },
  {
   "cell_type": "code",
   "execution_count": 137,
   "metadata": {},
   "outputs": [
    {
     "data": {
      "text/html": [
       "<div>\n",
       "<style scoped>\n",
       "    .dataframe tbody tr th:only-of-type {\n",
       "        vertical-align: middle;\n",
       "    }\n",
       "\n",
       "    .dataframe tbody tr th {\n",
       "        vertical-align: top;\n",
       "    }\n",
       "\n",
       "    .dataframe thead th {\n",
       "        text-align: right;\n",
       "    }\n",
       "</style>\n",
       "<table border=\"1\" class=\"dataframe\">\n",
       "  <thead>\n",
       "    <tr style=\"text-align: right;\">\n",
       "      <th></th>\n",
       "      <th>ft_5</th>\n",
       "      <th>ft_4</th>\n",
       "      <th>ft_3</th>\n",
       "      <th>ft_2</th>\n",
       "      <th>ft_1</th>\n",
       "      <th>destination</th>\n",
       "      <th>weekday</th>\n",
       "      <th>exp_avg</th>\n",
       "    </tr>\n",
       "  </thead>\n",
       "  <tbody>\n",
       "    <tr>\n",
       "      <th>0</th>\n",
       "      <td>0</td>\n",
       "      <td>0</td>\n",
       "      <td>0</td>\n",
       "      <td>0</td>\n",
       "      <td>0</td>\n",
       "      <td>1</td>\n",
       "      <td>5</td>\n",
       "      <td>0</td>\n",
       "    </tr>\n",
       "    <tr>\n",
       "      <th>1</th>\n",
       "      <td>0</td>\n",
       "      <td>0</td>\n",
       "      <td>0</td>\n",
       "      <td>0</td>\n",
       "      <td>0</td>\n",
       "      <td>1</td>\n",
       "      <td>5</td>\n",
       "      <td>0</td>\n",
       "    </tr>\n",
       "    <tr>\n",
       "      <th>2</th>\n",
       "      <td>0</td>\n",
       "      <td>0</td>\n",
       "      <td>0</td>\n",
       "      <td>0</td>\n",
       "      <td>0</td>\n",
       "      <td>1</td>\n",
       "      <td>5</td>\n",
       "      <td>0</td>\n",
       "    </tr>\n",
       "    <tr>\n",
       "      <th>3</th>\n",
       "      <td>0</td>\n",
       "      <td>0</td>\n",
       "      <td>0</td>\n",
       "      <td>0</td>\n",
       "      <td>0</td>\n",
       "      <td>1</td>\n",
       "      <td>5</td>\n",
       "      <td>0</td>\n",
       "    </tr>\n",
       "    <tr>\n",
       "      <th>4</th>\n",
       "      <td>0</td>\n",
       "      <td>0</td>\n",
       "      <td>0</td>\n",
       "      <td>0</td>\n",
       "      <td>0</td>\n",
       "      <td>1</td>\n",
       "      <td>5</td>\n",
       "      <td>0</td>\n",
       "    </tr>\n",
       "  </tbody>\n",
       "</table>\n",
       "</div>"
      ],
      "text/plain": [
       "   ft_5  ft_4  ft_3  ft_2  ft_1  destination  weekday  exp_avg\n",
       "0     0     0     0     0     0            1        5        0\n",
       "1     0     0     0     0     0            1        5        0\n",
       "2     0     0     0     0     0            1        5        0\n",
       "3     0     0     0     0     0            1        5        0\n",
       "4     0     0     0     0     0            1        5        0"
      ]
     },
     "execution_count": 137,
     "metadata": {},
     "output_type": "execute_result"
    }
   ],
   "source": [
    "df_test.head()"
   ]
  },
  {
   "cell_type": "code",
   "execution_count": 138,
   "metadata": {},
   "outputs": [],
   "source": [
    "# find more about LinearRegression function here http://scikit-learn.org/stable/modules/generated/sklearn.linear_model.LinearRegression.html\n",
    "# -------------------------\n",
    "# default paramters\n",
    "# sklearn.linear_model.LinearRegression(fit_intercept=True, normalize=False, copy_X=True, n_jobs=1)\n",
    "\n",
    "# some of methods of LinearRegression()\n",
    "# fit(X, y[, sample_weight])\tFit linear model.\n",
    "# get_params([deep])\tGet parameters for this estimator.\n",
    "# predict(X)\tPredict using the linear model\n",
    "# score(X, y[, sample_weight])\tReturns the coefficient of determination R^2 of the prediction.\n",
    "# set_params(**params)\tSet the parameters of this estimator.\n",
    "# -----------------------\n",
    "# video link: https://www.appliedaicourse.com/course/applied-ai-course-online/lessons/geometric-intuition-1-2-copy-8/\n",
    "# -----------------------\n",
    "\n",
    "from sklearn.linear_model import LinearRegression\n",
    "lr_reg=LinearRegression().fit(df_train, tsne_train_output)\n",
    "\n",
    "y_pred = lr_reg.predict(df_test)\n",
    "lr_test_predictions = [round(value) for value in y_pred]\n",
    "y_pred = lr_reg.predict(df_train)\n",
    "lr_train_predictions = [round(value) for value in y_pred]"
   ]
  },
  {
   "cell_type": "code",
   "execution_count": 139,
   "metadata": {},
   "outputs": [
    {
     "data": {
      "text/html": [
       "<style>#sk-container-id-1 {color: black;background-color: white;}#sk-container-id-1 pre{padding: 0;}#sk-container-id-1 div.sk-toggleable {background-color: white;}#sk-container-id-1 label.sk-toggleable__label {cursor: pointer;display: block;width: 100%;margin-bottom: 0;padding: 0.3em;box-sizing: border-box;text-align: center;}#sk-container-id-1 label.sk-toggleable__label-arrow:before {content: \"▸\";float: left;margin-right: 0.25em;color: #696969;}#sk-container-id-1 label.sk-toggleable__label-arrow:hover:before {color: black;}#sk-container-id-1 div.sk-estimator:hover label.sk-toggleable__label-arrow:before {color: black;}#sk-container-id-1 div.sk-toggleable__content {max-height: 0;max-width: 0;overflow: hidden;text-align: left;background-color: #f0f8ff;}#sk-container-id-1 div.sk-toggleable__content pre {margin: 0.2em;color: black;border-radius: 0.25em;background-color: #f0f8ff;}#sk-container-id-1 input.sk-toggleable__control:checked~div.sk-toggleable__content {max-height: 200px;max-width: 100%;overflow: auto;}#sk-container-id-1 input.sk-toggleable__control:checked~label.sk-toggleable__label-arrow:before {content: \"▾\";}#sk-container-id-1 div.sk-estimator input.sk-toggleable__control:checked~label.sk-toggleable__label {background-color: #d4ebff;}#sk-container-id-1 div.sk-label input.sk-toggleable__control:checked~label.sk-toggleable__label {background-color: #d4ebff;}#sk-container-id-1 input.sk-hidden--visually {border: 0;clip: rect(1px 1px 1px 1px);clip: rect(1px, 1px, 1px, 1px);height: 1px;margin: -1px;overflow: hidden;padding: 0;position: absolute;width: 1px;}#sk-container-id-1 div.sk-estimator {font-family: monospace;background-color: #f0f8ff;border: 1px dotted black;border-radius: 0.25em;box-sizing: border-box;margin-bottom: 0.5em;}#sk-container-id-1 div.sk-estimator:hover {background-color: #d4ebff;}#sk-container-id-1 div.sk-parallel-item::after {content: \"\";width: 100%;border-bottom: 1px solid gray;flex-grow: 1;}#sk-container-id-1 div.sk-label:hover label.sk-toggleable__label {background-color: #d4ebff;}#sk-container-id-1 div.sk-serial::before {content: \"\";position: absolute;border-left: 1px solid gray;box-sizing: border-box;top: 0;bottom: 0;left: 50%;z-index: 0;}#sk-container-id-1 div.sk-serial {display: flex;flex-direction: column;align-items: center;background-color: white;padding-right: 0.2em;padding-left: 0.2em;position: relative;}#sk-container-id-1 div.sk-item {position: relative;z-index: 1;}#sk-container-id-1 div.sk-parallel {display: flex;align-items: stretch;justify-content: center;background-color: white;position: relative;}#sk-container-id-1 div.sk-item::before, #sk-container-id-1 div.sk-parallel-item::before {content: \"\";position: absolute;border-left: 1px solid gray;box-sizing: border-box;top: 0;bottom: 0;left: 50%;z-index: -1;}#sk-container-id-1 div.sk-parallel-item {display: flex;flex-direction: column;z-index: 1;position: relative;background-color: white;}#sk-container-id-1 div.sk-parallel-item:first-child::after {align-self: flex-end;width: 50%;}#sk-container-id-1 div.sk-parallel-item:last-child::after {align-self: flex-start;width: 50%;}#sk-container-id-1 div.sk-parallel-item:only-child::after {width: 0;}#sk-container-id-1 div.sk-dashed-wrapped {border: 1px dashed gray;margin: 0 0.4em 0.5em 0.4em;box-sizing: border-box;padding-bottom: 0.4em;background-color: white;}#sk-container-id-1 div.sk-label label {font-family: monospace;font-weight: bold;display: inline-block;line-height: 1.2em;}#sk-container-id-1 div.sk-label-container {text-align: center;}#sk-container-id-1 div.sk-container {/* jupyter's `normalize.less` sets `[hidden] { display: none; }` but bootstrap.min.css set `[hidden] { display: none !important; }` so we also need the `!important` here to be able to override the default hidden behavior on the sphinx rendered scikit-learn.org. See: https://github.com/scikit-learn/scikit-learn/issues/21755 */display: inline-block !important;position: relative;}#sk-container-id-1 div.sk-text-repr-fallback {display: none;}</style><div id=\"sk-container-id-1\" class=\"sk-top-container\"><div class=\"sk-text-repr-fallback\"><pre>RandomForestRegressor(max_features=&#x27;sqrt&#x27;, min_samples_leaf=4,\n",
       "                      min_samples_split=3, n_estimators=40, n_jobs=-1)</pre><b>In a Jupyter environment, please rerun this cell to show the HTML representation or trust the notebook. <br />On GitHub, the HTML representation is unable to render, please try loading this page with nbviewer.org.</b></div><div class=\"sk-container\" hidden><div class=\"sk-item\"><div class=\"sk-estimator sk-toggleable\"><input class=\"sk-toggleable__control sk-hidden--visually\" id=\"sk-estimator-id-1\" type=\"checkbox\" checked><label for=\"sk-estimator-id-1\" class=\"sk-toggleable__label sk-toggleable__label-arrow\">RandomForestRegressor</label><div class=\"sk-toggleable__content\"><pre>RandomForestRegressor(max_features=&#x27;sqrt&#x27;, min_samples_leaf=4,\n",
       "                      min_samples_split=3, n_estimators=40, n_jobs=-1)</pre></div></div></div></div></div>"
      ],
      "text/plain": [
       "RandomForestRegressor(max_features='sqrt', min_samples_leaf=4,\n",
       "                      min_samples_split=3, n_estimators=40, n_jobs=-1)"
      ]
     },
     "execution_count": 139,
     "metadata": {},
     "output_type": "execute_result"
    }
   ],
   "source": [
    "# Training a hyper-parameter tuned random forest regressor on our train data\n",
    "# find more about LinearRegression function here http://scikit-learn.org/stable/modules/generated/sklearn.ensemble.RandomForestRegressor.html\n",
    "# -------------------------\n",
    "# default paramters\n",
    "# sklearn.ensemble.RandomForestRegressor(n_estimators=10, criterion=’mse’, max_depth=None, min_samples_split=2, \n",
    "# min_samples_leaf=1, min_weight_fraction_leaf=0.0, max_features=’auto’, max_leaf_nodes=None, min_impurity_decrease=0.0, \n",
    "# min_impurity_split=None, bootstrap=True, oob_score=False, n_jobs=1, random_state=None, verbose=0, warm_start=False)\n",
    "\n",
    "# some of methods of RandomForestRegressor()\n",
    "# apply(X)\tApply trees in the forest to X, return leaf indices.\n",
    "# decision_path(X)\tReturn the decision path in the forest\n",
    "# fit(X, y[, sample_weight])\tBuild a forest of trees from the training set (X, y).\n",
    "# get_params([deep])\tGet parameters for this estimator.\n",
    "# predict(X)\tPredict regression target for X.\n",
    "# score(X, y[, sample_weight])\tReturns the coefficient of determination R^2 of the prediction.\n",
    "# -----------------------\n",
    "# video link1: https://www.appliedaicourse.com/course/applied-ai-course-online/lessons/regression-using-decision-trees-2/\n",
    "# video link2: https://www.appliedaicourse.com/course/applied-ai-course-online/lessons/what-are-ensembles/\n",
    "# -----------------------\n",
    "\n",
    "regr1 = RandomForestRegressor(max_features='sqrt',min_samples_leaf=4,min_samples_split=3,n_estimators=40, n_jobs=-1)\n",
    "regr1.fit(df_train, tsne_train_output)"
   ]
  },
  {
   "cell_type": "code",
   "execution_count": 140,
   "metadata": {},
   "outputs": [],
   "source": [
    "# Predicting on test data using our trained random forest model \n",
    "\n",
    "# the models regr1 is already hyper parameter tuned\n",
    "# the parameters that we got above are found using grid search\n",
    "\n",
    "y_pred = regr1.predict(df_test)\n",
    "rndf_test_predictions = [round(value) for value in y_pred]\n",
    "y_pred = regr1.predict(df_train)\n",
    "rndf_train_predictions = [round(value) for value in y_pred]"
   ]
  },
  {
   "cell_type": "code",
   "execution_count": 141,
   "metadata": {},
   "outputs": [
    {
     "name": "stdout",
     "output_type": "stream",
     "text": [
      "Index(['ft_5', 'ft_4', 'ft_3', 'ft_2', 'ft_1', 'destination', 'weekday',\n",
      "       'exp_avg'],\n",
      "      dtype='object')\n",
      "[0.06821064 0.11451262 0.15108634 0.14792617 0.17051151 0.02644347\n",
      " 0.00998838 0.31132087]\n"
     ]
    }
   ],
   "source": [
    "#feature importances based on analysis using random forest\n",
    "print (df_train.columns)\n",
    "print (regr1.feature_importances_)"
   ]
  },
  {
   "cell_type": "markdown",
   "metadata": {},
   "source": [
    "# Using XGBoost"
   ]
  },
  {
   "cell_type": "code",
   "execution_count": 142,
   "metadata": {},
   "outputs": [
    {
     "data": {
      "text/html": [
       "<style>#sk-container-id-2 {color: black;background-color: white;}#sk-container-id-2 pre{padding: 0;}#sk-container-id-2 div.sk-toggleable {background-color: white;}#sk-container-id-2 label.sk-toggleable__label {cursor: pointer;display: block;width: 100%;margin-bottom: 0;padding: 0.3em;box-sizing: border-box;text-align: center;}#sk-container-id-2 label.sk-toggleable__label-arrow:before {content: \"▸\";float: left;margin-right: 0.25em;color: #696969;}#sk-container-id-2 label.sk-toggleable__label-arrow:hover:before {color: black;}#sk-container-id-2 div.sk-estimator:hover label.sk-toggleable__label-arrow:before {color: black;}#sk-container-id-2 div.sk-toggleable__content {max-height: 0;max-width: 0;overflow: hidden;text-align: left;background-color: #f0f8ff;}#sk-container-id-2 div.sk-toggleable__content pre {margin: 0.2em;color: black;border-radius: 0.25em;background-color: #f0f8ff;}#sk-container-id-2 input.sk-toggleable__control:checked~div.sk-toggleable__content {max-height: 200px;max-width: 100%;overflow: auto;}#sk-container-id-2 input.sk-toggleable__control:checked~label.sk-toggleable__label-arrow:before {content: \"▾\";}#sk-container-id-2 div.sk-estimator input.sk-toggleable__control:checked~label.sk-toggleable__label {background-color: #d4ebff;}#sk-container-id-2 div.sk-label input.sk-toggleable__control:checked~label.sk-toggleable__label {background-color: #d4ebff;}#sk-container-id-2 input.sk-hidden--visually {border: 0;clip: rect(1px 1px 1px 1px);clip: rect(1px, 1px, 1px, 1px);height: 1px;margin: -1px;overflow: hidden;padding: 0;position: absolute;width: 1px;}#sk-container-id-2 div.sk-estimator {font-family: monospace;background-color: #f0f8ff;border: 1px dotted black;border-radius: 0.25em;box-sizing: border-box;margin-bottom: 0.5em;}#sk-container-id-2 div.sk-estimator:hover {background-color: #d4ebff;}#sk-container-id-2 div.sk-parallel-item::after {content: \"\";width: 100%;border-bottom: 1px solid gray;flex-grow: 1;}#sk-container-id-2 div.sk-label:hover label.sk-toggleable__label {background-color: #d4ebff;}#sk-container-id-2 div.sk-serial::before {content: \"\";position: absolute;border-left: 1px solid gray;box-sizing: border-box;top: 0;bottom: 0;left: 50%;z-index: 0;}#sk-container-id-2 div.sk-serial {display: flex;flex-direction: column;align-items: center;background-color: white;padding-right: 0.2em;padding-left: 0.2em;position: relative;}#sk-container-id-2 div.sk-item {position: relative;z-index: 1;}#sk-container-id-2 div.sk-parallel {display: flex;align-items: stretch;justify-content: center;background-color: white;position: relative;}#sk-container-id-2 div.sk-item::before, #sk-container-id-2 div.sk-parallel-item::before {content: \"\";position: absolute;border-left: 1px solid gray;box-sizing: border-box;top: 0;bottom: 0;left: 50%;z-index: -1;}#sk-container-id-2 div.sk-parallel-item {display: flex;flex-direction: column;z-index: 1;position: relative;background-color: white;}#sk-container-id-2 div.sk-parallel-item:first-child::after {align-self: flex-end;width: 50%;}#sk-container-id-2 div.sk-parallel-item:last-child::after {align-self: flex-start;width: 50%;}#sk-container-id-2 div.sk-parallel-item:only-child::after {width: 0;}#sk-container-id-2 div.sk-dashed-wrapped {border: 1px dashed gray;margin: 0 0.4em 0.5em 0.4em;box-sizing: border-box;padding-bottom: 0.4em;background-color: white;}#sk-container-id-2 div.sk-label label {font-family: monospace;font-weight: bold;display: inline-block;line-height: 1.2em;}#sk-container-id-2 div.sk-label-container {text-align: center;}#sk-container-id-2 div.sk-container {/* jupyter's `normalize.less` sets `[hidden] { display: none; }` but bootstrap.min.css set `[hidden] { display: none !important; }` so we also need the `!important` here to be able to override the default hidden behavior on the sphinx rendered scikit-learn.org. See: https://github.com/scikit-learn/scikit-learn/issues/21755 */display: inline-block !important;position: relative;}#sk-container-id-2 div.sk-text-repr-fallback {display: none;}</style><div id=\"sk-container-id-2\" class=\"sk-top-container\"><div class=\"sk-text-repr-fallback\"><pre>XGBRegressor(base_score=0.5, booster=&#x27;gbtree&#x27;, callbacks=None,\n",
       "             colsample_bylevel=1, colsample_bynode=1, colsample_bytree=0.8,\n",
       "             early_stopping_rounds=None, enable_categorical=False,\n",
       "             eval_metric=None, gamma=0, gpu_id=-1, grow_policy=&#x27;depthwise&#x27;,\n",
       "             importance_type=None, interaction_constraints=&#x27;&#x27;,\n",
       "             learning_rate=0.1, max_bin=256, max_cat_to_onehot=4,\n",
       "             max_delta_step=0, max_depth=3, max_leaves=0, min_child_weight=3,\n",
       "             missing=nan, monotone_constraints=&#x27;()&#x27;, n_estimators=1000,\n",
       "             n_jobs=4, nthread=4, num_parallel_tree=1, predictor=&#x27;auto&#x27;,\n",
       "             random_state=0, reg_alpha=200, ...)</pre><b>In a Jupyter environment, please rerun this cell to show the HTML representation or trust the notebook. <br />On GitHub, the HTML representation is unable to render, please try loading this page with nbviewer.org.</b></div><div class=\"sk-container\" hidden><div class=\"sk-item\"><div class=\"sk-estimator sk-toggleable\"><input class=\"sk-toggleable__control sk-hidden--visually\" id=\"sk-estimator-id-2\" type=\"checkbox\" checked><label for=\"sk-estimator-id-2\" class=\"sk-toggleable__label sk-toggleable__label-arrow\">XGBRegressor</label><div class=\"sk-toggleable__content\"><pre>XGBRegressor(base_score=0.5, booster=&#x27;gbtree&#x27;, callbacks=None,\n",
       "             colsample_bylevel=1, colsample_bynode=1, colsample_bytree=0.8,\n",
       "             early_stopping_rounds=None, enable_categorical=False,\n",
       "             eval_metric=None, gamma=0, gpu_id=-1, grow_policy=&#x27;depthwise&#x27;,\n",
       "             importance_type=None, interaction_constraints=&#x27;&#x27;,\n",
       "             learning_rate=0.1, max_bin=256, max_cat_to_onehot=4,\n",
       "             max_delta_step=0, max_depth=3, max_leaves=0, min_child_weight=3,\n",
       "             missing=nan, monotone_constraints=&#x27;()&#x27;, n_estimators=1000,\n",
       "             n_jobs=4, nthread=4, num_parallel_tree=1, predictor=&#x27;auto&#x27;,\n",
       "             random_state=0, reg_alpha=200, ...)</pre></div></div></div></div></div>"
      ],
      "text/plain": [
       "XGBRegressor(base_score=0.5, booster='gbtree', callbacks=None,\n",
       "             colsample_bylevel=1, colsample_bynode=1, colsample_bytree=0.8,\n",
       "             early_stopping_rounds=None, enable_categorical=False,\n",
       "             eval_metric=None, gamma=0, gpu_id=-1, grow_policy='depthwise',\n",
       "             importance_type=None, interaction_constraints='',\n",
       "             learning_rate=0.1, max_bin=256, max_cat_to_onehot=4,\n",
       "             max_delta_step=0, max_depth=3, max_leaves=0, min_child_weight=3,\n",
       "             missing=nan, monotone_constraints='()', n_estimators=1000,\n",
       "             n_jobs=4, nthread=4, num_parallel_tree=1, predictor='auto',\n",
       "             random_state=0, reg_alpha=200, ...)"
      ]
     },
     "execution_count": 142,
     "metadata": {},
     "output_type": "execute_result"
    }
   ],
   "source": [
    "# Training a hyper-parameter tuned Xg-Boost regressor on our train data\n",
    "\n",
    "# find more about XGBRegressor function here http://xgboost.readthedocs.io/en/latest/python/python_api.html?#module-xgboost.sklearn\n",
    "# -------------------------\n",
    "# default paramters\n",
    "# xgboost.XGBRegressor(max_depth=3, learning_rate=0.1, n_estimators=100, silent=True, objective='reg:linear', \n",
    "# booster='gbtree', n_jobs=1, nthread=None, gamma=0, min_child_weight=1, max_delta_step=0, subsample=1, colsample_bytree=1, \n",
    "# colsample_bylevel=1, reg_alpha=0, reg_lambda=1, scale_pos_weight=1, base_score=0.5, random_state=0, seed=None, \n",
    "# missing=None, **kwargs)\n",
    "\n",
    "# some of methods of RandomForestRegressor()\n",
    "# fit(X, y, sample_weight=None, eval_set=None, eval_metric=None, early_stopping_rounds=None, verbose=True, xgb_model=None)\n",
    "# get_params([deep])\tGet parameters for this estimator.\n",
    "# predict(data, output_margin=False, ntree_limit=0) : Predict with data. NOTE: This function is not thread safe.\n",
    "# get_score(importance_type='weight') -> get the feature importance\n",
    "# -----------------------\n",
    "# video link1: https://www.appliedaicourse.com/course/applied-ai-course-online/lessons/regression-using-decision-trees-2/\n",
    "# video link2: https://www.appliedaicourse.com/course/applied-ai-course-online/lessons/what-are-ensembles/\n",
    "# -----------------------\n",
    "\n",
    "x_model = xgb.XGBRegressor(\n",
    " learning_rate =0.1,\n",
    " n_estimators=1000,\n",
    " max_depth=3,\n",
    " min_child_weight=3,\n",
    " gamma=0,\n",
    " subsample=0.8,\n",
    " reg_alpha=200, reg_lambda=200,\n",
    " colsample_bytree=0.8,nthread=4)\n",
    "x_model.fit(df_train, tsne_train_output)"
   ]
  },
  {
   "cell_type": "code",
   "execution_count": 143,
   "metadata": {},
   "outputs": [],
   "source": [
    "#predicting with our trained Xg-Boost regressor\n",
    "# the models x_model is already hyper parameter tuned\n",
    "# the parameters that we got above are found using grid search\n",
    "\n",
    "y_pred = x_model.predict(df_test)\n",
    "xgb_test_predictions = [round(value) for value in y_pred]\n",
    "y_pred = x_model.predict(df_train)\n",
    "xgb_train_predictions = [round(value) for value in y_pred]"
   ]
  },
  {
   "cell_type": "code",
   "execution_count": 144,
   "metadata": {},
   "outputs": [
    {
     "data": {
      "text/plain": [
       "{'ft_5': 871.0,\n",
       " 'ft_4': 820.0,\n",
       " 'ft_3': 865.0,\n",
       " 'ft_2': 892.0,\n",
       " 'ft_1': 850.0,\n",
       " 'destination': 1312.0,\n",
       " 'weekday': 330.0,\n",
       " 'exp_avg': 869.0}"
      ]
     },
     "execution_count": 144,
     "metadata": {},
     "output_type": "execute_result"
    }
   ],
   "source": [
    "#feature importances\n",
    "x_model.get_booster().get_score(importance_type='weight')"
   ]
  },
  {
   "cell_type": "code",
   "execution_count": 145,
   "metadata": {},
   "outputs": [],
   "source": [
    "train_mape=[]\n",
    "test_mape=[]\n",
    "\n",
    "train_mape.append((mean_absolute_error(tsne_train_output,df_train['ft_1'].values))/(sum(tsne_train_output)/len(tsne_train_output)))\n",
    "train_mape.append((mean_absolute_error(tsne_train_output,df_train['exp_avg'].values))/(sum(tsne_train_output)/len(tsne_train_output)))\n",
    "train_mape.append((mean_absolute_error(tsne_train_output,rndf_train_predictions))/(sum(tsne_train_output)/len(tsne_train_output)))\n",
    "train_mape.append((mean_absolute_error(tsne_train_output, xgb_train_predictions))/(sum(tsne_train_output)/len(tsne_train_output)))\n",
    "train_mape.append((mean_absolute_error(tsne_train_output, lr_train_predictions))/(sum(tsne_train_output)/len(tsne_train_output)))\n",
    "\n",
    "test_mape.append((mean_absolute_error(tsne_test_output, df_test['ft_1'].values))/(sum(tsne_test_output)/len(tsne_test_output)))\n",
    "test_mape.append((mean_absolute_error(tsne_test_output, df_test['exp_avg'].values))/(sum(tsne_test_output)/len(tsne_test_output)))\n",
    "test_mape.append((mean_absolute_error(tsne_test_output, rndf_test_predictions))/(sum(tsne_test_output)/len(tsne_test_output)))\n",
    "test_mape.append((mean_absolute_error(tsne_test_output, xgb_test_predictions))/(sum(tsne_test_output)/len(tsne_test_output)))\n",
    "test_mape.append((mean_absolute_error(tsne_test_output, lr_test_predictions))/(sum(tsne_test_output)/len(tsne_test_output)))"
   ]
  },
  {
   "cell_type": "code",
   "execution_count": 146,
   "metadata": {},
   "outputs": [
    {
     "name": "stdout",
     "output_type": "stream",
     "text": [
      "Error Metric Matrix (Tree Based Regression Methods) -  MAPE\n",
      "--------------------------------------------------------------------------------------------------------\n",
      "Baseline Model -                             Train:  0.5977300258998208       Test:  0.5894406213893693\n",
      "Exponential Averages Forecasting -           Train:  0.5251863291183795       Test:  0.5259881560828702\n",
      "Linear Regression -                         Train:  0.5059319535739113       Test:  0.5081671756863679\n",
      "Random Forest Regression -                   Train:  0.431373541118532      Test:  0.511302753018929\n"
     ]
    }
   ],
   "source": [
    "print (\"Error Metric Matrix (Tree Based Regression Methods) -  MAPE\")\n",
    "print (\"--------------------------------------------------------------------------------------------------------\")\n",
    "print (\"Baseline Model -                             Train: \",train_mape[0],\"      Test: \",test_mape[0])\n",
    "print (\"Exponential Averages Forecasting -           Train: \",train_mape[1],\"      Test: \",test_mape[1])\n",
    "print (\"Linear Regression -                         Train: \",train_mape[3],\"      Test: \",test_mape[3])\n",
    "print (\"Random Forest Regression -                   Train: \",train_mape[2],\"     Test: \",test_mape[2])"
   ]
  },
  {
   "cell_type": "code",
   "execution_count": 147,
   "metadata": {},
   "outputs": [
    {
     "name": "stdout",
     "output_type": "stream",
     "text": [
      "Error Metric Matrix (Tree Based Regression Methods) -  MAPE\n",
      "--------------------------------------------------------------------------------------------------------\n",
      "Baseline Model -                             Train:  0.5977300258998208       Test:  0.5894406213893693\n",
      "Exponential Averages Forecasting -           Train:  0.5251863291183795       Test:  0.5259881560828702\n",
      "Linear Regression -                         Train:  0.5140791777760179       Test:  0.518316623231783\n",
      "Random Forest Regression -                   Train:  0.431373541118532      Test:  0.511302753018929\n",
      "XgBoost Regression -                         Train:  0.5059319535739113       Test:  0.5081671756863679\n",
      "--------------------------------------------------------------------------------------------------------\n"
     ]
    }
   ],
   "source": [
    "print (\"Error Metric Matrix (Tree Based Regression Methods) -  MAPE\")\n",
    "print (\"--------------------------------------------------------------------------------------------------------\")\n",
    "print (\"Baseline Model -                             Train: \",train_mape[0],\"      Test: \",test_mape[0])\n",
    "print (\"Exponential Averages Forecasting -           Train: \",train_mape[1],\"      Test: \",test_mape[1])\n",
    "print (\"Linear Regression -                         Train: \",train_mape[4],\"      Test: \",test_mape[4])\n",
    "print (\"Random Forest Regression -                   Train: \",train_mape[2],\"     Test: \",test_mape[2])\n",
    "print (\"XgBoost Regression -                         Train: \",train_mape[3],\"      Test: \",test_mape[3])\n",
    "print (\"--------------------------------------------------------------------------------------------------------\")"
   ]
  }
 ],
 "metadata": {
  "kernelspec": {
   "display_name": "Python 3.10.6 64-bit",
   "language": "python",
   "name": "python3"
  },
  "language_info": {
   "codemirror_mode": {
    "name": "ipython",
    "version": 3
   },
   "file_extension": ".py",
   "mimetype": "text/x-python",
   "name": "python",
   "nbconvert_exporter": "python",
   "pygments_lexer": "ipython3",
   "version": "3.10.7"
  },
  "orig_nbformat": 4,
  "vscode": {
   "interpreter": {
    "hash": "b0fa6594d8f4cbf19f97940f81e996739fb7646882a419484c72d19e05852a7e"
   }
  }
 },
 "nbformat": 4,
 "nbformat_minor": 2
}
